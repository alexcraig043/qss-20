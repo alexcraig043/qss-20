{
 "cells": [
  {
   "cell_type": "markdown",
   "metadata": {},
   "source": [
    "# Problem set 4: Text analysis of DOJ press releases\n",
    "\n",
    "**Total points (without extra credit)**: 52 \n",
    "\n",
    "- For background:\n",
    "\n",
    "    - DOJ is the federal law enforcement agency responsible for federal prosecutions; this contrasts with the local prosecutions in the Cook County dataset we analyzed earlier. Here's a short explainer on which crimes get prosecuted federally versus locally: https://www.criminaldefenselawyer.com/resources/criminal-defense/federal-crime/state-vs-federal-crimes.htm#:~:text=Federal%20criminal%20prosecutions%20are%20handled,of%20state%20and%20local%20law. \n",
    "    - Here's the Kaggle that contains the data: https://www.kaggle.com/jbencina/department-of-justice-20092018-press-releases \n",
    "    - Here's the code the dataset creator used to scrape those press releases here if you're interested: https://github.com/jbencina/dojreleases"
   ]
  },
  {
   "cell_type": "markdown",
   "metadata": {},
   "source": [
    "## 0.0 Import packages"
   ]
  },
  {
   "cell_type": "code",
   "execution_count": 361,
   "metadata": {},
   "outputs": [],
   "source": [
    "## helpful packages\n",
    "import warnings\n",
    "warnings.filterwarnings(\"ignore\")\n",
    "\n",
    "import pandas as pd\n",
    "import numpy as np\n",
    "import random\n",
    "import re\n",
    "import string\n",
    "\n",
    "## nltk imports\n",
    "import nltk\n",
    "### uncomment and run these lines if you haven't downloaded relevant nltk add-ons yet\n",
    "# nltk.download('averaged_perceptron_tagger')\n",
    "# nltk.download('stopwords')\n",
    "from nltk import pos_tag\n",
    "from nltk.tokenize import word_tokenize, wordpunct_tokenize\n",
    "from nltk.stem.snowball import SnowballStemmer\n",
    "from nltk.corpus import stopwords\n",
    "\n",
    "## spacy imports\n",
    "import spacy\n",
    "### uncomment and run the below line if you haven't loaded the en_core_web_sm library yet\n",
    "# ! python -m spacy download en_core_web_sm\n",
    "import en_core_web_sm\n",
    "nlp = en_core_web_sm.load()\n",
    "\n",
    "## vectorizer\n",
    "from sklearn.feature_extraction.text import CountVectorizer\n",
    "\n",
    "## sentiment\n",
    "from vaderSentiment.vaderSentiment import SentimentIntensityAnalyzer\n",
    "\n",
    "## lda\n",
    "from gensim import corpora\n",
    "import gensim\n",
    "\n",
    "## repeated printouts and wide-format text\n",
    "from IPython.core.interactiveshell import InteractiveShell\n",
    "InteractiveShell.ast_node_interactivity = \"all\"\n",
    "pd.set_option('display.max_colwidth', None)"
   ]
  },
  {
   "cell_type": "markdown",
   "metadata": {},
   "source": [
    "## 0.1 Load and clean text data"
   ]
  },
  {
   "cell_type": "code",
   "execution_count": 362,
   "metadata": {},
   "outputs": [
    {
     "data": {
      "text/html": [
       "<div>\n",
       "<style scoped>\n",
       "    .dataframe tbody tr th:only-of-type {\n",
       "        vertical-align: middle;\n",
       "    }\n",
       "\n",
       "    .dataframe tbody tr th {\n",
       "        vertical-align: top;\n",
       "    }\n",
       "\n",
       "    .dataframe thead th {\n",
       "        text-align: right;\n",
       "    }\n",
       "</style>\n",
       "<table border=\"1\" class=\"dataframe\">\n",
       "  <thead>\n",
       "    <tr style=\"text-align: right;\">\n",
       "      <th></th>\n",
       "      <th>id</th>\n",
       "      <th>title</th>\n",
       "      <th>contents</th>\n",
       "      <th>date</th>\n",
       "      <th>topics_clean</th>\n",
       "      <th>components_clean</th>\n",
       "    </tr>\n",
       "  </thead>\n",
       "  <tbody>\n",
       "    <tr>\n",
       "      <th>0</th>\n",
       "      <td>None</td>\n",
       "      <td>Convicted Bomb Plotter Sentenced to 30 Years</td>\n",
       "      <td>PORTLAND, Oregon. – Mohamed Osman Mohamud, 23, who was convicted in 2013 of attempting to use a weapon of mass destruction (explosives) in connection with a plot to detonate a vehicle bomb at an annual Christmas tree lighting ceremony in Portland, was sentenced today to serve 30 years in prison, followed by a lifetime term of supervised release. Mohamud, a naturalized U.S. citizen from Somalia and former resident of Corvallis, Oregon, was arrested on Nov. 26, 2010, after he attempted to detonate what he believed to be an explosives-laden van that was parked near the tree lighting ceremony in Portland.  The arrest was the culmination of a long-term undercover operation, during which Mohamud was monitored closely for months as his bomb plot developed.  The device was in fact inert, and the public was never in danger from the device. At sentencing, United States District Court Judge Garr M. King, who presided over Mohamed’s 14-day trial, said “the intended crime was horrific,” and that the defendant, even though he was presented with options by undercover FBI employees, “never once expressed a change of heart.”  King further noted that the Christmas tree ceremony was attended by up to 10,000 people, and that the defendant “wanted everyone to leave either dead or injured.”  King said his sentence was necessary in view of the seriousness of the crime and to serve as deterrence to others who might consider similar acts.     “With today’s sentencing, Mohamed Osman Mohamud is being held accountable for his attempted use of what he believed to be a massive bomb to attack innocent civilians attending a public Christmas tree lighting ceremony in Portland,” said John P. Carlin, Assistant Attorney General for National Security.  “The evidence clearly indicated that Mohamud was intent on killing as many people as possible with his attack.  Fortunately, law enforcement was able to identify him as a threat, insert themselves in the place of a terrorist that Mohamud was trying to contact, and thwart Mohamud’s efforts to conduct an attack on our soil.  This case highlights how the use of undercover operations against would-be terrorists allows us to engage and disrupt those who wish to commit horrific acts of violence against the innocent public.  The many agents, analysts, and prosecutors who have worked on this case deserve great credit for their roles in protecting Portland from the threat posed by this defendant and ensuring that he was brought to justice.” “This trial provided a rare glimpse into the techniques Al Qaeda employs to radicalize home-grown extremists,” said Amanda Marshall, U.S. Attorney for the District of Oregon.  “With the sentencing today, the court has held this defendant accountable.   I thank the dedicated professionals in the law enforcement and intelligence communities who were responsible for this successful outcome.  I look forward to our continued work with Muslim communities in Oregon who are committed to ensuring that all young people are safe from extremists who seek to radicalize others to engage in violence.”  According to the trial evidence, in February 2009, Mohamud began communicating via e-mail with Samir Khan, a now-deceased al Qaeda terrorist who published Jihad Recollections, an online magazine that advocated violent jihad, and who also published Inspire, the official magazine of al-Qaeda in the Arabian Peninsula.  Between February and August 2009, Mohamed exchanged approximately 150 emails with Khan.  Mohamud wrote several articles for Jihad Recollections that were published under assumed names. In August 2009, Mohamud was in email contact with Amro Al-Ali, a Saudi national who was in Yemen at the time and is today in custody in Saudi Arabia for terrorism offenses.  Al-Ali sent Mohamud detailed e-mails designed to facilitate Mohamud’s travel to Yemen to train for violent jihad.  In December 2009, while Al-Ali was in the northwest frontier province of Pakistan, Mohamud and Al-Ali discussed the possibility of Mohamud traveling to Pakistan to join Al-Ali in terrorist activities. Mohamud responded to Al-Ali in an e-mail: “yes, that would be wonderful, just tell me what I need to do.”  Al-Ali referred Mohamud to a second associate overseas and provided Mohamud with a name and email address to facilitate the process. In the following months, Mohamud made several unsuccessful attempts to contact Al-Ali’s associate.  Ultimately, an FBI undercover operative contacted Mohamud via email under the guise of being an associate of Al-Ali’s.  Mohamud and the FBI undercover operative agreed to meet in Portland in July 2010.  At the meeting, Mohamud told the FBI undercover operative he had written articles that were published in Jihad Recollections.  Mohamud also said that he wanted to become “operational.”  Asked what he meant by “operational,” Mohamud said he wanted to put an explosion together, but needed help. According to evidence presented at trial, at a meeting in August 2010, Mohamud told undercover FBI operatives he had been thinking of committing violent jihad since the age of 15.  Mohamud then told the undercover FBI operatives that he had identified a potential target for a bomb: the annual Christmas tree lighting ceremony in Portland’s Pioneer Courthouse Square on Nov. 26, 2010.  The undercover FBI operatives cautioned Mohamud several times about the seriousness of this plan, noting there would be many people at the event, including children, and emphasized that Mohamud could abandon his attack plans at any time with no shame.  Mohamud indicated the deaths would be justified and that he would not mind carrying out a suicide attack on the crowd. According to evidence presented at trial, in the ensuing months Mohamud continued to express his interest in carrying out the attack and worked on logistics.  On Nov. 4, 2010, Mohamud and the undercover FBI operatives traveled to a remote location in Lincoln County, Oregon, where they detonated a bomb concealed in a backpack as a trial run for the upcoming attack.  During the drive back to Corvallis, Mohamud was asked if was capable looking at all the bodies of those who would be killed during the explosion.  In response, Mohamud noted, “I want whoever is attending that event to be, to leave either dead or injured.”  Mohamud later recorded a video of himself, with the assistance of the undercover FBI operatives, in which he read a statement that offered his rationale for his bomb attack.  On Nov. 18, 2010, undercover FBI operatives picked up Mohamud to travel to Portland to finalize the details of the attack.  On Nov. 26, 2010, just hours before the planned attack, Mohamud examined the 1,800 pound bomb in the van and remarked that it was “beautiful.”  Later that day, Mohamud was arrested after he attempted to remotely detonate the inert vehicle bomb rked near the Christmas tree lighting ceremony This case was investigated by the FBI, with assistance from the Oregon State Police, the Corvallis Police Department, the Lincoln County Sheriff’s Office and the Portland Police Bureau.  The prosecution was handled by Assistant U.S. Attorneys Ethan D. Knight and Pamala Holsinger from the U.S. Attorney’s Office for the District of Oregon.  Trial Attorney Jolie F. Zimmerman, from the Counterterrorism Section of the Justice Department’s National Security Division, assisted. # # # 14-1077</td>\n",
       "      <td>2014-10-01T00:00:00-04:00</td>\n",
       "      <td>No topic</td>\n",
       "      <td>National Security Division (NSD)</td>\n",
       "    </tr>\n",
       "    <tr>\n",
       "      <th>1</th>\n",
       "      <td>12-919</td>\n",
       "      <td>$1 Million in Restitution Payments Announced to Preserve North Carolina Wetlands</td>\n",
       "      <td>WASHINGTON – North Carolina’s Waccamaw River watershed will benefit from a $1 million restitution order from a federal court, funding environmental projects to acquire and preserve wetlands in an area damaged by illegal releases of wastewater from a corporate hog farm, announced Ignacia S. Moreno, Assistant Attorney General of the Justice Department’s Environment and Natural Resources Division; U.S. Attorney for the Eastern District of North Carolina Thomas G. Walker; Director Greg McLeod from the North Carolina State Bureau of Investigation; and Camilla M. Herlevich, Executive Director of the North Carolina Coastal Land Trust.   Freedman Farms Inc. was sentenced in February 2012 to five years of probation and ordered to pay $1.5 million in fines, restitution and community service payments for violating the Clean Water Act when it discharged hog waste into a stream that leads to the Waccamaw River.  William B. Freedman, president of Freedman Farms, was sentenced to six months in prison to be followed by six months of home confinement.  Freedman Farms also is required to implement a comprehensive environmental compliance program and institute an annual training program.   In an order issued on April 19, 2012, the court ordered that the defendants would be responsible for restitution of $1 million in the form of five annual payments starting in January 2013, which the court will direct to the North Carolina Coastal Land Trust (NCCLT).  The NCCLT plans to use the money to acquire and conserve land along streams in the Waccamaw watershed.  The court also directed a $75,000 community service payment to the Southern Environmental Enforcement Network, an organization dedicated to environmental law enforcement training and information sharing in the region.    “The resolution of the case against Freedman Farms demonstrates the commitment of the Department of Justice to enforcing the Clean Water Act to ensure the protection of human health and the environment,” said Assistant Attorney General Moreno.  “The court-ordered restitution in this case will conserve wetlands for the benefit of the people of North Carolina.  By enforcing the nation’s environmental laws, we will continue to ensure that concentrated animal feeding operations (CAFOs) operate without threatening our drinking water, the health of our communities and the environment.”   “This office is committed to doing our part to hold accountable those who commit crimes against our environment, which can cause serious health problems to residents and damage the environment that makes North Carolina such a beautiful place to live and visit,” said U.S. Attorney Walker.   “This case shows what we can accomplish when our SBI agents work closely with their local, state and federal partners to investigate environmental crimes and hold the polluters accountable,” said Director McLeod.  “We’ll continue our efforts to fight illegal pollution that damages our water and puts the public’s health at risk.”    “The Waccamaw is unique and wild,” said Director Herlevich of the North Carolina Coastal Land Trust. “Its watershed includes some of the most extensive cypress gum swamps in the state, and its headwaters at Lake Waccamaw contain fish that are found nowhere else on Earth.  We appreciate the trust of the court and the U. S. Attorney, and we look forward to using these funds for conservation projects in a river system that is one of our top conservation priorities.”   According to evidence presented in court, in December 2007 Freedman Farms discharged hog waste into Browder’s Branch, a tributary to the Waccamaw River that flows through the White Marsh, a large wetlands complex.  Freedman Farms, located in Columbus County, N.C., is in the business of raising hogs for market, and this particular farm had some 4,800 hogs.  The hog waste was supposed to be directed to two lagoons for treatment and disposal.  Instead, hog waste was discharged from Freedman Farms directly into Browder’s Branch.    The Clean Water Act is a federal law that makes it illegal to knowingly or negligently discharge a pollutant into a water of the United States.    The Freedman case was investigated by the U.S. Environmental Protection Agency (EPA) Criminal Investigation Division, the U.S. Army Corps of Engineers and the North Carolina State Bureau of Investigation, with assistance from the EPA Science and Ecosystem Support Division.  The case was prosecuted by Assistant U.S. Attorney J. Gaston B. Williams of the Eastern District of North Carolina and Trial Attorney Mary Dee Carraway of the Environmental Crimes Section of the Justice Department’s Environment and Natural Resources Division.   The North Carolina Coastal Land Trust is celebrating its 20th anniversary of saving special lands in eastern North Carolina. The organization has protected nearly 50,000 acres of lands with scenic, recreational, historic and ecological values. North Carolina Coastal Land Trust has saved streams and wetlands that provide clean water, forests that are havens for wildlife, working farms that provide local food and nature parks that everyone can enjoy.  More information about the Coastal Land Trust is available at www.coastallandtrust.org.</td>\n",
       "      <td>2012-07-25T00:00:00-04:00</td>\n",
       "      <td>No topic</td>\n",
       "      <td>Environment and Natural Resources Division</td>\n",
       "    </tr>\n",
       "  </tbody>\n",
       "</table>\n",
       "</div>"
      ],
      "text/plain": [
       "        id  \\\n",
       "0     None   \n",
       "1  12-919    \n",
       "\n",
       "                                                                              title  \\\n",
       "0                                      Convicted Bomb Plotter Sentenced to 30 Years   \n",
       "1  $1 Million in Restitution Payments Announced to Preserve North Carolina Wetlands   \n",
       "\n",
       "                                                                                                                                                                                                                                                                                                                                                                                                                                                                                                                                                                                                                                                                                                                                                                                                                                                                                                                                                                                                                                                                                                                                                                                                                                                                                                                                                                                                                                                                                                                                                                                                                                                                                                                                                                                                                                                                                                                                                                                                                                                                                                                                                                                                                                                                                                                                                                                                                                                                                                                                                                                                                                                                                                                                                                                                                                                                                                                                                                                                                                                                                                                                                                                                                                                                                                                                                                                                                                                                                                                                                                                                                                                                                                                                                                                                                                                                                                                                                                                                                                                                                                                                                                                                                                                                                                                                                                                                                                                                                                                                                                                                                                                                                                                                                                                                                                                                                                                                                                                                                                                                                                                                                                                                                                                                                                                                                                                                                                                                                                                                                                                                                                                                                                                                                                                                                                                                                                                                                                                                                                                                                                                                                                                                                                                                                                                                                                                                                                                                                                                                                                                                                                                                                                                                                                                                                                                                                                                                                                                                                                                                                                                                                                                                                                                                                                                                                                                                                                                                                                                                                                                                                                                                          contents  \\\n",
       "0  PORTLAND, Oregon. – Mohamed Osman Mohamud, 23, who was convicted in 2013 of attempting to use a weapon of mass destruction (explosives) in connection with a plot to detonate a vehicle bomb at an annual Christmas tree lighting ceremony in Portland, was sentenced today to serve 30 years in prison, followed by a lifetime term of supervised release. Mohamud, a naturalized U.S. citizen from Somalia and former resident of Corvallis, Oregon, was arrested on Nov. 26, 2010, after he attempted to detonate what he believed to be an explosives-laden van that was parked near the tree lighting ceremony in Portland.  The arrest was the culmination of a long-term undercover operation, during which Mohamud was monitored closely for months as his bomb plot developed.  The device was in fact inert, and the public was never in danger from the device. At sentencing, United States District Court Judge Garr M. King, who presided over Mohamed’s 14-day trial, said “the intended crime was horrific,” and that the defendant, even though he was presented with options by undercover FBI employees, “never once expressed a change of heart.”  King further noted that the Christmas tree ceremony was attended by up to 10,000 people, and that the defendant “wanted everyone to leave either dead or injured.”  King said his sentence was necessary in view of the seriousness of the crime and to serve as deterrence to others who might consider similar acts.     “With today’s sentencing, Mohamed Osman Mohamud is being held accountable for his attempted use of what he believed to be a massive bomb to attack innocent civilians attending a public Christmas tree lighting ceremony in Portland,” said John P. Carlin, Assistant Attorney General for National Security.  “The evidence clearly indicated that Mohamud was intent on killing as many people as possible with his attack.  Fortunately, law enforcement was able to identify him as a threat, insert themselves in the place of a terrorist that Mohamud was trying to contact, and thwart Mohamud’s efforts to conduct an attack on our soil.  This case highlights how the use of undercover operations against would-be terrorists allows us to engage and disrupt those who wish to commit horrific acts of violence against the innocent public.  The many agents, analysts, and prosecutors who have worked on this case deserve great credit for their roles in protecting Portland from the threat posed by this defendant and ensuring that he was brought to justice.” “This trial provided a rare glimpse into the techniques Al Qaeda employs to radicalize home-grown extremists,” said Amanda Marshall, U.S. Attorney for the District of Oregon.  “With the sentencing today, the court has held this defendant accountable.   I thank the dedicated professionals in the law enforcement and intelligence communities who were responsible for this successful outcome.  I look forward to our continued work with Muslim communities in Oregon who are committed to ensuring that all young people are safe from extremists who seek to radicalize others to engage in violence.”  According to the trial evidence, in February 2009, Mohamud began communicating via e-mail with Samir Khan, a now-deceased al Qaeda terrorist who published Jihad Recollections, an online magazine that advocated violent jihad, and who also published Inspire, the official magazine of al-Qaeda in the Arabian Peninsula.  Between February and August 2009, Mohamed exchanged approximately 150 emails with Khan.  Mohamud wrote several articles for Jihad Recollections that were published under assumed names. In August 2009, Mohamud was in email contact with Amro Al-Ali, a Saudi national who was in Yemen at the time and is today in custody in Saudi Arabia for terrorism offenses.  Al-Ali sent Mohamud detailed e-mails designed to facilitate Mohamud’s travel to Yemen to train for violent jihad.  In December 2009, while Al-Ali was in the northwest frontier province of Pakistan, Mohamud and Al-Ali discussed the possibility of Mohamud traveling to Pakistan to join Al-Ali in terrorist activities. Mohamud responded to Al-Ali in an e-mail: “yes, that would be wonderful, just tell me what I need to do.”  Al-Ali referred Mohamud to a second associate overseas and provided Mohamud with a name and email address to facilitate the process. In the following months, Mohamud made several unsuccessful attempts to contact Al-Ali’s associate.  Ultimately, an FBI undercover operative contacted Mohamud via email under the guise of being an associate of Al-Ali’s.  Mohamud and the FBI undercover operative agreed to meet in Portland in July 2010.  At the meeting, Mohamud told the FBI undercover operative he had written articles that were published in Jihad Recollections.  Mohamud also said that he wanted to become “operational.”  Asked what he meant by “operational,” Mohamud said he wanted to put an explosion together, but needed help. According to evidence presented at trial, at a meeting in August 2010, Mohamud told undercover FBI operatives he had been thinking of committing violent jihad since the age of 15.  Mohamud then told the undercover FBI operatives that he had identified a potential target for a bomb: the annual Christmas tree lighting ceremony in Portland’s Pioneer Courthouse Square on Nov. 26, 2010.  The undercover FBI operatives cautioned Mohamud several times about the seriousness of this plan, noting there would be many people at the event, including children, and emphasized that Mohamud could abandon his attack plans at any time with no shame.  Mohamud indicated the deaths would be justified and that he would not mind carrying out a suicide attack on the crowd. According to evidence presented at trial, in the ensuing months Mohamud continued to express his interest in carrying out the attack and worked on logistics.  On Nov. 4, 2010, Mohamud and the undercover FBI operatives traveled to a remote location in Lincoln County, Oregon, where they detonated a bomb concealed in a backpack as a trial run for the upcoming attack.  During the drive back to Corvallis, Mohamud was asked if was capable looking at all the bodies of those who would be killed during the explosion.  In response, Mohamud noted, “I want whoever is attending that event to be, to leave either dead or injured.”  Mohamud later recorded a video of himself, with the assistance of the undercover FBI operatives, in which he read a statement that offered his rationale for his bomb attack.  On Nov. 18, 2010, undercover FBI operatives picked up Mohamud to travel to Portland to finalize the details of the attack.  On Nov. 26, 2010, just hours before the planned attack, Mohamud examined the 1,800 pound bomb in the van and remarked that it was “beautiful.”  Later that day, Mohamud was arrested after he attempted to remotely detonate the inert vehicle bomb rked near the Christmas tree lighting ceremony This case was investigated by the FBI, with assistance from the Oregon State Police, the Corvallis Police Department, the Lincoln County Sheriff’s Office and the Portland Police Bureau.  The prosecution was handled by Assistant U.S. Attorneys Ethan D. Knight and Pamala Holsinger from the U.S. Attorney’s Office for the District of Oregon.  Trial Attorney Jolie F. Zimmerman, from the Counterterrorism Section of the Justice Department’s National Security Division, assisted. # # # 14-1077   \n",
       "1                                                                                                                                                                                                                                                                                                                                                                                                                                                                                                                                                                                                                                                                                                                                                                                                                                                                                                                                                                                                                                                                                                                                                                                                                                                                                                                                                                                                                                                                                                                                                                                                                                                                                                                                                                                                                                                                                                                                                                                                                                                                                                                                                                                                                                       WASHINGTON – North Carolina’s Waccamaw River watershed will benefit from a $1 million restitution order from a federal court, funding environmental projects to acquire and preserve wetlands in an area damaged by illegal releases of wastewater from a corporate hog farm, announced Ignacia S. Moreno, Assistant Attorney General of the Justice Department’s Environment and Natural Resources Division; U.S. Attorney for the Eastern District of North Carolina Thomas G. Walker; Director Greg McLeod from the North Carolina State Bureau of Investigation; and Camilla M. Herlevich, Executive Director of the North Carolina Coastal Land Trust.   Freedman Farms Inc. was sentenced in February 2012 to five years of probation and ordered to pay $1.5 million in fines, restitution and community service payments for violating the Clean Water Act when it discharged hog waste into a stream that leads to the Waccamaw River.  William B. Freedman, president of Freedman Farms, was sentenced to six months in prison to be followed by six months of home confinement.  Freedman Farms also is required to implement a comprehensive environmental compliance program and institute an annual training program.   In an order issued on April 19, 2012, the court ordered that the defendants would be responsible for restitution of $1 million in the form of five annual payments starting in January 2013, which the court will direct to the North Carolina Coastal Land Trust (NCCLT).  The NCCLT plans to use the money to acquire and conserve land along streams in the Waccamaw watershed.  The court also directed a $75,000 community service payment to the Southern Environmental Enforcement Network, an organization dedicated to environmental law enforcement training and information sharing in the region.    “The resolution of the case against Freedman Farms demonstrates the commitment of the Department of Justice to enforcing the Clean Water Act to ensure the protection of human health and the environment,” said Assistant Attorney General Moreno.  “The court-ordered restitution in this case will conserve wetlands for the benefit of the people of North Carolina.  By enforcing the nation’s environmental laws, we will continue to ensure that concentrated animal feeding operations (CAFOs) operate without threatening our drinking water, the health of our communities and the environment.”   “This office is committed to doing our part to hold accountable those who commit crimes against our environment, which can cause serious health problems to residents and damage the environment that makes North Carolina such a beautiful place to live and visit,” said U.S. Attorney Walker.   “This case shows what we can accomplish when our SBI agents work closely with their local, state and federal partners to investigate environmental crimes and hold the polluters accountable,” said Director McLeod.  “We’ll continue our efforts to fight illegal pollution that damages our water and puts the public’s health at risk.”    “The Waccamaw is unique and wild,” said Director Herlevich of the North Carolina Coastal Land Trust. “Its watershed includes some of the most extensive cypress gum swamps in the state, and its headwaters at Lake Waccamaw contain fish that are found nowhere else on Earth.  We appreciate the trust of the court and the U. S. Attorney, and we look forward to using these funds for conservation projects in a river system that is one of our top conservation priorities.”   According to evidence presented in court, in December 2007 Freedman Farms discharged hog waste into Browder’s Branch, a tributary to the Waccamaw River that flows through the White Marsh, a large wetlands complex.  Freedman Farms, located in Columbus County, N.C., is in the business of raising hogs for market, and this particular farm had some 4,800 hogs.  The hog waste was supposed to be directed to two lagoons for treatment and disposal.  Instead, hog waste was discharged from Freedman Farms directly into Browder’s Branch.    The Clean Water Act is a federal law that makes it illegal to knowingly or negligently discharge a pollutant into a water of the United States.    The Freedman case was investigated by the U.S. Environmental Protection Agency (EPA) Criminal Investigation Division, the U.S. Army Corps of Engineers and the North Carolina State Bureau of Investigation, with assistance from the EPA Science and Ecosystem Support Division.  The case was prosecuted by Assistant U.S. Attorney J. Gaston B. Williams of the Eastern District of North Carolina and Trial Attorney Mary Dee Carraway of the Environmental Crimes Section of the Justice Department’s Environment and Natural Resources Division.   The North Carolina Coastal Land Trust is celebrating its 20th anniversary of saving special lands in eastern North Carolina. The organization has protected nearly 50,000 acres of lands with scenic, recreational, historic and ecological values. North Carolina Coastal Land Trust has saved streams and wetlands that provide clean water, forests that are havens for wildlife, working farms that provide local food and nature parks that everyone can enjoy.  More information about the Coastal Land Trust is available at www.coastallandtrust.org.   \n",
       "\n",
       "                        date topics_clean  \\\n",
       "0  2014-10-01T00:00:00-04:00     No topic   \n",
       "1  2012-07-25T00:00:00-04:00     No topic   \n",
       "\n",
       "                             components_clean  \n",
       "0            National Security Division (NSD)  \n",
       "1  Environment and Natural Resources Division  "
      ]
     },
     "execution_count": 362,
     "metadata": {},
     "output_type": "execute_result"
    }
   ],
   "source": [
    "## first, unzip the file pset4_inputdata.zip \n",
    "## then, run this code to load the unzipped json file and convert to a dataframe\n",
    "## (may need to change the pathname depending on where you store stuff)\n",
    "## and convert some of the attributes from lists to values\n",
    "doj = pd.read_json(\"combined.json\", lines = True)\n",
    "\n",
    "## due to json, topics are in a list so remove them and concatenate with ;\n",
    "doj['topics_clean'] = [\"; \".join(topic) \n",
    "                      if len(topic) > 0 else \"No topic\" \n",
    "                      for topic in doj.topics]\n",
    "\n",
    "## similarly with components\n",
    "doj['components_clean'] = [\"; \".join(comp) \n",
    "                           if len(comp) > 0 else \"No component\" \n",
    "                           for comp in doj.components]\n",
    "\n",
    "## drop older columns from data\n",
    "doj = doj[['id', 'title', 'contents', 'date', 'topics_clean', \n",
    "           'components_clean']].copy()\n",
    "\n",
    "doj.head(2)"
   ]
  },
  {
   "cell_type": "markdown",
   "metadata": {},
   "source": [
    "## 1. Tagging and sentiment scoring (17 points)\n",
    "\n",
    "Focus on the following press release: `id` == \"17-1204\" about this pharmaceutical kickback prosecution: https://www.forbes.com/sites/michelatindera/2017/11/16/fentanyl-billionaire-john-kapoor-to-plead-not-guilty-in-opioid-kickback-case/?sh=21b8574d6c6c \n",
    "\n",
    "The `contents` column is the one we're treating as a document. You may need to to convert it from a pandas series to a single string.\n",
    "\n",
    "We'll call the raw string of this press release `pharma`"
   ]
  },
  {
   "cell_type": "code",
   "execution_count": 363,
   "metadata": {},
   "outputs": [
    {
     "data": {
      "text/plain": [
       "'The founder and majority owner of Insys Therapeutics Inc., was arrested today and charged with leading a nationwide conspiracy to profit by using bribes and fraud to cause the illegal distribution of a Fentanyl spray intended for cancer patients experiencing breakthrough pain.\\xa0\"More than 20,000 Americans died of synthetic opioid overdoses last year, and millions are addicted to opioids. And yet some medical professionals would rather take advantage of the addicts than try to help them,\" said Attorney General Jeff Sessions. \"This Justice Department will not tolerate this.\\xa0 We will hold accountable anyone – from street dealers to corporate executives -- who illegally contributes to this nationwide epidemic.\\xa0 And under the leadership of President Trump, we are fully committed to defeating this threat to the American people.”John N. Kapoor, 74, of Phoenix, Ariz., a current member of the Board of Directors of Insys, was arrested this morning in Arizona and charged with RICO conspiracy, as well as other felonies, including conspiracy to commit mail and wire fraud and conspiracy to violate the Anti-Kickback Law. Kapoor, the former Executive Chairman of the Board and CEO of Insys, will appear in federal court in Phoenix today.\\xa0 He will appear in U.S. District Court in Boston at a later date.\\xa0The superseding indictment, unsealed today in Boston, also includes additional allegations against several former Insys executives and managers who were initially indicted in December 2016.The superseding indictment charges that Kapoor; Michael L. Babich, 40, of Scottsdale, Ariz., former CEO and President of the company; Alec Burlakoff, 42, of Charlotte, N.C., former Vice President of Sales; Richard M. Simon, 46, of Seal Beach, Calif., former National Director of Sales; former Regional Sales Directors Sunrise Lee, 36, of Bryant City, Mich., and Joseph A. Rowan, 43, of Panama City, Fla.; and former Vice President of Managed Markets, Michael J. Gurry, 53, of Scottsdale, Ariz., conspired to bribe practitioners in various states, many of whom operated pain clinics, in order to get them to prescribe a fentanyl-based pain medication.\\xa0 The medication, called “Subsys,” is a powerful narcotic intended to treat cancer patients suffering intense breakthrough pain.\\xa0 In exchange for bribes and kickbacks, the practitioners wrote large numbers of prescriptions for the patients, most of whom were not diagnosed with cancer.The indictment also alleges that Kapoor and the six former executives conspired to mislead and defraud health insurance providers who were reluctant to approve payment for the drug when it was prescribed for non-cancer patients.\\xa0 They achieved this goal by setting up the “reimbursement unit,” which was dedicated to obtaining prior authorization directly from insurers and pharmacy benefit managers.\\xa0“In the midst of a nationwide opioid epidemic that has reached crisis proportions, Mr. Kapoor and his company stand accused of bribing doctors to overprescribe a potent opioid and committing fraud on insurance companies solely for profit,” said Acting United States Attorney William D. Weinreb. “Today\\'s arrest and charges reflect our ongoing efforts to attack the opioid crisis from all angles. We must hold the industry and its leadership accountable - just as we would the cartels or a street-level drug dealer.”“As alleged, these executives created a corporate culture at Insys that utilized deception and bribery as an acceptable business practice, deceiving patients, and conspiring with doctors and insurers,” said Harold H. Shaw, Special Agent in Charge of the Federal Bureau of Investigation, Boston Field Division. “The allegations of selling a highly addictive opioid cancer pain drug to patients who did not have cancer, make them no better than street-level drug dealers. Today\\'s charges mark an important step in holding pharmaceutical executives responsible for their part in the opioid crisis.\\xa0\\xa0 The FBI will vigorously investigate corrupt organizations with business practices that promote fraud with a total disregard for patient safety.”“These Insys executives allegedly fueled the opioid epidemic by paying doctors to needlessly prescribe an extremely dangerous and addictive form of fentanyl,” said Phillip Coyne, Special Agent in Charge for the Office of Inspector General of the U.S. Department of Health and Human Services.\\xa0 “Corporate executives intent on illegally driving up profits need to be aware they are now squarely in the sights of law enforcement.”“As alleged, Insys executives improperly influenced health care providers to prescribe a powerful opioid for patients who did not need it, and without complying with FDA requirements, thus putting patients at risk and contributing to the current opioid crisis,” said Mark A. McCormack, Special Agent in Charge, FDA Office of Criminal Investigations’ Metro Washington Field Office. “Our office will continue to work with our law enforcement partners to pursue and bring to justice those who threaten the public health.”“Pharmaceutical companies whose products include controlled medications that can lead to addiction and overdose have a special obligation to operate in a trustworthy, transparent manner, because their customers’ health and safety and, indeed, very lives depend on it,” said DEA Special Agent in Charge Michael J. Ferguson.\\xa0 “DEA pledges to work with our law enforcement and regulatory partners nationwide to ensure that rules and regulations under the Controlled Substances Act are followed.”“Today’s arrest is the result of a joint effort to identify, investigate and prosecute individuals who engage in fraudulent activity and endanger patient health,” stated Special Agent in Charge Leigh-Alistair Barzey, Defense Criminal Investigative Service (DCIS) Northeast Field Office.\\xa0 “DCIS will continue to work with the U.S. Attorney’s Office, District of Massachusetts, and our law enforcement partners, to protect U.S. military members, retirees and their dependents and the integrity of TRICARE, the Defense Department’s healthcare system.”“As alleged, John Kapoor and other top executives committed fraud, placing profit before patient safety, to sell a highly potent and addictive opioid.\\xa0 EBSA will take every opportunity to work collaboratively with our law enforcement partners in these important investigations to protect participants in private sector health plans and contribute in fighting the opioid epidemic,” said Susan A. Hensley, Regional Director of the U.S. Department of Labor, Employee Benefits Security Administration, Boston Regional Office.“Once again, the United States Postal Inspection Service is fully committed to protecting our nation’s mail system from criminal misuse,” said Shelly Binkowski, Inspector in Charge of the U.S. Postal Inspection Service. “We are proud to work alongside our law enforcement partners to dismantle high level prescription drug practices which directly contribute to the opioid abuse epidemic.\\xa0 This investigation highlights our commitment to defending our mail system from illegal misuse and ensuring public trust in the mail.”“The U.S. Department of Veterans Affairs, Office of Inspector General will continue to aggressively investigate those that attempt to fraudulently impact programs designed to benefit our veterans and their families,” said Donna L. Neves, Special Agent in Charge of the VA OIG Northeast Field Office.The charges of conspiracy to commit RICO and conspiracy to commit mail and wire fraud each provide for a sentence of no greater than 20 years in prison, three years of supervised release and a fine of $250,000, or twice the amount of pecuniary gain or loss.\\xa0 The charges of conspiracy to violate the Anti-Kickback Law provide for a sentence of no greater than five years in prison, three years of supervised release and a $25,000 fine. Sentences are imposed by a federal district court judge based upon the U.S. Sentencing Guidelines and other statutory factors.The investigation was conducted by a team that included the FBI; HHS-OIG; FDA Office of Criminal Investigations; the Defense Criminal Investigative Service; the Drug Enforcement Administration; the Department of Labor, Employee Benefits Security Administration; the Office of Personnel Management; the U.S. Postal Inspection Service; the U.S. Postal Service Office of Inspector General; and the Department of Veterans Affairs.\\xa0 The U.S. Attorney’s Office would like to acknowledge the cooperation and assistance of the U.S. Attorney’s Offices around the country engaged in parallel investigations, including the District of Connecticut, Eastern District of Michigan, Southern District of Alabama, Southern District of New York, District of Rhode Island, and the District of New Hampshire.\\xa0 The efforts of the Central District of California and the Justice Department’s Civil Fraud Section of the Department of Justice are also greatly appreciated.\\xa0Assistant U.S. Attorneys K. Nathaniel Yeager, Chief of Weinreb’s Health Care Fraud Unit, and Susan M. Poswistilo, of Weinreb’s Civil Division, are prosecuting the case.The details contained in the charging documents are allegations.\\xa0 The defendants are presumed innocent unless and until proven guilty beyond a reasonable doubt.'"
      ]
     },
     "execution_count": 363,
     "metadata": {},
     "output_type": "execute_result"
    }
   ],
   "source": [
    "## your code to subset to one press release and take the string\n",
    "pharma = doj[doj[\"id\"] == \"17-1204\"][\"contents\"].values[0]\n",
    "pharma"
   ]
  },
  {
   "cell_type": "markdown",
   "metadata": {},
   "source": [
    "### 1.1 part of speech tagging (3 points)\n",
    "\n",
    "A. Preprocess the `pharma` press release to remove all punctuation / digits (so can use `.isalpha()` to subset)\n",
    "\n",
    "B. With the preprocessed press release from part A, use the part of speech tagger within nltk to tag all the words in that one press release with their part of speech. \n",
    "\n",
    "C. Using the output from B, extract the adjectives and sort those adjectives from most occurrences to fewest occurrences. Print a dataframe with the 5 most frequent adjectives and their counts in the `pharma` release. See here for a list of the names of adjectives within nltk: https://pythonprogramming.net/natural-language-toolkit-nltk-part-speech-tagging/\n",
    "\n",
    "**Resources**:\n",
    "\n",
    "- Documentation for `.isalpha()`: https://www.w3schools.com/python/ref_string_isalpha.asp\n",
    "- `processtext` function here has an example of tokenizing and filtering to words where `.isalpha()` is true: https://github.com/jhaber-zz/QSS20_public/blob/main/activities/solutions/05_textasdata_partII_topicmodeling_solutions.ipynb\n",
    "- Part of speech tagging section of this code: https://github.com/jhaber-zz/QSS20_public/blob/main/activities/solutions/05_textasdata_partI_textmining_solutions.ipynb\n",
    "\n"
   ]
  },
  {
   "cell_type": "code",
   "execution_count": 364,
   "metadata": {},
   "outputs": [
    {
     "data": {
      "text/plain": [
       "'The founder and majority owner of Insys Therapeutics Inc was arrested today and charged with leading a nationwide conspiracy to profit by using bribes and fraud to cause the illegal distribution of a Fentanyl spray intended for cancer patients experiencing breakthrough painMore than  Americans died of synthetic opioid overdoses last year and millions are addicted to opioids And yet some medical professionals would rather take advantage of the addicts than try to help them said Attorney General Jeff Sessions This Justice Department will not tolerate this We will hold accountable anyone  from street dealers to corporate executives  who illegally contributes to this nationwide epidemic And under the leadership of President Trump we are fully committed to defeating this threat to the American peopleJohn N Kapoor  of Phoenix Ariz a current member of the Board of Directors of Insys was arrested this morning in Arizona and charged with RICO conspiracy as well as other felonies including conspiracy to commit mail and wire fraud and conspiracy to violate the AntiKickback Law Kapoor the former Executive Chairman of the Board and CEO of Insys will appear in federal court in Phoenix today He will appear in US District Court in Boston at a later dateThe superseding indictment unsealed today in Boston also includes additional allegations against several former Insys executives and managers who were initially indicted in December The superseding indictment charges that Kapoor Michael L Babich  of Scottsdale Ariz former CEO and President of the company Alec Burlakoff  of Charlotte NC former Vice President of Sales Richard M Simon  of Seal Beach Calif former National Director of Sales former Regional Sales Directors Sunrise Lee  of Bryant City Mich and Joseph A Rowan  of Panama City Fla and former Vice President of Managed Markets Michael J Gurry  of Scottsdale Ariz conspired to bribe practitioners in various states many of whom operated pain clinics in order to get them to prescribe a fentanylbased pain medication The medication called Subsys is a powerful narcotic intended to treat cancer patients suffering intense breakthrough pain In exchange for bribes and kickbacks the practitioners wrote large numbers of prescriptions for the patients most of whom were not diagnosed with cancerThe indictment also alleges that Kapoor and the six former executives conspired to mislead and defraud health insurance providers who were reluctant to approve payment for the drug when it was prescribed for noncancer patients They achieved this goal by setting up the reimbursement unit which was dedicated to obtaining prior authorization directly from insurers and pharmacy benefit managersIn the midst of a nationwide opioid epidemic that has reached crisis proportions Mr Kapoor and his company stand accused of bribing doctors to overprescribe a potent opioid and committing fraud on insurance companies solely for profit said Acting United States Attorney William D Weinreb Todays arrest and charges reflect our ongoing efforts to attack the opioid crisis from all angles We must hold the industry and its leadership accountable  just as we would the cartels or a streetlevel drug dealerAs alleged these executives created a corporate culture at Insys that utilized deception and bribery as an acceptable business practice deceiving patients and conspiring with doctors and insurers said Harold H Shaw Special Agent in Charge of the Federal Bureau of Investigation Boston Field Division The allegations of selling a highly addictive opioid cancer pain drug to patients who did not have cancer make them no better than streetlevel drug dealers Todays charges mark an important step in holding pharmaceutical executives responsible for their part in the opioid crisis The FBI will vigorously investigate corrupt organizations with business practices that promote fraud with a total disregard for patient safetyThese Insys executives allegedly fueled the opioid epidemic by paying doctors to needlessly prescribe an extremely dangerous and addictive form of fentanyl said Phillip Coyne Special Agent in Charge for the Office of Inspector General of the US Department of Health and Human Services Corporate executives intent on illegally driving up profits need to be aware they are now squarely in the sights of law enforcementAs alleged Insys executives improperly influenced health care providers to prescribe a powerful opioid for patients who did not need it and without complying with FDA requirements thus putting patients at risk and contributing to the current opioid crisis said Mark A McCormack Special Agent in Charge FDA Office of Criminal Investigations Metro Washington Field Office Our office will continue to work with our law enforcement partners to pursue and bring to justice those who threaten the public healthPharmaceutical companies whose products include controlled medications that can lead to addiction and overdose have a special obligation to operate in a trustworthy transparent manner because their customers health and safety and indeed very lives depend on it said DEA Special Agent in Charge Michael J Ferguson DEA pledges to work with our law enforcement and regulatory partners nationwide to ensure that rules and regulations under the Controlled Substances Act are followedTodays arrest is the result of a joint effort to identify investigate and prosecute individuals who engage in fraudulent activity and endanger patient health stated Special Agent in Charge LeighAlistair Barzey Defense Criminal Investigative Service DCIS Northeast Field Office DCIS will continue to work with the US Attorneys Office District of Massachusetts and our law enforcement partners to protect US military members retirees and their dependents and the integrity of TRICARE the Defense Departments healthcare systemAs alleged John Kapoor and other top executives committed fraud placing profit before patient safety to sell a highly potent and addictive opioid EBSA will take every opportunity to work collaboratively with our law enforcement partners in these important investigations to protect participants in private sector health plans and contribute in fighting the opioid epidemic said Susan A Hensley Regional Director of the US Department of Labor Employee Benefits Security Administration Boston Regional OfficeOnce again the United States Postal Inspection Service is fully committed to protecting our nations mail system from criminal misuse said Shelly Binkowski Inspector in Charge of the US Postal Inspection Service We are proud to work alongside our law enforcement partners to dismantle high level prescription drug practices which directly contribute to the opioid abuse epidemic This investigation highlights our commitment to defending our mail system from illegal misuse and ensuring public trust in the mailThe US Department of Veterans Affairs Office of Inspector General will continue to aggressively investigate those that attempt to fraudulently impact programs designed to benefit our veterans and their families said Donna L Neves Special Agent in Charge of the VA OIG Northeast Field OfficeThe charges of conspiracy to commit RICO and conspiracy to commit mail and wire fraud each provide for a sentence of no greater than  years in prison three years of supervised release and a fine of  or twice the amount of pecuniary gain or loss The charges of conspiracy to violate the AntiKickback Law provide for a sentence of no greater than five years in prison three years of supervised release and a  fine Sentences are imposed by a federal district court judge based upon the US Sentencing Guidelines and other statutory factorsThe investigation was conducted by a team that included the FBI HHSOIG FDA Office of Criminal Investigations the Defense Criminal Investigative Service the Drug Enforcement Administration the Department of Labor Employee Benefits Security Administration the Office of Personnel Management the US Postal Inspection Service the US Postal Service Office of Inspector General and the Department of Veterans Affairs The US Attorneys Office would like to acknowledge the cooperation and assistance of the US Attorneys Offices around the country engaged in parallel investigations including the District of Connecticut Eastern District of Michigan Southern District of Alabama Southern District of New York District of Rhode Island and the District of New Hampshire The efforts of the Central District of California and the Justice Departments Civil Fraud Section of the Department of Justice are also greatly appreciatedAssistant US Attorneys K Nathaniel Yeager Chief of Weinrebs Health Care Fraud Unit and Susan M Poswistilo of Weinrebs Civil Division are prosecuting the caseThe details contained in the charging documents are allegations The defendants are presumed innocent unless and until proven guilty beyond a reasonable doubt'"
      ]
     },
     "execution_count": 364,
     "metadata": {},
     "output_type": "execute_result"
    }
   ],
   "source": [
    "## your code here to restrict to alpha\n",
    "pharma_alpha = \"\".join([char for char in pharma if char.isalpha() or char == \" \"])\n",
    "pharma_alpha"
   ]
  },
  {
   "cell_type": "code",
   "execution_count": 365,
   "metadata": {},
   "outputs": [],
   "source": [
    "## your code here for part of speech tagging\n",
    "pharma_alpha_tokens = word_tokenize(pharma_alpha)\n",
    "pharma_alpha_tokens_pos = pos_tag(pharma_alpha_tokens)\n",
    "# pharma_alpha_tokens_pos"
   ]
  },
  {
   "cell_type": "code",
   "execution_count": 366,
   "metadata": {},
   "outputs": [
    {
     "data": {
      "text/html": [
       "<div>\n",
       "<style scoped>\n",
       "    .dataframe tbody tr th:only-of-type {\n",
       "        vertical-align: middle;\n",
       "    }\n",
       "\n",
       "    .dataframe tbody tr th {\n",
       "        vertical-align: top;\n",
       "    }\n",
       "\n",
       "    .dataframe thead th {\n",
       "        text-align: right;\n",
       "    }\n",
       "</style>\n",
       "<table border=\"1\" class=\"dataframe\">\n",
       "  <thead>\n",
       "    <tr style=\"text-align: right;\">\n",
       "      <th></th>\n",
       "      <th>adj</th>\n",
       "      <th>count</th>\n",
       "    </tr>\n",
       "  </thead>\n",
       "  <tbody>\n",
       "    <tr>\n",
       "      <th>9</th>\n",
       "      <td>former</td>\n",
       "      <td>8</td>\n",
       "    </tr>\n",
       "    <tr>\n",
       "      <th>26</th>\n",
       "      <td>opioid</td>\n",
       "      <td>5</td>\n",
       "    </tr>\n",
       "    <tr>\n",
       "      <th>0</th>\n",
       "      <td>nationwide</td>\n",
       "      <td>4</td>\n",
       "    </tr>\n",
       "    <tr>\n",
       "      <th>30</th>\n",
       "      <td>addictive</td>\n",
       "      <td>3</td>\n",
       "    </tr>\n",
       "    <tr>\n",
       "      <th>8</th>\n",
       "      <td>other</td>\n",
       "      <td>3</td>\n",
       "    </tr>\n",
       "  </tbody>\n",
       "</table>\n",
       "</div>"
      ],
      "text/plain": [
       "           adj  count\n",
       "9       former      8\n",
       "26      opioid      5\n",
       "0   nationwide      4\n",
       "30   addictive      3\n",
       "8        other      3"
      ]
     },
     "execution_count": 366,
     "metadata": {},
     "output_type": "execute_result"
    }
   ],
   "source": [
    "adj_count_dict = {}\n",
    "for token in pharma_alpha_tokens_pos:\n",
    "    if (token[1] == \"JJ\") or (token[1] == \"JJR\") or (token[1] == \"JJS\"):\n",
    "        if token[0] in adj_count_dict:\n",
    "            adj_count_dict[token[0]] += 1\n",
    "        else:\n",
    "            adj_count_dict[token[0]] = 1\n",
    "            \n",
    "adj_count_dict_df = pd.DataFrame.from_dict(adj_count_dict, orient = \"index\", columns = [\"count\"]).reset_index().rename(columns = {\"index\": \"adj\"}).sort_values(by = \"count\", ascending = False)\n",
    "adj_count_dict_df.head()"
   ]
  },
  {
   "cell_type": "markdown",
   "metadata": {},
   "source": [
    "## 1.2 named entity recognition (4 points)"
   ]
  },
  {
   "cell_type": "markdown",
   "metadata": {},
   "source": [
    "A. Using the original `pharma` press release (so the one before stripping punctuation/digits), use spaCy to extract all named entities from the press release.\n",
    "\n",
    "B. Print the unique named entities with the tag: `LAW`\n",
    "\n",
    "**Resources**:\n",
    "\n",
    "- For parts A and B: named entity recognition part of this code: https://github.com/jhaber-zz/QSS20_public/blob/main/activities/solutions/05_textasdata_partI_textmining_solutions.ipynb"
   ]
  },
  {
   "cell_type": "code",
   "execution_count": 367,
   "metadata": {},
   "outputs": [],
   "source": [
    "## your code here for part A\n",
    "spacy_pharma = nlp(pharma)"
   ]
  },
  {
   "cell_type": "code",
   "execution_count": 368,
   "metadata": {},
   "outputs": [
    {
     "name": "stdout",
     "output_type": "stream",
     "text": [
      "Entity: RICO; NER tag: LAW\n",
      "Entity: the Controlled Substances Act; NER tag: LAW\n",
      "Entity: RICO; NER tag: LAW\n"
     ]
    }
   ],
   "source": [
    "## your code here for part B\n",
    "for one_tok in spacy_pharma.ents:\n",
    "    if one_tok.label_ == \"LAW\":\n",
    "        print(\"Entity: \" + one_tok.text + \"; NER tag: \" + one_tok.label_)"
   ]
  },
  {
   "cell_type": "markdown",
   "metadata": {},
   "source": [
    "C. Use Google to summarize in one sentence what the `RICO` named entity means and why this might apply to a pharmaceutical kickbacks case (and not just a mafia case...) "
   ]
  },
  {
   "cell_type": "code",
   "execution_count": 369,
   "metadata": {},
   "outputs": [
    {
     "data": {
      "text/plain": [
       "\"Rico stands for 'Racketeer Influenced and Corrupt Organizations Act', and so thus can be used to prosecute both organized crime such as a mafia case, or corporate crime where corruption is involved like in a pharmaceutical kickbacks case.\""
      ]
     },
     "execution_count": 369,
     "metadata": {},
     "output_type": "execute_result"
    }
   ],
   "source": [
    "## your code here \n",
    "\"Rico stands for 'Racketeer Influenced and Corrupt Organizations Act', and so thus can be used to prosecute both organized crime such as a mafia case, or corporate crime where corruption is involved like in a pharmaceutical kickbacks case.\""
   ]
  },
  {
   "cell_type": "markdown",
   "metadata": {},
   "source": [
    "D. You want to extract the possible sentence lengths the CEO is facing; pull out the named entities with (1) the label `DATE` and (2) that contain the word year or years (hint: you may want to use the `re` module for that second part). Print these named entities."
   ]
  },
  {
   "cell_type": "code",
   "execution_count": 370,
   "metadata": {},
   "outputs": [
    {
     "name": "stdout",
     "output_type": "stream",
     "text": [
      "Entity: last year; NER tag: DATE\n",
      "Entity: 20 years; NER tag: DATE\n",
      "Entity: three years; NER tag: DATE\n",
      "Entity: five years; NER tag: DATE\n",
      "Entity: three years; NER tag: DATE\n"
     ]
    }
   ],
   "source": [
    "## your code here\n",
    "\n",
    "date_toks = [one_tok for one_tok in spacy_pharma.ents if one_tok.label_ == \"DATE\"]\n",
    "\n",
    "date_toks_contains_year = [one_tok for one_tok in date_toks if \"year\" in one_tok.text.lower()]\n",
    "for one_tok in date_toks_contains_year:\n",
    "    print(\"Entity: \" + one_tok.text + \"; NER tag: \" + one_tok.label_)"
   ]
  },
  {
   "cell_type": "markdown",
   "metadata": {},
   "source": [
    "E. Pull and print the original parts of the press releases where those year lengths are mentioned (e.g., the sentences or rough region of the press release). Describe in your own words (1 sentence) what length of sentence (prison) and probation (supervised release) the CEO may be facing if convicted after this indictment (if there are multiple lengths mentioned describe the maximum). \n",
    "\n",
    "**Hint**: you may want to use re.search or re.findall \n",
    "\n",
    "- For part E, `re.search` and `re.findall` examples here for filtering to ones containing year (multiple approaches; some need not involve `re`): https://github.com/jhaber-zz/QSS20_public/blob/main/activities/solutions/05_basicregex_solutions.ipynb"
   ]
  },
  {
   "cell_type": "code",
   "execution_count": 371,
   "metadata": {},
   "outputs": [
    {
     "name": "stdout",
     "output_type": "stream",
     "text": [
      "\"More than 20,000 Americans died of synthetic opioid overdoses last year, and millions are addicted to opioids.\n",
      "The charges of conspiracy to commit RICO and conspiracy to commit mail and wire fraud each provide for a sentence of no greater than 20 years in prison, three years of supervised release and a fine of $250,000, or twice the amount of pecuniary gain or loss.  \n",
      "The charges of conspiracy to violate the Anti-Kickback Law provide for a sentence of no greater than five years in prison, three years of supervised release and a $25,000 fine.\n"
     ]
    },
    {
     "data": {
      "text/plain": [
       "\"The CEO will receive a maximum of 20 years in prison and 3 years of probation if he's charged with conspiracy to commit RICO, but only a maximum of 5 years in prison and 3 years of probation if he's charged with conspiracy to violate the Anti-Kickback Law.\""
      ]
     },
     "execution_count": 371,
     "metadata": {},
     "output_type": "execute_result"
    }
   ],
   "source": [
    "## your code here\n",
    "pharma_sentences = [one_sent for one_sent in spacy_pharma.sents]\n",
    "pharma_sentences_contains_year = [one_sent for one_sent in pharma_sentences if \"year\" in one_sent.text.lower()]\n",
    "for one_sent in pharma_sentences_contains_year:\n",
    "    print(one_sent.text)\n",
    "    \n",
    "\"The CEO will receive a maximum of 20 years in prison and 3 years of probation if he's charged with conspiracy to commit RICO, but only a maximum of 5 years in prison and 3 years of probation if he's charged with conspiracy to violate the Anti-Kickback Law.\""
   ]
  },
  {
   "cell_type": "markdown",
   "metadata": {},
   "source": [
    "## 1.3 sentiment analysis  (10 points)\n",
    "\n",
    "- Sentiment analysis section of this script: https://github.com/jhaber-zz/QSS20_public/blob/main/activities/solutions/05_textasdata_partI_textmining_solutions.ipynb\n",
    "\n",
    "\n",
    "A. Subset the press releases to those labeled with one of three topics via `topics_clean`: Civil Rights, Hate Crimes, and Project Safe Childhood. We'll call this `doj_subset` going forward and it should have 717 rows.\n",
    "\n"
   ]
  },
  {
   "cell_type": "code",
   "execution_count": 372,
   "metadata": {},
   "outputs": [
    {
     "data": {
      "text/html": [
       "<div>\n",
       "<style scoped>\n",
       "    .dataframe tbody tr th:only-of-type {\n",
       "        vertical-align: middle;\n",
       "    }\n",
       "\n",
       "    .dataframe tbody tr th {\n",
       "        vertical-align: top;\n",
       "    }\n",
       "\n",
       "    .dataframe thead th {\n",
       "        text-align: right;\n",
       "    }\n",
       "</style>\n",
       "<table border=\"1\" class=\"dataframe\">\n",
       "  <thead>\n",
       "    <tr style=\"text-align: right;\">\n",
       "      <th></th>\n",
       "      <th>id</th>\n",
       "      <th>title</th>\n",
       "      <th>contents</th>\n",
       "      <th>date</th>\n",
       "      <th>topics_clean</th>\n",
       "      <th>components_clean</th>\n",
       "    </tr>\n",
       "  </thead>\n",
       "  <tbody>\n",
       "    <tr>\n",
       "      <th>77</th>\n",
       "      <td>17-1235</td>\n",
       "      <td>Additional Former Correctional Officer Pleads Guilty to Beating of Handcuffed and Shackled Inmate at Angola State Prison</td>\n",
       "      <td>A former supervisory correctional officer at Louisiana State Penitentiary in Angola, Louisiana, pleaded guilty yesterday in connection with the beating of a handcuffed and shackled inmate, in addition to conspiring to cover up their misconduct by falsifying official records and lying to internal investigators about what happened.     James Savoy, 39, of Marksville, Louisiana, admitted during his plea hearing that he witnessed other officers using excessive force against the inmate and failed to intervene; that he conspired with other officers to cover up the beating by engaging in a variety of obstructive acts; and that he personally falsified official prison records to cover up the attack.   Scotty Kennedy, 48, of Beebe, Arkansas, and John Sanders, 30, of Marksville, Louisiana previously pleaded guilty in November 2016, and September 2017, for their roles in the beating and cover up.   “Every citizen has the right to due process and protection from unreasonable force, and correctional officers who violate these basic Constitutional rights must be held accountable for their egregious actions” said Acting Assistant Attorney General John Gore of the Civil Rights Division.  “The Justice Department will continue to vigorously prosecute correctional officers who violate the public’s trust by committing crimes and to covering up violations of federal criminal law.”   “Yesterday is another example of our office’s unwavering commitment to pursuing those who violate the federal criminal civil rights laws,” said Acting United States Attorney for the Middle District of Louisiana Corey Amundson. “We will continue to work closely with the Justice Department’s Civil Rights Division and the FBI to ensure that no one is above the law.”     This case is being investigated by the FBI’s Baton Rouge Resident Agency and is being prosecuted by Assistant U.S. Attorney Frederick A. Menner, Jr. of the Middle District of Louisiana and Trial Attorney Christopher J. Perras of the Civil Rights Division’s Criminal Section.</td>\n",
       "      <td>2017-11-02T00:00:00-04:00</td>\n",
       "      <td>Civil Rights</td>\n",
       "      <td>Civil Rights Division; USAO - Louisiana, Middle</td>\n",
       "    </tr>\n",
       "    <tr>\n",
       "      <th>155</th>\n",
       "      <td>15-1522</td>\n",
       "      <td>Alabama Man Found Guilty of Aggravated Sexual Abuse of a Child</td>\n",
       "      <td>A federal jury convicted Rick Lee Evans, 43, of Anniston, Alabama, today of aggravated sexual abuse of a child after a five-day trial, Assistant Attorney General Leslie R. Caldwell of the Justice Department’s Criminal Division and U.S. Attorney Joyce White Vance of the Northern District of Alabama announced.  According to evidence introduced at trial, Evans, a former U.S. Army soldier, and his then-wife, a Department of Defense employee, were residing in Germany when they were asked to take temporary custody of a five-year-old child whose parents were deployed to Iraq with the U.S. Army.  Evans sexually abused the child on multiple occasions during the 18 months that the child lived with him from May 2007 to December 2008.  Trial Attorney Austin M. Berry of the Criminal Division’s Child Exploitation and Obscenity Section (CEOS) and Assistant U.S. Attorney Jacquelyn Hutzell of the Northern District of Alabama are prosecuting the case.  U.S. Army Criminal Investigations Division and the FBI’s Birmingham, Alabama, Division investigated the case. This case was brought as part of Project Safe Childhood, a nationwide initiative to combat the growing epidemic of child sexual exploitation and abuse, launched in May 2006 by the Department of Justice.  Led by U.S. Attorneys’ offices and CEOS, Project Safe Childhood marshals federal, state and local resources to better locate, apprehend and prosecute individuals who exploit children via the Internet, as well as to identify and rescue victims.  For more information about Project Safe Childhood, please visit www.justice.gov/psc.</td>\n",
       "      <td>2015-12-11T00:00:00-05:00</td>\n",
       "      <td>Project Safe Childhood</td>\n",
       "      <td>Criminal Division; Criminal - Child Exploitation and Obscenity Section; USAO - Alabama, Northern</td>\n",
       "    </tr>\n",
       "  </tbody>\n",
       "</table>\n",
       "</div>"
      ],
      "text/plain": [
       "          id  \\\n",
       "77   17-1235   \n",
       "155  15-1522   \n",
       "\n",
       "                                                                                                                        title  \\\n",
       "77   Additional Former Correctional Officer Pleads Guilty to Beating of Handcuffed and Shackled Inmate at Angola State Prison   \n",
       "155                                                            Alabama Man Found Guilty of Aggravated Sexual Abuse of a Child   \n",
       "\n",
       "                                                                                                                                                                                                                                                                                                                                                                                                                                                                                                                                                                                                                                                                                                                                                                                                                                                                                                                                                                                                                                                                                                                                                                                                                                                                                                                                                                                                                                                                                                                                                                                                                                                                                                                                                                                                                                                                                                                                                                                                                                                                                                         contents  \\\n",
       "77   A former supervisory correctional officer at Louisiana State Penitentiary in Angola, Louisiana, pleaded guilty yesterday in connection with the beating of a handcuffed and shackled inmate, in addition to conspiring to cover up their misconduct by falsifying official records and lying to internal investigators about what happened.     James Savoy, 39, of Marksville, Louisiana, admitted during his plea hearing that he witnessed other officers using excessive force against the inmate and failed to intervene; that he conspired with other officers to cover up the beating by engaging in a variety of obstructive acts; and that he personally falsified official prison records to cover up the attack.   Scotty Kennedy, 48, of Beebe, Arkansas, and John Sanders, 30, of Marksville, Louisiana previously pleaded guilty in November 2016, and September 2017, for their roles in the beating and cover up.   “Every citizen has the right to due process and protection from unreasonable force, and correctional officers who violate these basic Constitutional rights must be held accountable for their egregious actions” said Acting Assistant Attorney General John Gore of the Civil Rights Division.  “The Justice Department will continue to vigorously prosecute correctional officers who violate the public’s trust by committing crimes and to covering up violations of federal criminal law.”   “Yesterday is another example of our office’s unwavering commitment to pursuing those who violate the federal criminal civil rights laws,” said Acting United States Attorney for the Middle District of Louisiana Corey Amundson. “We will continue to work closely with the Justice Department’s Civil Rights Division and the FBI to ensure that no one is above the law.”     This case is being investigated by the FBI’s Baton Rouge Resident Agency and is being prosecuted by Assistant U.S. Attorney Frederick A. Menner, Jr. of the Middle District of Louisiana and Trial Attorney Christopher J. Perras of the Civil Rights Division’s Criminal Section.   \n",
       "155                                                                                                                                                                                                                                                                                                                                                                                                                                                    A federal jury convicted Rick Lee Evans, 43, of Anniston, Alabama, today of aggravated sexual abuse of a child after a five-day trial, Assistant Attorney General Leslie R. Caldwell of the Justice Department’s Criminal Division and U.S. Attorney Joyce White Vance of the Northern District of Alabama announced.  According to evidence introduced at trial, Evans, a former U.S. Army soldier, and his then-wife, a Department of Defense employee, were residing in Germany when they were asked to take temporary custody of a five-year-old child whose parents were deployed to Iraq with the U.S. Army.  Evans sexually abused the child on multiple occasions during the 18 months that the child lived with him from May 2007 to December 2008.  Trial Attorney Austin M. Berry of the Criminal Division’s Child Exploitation and Obscenity Section (CEOS) and Assistant U.S. Attorney Jacquelyn Hutzell of the Northern District of Alabama are prosecuting the case.  U.S. Army Criminal Investigations Division and the FBI’s Birmingham, Alabama, Division investigated the case. This case was brought as part of Project Safe Childhood, a nationwide initiative to combat the growing epidemic of child sexual exploitation and abuse, launched in May 2006 by the Department of Justice.  Led by U.S. Attorneys’ offices and CEOS, Project Safe Childhood marshals federal, state and local resources to better locate, apprehend and prosecute individuals who exploit children via the Internet, as well as to identify and rescue victims.  For more information about Project Safe Childhood, please visit www.justice.gov/psc.     \n",
       "\n",
       "                          date            topics_clean  \\\n",
       "77   2017-11-02T00:00:00-04:00            Civil Rights   \n",
       "155  2015-12-11T00:00:00-05:00  Project Safe Childhood   \n",
       "\n",
       "                                                                                     components_clean  \n",
       "77                                                    Civil Rights Division; USAO - Louisiana, Middle  \n",
       "155  Criminal Division; Criminal - Child Exploitation and Obscenity Section; USAO - Alabama, Northern  "
      ]
     },
     "execution_count": 372,
     "metadata": {},
     "output_type": "execute_result"
    },
    {
     "data": {
      "text/plain": [
       "(717, 6)"
      ]
     },
     "execution_count": 372,
     "metadata": {},
     "output_type": "execute_result"
    }
   ],
   "source": [
    "## your code here for subsetting\n",
    "doj_subset = doj[(doj[\"topics_clean\"] == \"Civil Rights\") | (doj[\"topics_clean\"] == \"Hate Crimes\") | (doj[\"topics_clean\"] == \"Project Safe Childhood\")].copy()\n",
    "doj_subset.head(2)\n",
    "doj_subset.shape"
   ]
  },
  {
   "cell_type": "markdown",
   "metadata": {},
   "source": [
    "B. Write a function that takes one press release string as an input and:\n",
    "\n",
    "- Removes named entities from each press release string (**Hint**: you may want to use `re.sub` with an or condition)\n",
    "- Scores the sentiment of the entire press release using the `SentimentIntensityAnalyzer` and `polarity_scores`\n",
    "- Returns the length-four (negative, positive, neutral, compound) sentiment dictionary (any order is fine)\n",
    "\n",
    "Apply that function to each of the press releases in `doj_subset`. \n",
    "\n",
    "**Hints**: \n",
    "\n",
    "- I used a function + list comprehension to execute and it takes about 30 seconds on my local machine and about 2 mins on jhub; if it's taking a very long time, you may want to check your code for inefficiencies. If you can't fix those, for partial credit on this part/full credit on remainder, you can take a small random sample of the 717\n"
   ]
  },
  {
   "cell_type": "code",
   "execution_count": 373,
   "metadata": {},
   "outputs": [],
   "source": [
    "## your code here to define function\n",
    "## your code here to define function\n",
    "def get_sentiment(text):\n",
    "    \"\"\"Remove named entities from text and return sentiment score.\"\"\"\n",
    "    text = text.lower()\n",
    "    spacy_text = nlp(str(text))\n",
    "    named_entities = [one_tok.text for one_tok in spacy_text.ents]\n",
    "    \n",
    "    text_no_named_entities = text\n",
    "    \n",
    "    for entity in named_entities:\n",
    "        text_no_named_entities = text_no_named_entities.replace(entity, \"\")\n",
    "    \n",
    "    analyzer = SentimentIntensityAnalyzer()\n",
    "    return [analyzer.polarity_scores(text_no_named_entities)]"
   ]
  },
  {
   "cell_type": "code",
   "execution_count": 374,
   "metadata": {},
   "outputs": [
    {
     "data": {
      "text/plain": [
       "77       [{'neg': 0.188, 'neu': 0.765, 'pos': 0.047, 'compound': -0.9931}]\n",
       "155      [{'neg': 0.141, 'neu': 0.759, 'pos': 0.101, 'compound': -0.9118}]\n",
       "157      [{'neg': 0.101, 'neu': 0.808, 'pos': 0.091, 'compound': -0.6808}]\n",
       "162      [{'neg': 0.131, 'neu': 0.767, 'pos': 0.101, 'compound': -0.8827}]\n",
       "168          [{'neg': 0.16, 'neu': 0.8, 'pos': 0.04, 'compound': -0.9864}]\n",
       "                                       ...                                \n",
       "13002    [{'neg': 0.151, 'neu': 0.789, 'pos': 0.059, 'compound': -0.9737}]\n",
       "13032     [{'neg': 0.089, 'neu': 0.797, 'pos': 0.114, 'compound': 0.7717}]\n",
       "13034    [{'neg': 0.156, 'neu': 0.735, 'pos': 0.109, 'compound': -0.9578}]\n",
       "13068     [{'neg': 0.138, 'neu': 0.769, 'pos': 0.093, 'compound': -0.988}]\n",
       "13081     [{'neg': 0.142, 'neu': 0.828, 'pos': 0.03, 'compound': -0.9913}]\n",
       "Name: contents, Length: 717, dtype: object"
      ]
     },
     "execution_count": 374,
     "metadata": {},
     "output_type": "execute_result"
    }
   ],
   "source": [
    "## your code here executing the function\n",
    "# get_sentiment(pharma)\n",
    "sentiments = doj_subset[\"contents\"].apply(get_sentiment)\n",
    "sentiments"
   ]
  },
  {
   "cell_type": "markdown",
   "metadata": {},
   "source": [
    "C. Add the four sentiment scores to the `doj_subset` dataframe to create a dataframe: `doj_subset_wscore`. Sort from highest neg to lowest neg score and print the top `id`, `contents`, and `neg` columns of the two most neg press releases. \n",
    "\n",
    "Notes:\n",
    "\n",
    "- Don't worry if your sentiment score differs slightly from our output on GitHub; differences in preprocessing can lead to diff scores"
   ]
  },
  {
   "cell_type": "code",
   "execution_count": 375,
   "metadata": {},
   "outputs": [
    {
     "data": {
      "text/html": [
       "<div>\n",
       "<style scoped>\n",
       "    .dataframe tbody tr th:only-of-type {\n",
       "        vertical-align: middle;\n",
       "    }\n",
       "\n",
       "    .dataframe tbody tr th {\n",
       "        vertical-align: top;\n",
       "    }\n",
       "\n",
       "    .dataframe thead th {\n",
       "        text-align: right;\n",
       "    }\n",
       "</style>\n",
       "<table border=\"1\" class=\"dataframe\">\n",
       "  <thead>\n",
       "    <tr style=\"text-align: right;\">\n",
       "      <th></th>\n",
       "      <th>id</th>\n",
       "      <th>title</th>\n",
       "      <th>contents</th>\n",
       "      <th>date</th>\n",
       "      <th>topics_clean</th>\n",
       "      <th>components_clean</th>\n",
       "      <th>sentiment_neg</th>\n",
       "      <th>sentiment_neu</th>\n",
       "      <th>sentiment_pos</th>\n",
       "      <th>sentiment_compound</th>\n",
       "    </tr>\n",
       "  </thead>\n",
       "  <tbody>\n",
       "    <tr>\n",
       "      <th>329</th>\n",
       "      <td>14-248</td>\n",
       "      <td>Albuquerque Man Charged with Federal Hate Crime Related to Anti-Semitic Threats Against Businesswoman</td>\n",
       "      <td>The Department of Justice announced that this morning John W. Ng, 58, of Albuquerque, N.M., made his initial appearance in federal court on a criminal complaint charging him with a hate crime offense.  This charge is related to anti-Semitic threats Ng made against a Jewish woman who owns and operates the Nosh Jewish Delicatessen and Bakery in Albuquerque. Ng was arrested by the FBI on March 7, 2014, based on a criminal complaint alleging that he interfered with the victim’s federally protected rights by threatening her and interfering with her business because of her religion.  According to the criminal complaint, between Jan. 22, 2014, and Feb. 8, 2014, Ng allegedly posted threatening anti-Semitic notes on and in the vicinity of the victim’s business. A criminal complaint merely establishes probable cause, and Ng is presumed innocent unless proven guilty.  If convicted on the offense charged in the criminal complaint, Ng faces a maximum statutory penalty of one year in prison. This matter was investigated by the Albuquerque Division of the FBI and is being prosecuted by Assistant U.S. Attorney Mark T. Baker of the U.S. Attorney’s Office for the District of New Mexico and Trial Attorney AeJean Cha of the U.S. Department of Justice’s Civil Rights Division.</td>\n",
       "      <td>2014-03-10T00:00:00-04:00</td>\n",
       "      <td>Hate Crimes</td>\n",
       "      <td>Civil Rights Division; Civil Rights - Criminal Section</td>\n",
       "      <td>0.290</td>\n",
       "      <td>0.675</td>\n",
       "      <td>0.035</td>\n",
       "      <td>-0.9950</td>\n",
       "    </tr>\n",
       "    <tr>\n",
       "      <th>11593</th>\n",
       "      <td>16-718</td>\n",
       "      <td>Three Mississippi Correctional Officers Indicted for Inmate Assault and Cover-Up</td>\n",
       "      <td>In a nine-count indictment unsealed today, two Mississippi correctional officers were charged with beating an inmate and a third was charged with helping to cover it up.  The indictment charged Lawardrick Marsher, 28, and Robert Sturdivant, 47, officers at Mississippi State Penitentiary, in Parchman, Mississippi, with a beating that included kicking, punching and throwing the victim to the ground.  Marsher and Sturdivant were charged with violating the right of K.H., a convicted prisoner, to be free from cruel and unusual punishment.  Sturdivant was also charged with failing to intervene while Marsher was punching and beating K.H.  The indictment alleges that their actions involved the use of a dangerous weapon and resulted in bodily injury to the victim. A third officer, Deonte Pate, 23, was charged along with Marsher and Sturdivant for conspiring to cover up the beating.  The indictment alleges that all three officers submitted false reports and that all three lied to the FBI. If convicted, Marsher and Sturdivant face a maximum sentence of 10 years in prison on the excessive force charges.  Each of the three officers faces up to five years in prison on the conspiracy and false statement charges, and up to 20 years in prison on the false report charges. An indictment is merely an accusation, and the defendants are presumed innocent unless and until proven guilty. This case is being investigated by the FBI’s Jackson Division, with the cooperation of the Mississippi Department of Corrections.  It is being prosecuted by Assistant U.S. Attorney Robert Coleman of the Northern District of Mississippi and Trial Attorney Dana Mulhauser of the Civil Rights Division’s Criminal Section.     Marsher Indictment</td>\n",
       "      <td>2016-06-21T00:00:00-04:00</td>\n",
       "      <td>Civil Rights</td>\n",
       "      <td>Civil Rights Division; Civil Rights - Criminal Section; USAO - Mississippi, Northern</td>\n",
       "      <td>0.282</td>\n",
       "      <td>0.687</td>\n",
       "      <td>0.030</td>\n",
       "      <td>-0.9968</td>\n",
       "    </tr>\n",
       "  </tbody>\n",
       "</table>\n",
       "</div>"
      ],
      "text/plain": [
       "           id  \\\n",
       "329    14-248   \n",
       "11593  16-718   \n",
       "\n",
       "                                                                                                       title  \\\n",
       "329    Albuquerque Man Charged with Federal Hate Crime Related to Anti-Semitic Threats Against Businesswoman   \n",
       "11593                       Three Mississippi Correctional Officers Indicted for Inmate Assault and Cover-Up   \n",
       "\n",
       "                                                                                                                                                                                                                                                                                                                                                                                                                                                                                                                                                                                                                                                                                                                                                                                                                                                                                                                                                                                                                                                                                                                                                                                                                                                                                                                                                                                                                                                                                                                                                                                                                                                                                                                                                                                               contents  \\\n",
       "329                                                                                                                                                                                                                                                                                                                                                                                                                                                                         The Department of Justice announced that this morning John W. Ng, 58, of Albuquerque, N.M., made his initial appearance in federal court on a criminal complaint charging him with a hate crime offense.  This charge is related to anti-Semitic threats Ng made against a Jewish woman who owns and operates the Nosh Jewish Delicatessen and Bakery in Albuquerque. Ng was arrested by the FBI on March 7, 2014, based on a criminal complaint alleging that he interfered with the victim’s federally protected rights by threatening her and interfering with her business because of her religion.  According to the criminal complaint, between Jan. 22, 2014, and Feb. 8, 2014, Ng allegedly posted threatening anti-Semitic notes on and in the vicinity of the victim’s business. A criminal complaint merely establishes probable cause, and Ng is presumed innocent unless proven guilty.  If convicted on the offense charged in the criminal complaint, Ng faces a maximum statutory penalty of one year in prison. This matter was investigated by the Albuquerque Division of the FBI and is being prosecuted by Assistant U.S. Attorney Mark T. Baker of the U.S. Attorney’s Office for the District of New Mexico and Trial Attorney AeJean Cha of the U.S. Department of Justice’s Civil Rights Division.   \n",
       "11593  In a nine-count indictment unsealed today, two Mississippi correctional officers were charged with beating an inmate and a third was charged with helping to cover it up.  The indictment charged Lawardrick Marsher, 28, and Robert Sturdivant, 47, officers at Mississippi State Penitentiary, in Parchman, Mississippi, with a beating that included kicking, punching and throwing the victim to the ground.  Marsher and Sturdivant were charged with violating the right of K.H., a convicted prisoner, to be free from cruel and unusual punishment.  Sturdivant was also charged with failing to intervene while Marsher was punching and beating K.H.  The indictment alleges that their actions involved the use of a dangerous weapon and resulted in bodily injury to the victim. A third officer, Deonte Pate, 23, was charged along with Marsher and Sturdivant for conspiring to cover up the beating.  The indictment alleges that all three officers submitted false reports and that all three lied to the FBI. If convicted, Marsher and Sturdivant face a maximum sentence of 10 years in prison on the excessive force charges.  Each of the three officers faces up to five years in prison on the conspiracy and false statement charges, and up to 20 years in prison on the false report charges. An indictment is merely an accusation, and the defendants are presumed innocent unless and until proven guilty. This case is being investigated by the FBI’s Jackson Division, with the cooperation of the Mississippi Department of Corrections.  It is being prosecuted by Assistant U.S. Attorney Robert Coleman of the Northern District of Mississippi and Trial Attorney Dana Mulhauser of the Civil Rights Division’s Criminal Section.     Marsher Indictment   \n",
       "\n",
       "                            date  topics_clean  \\\n",
       "329    2014-03-10T00:00:00-04:00   Hate Crimes   \n",
       "11593  2016-06-21T00:00:00-04:00  Civil Rights   \n",
       "\n",
       "                                                                           components_clean  \\\n",
       "329                                  Civil Rights Division; Civil Rights - Criminal Section   \n",
       "11593  Civil Rights Division; Civil Rights - Criminal Section; USAO - Mississippi, Northern   \n",
       "\n",
       "       sentiment_neg  sentiment_neu  sentiment_pos  sentiment_compound  \n",
       "329            0.290          0.675          0.035             -0.9950  \n",
       "11593          0.282          0.687          0.030             -0.9968  "
      ]
     },
     "execution_count": 375,
     "metadata": {},
     "output_type": "execute_result"
    }
   ],
   "source": [
    "## your code here\n",
    "doj_subset_wscore = doj_subset.copy()\n",
    "doj_subset_wscore[\"sentiment_neg\"] = [one_sent[0][\"neg\"] for one_sent in sentiments]\n",
    "doj_subset_wscore[\"sentiment_neu\"] = [one_sent[0][\"neu\"] for one_sent in sentiments]\n",
    "doj_subset_wscore[\"sentiment_pos\"] = [one_sent[0][\"pos\"] for one_sent in sentiments]\n",
    "doj_subset_wscore[\"sentiment_compound\"] = [one_sent[0][\"compound\"] for one_sent in sentiments]\n",
    "\n",
    "# Sort by negative sentiment\n",
    "doj_subset_wscore.sort_values(by = \"sentiment_neg\", ascending = False).head(2)"
   ]
  },
  {
   "cell_type": "markdown",
   "metadata": {},
   "source": [
    "D. With the dataframe from part C, find the mean compound sentiment score for each of the three topics in `topics_clean` using group_by and agg.\n",
    "\n",
    "E. Add a 1 sentence interpretation of why we might see the variation in scores (remember that compound is a standardized summary where -1 is most negative; +1 is most positive)\n"
   ]
  },
  {
   "cell_type": "code",
   "execution_count": 376,
   "metadata": {},
   "outputs": [
    {
     "data": {
      "text/plain": [
       "topics_clean\n",
       "Civil Rights             -0.049092\n",
       "Hate Crimes              -0.931611\n",
       "Project Safe Childhood   -0.620363\n",
       "Name: sentiment_compound, dtype: float64"
      ]
     },
     "execution_count": 376,
     "metadata": {},
     "output_type": "execute_result"
    },
    {
     "data": {
      "text/plain": [
       "'Hate crimes are more universally accepted to be negative than civil rights or project safe childhood, so that is likely why their compound sentiment scores are lower on average.'"
      ]
     },
     "execution_count": 376,
     "metadata": {},
     "output_type": "execute_result"
    }
   ],
   "source": [
    "## agg and find the mean compound score by topic\n",
    "doj_subset_wscore.groupby(\"topics_clean\")[\"sentiment_compound\"].mean()\n",
    "\"Hate crimes are more universally accepted to be negative than civil rights or project safe childhood, so that is likely why their compound sentiment scores are lower on average.\""
   ]
  },
  {
   "cell_type": "markdown",
   "metadata": {},
   "source": [
    "# 2. Topic modeling (25 points)\n",
    "\n",
    "For this question, use the `doj_subset_wscores` data that is restricted to civil rights, hate crimes, and project safe childhood and with the sentiment scores added\n"
   ]
  },
  {
   "cell_type": "markdown",
   "metadata": {},
   "source": [
    "## 2.1 Preprocess the data by removing stopwords, punctuation, and non-alpha words (5 points)\n",
    "\n",
    "A. Write a function that:\n",
    "\n",
    "- Takes in a single raw string in the `contents` column from that dataframe\n",
    "- Does the following preprocessing steps:\n",
    "\n",
    "    - Converts the words to lowercase\n",
    "    - Removes stopwords, adding the custom stopwords in your code cell below to the default stopwords list\n",
    "    - Only retains alpha words (so removes digits and punctuation)\n",
    "    - Only retains words 4 characters or longer\n",
    "    - Uses the snowball stemmer from nltk to stem\n",
    "\n",
    "- Returns a joined preprocessed string\n",
    "    \n",
    "B. Use `apply` or list comprehension to execute that function and create a new column in the data called `processed_text`\n",
    "    \n",
    "C. Print the `id`, `contents`, and `processed_text` columns for the following press releases:\n",
    "\n",
    "id = 16-718 (this case: https://www.seattletimes.com/nation-world/doj-miami-police-reach-settlement-in-civil-rights-case/)\n",
    "\n",
    "id = 16-217 (this case: https://www.wlbt.com/story/32275512/three-mississippi-correctional-officers-indicted-for-inmate-assault-and-cover-up/)\n",
    "    \n",
    "**Resources**:\n",
    "\n",
    "- Here's code examples for the snowball stemmer: https://www.geeksforgeeks.org/snowball-stemmer-nlp/\n",
    "- Here's code with topic modeling steps: https://github.com/jhaber-zz/QSS20_public/blob/main/activities/solutions/05_textasdata_partII_topicmodeling_solutions.ipynb"
   ]
  },
  {
   "cell_type": "code",
   "execution_count": 377,
   "metadata": {},
   "outputs": [
    {
     "name": "stdout",
     "output_type": "stream",
     "text": [
      "['i', 'me', 'my', 'myself', 'we', 'our', 'ours', 'ourselves', 'you', \"you're\", \"you've\", \"you'll\", \"you'd\", 'your', 'yours', 'yourself', 'yourselves', 'he', 'him', 'his', 'himself', 'she', \"she's\", 'her', 'hers', 'herself', 'it', \"it's\", 'its', 'itself', 'they', 'them', 'their', 'theirs', 'themselves', 'what', 'which', 'who', 'whom', 'this', 'that', \"that'll\", 'these', 'those', 'am', 'is', 'are', 'was', 'were', 'be', 'been', 'being', 'have', 'has', 'had', 'having', 'do', 'does', 'did', 'doing', 'a', 'an', 'the', 'and', 'but', 'if', 'or', 'because', 'as', 'until', 'while', 'of', 'at', 'by', 'for', 'with', 'about', 'against', 'between', 'into', 'through', 'during', 'before', 'after', 'above', 'below', 'to', 'from', 'up', 'down', 'in', 'out', 'on', 'off', 'over', 'under', 'again', 'further', 'then', 'once', 'here', 'there', 'when', 'where', 'why', 'how', 'all', 'any', 'both', 'each', 'few', 'more', 'most', 'other', 'some', 'such', 'no', 'nor', 'not', 'only', 'own', 'same', 'so', 'than', 'too', 'very', 's', 't', 'can', 'will', 'just', 'don', \"don't\", 'should', \"should've\", 'now', 'd', 'll', 'm', 'o', 're', 've', 'y', 'ain', 'aren', \"aren't\", 'couldn', \"couldn't\", 'didn', \"didn't\", 'doesn', \"doesn't\", 'hadn', \"hadn't\", 'hasn', \"hasn't\", 'haven', \"haven't\", 'isn', \"isn't\", 'ma', 'mightn', \"mightn't\", 'mustn', \"mustn't\", 'needn', \"needn't\", 'shan', \"shan't\", 'shouldn', \"shouldn't\", 'wasn', \"wasn't\", 'weren', \"weren't\", 'won', \"won't\", 'wouldn', \"wouldn't\", 'civil', 'rights', 'division', 'department', 'justice', 'office', 'attorney', 'district', 'case', 'investigation', 'assistant', 'trial', 'assistance', 'assist']\n"
     ]
    }
   ],
   "source": [
    "custom_doj_stopwords = [\"civil\", \"rights\", \"division\", \"department\", \"justice\",\n",
    "                        \"office\", \"attorney\", \"district\", \"case\", \"investigation\", \"assistant\",\n",
    "                       \"trial\", \"assistance\", \"assist\"]\n",
    "\n",
    "stop_words = stopwords.words('english') + custom_doj_stopwords\n",
    "print(stop_words)"
   ]
  },
  {
   "cell_type": "code",
   "execution_count": 378,
   "metadata": {},
   "outputs": [
    {
     "name": "stdout",
     "output_type": "stream",
     "text": [
      "former supervisori correct offic louisiana state penitentiari angola louisiana plead guilti yesterday connect beat handcuf shackl inmat addit conspir cover misconduct falsifi offici record lie intern investig happen jame savoy marksvill louisiana admit plea hear wit offic use excess forc inmat fail interven conspir offic cover beat engag varieti obstruct act person falsifi offici prison record cover attack scotti kennedi beeb arkansa john sander marksvill louisiana previous plead guilti novemb septemb role beat cover everi citizen right process protect unreason forc correct offic violat basic constitut must held account egregi action said act general john gore continu vigor prosecut correct offic violat public trust commit crime cover violat feder crimin yesterday anoth exampl offic unwav commit pursu violat feder crimin law said act unit state middl louisiana corey amundson continu work close depart ensur investig fbis baton roug resid agenc prosecut frederick menner middl louisiana christoph perra divis crimin section\n"
     ]
    }
   ],
   "source": [
    "## your code defining a text processing function\n",
    "def preprocessing(content):\n",
    "    \n",
    "    # lowercase\n",
    "    content = content.lower()\n",
    "    \n",
    "    # only keep letters\n",
    "    content = ''.join([char for char in content if char.isalpha() or char == \" \"])\n",
    "    \n",
    "    # remove stopwords\n",
    "    remove_stopwords_list = [word for word in content.split() if word not in stop_words]\n",
    "    content = ' '.join(remove_stopwords_list)\n",
    "    \n",
    "    # remove words that are 4 characters or longer\n",
    "    remove_longwords_list = [word for word in content.split() if len(word) >= 4]\n",
    "    content = ' '.join(remove_longwords_list)\n",
    "    \n",
    "    # Uses the snowball stemmer from nltk to stem\n",
    "    snow_stemmer = SnowballStemmer(language='english')\n",
    "    stemmerwords_list = [snow_stemmer.stem(word) for word in content.split()]\n",
    "    content = ' '.join(stemmerwords_list)\n",
    "    \n",
    "    return content\n",
    "    \n",
    "test_string = 'A former supervisory correctional officer at Louisiana State Penitentiary in Angola, Louisiana, pleaded guilty yesterday in connection with the beating of a handcuffed and shackled inmate, in addition to conspiring to cover up their misconduct by falsifying official records and lying to internal investigators about what happened.     James Savoy, 39, of Marksville, Louisiana, admitted during his plea hearing that he witnessed other officers using excessive force against the inmate and failed to intervene; that he conspired with other officers to cover up the beating by engaging in a variety of obstructive acts; and that he personally falsified official prison records to cover up the attack.   Scotty Kennedy, 48, of Beebe, Arkansas, and John Sanders, 30, of Marksville, Louisiana previously pleaded guilty in November 2016, and September 2017, for their roles in the beating and cover up.   “Every citizen has the right to due process and protection from unreasonable force, and correctional officers who violate these basic Constitutional rights must be held accountable for their egregious actions” said Acting Assistant Attorney General John Gore of the Civil Rights Division.  “The Justice Department will continue to vigorously prosecute correctional officers who violate the public’s trust by committing crimes and to covering up violations of federal criminal law.”   “Yesterday is another example of our office’s unwavering commitment to pursuing those who violate the federal criminal civil rights laws,” said Acting United States Attorney for the Middle District of Louisiana Corey Amundson. “We will continue to work closely with the Justice Department’s Civil Rights Division and the FBI to ensure that no one is above the law.”     This case is being investigated by the FBI’s Baton Rouge Resident Agency and is being prosecuted by Assistant U.S. Attorney Frederick A. Menner, Jr. of the Middle District of Louisiana and Trial Attorney Christopher J. Perras of the Civil Rights Division’s Criminal Section.'\n",
    "print(preprocessing(test_string))"
   ]
  },
  {
   "cell_type": "code",
   "execution_count": 379,
   "metadata": {},
   "outputs": [],
   "source": [
    "## your code executing the function\n",
    "doj_subset_wscore['processed_contents'] = doj_subset_wscore['contents'].apply(preprocessing)"
   ]
  },
  {
   "cell_type": "code",
   "execution_count": 380,
   "metadata": {},
   "outputs": [
    {
     "data": {
      "text/html": [
       "<div>\n",
       "<style scoped>\n",
       "    .dataframe tbody tr th:only-of-type {\n",
       "        vertical-align: middle;\n",
       "    }\n",
       "\n",
       "    .dataframe tbody tr th {\n",
       "        vertical-align: top;\n",
       "    }\n",
       "\n",
       "    .dataframe thead th {\n",
       "        text-align: right;\n",
       "    }\n",
       "</style>\n",
       "<table border=\"1\" class=\"dataframe\">\n",
       "  <thead>\n",
       "    <tr style=\"text-align: right;\">\n",
       "      <th></th>\n",
       "      <th>id</th>\n",
       "      <th>contents</th>\n",
       "      <th>processed_contents</th>\n",
       "    </tr>\n",
       "  </thead>\n",
       "  <tbody>\n",
       "    <tr>\n",
       "      <th>6727</th>\n",
       "      <td>16-217</td>\n",
       "      <td>The Justice Department has reached a comprehensive settlement agreement with the city of Miami and the Miami Police Department (MPD) resolving the Justice Department’s investigation of officer-involved shootings by MPD officers, announced Principal Deputy Assistant Attorney General Vanita Gupta, head of the Justice Department’s Civil Rights Division and U.S. Attorney Wifredo A. Ferrer of the Southern District of Florida. The settlement, which was approved by Miami’s city commission today and will go into effect when the agreement is signed by all parties, resolves claims stemming from the Justice Department’s investigation into officer-involved shootings by MPD officers, which was conducted under the Violent Crime Control and Law Enforcement Act of 1994.  The investigation’s findings, issued in July 2013, identified a pattern or practice of excessive use of force through officer-involved shootings in violation of the Fourth Amendment of the Constitution.  The city’s compliance with the settlement will be monitored by an independent reviewer, former Tampa, Florida, Police Chief Jane Castor.  Under the settlement agreement, the city will implement comprehensive reforms to ensure constitutional policing and support public trust.  The settlement agreement is designed to minimize officer-involved shootings and to more effectively and quickly investigate officer-involved shootings that do occur, through measures that include: “This settlement represents a renewed commitment by the city of Miami and Chief Rodolfo Llanes to provide constitutional policing for Miami residents and to protect public safety through sustainable reform,” said Principal Deputy Assistant Attorney General Gupta.  “The agreement will help to strengthen the relationship between the MPD and the communities they serve by improving accountability for officers who fire their weapons unlawfully, and provides for community participation in the enforcement of this agreement.”  “Today's agreement is the result of a joint effort between the Department of Justice and the City of Miami to ensure that the Miami Police Department continues its efforts to make our community safe while protecting the sacred Constitutional rights of all of our citizens,” said U.S. Attorney Ferrer.  “Through oversight and communication, the agreement seeks to make permanent the positive changes that former Chief Orosa and Chief Llanes have made, and we applaud the City Commission’s vote.” The settlement agreement builds upon important reforms implemented by the city since the Justice Department issued its findings, including:  The investigation was conducted by attorneys and staff from the Civil Rights Division’s Special Litigation Section and the Civil Division of the U. S. Attorney’s Office of the Southern District of Florida.</td>\n",
       "      <td>reach comprehens settlement agreement citi miami miami polic resolv depart officerinvolv shoot offic announc princip deputi general vanita gupta head depart wifredo ferrer southern florida settlement approv miami citi commiss today effect agreement sign parti resolv claim stem depart officerinvolv shoot offic conduct violent crime control enforc investig find issu juli identifi pattern practic excess forc officerinvolv shoot violat fourth amend constitut citi complianc settlement monitor independ review former tampa florida polic chief jane castor settlement agreement citi implement comprehens reform ensur constitut polic support public trustth settlement agreement design minim officerinvolv shoot effect quick investig officerinvolv shoot occur measur includ settlement repres renew commit citi miami chief rodolfo llane provid constitut polic miami resid protect public safeti sustain reform said princip deputi general gupta agreement help strengthen relationship communiti serv improv account offic fire weapon unlaw provid communiti particip enforc agreement today agreement result joint effort citi miami ensur miami polic continu effort make communiti safe protect sacr constitut citizen said ferrer oversight communic agreement seek make perman posit chang former chief orosa chief llane made applaud citi commiss vote settlement agreement build upon import reform implement citi sinc issu find includ conduct attorney staff divis special litig section attorney southern florida</td>\n",
       "    </tr>\n",
       "    <tr>\n",
       "      <th>11593</th>\n",
       "      <td>16-718</td>\n",
       "      <td>In a nine-count indictment unsealed today, two Mississippi correctional officers were charged with beating an inmate and a third was charged with helping to cover it up.  The indictment charged Lawardrick Marsher, 28, and Robert Sturdivant, 47, officers at Mississippi State Penitentiary, in Parchman, Mississippi, with a beating that included kicking, punching and throwing the victim to the ground.  Marsher and Sturdivant were charged with violating the right of K.H., a convicted prisoner, to be free from cruel and unusual punishment.  Sturdivant was also charged with failing to intervene while Marsher was punching and beating K.H.  The indictment alleges that their actions involved the use of a dangerous weapon and resulted in bodily injury to the victim. A third officer, Deonte Pate, 23, was charged along with Marsher and Sturdivant for conspiring to cover up the beating.  The indictment alleges that all three officers submitted false reports and that all three lied to the FBI. If convicted, Marsher and Sturdivant face a maximum sentence of 10 years in prison on the excessive force charges.  Each of the three officers faces up to five years in prison on the conspiracy and false statement charges, and up to 20 years in prison on the false report charges. An indictment is merely an accusation, and the defendants are presumed innocent unless and until proven guilty. This case is being investigated by the FBI’s Jackson Division, with the cooperation of the Mississippi Department of Corrections.  It is being prosecuted by Assistant U.S. Attorney Robert Coleman of the Northern District of Mississippi and Trial Attorney Dana Mulhauser of the Civil Rights Division’s Criminal Section.     Marsher Indictment</td>\n",
       "      <td>ninecount indict unseal today mississippi correct offic charg beat inmat third charg help cover indict charg lawardrick marsher robert sturdiv offic mississippi state penitentiari parchman mississippi beat includ kick punch throw victim ground marsher sturdiv charg violat right convict prison free cruel unusu punish sturdiv also charg fail interven marsher punch beat indict alleg action involv danger weapon result bodili injuri victim third offic deont pate charg along marsher sturdiv conspir cover beat indict alleg three offic submit fals report three lie convict marsher sturdiv face maximum sentenc year prison excess forc charg three offic face five year prison conspiraci fals statement charg year prison fals report charg indict mere accus defend presum innoc unless proven guilti investig fbis jackson cooper mississippi correct prosecut robert coleman northern mississippi dana mulhaus divis crimin section marsher indict</td>\n",
       "    </tr>\n",
       "  </tbody>\n",
       "</table>\n",
       "</div>"
      ],
      "text/plain": [
       "           id  \\\n",
       "6727   16-217   \n",
       "11593  16-718   \n",
       "\n",
       "                                                                                                                                                                                                                                                                                                                                                                                                                                                                                                                                                                                                                                                                                                                                                                                                                                                                                                                                                                                                                                                                                                                                                                                                                                                                                                                                                                                                                                                                                                                                                                                                                                                                                                                                                                                                                                                                                                                                                                                                                                                                                                                                                                                                                                                                                                                                                                                                                                                                                                                                                                                                                                                                                                                                                                                                                                                                                                                         contents  \\\n",
       "6727   The Justice Department has reached a comprehensive settlement agreement with the city of Miami and the Miami Police Department (MPD) resolving the Justice Department’s investigation of officer-involved shootings by MPD officers, announced Principal Deputy Assistant Attorney General Vanita Gupta, head of the Justice Department’s Civil Rights Division and U.S. Attorney Wifredo A. Ferrer of the Southern District of Florida. The settlement, which was approved by Miami’s city commission today and will go into effect when the agreement is signed by all parties, resolves claims stemming from the Justice Department’s investigation into officer-involved shootings by MPD officers, which was conducted under the Violent Crime Control and Law Enforcement Act of 1994.  The investigation’s findings, issued in July 2013, identified a pattern or practice of excessive use of force through officer-involved shootings in violation of the Fourth Amendment of the Constitution.  The city’s compliance with the settlement will be monitored by an independent reviewer, former Tampa, Florida, Police Chief Jane Castor.  Under the settlement agreement, the city will implement comprehensive reforms to ensure constitutional policing and support public trust.  The settlement agreement is designed to minimize officer-involved shootings and to more effectively and quickly investigate officer-involved shootings that do occur, through measures that include: “This settlement represents a renewed commitment by the city of Miami and Chief Rodolfo Llanes to provide constitutional policing for Miami residents and to protect public safety through sustainable reform,” said Principal Deputy Assistant Attorney General Gupta.  “The agreement will help to strengthen the relationship between the MPD and the communities they serve by improving accountability for officers who fire their weapons unlawfully, and provides for community participation in the enforcement of this agreement.”  “Today's agreement is the result of a joint effort between the Department of Justice and the City of Miami to ensure that the Miami Police Department continues its efforts to make our community safe while protecting the sacred Constitutional rights of all of our citizens,” said U.S. Attorney Ferrer.  “Through oversight and communication, the agreement seeks to make permanent the positive changes that former Chief Orosa and Chief Llanes have made, and we applaud the City Commission’s vote.” The settlement agreement builds upon important reforms implemented by the city since the Justice Department issued its findings, including:  The investigation was conducted by attorneys and staff from the Civil Rights Division’s Special Litigation Section and the Civil Division of the U. S. Attorney’s Office of the Southern District of Florida.   \n",
       "11593                                                                                                                                                                                                                                                                                                                                                                                                                                                                                                                                                                                                                                                                                                                                                                                                                                                                                                                                                                                                                                                                                                                            In a nine-count indictment unsealed today, two Mississippi correctional officers were charged with beating an inmate and a third was charged with helping to cover it up.  The indictment charged Lawardrick Marsher, 28, and Robert Sturdivant, 47, officers at Mississippi State Penitentiary, in Parchman, Mississippi, with a beating that included kicking, punching and throwing the victim to the ground.  Marsher and Sturdivant were charged with violating the right of K.H., a convicted prisoner, to be free from cruel and unusual punishment.  Sturdivant was also charged with failing to intervene while Marsher was punching and beating K.H.  The indictment alleges that their actions involved the use of a dangerous weapon and resulted in bodily injury to the victim. A third officer, Deonte Pate, 23, was charged along with Marsher and Sturdivant for conspiring to cover up the beating.  The indictment alleges that all three officers submitted false reports and that all three lied to the FBI. If convicted, Marsher and Sturdivant face a maximum sentence of 10 years in prison on the excessive force charges.  Each of the three officers faces up to five years in prison on the conspiracy and false statement charges, and up to 20 years in prison on the false report charges. An indictment is merely an accusation, and the defendants are presumed innocent unless and until proven guilty. This case is being investigated by the FBI’s Jackson Division, with the cooperation of the Mississippi Department of Corrections.  It is being prosecuted by Assistant U.S. Attorney Robert Coleman of the Northern District of Mississippi and Trial Attorney Dana Mulhauser of the Civil Rights Division’s Criminal Section.     Marsher Indictment   \n",
       "\n",
       "                                                                                                                                                                                                                                                                                                                                                                                                                                                                                                                                                                                                                                                                                                                                                                                                                                                                                                                                                                                                                                                                                                                                                                                                                                                                                                                                                                                                                                                                                                                                            processed_contents  \n",
       "6727   reach comprehens settlement agreement citi miami miami polic resolv depart officerinvolv shoot offic announc princip deputi general vanita gupta head depart wifredo ferrer southern florida settlement approv miami citi commiss today effect agreement sign parti resolv claim stem depart officerinvolv shoot offic conduct violent crime control enforc investig find issu juli identifi pattern practic excess forc officerinvolv shoot violat fourth amend constitut citi complianc settlement monitor independ review former tampa florida polic chief jane castor settlement agreement citi implement comprehens reform ensur constitut polic support public trustth settlement agreement design minim officerinvolv shoot effect quick investig officerinvolv shoot occur measur includ settlement repres renew commit citi miami chief rodolfo llane provid constitut polic miami resid protect public safeti sustain reform said princip deputi general gupta agreement help strengthen relationship communiti serv improv account offic fire weapon unlaw provid communiti particip enforc agreement today agreement result joint effort citi miami ensur miami polic continu effort make communiti safe protect sacr constitut citizen said ferrer oversight communic agreement seek make perman posit chang former chief orosa chief llane made applaud citi commiss vote settlement agreement build upon import reform implement citi sinc issu find includ conduct attorney staff divis special litig section attorney southern florida  \n",
       "11593                                                                                                                                                                                                                                                                                                                                                                                                                                                                                                                                                                                  ninecount indict unseal today mississippi correct offic charg beat inmat third charg help cover indict charg lawardrick marsher robert sturdiv offic mississippi state penitentiari parchman mississippi beat includ kick punch throw victim ground marsher sturdiv charg violat right convict prison free cruel unusu punish sturdiv also charg fail interven marsher punch beat indict alleg action involv danger weapon result bodili injuri victim third offic deont pate charg along marsher sturdiv conspir cover beat indict alleg three offic submit fals report three lie convict marsher sturdiv face maximum sentenc year prison excess forc charg three offic face five year prison conspiraci fals statement charg year prison fals report charg indict mere accus defend presum innoc unless proven guilti investig fbis jackson cooper mississippi correct prosecut robert coleman northern mississippi dana mulhaus divis crimin section marsher indict  "
      ]
     },
     "execution_count": 380,
     "metadata": {},
     "output_type": "execute_result"
    }
   ],
   "source": [
    "## your code showing the examples\n",
    "doj_subset_wscore.loc[(doj_subset_wscore['id'] == '16-718') | (doj_subset_wscore['id'] == '16-217'), ['id', 'contents', 'processed_contents']]"
   ]
  },
  {
   "cell_type": "markdown",
   "metadata": {},
   "source": [
    "## 2.2 Create a document-term matrix from the preprocessed press releases and to explore top words (5 points)\n",
    "\n",
    "A. Use the `create_dtm` function I provide (alternately, feel free to write your own!) and create a document-term matrix using the preprocessed press releases; make sure metadata contains the following columns: `id`, `compound` sentiment column you added, and the `topics_clean` column\n",
    "\n",
    "B. Print the top 10 words for press releases with compound sentiment in the top 5% (so the most positive sentiment)\n",
    "\n",
    "C. Print the top 10 words for press releases with compound sentiment in the bottom 5% (so the most negative sentiment)\n",
    "\n",
    "**Hint**: for these, remember the pandas quantile function from pset one.  \n",
    "\n",
    "D. Print the top 10 words for press releases in each of the three `topics_clean`\n",
    "\n",
    "For steps B - D, to receive full credit, write a function `get_topwords` that helps you avoid duplicated code when you find top words for the different subsets of the data. There are different ways to structure it but one way is to feed it subsetted data (so data subsetted to one topic etc.) and for it to get the top words for that subset.\n",
    "\n",
    "**Resources**:\n",
    "\n",
    "- Here contains an example of applying the `create_dtm` function: https://github.com/jhaber-zz/QSS20_public/blob/main/activities/solutions/05_textasdata_partII_topicmodeling_solutions.ipynb\n"
   ]
  },
  {
   "cell_type": "code",
   "execution_count": 381,
   "metadata": {},
   "outputs": [],
   "source": [
    "def create_dtm(list_of_strings, metadata):\n",
    "    vectorizer = CountVectorizer(lowercase = True)\n",
    "    dtm_sparse = vectorizer.fit_transform(list_of_strings)\n",
    "    dtm_dense_named = pd.DataFrame(dtm_sparse.todense(), columns=vectorizer.get_feature_names_out())\n",
    "    dtm_dense_named_withid = pd.concat([metadata.reset_index(), dtm_dense_named], axis = 1)\n",
    "    return(dtm_dense_named_withid)"
   ]
  },
  {
   "cell_type": "code",
   "execution_count": 382,
   "metadata": {},
   "outputs": [
    {
     "data": {
      "text/plain": [
       "agreement     168\n",
       "enforc        131\n",
       "ensur         110\n",
       "state         110\n",
       "disabl        110\n",
       "depart         99\n",
       "communiti      94\n",
       "settlement     87\n",
       "student        85\n",
       "general        85\n",
       "dtype: int64"
      ]
     },
     "execution_count": 382,
     "metadata": {},
     "output_type": "execute_result"
    },
    {
     "data": {
      "text/plain": [
       "assault     201\n",
       "crime       180\n",
       "victim      160\n",
       "hate        136\n",
       "defend      130\n",
       "offic       121\n",
       "charg       105\n",
       "sentenc     102\n",
       "anderson     94\n",
       "guilti       92\n",
       "dtype: int64"
      ]
     },
     "execution_count": 382,
     "metadata": {},
     "output_type": "execute_result"
    },
    {
     "data": {
      "text/plain": [
       "offic        636\n",
       "hous         626\n",
       "discrimin    547\n",
       "enforc       533\n",
       "disabl       519\n",
       "depart       495\n",
       "said         495\n",
       "violat       476\n",
       "feder        475\n",
       "state        446\n",
       "dtype: int64"
      ]
     },
     "execution_count": 382,
     "metadata": {},
     "output_type": "execute_result"
    },
    {
     "data": {
      "text/plain": [
       "victim      588\n",
       "crime       546\n",
       "hate        485\n",
       "prosecut    478\n",
       "defend      457\n",
       "sentenc     455\n",
       "charg       448\n",
       "guilti      429\n",
       "feder       424\n",
       "said        418\n",
       "dtype: int64"
      ]
     },
     "execution_count": 382,
     "metadata": {},
     "output_type": "execute_result"
    },
    {
     "data": {
      "text/plain": [
       "child          1018\n",
       "exploit         699\n",
       "sexual          570\n",
       "safe            476\n",
       "project         472\n",
       "childhood       472\n",
       "pornographi     443\n",
       "children        417\n",
       "crimin          403\n",
       "prosecut        373\n",
       "dtype: int64"
      ]
     },
     "execution_count": 382,
     "metadata": {},
     "output_type": "execute_result"
    }
   ],
   "source": [
    "# your code here\n",
    "dtm = create_dtm(list_of_strings = doj_subset_wscore[\"processed_contents\"], metadata = doj_subset_wscore[['id', 'sentiment_compound', 'topics_clean']])\n",
    "\n",
    "def get_topwords(dtm):\n",
    "    top_terms = dtm[dtm.columns[4:]].sum(axis = 0)\n",
    "    \n",
    "    return top_terms.sort_values(ascending=False).head(10)\n",
    "\n",
    "# Print the top 10 words for press releases with compound sentiment in the top 5% (so the most positive sentiment)\n",
    "threshold_1 = dtm['sentiment_compound'].quantile(0.95)\n",
    "top_5_percent = dtm[dtm['sentiment_compound'] >= threshold_1]\n",
    "get_topwords(top_5_percent)\n",
    "\n",
    "# Print the top 10 words for press releases with compound sentiment in the bottom 5% (so the most negative sentiment)\n",
    "threshold_2 = dtm['sentiment_compound'].quantile(0.05)\n",
    "bottom_5_percent = dtm[dtm['sentiment_compound'] <= threshold_2]\n",
    "get_topwords(bottom_5_percent)\n",
    "\n",
    "# Print the top 10 words for press releases in each of the three `topics_clean`\n",
    "civil_rights = dtm[dtm['topics_clean'] == 'Civil Rights']\n",
    "get_topwords(civil_rights)\n",
    "\n",
    "hate_crimes = dtm[dtm['topics_clean'] == 'Hate Crimes']\n",
    "get_topwords(hate_crimes)\n",
    "\n",
    "safe_childhood = dtm[dtm['topics_clean'] == 'Project Safe Childhood']\n",
    "get_topwords(safe_childhood)"
   ]
  },
  {
   "cell_type": "markdown",
   "metadata": {},
   "source": [
    "## 2.3 Estimate a topic model using those preprocessed words (5 points)\n",
    "\n",
    "A. Going back to the preprocessed words from part 2.3.1, estimate a topic model with 3 topics, since you want to see if the unsupervised topic models recover different themes for each of the three manually-labeled areas (civil rights; hate crimes; project safe childhood). You have free rein over the other topic model parameters beyond the number of topics.\n",
    "\n",
    "B. After estimating the topic model, print the top 15 words in each topic.\n",
    "\n",
    "**Hints and Resources**:\n",
    "\n",
    "- Same topic modeling resources linked to above\n",
    "- Make sure to use the `random_state` argument within the model so that the numbering of topics does not move around between runs of your code"
   ]
  },
  {
   "cell_type": "code",
   "execution_count": 383,
   "metadata": {},
   "outputs": [],
   "source": [
    "# A. \n",
    "# create tokenized list of words\n",
    "doj_subset_wscore = doj_subset_wscore[doj_subset_wscore[\"processed_contents\"] != \"\"].copy()\n",
    "\n",
    "text_tokens = [wordpunct_tokenize(one_text) for one_text in doj_subset_wscore[\"processed_contents\"]]\n",
    "\n",
    "# create dictionary\n",
    "text_dict = corpora.Dictionary(text_tokens)\n",
    "\n",
    "# filter dictionary- using 2% as bounds\n",
    "text_dict.filter_extremes(no_below = round(doj_subset_wscore.shape[0]*0.02),\n",
    "                             no_above = round(doj_subset_wscore.shape[0]*0.98))\n",
    "\n",
    "# create corpus from dictionary\n",
    "corpus_fromdict = [text_dict.doc2bow(one_text) \n",
    "                       for one_text in text_tokens]\n",
    "\n",
    "# estimate model\n",
    "n_topics = 3\n",
    "ldamod_proc = gensim.models.ldamodel.LdaModel(corpus_fromdict, \n",
    "                                              num_topics = n_topics, \n",
    "                                              id2word=text_dict, \n",
    "                                              passes=6, alpha = 'auto',\n",
    "                                              per_word_topics = True, \n",
    "                                              random_state = 91988)"
   ]
  },
  {
   "cell_type": "code",
   "execution_count": 384,
   "metadata": {},
   "outputs": [
    {
     "name": "stdout",
     "output_type": "stream",
     "text": [
      "(0, '0.028*\"child\" + 0.019*\"exploit\" + 0.019*\"sexual\" + 0.013*\"safe\" + 0.013*\"children\" + 0.013*\"project\" + 0.013*\"childhood\" + 0.012*\"pornographi\" + 0.011*\"crimin\" + 0.011*\"victim\" + 0.010*\"prosecut\" + 0.010*\"sentenc\" + 0.009*\"hous\" + 0.008*\"minor\" + 0.008*\"ceo\"')\n",
      "(1, '0.013*\"victim\" + 0.012*\"charg\" + 0.012*\"sentenc\" + 0.012*\"prosecut\" + 0.011*\"crime\" + 0.011*\"guilti\" + 0.011*\"defend\" + 0.010*\"feder\" + 0.010*\"said\" + 0.009*\"hate\" + 0.009*\"indict\" + 0.008*\"prison\" + 0.008*\"year\" + 0.008*\"investig\" + 0.008*\"assault\"')\n",
      "(2, '0.011*\"disabl\" + 0.011*\"discrimin\" + 0.010*\"enforc\" + 0.010*\"depart\" + 0.009*\"offic\" + 0.009*\"agreement\" + 0.008*\"state\" + 0.008*\"said\" + 0.007*\"hous\" + 0.007*\"violat\" + 0.007*\"court\" + 0.007*\"feder\" + 0.007*\"requir\" + 0.007*\"general\" + 0.007*\"alleg\"')\n"
     ]
    }
   ],
   "source": [
    "# B.\n",
    "# print topics and words\n",
    "topics = ldamod_proc.print_topics(num_words = 15)\n",
    "for topic in topics:\n",
    "    print(topic)"
   ]
  },
  {
   "cell_type": "markdown",
   "metadata": {},
   "source": [
    "## 2.4 Add topics back to main data and explore correlation between manual labels and our estimated topics (10 points)\n",
    "\n",
    "A. Extract the document-level topic probabilities. Within `get_document_topics`, use the argument `minimum_probability` = 0 to make sure all 3 topic probabilities are returned. Write an assert statement to make sure the length of the list is equal to the number of rows in the `doj_subset_wscores` dataframe\n",
    "\n",
    "B. Add the topic probabilities to the `doj_subset_wscores` dataframe as columns and create a column, `top_topic`, that reflects each document to its highest-probability topic (eg topic 1, 2, or 3)\n",
    "\n",
    "C. For each of the manual labels in `topics_clean` (Hate Crime, Civil Rights, Project Safe Childhood), print the breakdown of the % of documents with each top topic (so, for instance, Hate Crime has 246 documents-- if 123 of those documents are coded to topic_1, that would be 50%; and so on). **Hint**: pd.crosstab and normalize may be helpful: https://pandas.pydata.org/pandas-docs/version/0.23/generated/pandas.crosstab.html\n",
    "\n",
    "D. Using a couple press releases as examples, write a 1-2 sentence interpretation of why some of the manual topics map on more cleanly to an estimated topic than other manual topic(s)\n",
    "\n",
    "**Resources**:\n",
    "\n",
    "- End of this code (`Additional summaries of topics and documents`) contains example of how to use `get_document_topics` and other steps to add topic probabilities back to data: https://github.com/jhaber-zz/QSS20_public/blob/main/activities/solutions/05_textasdata_partII_topicmodeling_solutions.ipynb\n",
    "- If you're getting errors, use `shape`, `len`, and other commands to check the dimensionality of things at different steps "
   ]
  },
  {
   "cell_type": "code",
   "execution_count": 385,
   "metadata": {},
   "outputs": [
    {
     "name": "stdout",
     "output_type": "stream",
     "text": [
      "It is True that the length of topic_probs_bydoc equals the length of doj_subset_wscre\n"
     ]
    }
   ],
   "source": [
    "## your code here to get doc-level topic probabilities \n",
    "\n",
    "# extract probabilities\n",
    "topic_probs_bydoc = [ldamod_proc.get_document_topics(item, minimum_probability=0) for item in corpus_fromdict]\n",
    "# print(topic_probs_bydoc)\n",
    "\n",
    "# make sure length of the list is equal to the number of rows in the doj_subset_wscores dataframe\n",
    "print('It is', len(topic_probs_bydoc) == len(doj_subset_wscore), 'that the length of topic_probs_bydoc equals the length of doj_subset_wscre')"
   ]
  },
  {
   "cell_type": "code",
   "execution_count": 386,
   "metadata": {},
   "outputs": [
    {
     "data": {
      "text/plain": [
       "10410    1\n",
       "11928    1\n",
       "174      1\n",
       "12566    2\n",
       "6468     2\n",
       "5820     1\n",
       "1514     1\n",
       "7061     2\n",
       "6685     2\n",
       "4124     1\n",
       "11250    1\n",
       "1045     1\n",
       "11539    1\n",
       "9650     0\n",
       "6722     2\n",
       "11740    1\n",
       "4816     0\n",
       "11340    1\n",
       "8075     0\n",
       "1190     0\n",
       "Name: top_topic, dtype: int64"
      ]
     },
     "execution_count": 386,
     "metadata": {},
     "output_type": "execute_result"
    }
   ],
   "source": [
    "## your code here to add those topic probabilities to the dataframe\n",
    "def highestValue(list):\n",
    "    return sorted(list, key=lambda x: x[1], reverse=True)[0][0]\n",
    "\n",
    "doj_subset_wscore['top_topic'] = [highestValue(probability_set) for probability_set in topic_probs_bydoc]\n",
    "doj_subset_wscore['top_topic'].sample(20)"
   ]
  },
  {
   "cell_type": "code",
   "execution_count": 387,
   "metadata": {},
   "outputs": [
    {
     "data": {
      "text/html": [
       "<div>\n",
       "<style scoped>\n",
       "    .dataframe tbody tr th:only-of-type {\n",
       "        vertical-align: middle;\n",
       "    }\n",
       "\n",
       "    .dataframe tbody tr th {\n",
       "        vertical-align: top;\n",
       "    }\n",
       "\n",
       "    .dataframe thead th {\n",
       "        text-align: right;\n",
       "    }\n",
       "</style>\n",
       "<table border=\"1\" class=\"dataframe\">\n",
       "  <thead>\n",
       "    <tr style=\"text-align: right;\">\n",
       "      <th>top_topic</th>\n",
       "      <th>0</th>\n",
       "      <th>1</th>\n",
       "      <th>2</th>\n",
       "    </tr>\n",
       "    <tr>\n",
       "      <th>topics_clean</th>\n",
       "      <th></th>\n",
       "      <th></th>\n",
       "      <th></th>\n",
       "    </tr>\n",
       "  </thead>\n",
       "  <tbody>\n",
       "    <tr>\n",
       "      <th>Civil Rights</th>\n",
       "      <td>3</td>\n",
       "      <td>102</td>\n",
       "      <td>200</td>\n",
       "    </tr>\n",
       "    <tr>\n",
       "      <th>Hate Crimes</th>\n",
       "      <td>0</td>\n",
       "      <td>246</td>\n",
       "      <td>0</td>\n",
       "    </tr>\n",
       "    <tr>\n",
       "      <th>Project Safe Childhood</th>\n",
       "      <td>165</td>\n",
       "      <td>0</td>\n",
       "      <td>1</td>\n",
       "    </tr>\n",
       "  </tbody>\n",
       "</table>\n",
       "</div>"
      ],
      "text/plain": [
       "top_topic                 0    1    2\n",
       "topics_clean                         \n",
       "Civil Rights              3  102  200\n",
       "Hate Crimes               0  246    0\n",
       "Project Safe Childhood  165    0    1"
      ]
     },
     "execution_count": 387,
     "metadata": {},
     "output_type": "execute_result"
    },
    {
     "data": {
      "text/html": [
       "<div>\n",
       "<style scoped>\n",
       "    .dataframe tbody tr th:only-of-type {\n",
       "        vertical-align: middle;\n",
       "    }\n",
       "\n",
       "    .dataframe tbody tr th {\n",
       "        vertical-align: top;\n",
       "    }\n",
       "\n",
       "    .dataframe thead th {\n",
       "        text-align: right;\n",
       "    }\n",
       "</style>\n",
       "<table border=\"1\" class=\"dataframe\">\n",
       "  <thead>\n",
       "    <tr style=\"text-align: right;\">\n",
       "      <th>top_topic</th>\n",
       "      <th>0</th>\n",
       "      <th>1</th>\n",
       "      <th>2</th>\n",
       "    </tr>\n",
       "    <tr>\n",
       "      <th>topics_clean</th>\n",
       "      <th></th>\n",
       "      <th></th>\n",
       "      <th></th>\n",
       "    </tr>\n",
       "  </thead>\n",
       "  <tbody>\n",
       "    <tr>\n",
       "      <th>Civil Rights</th>\n",
       "      <td>0.009836</td>\n",
       "      <td>0.334426</td>\n",
       "      <td>0.655738</td>\n",
       "    </tr>\n",
       "    <tr>\n",
       "      <th>Hate Crimes</th>\n",
       "      <td>0.000000</td>\n",
       "      <td>1.000000</td>\n",
       "      <td>0.000000</td>\n",
       "    </tr>\n",
       "    <tr>\n",
       "      <th>Project Safe Childhood</th>\n",
       "      <td>0.993976</td>\n",
       "      <td>0.000000</td>\n",
       "      <td>0.006024</td>\n",
       "    </tr>\n",
       "  </tbody>\n",
       "</table>\n",
       "</div>"
      ],
      "text/plain": [
       "top_topic                      0         1         2\n",
       "topics_clean                                        \n",
       "Civil Rights            0.009836  0.334426  0.655738\n",
       "Hate Crimes             0.000000  1.000000  0.000000\n",
       "Project Safe Childhood  0.993976  0.000000  0.006024"
      ]
     },
     "execution_count": 387,
     "metadata": {},
     "output_type": "execute_result"
    },
    {
     "name": "stdout",
     "output_type": "stream",
     "text": [
      "\n",
      "Label: Civil Rights\n",
      "top_topic\n",
      "0     0.983607\n",
      "1    33.442623\n",
      "2    65.573770\n",
      "Name: Civil Rights, dtype: float64\n",
      "\n",
      "Label: Project Safe Childhood\n",
      "top_topic\n",
      "0    99.39759\n",
      "1     0.00000\n",
      "2     0.60241\n",
      "Name: Project Safe Childhood, dtype: float64\n",
      "\n",
      "Label: Hate Crimes\n",
      "top_topic\n",
      "0      0.0\n",
      "1    100.0\n",
      "2      0.0\n",
      "Name: Hate Crimes, dtype: float64\n"
     ]
    }
   ],
   "source": [
    "## your code here to summarize the topic proportions for each of the topics_clean \n",
    "\n",
    "# Calculate the crosstab with the numerical distribution\n",
    "ct_counts = pd.crosstab(doj_subset_wscore['topics_clean'], doj_subset_wscore['top_topic'])\n",
    "ct_counts\n",
    "\n",
    "# Calculate the crosstab with the percentage distribution\n",
    "ct_prop = pd.crosstab(doj_subset_wscore['topics_clean'], doj_subset_wscore['top_topic'], normalize='index')\n",
    "ct_prop\n",
    "\n",
    "# Loop over each label in topics_clean and print the percentage breakdown of top topics\n",
    "for label in doj_subset_wscore['topics_clean'].unique():\n",
    "    print(f\"\\nLabel: {label}\")\n",
    "    print(ct_prop.loc[label] * 100) # Multiply by 100 to convert decimal to percentage"
   ]
  },
  {
   "cell_type": "code",
   "execution_count": 388,
   "metadata": {},
   "outputs": [
    {
     "data": {
      "text/plain": [
       "'It appears Project Safe Childhood maps almost 100% onto topic 0, and Hate Crimes maps 100% onto topic 1. Civil Rights maps about 1/3 onto topic 1 and 2/3 onto topic 2. This is likely because Civil Rights cases are more broad than the other two topics, and so they are more likely to have a mix of topics.'"
      ]
     },
     "execution_count": 388,
     "metadata": {},
     "output_type": "execute_result"
    }
   ],
   "source": [
    "\"It appears Project Safe Childhood maps almost 100% onto topic 0, and Hate Crimes maps 100% onto topic 1. Civil Rights maps about 1/3 onto topic 1 and 2/3 onto topic 2. This is likely because Civil Rights cases are more broad than the other two topics, and so they are more likely to have a mix of topics.\""
   ]
  },
  {
   "cell_type": "markdown",
   "metadata": {},
   "source": [
    "# 3. Extend the analysis from unigrams to bigrams (10 points)\n",
    "\n",
    "In the previous question, you found top words via a unigram representation of the text. Now, we want to see how those top words change with bigrams (pairs of words)\n",
    "\n",
    "A. Using the `doj_subset_wscore` data and the `processed_text` column (so the words after stemming/other preprocessing), create a column in the data called `processed_text_bigrams` that combines each consecutive pairs of word into a bigram separated by an underscore. Eg:\n",
    "\n",
    "\"depart reach settlem\" would become \"depart_reach reach_settlem\"\n",
    "\n",
    "Do this by writing a function `create_bigram_onedoc` that takes in a single `processed_text` string and returns a string with its bigrams structured similarly to above example\n",
    " \n",
    "**Hint**: there are many ways to solve but `zip` may be helpful: https://stackoverflow.com/questions/21303224/iterate-over-all-pairs-of-consecutive-items-in-a-list\n",
    "\n",
    "B. Print the `id`, `processed_text`, and `processed_text_bigram` columns for press release with id = 16-217"
   ]
  },
  {
   "cell_type": "code",
   "execution_count": 389,
   "metadata": {},
   "outputs": [
    {
     "data": {
      "text/html": [
       "<div>\n",
       "<style scoped>\n",
       "    .dataframe tbody tr th:only-of-type {\n",
       "        vertical-align: middle;\n",
       "    }\n",
       "\n",
       "    .dataframe tbody tr th {\n",
       "        vertical-align: top;\n",
       "    }\n",
       "\n",
       "    .dataframe thead th {\n",
       "        text-align: right;\n",
       "    }\n",
       "</style>\n",
       "<table border=\"1\" class=\"dataframe\">\n",
       "  <thead>\n",
       "    <tr style=\"text-align: right;\">\n",
       "      <th></th>\n",
       "      <th>id</th>\n",
       "      <th>processed_contents</th>\n",
       "      <th>processed_contents_bigrams</th>\n",
       "    </tr>\n",
       "  </thead>\n",
       "  <tbody>\n",
       "    <tr>\n",
       "      <th>6727</th>\n",
       "      <td>16-217</td>\n",
       "      <td>reach comprehens settlement agreement citi miami miami polic resolv depart officerinvolv shoot offic announc princip deputi general vanita gupta head depart wifredo ferrer southern florida settlement approv miami citi commiss today effect agreement sign parti resolv claim stem depart officerinvolv shoot offic conduct violent crime control enforc investig find issu juli identifi pattern practic excess forc officerinvolv shoot violat fourth amend constitut citi complianc settlement monitor independ review former tampa florida polic chief jane castor settlement agreement citi implement comprehens reform ensur constitut polic support public trustth settlement agreement design minim officerinvolv shoot effect quick investig officerinvolv shoot occur measur includ settlement repres renew commit citi miami chief rodolfo llane provid constitut polic miami resid protect public safeti sustain reform said princip deputi general gupta agreement help strengthen relationship communiti serv improv account offic fire weapon unlaw provid communiti particip enforc agreement today agreement result joint effort citi miami ensur miami polic continu effort make communiti safe protect sacr constitut citizen said ferrer oversight communic agreement seek make perman posit chang former chief orosa chief llane made applaud citi commiss vote settlement agreement build upon import reform implement citi sinc issu find includ conduct attorney staff divis special litig section attorney southern florida</td>\n",
       "      <td>reach_comprehens comprehens_settlement settlement_agreement agreement_citi citi_miami miami_miami miami_polic polic_resolv resolv_depart depart_officerinvolv officerinvolv_shoot shoot_offic offic_announc announc_princip princip_deputi deputi_general general_vanita vanita_gupta gupta_head head_depart depart_wifredo wifredo_ferrer ferrer_southern southern_florida florida_settlement settlement_approv approv_miami miami_citi citi_commiss commiss_today today_effect effect_agreement agreement_sign sign_parti parti_resolv resolv_claim claim_stem stem_depart depart_officerinvolv officerinvolv_shoot shoot_offic offic_conduct conduct_violent violent_crime crime_control control_enforc enforc_investig investig_find find_issu issu_juli juli_identifi identifi_pattern pattern_practic practic_excess excess_forc forc_officerinvolv officerinvolv_shoot shoot_violat violat_fourth fourth_amend amend_constitut constitut_citi citi_complianc complianc_settlement settlement_monitor monitor_independ independ_review review_former former_tampa tampa_florida florida_polic polic_chief chief_jane jane_castor castor_settlement settlement_agreement agreement_citi citi_implement implement_comprehens comprehens_reform reform_ensur ensur_constitut constitut_polic polic_support support_public public_trustth trustth_settlement settlement_agreement agreement_design design_minim minim_officerinvolv officerinvolv_shoot shoot_effect effect_quick quick_investig investig_officerinvolv officerinvolv_shoot shoot_occur occur_measur measur_includ includ_settlement settlement_repres repres_renew renew_commit commit_citi citi_miami miami_chief chief_rodolfo rodolfo_llane llane_provid provid_constitut constitut_polic polic_miami miami_resid resid_protect protect_public public_safeti safeti_sustain sustain_reform reform_said said_princip princip_deputi deputi_general general_gupta gupta_agreement agreement_help help_strengthen strengthen_relationship relationship_communiti communiti_serv serv_improv improv_account account_offic offic_fire fire_weapon weapon_unlaw unlaw_provid provid_communiti communiti_particip particip_enforc enforc_agreement agreement_today today_agreement agreement_result result_joint joint_effort effort_citi citi_miami miami_ensur ensur_miami miami_polic polic_continu continu_effort effort_make make_communiti communiti_safe safe_protect protect_sacr sacr_constitut constitut_citizen citizen_said said_ferrer ferrer_oversight oversight_communic communic_agreement agreement_seek seek_make make_perman perman_posit posit_chang chang_former former_chief chief_orosa orosa_chief chief_llane llane_made made_applaud applaud_citi citi_commiss commiss_vote vote_settlement settlement_agreement agreement_build build_upon upon_import import_reform reform_implement implement_citi citi_sinc sinc_issu issu_find find_includ includ_conduct conduct_attorney attorney_staff staff_divis divis_special special_litig litig_section section_attorney attorney_southern southern_florida</td>\n",
       "    </tr>\n",
       "  </tbody>\n",
       "</table>\n",
       "</div>"
      ],
      "text/plain": [
       "          id  \\\n",
       "6727  16-217   \n",
       "\n",
       "                                                                                                                                                                                                                                                                                                                                                                                                                                                                                                                                                                                                                                                                                                                                                                                                                                                                                                                                                                                                                                                                                                                                                                                                                                                                                                                                                                                                                                                                                                                                           processed_contents  \\\n",
       "6727  reach comprehens settlement agreement citi miami miami polic resolv depart officerinvolv shoot offic announc princip deputi general vanita gupta head depart wifredo ferrer southern florida settlement approv miami citi commiss today effect agreement sign parti resolv claim stem depart officerinvolv shoot offic conduct violent crime control enforc investig find issu juli identifi pattern practic excess forc officerinvolv shoot violat fourth amend constitut citi complianc settlement monitor independ review former tampa florida polic chief jane castor settlement agreement citi implement comprehens reform ensur constitut polic support public trustth settlement agreement design minim officerinvolv shoot effect quick investig officerinvolv shoot occur measur includ settlement repres renew commit citi miami chief rodolfo llane provid constitut polic miami resid protect public safeti sustain reform said princip deputi general gupta agreement help strengthen relationship communiti serv improv account offic fire weapon unlaw provid communiti particip enforc agreement today agreement result joint effort citi miami ensur miami polic continu effort make communiti safe protect sacr constitut citizen said ferrer oversight communic agreement seek make perman posit chang former chief orosa chief llane made applaud citi commiss vote settlement agreement build upon import reform implement citi sinc issu find includ conduct attorney staff divis special litig section attorney southern florida   \n",
       "\n",
       "                                                                                                                                                                                                                                                                                                                                                                                                                                                                                                                                                                                                                                                                                                                                                                                                                                                                                                                                                                                                                                                                                                                                                                                                                                                                                                                                                                                                                                                                                                                                                                                                                                                                                                                                                                                                                                                                                                                                                                                                                                                                                                                                                                                                                                                                                                                                                                                                                                                                                                                                                                                                                                                                                                                                                                                                                                                                                                                                                                                                                                                                             processed_contents_bigrams  \n",
       "6727  reach_comprehens comprehens_settlement settlement_agreement agreement_citi citi_miami miami_miami miami_polic polic_resolv resolv_depart depart_officerinvolv officerinvolv_shoot shoot_offic offic_announc announc_princip princip_deputi deputi_general general_vanita vanita_gupta gupta_head head_depart depart_wifredo wifredo_ferrer ferrer_southern southern_florida florida_settlement settlement_approv approv_miami miami_citi citi_commiss commiss_today today_effect effect_agreement agreement_sign sign_parti parti_resolv resolv_claim claim_stem stem_depart depart_officerinvolv officerinvolv_shoot shoot_offic offic_conduct conduct_violent violent_crime crime_control control_enforc enforc_investig investig_find find_issu issu_juli juli_identifi identifi_pattern pattern_practic practic_excess excess_forc forc_officerinvolv officerinvolv_shoot shoot_violat violat_fourth fourth_amend amend_constitut constitut_citi citi_complianc complianc_settlement settlement_monitor monitor_independ independ_review review_former former_tampa tampa_florida florida_polic polic_chief chief_jane jane_castor castor_settlement settlement_agreement agreement_citi citi_implement implement_comprehens comprehens_reform reform_ensur ensur_constitut constitut_polic polic_support support_public public_trustth trustth_settlement settlement_agreement agreement_design design_minim minim_officerinvolv officerinvolv_shoot shoot_effect effect_quick quick_investig investig_officerinvolv officerinvolv_shoot shoot_occur occur_measur measur_includ includ_settlement settlement_repres repres_renew renew_commit commit_citi citi_miami miami_chief chief_rodolfo rodolfo_llane llane_provid provid_constitut constitut_polic polic_miami miami_resid resid_protect protect_public public_safeti safeti_sustain sustain_reform reform_said said_princip princip_deputi deputi_general general_gupta gupta_agreement agreement_help help_strengthen strengthen_relationship relationship_communiti communiti_serv serv_improv improv_account account_offic offic_fire fire_weapon weapon_unlaw unlaw_provid provid_communiti communiti_particip particip_enforc enforc_agreement agreement_today today_agreement agreement_result result_joint joint_effort effort_citi citi_miami miami_ensur ensur_miami miami_polic polic_continu continu_effort effort_make make_communiti communiti_safe safe_protect protect_sacr sacr_constitut constitut_citizen citizen_said said_ferrer ferrer_oversight oversight_communic communic_agreement agreement_seek seek_make make_perman perman_posit posit_chang chang_former former_chief chief_orosa orosa_chief chief_llane llane_made made_applaud applaud_citi citi_commiss commiss_vote vote_settlement settlement_agreement agreement_build build_upon upon_import import_reform reform_implement implement_citi citi_sinc sinc_issu issu_find find_includ includ_conduct conduct_attorney attorney_staff staff_divis divis_special special_litig litig_section section_attorney attorney_southern southern_florida  "
      ]
     },
     "execution_count": 389,
     "metadata": {},
     "output_type": "execute_result"
    }
   ],
   "source": [
    "## your code here \n",
    "def create_bigram_onedoc(processed_contents):\n",
    "    words = processed_contents.split()\n",
    "    bigrams = [f\"{w1}_{w2}\" for w1, w2 in zip(words, words[1:])]\n",
    "    return \" \".join(bigrams)\n",
    "\n",
    "doj_subset_wscore[\"processed_contents_bigrams\"] = doj_subset_wscore[\"processed_contents\"].apply(create_bigram_onedoc)\n",
    "\n",
    "doj_subset_wscore[doj_subset_wscore.id == '16-217'][['id', 'processed_contents', 'processed_contents_bigrams']]"
   ]
  },
  {
   "attachments": {},
   "cell_type": "markdown",
   "metadata": {},
   "source": [
    "C. Use the create_dtm function and the `processed_text_bigrams` column to create a document-term matrix (`dtm_bigram`) with these bigrams. Keep the following three columns in the data: `id`, `topics_clean`, and `compound` \n",
    "\n",
    "D. Print the (1) dimensions of the `dtm` matrix from question 2.2  and (2) the dimensions of the `dtm_bigram` matrix. Comment on why the bigram matrix has more dimensions than the unigram matrix \n",
    "\n",
    "E. Find and print the 10 most prevelant bigrams for each of the three topics_clean using the `get_topwords` function from 2.2"
   ]
  },
  {
   "cell_type": "code",
   "execution_count": 390,
   "metadata": {},
   "outputs": [
    {
     "name": "stdout",
     "output_type": "stream",
     "text": [
      "(717, 7847)\n",
      "(717, 74085)\n"
     ]
    },
    {
     "data": {
      "text/plain": [
       "'The bigram dtm has more columns than the unigram dtm because there are more unique bigrams than unigrams.'"
      ]
     },
     "execution_count": 390,
     "metadata": {},
     "output_type": "execute_result"
    },
    {
     "data": {
      "text/plain": [
       "fair_hous         228\n",
       "deputi_general    221\n",
       "princip_deputi    221\n",
       "vanita_gupta      202\n",
       "gupta_head        200\n",
       "general_vanita    199\n",
       "said_princip      185\n",
       "unit_state        154\n",
       "nation_origin     142\n",
       "head_depart       134\n",
       "dtype: int64"
      ]
     },
     "execution_count": 390,
     "metadata": {},
     "output_type": "execute_result"
    },
    {
     "data": {
      "text/plain": [
       "hate_crime       368\n",
       "plead_guilti     274\n",
       "year_prison      159\n",
       "special_agent    117\n",
       "thoma_perez      111\n",
       "grand_juri       101\n",
       "perez_general     95\n",
       "said_thoma        90\n",
       "unit_state        88\n",
       "act_general       85\n",
       "dtype: int64"
      ]
     },
     "execution_count": 390,
     "metadata": {},
     "output_type": "execute_result"
    },
    {
     "data": {
      "text/plain": [
       "project_safe         472\n",
       "safe_childhood       472\n",
       "child_pornographi    441\n",
       "child_exploit        278\n",
       "sexual_exploit       223\n",
       "exploit_children     199\n",
       "plead_guilti         194\n",
       "exploit_obscen       175\n",
       "obscen_section       174\n",
       "child_sexual         174\n",
       "dtype: int64"
      ]
     },
     "execution_count": 390,
     "metadata": {},
     "output_type": "execute_result"
    }
   ],
   "source": [
    "# your code here\n",
    "# c. create dtm\n",
    "dtm_bi = create_dtm(list_of_strings = doj_subset_wscore[\"processed_contents_bigrams\"], metadata = doj_subset_wscore[['id', 'sentiment_compound', 'topics_clean']])\n",
    "\n",
    "# d. print dimensions\n",
    "print(dtm.shape)\n",
    "print(dtm_bi.shape)\n",
    "\n",
    "\"The bigram dtm has more columns than the unigram dtm because there are more unique bigrams than unigrams.\"\n",
    "\n",
    "# e. print the top 10 words for press releases in each of the three `topics_clean`\n",
    "civil_rights = dtm_bi[dtm_bi['topics_clean'] == 'Civil Rights']\n",
    "get_topwords(civil_rights)\n",
    "\n",
    "hate_crimes = dtm_bi[dtm_bi['topics_clean'] == 'Hate Crimes']\n",
    "get_topwords(hate_crimes)\n",
    "\n",
    "safe_childhood = dtm_bi[dtm_bi['topics_clean'] == 'Project Safe Childhood']\n",
    "get_topwords(safe_childhood)\n"
   ]
  },
  {
   "cell_type": "markdown",
   "metadata": {},
   "source": [
    "# 4. Optional extra credit (2 points)\n",
    "\n",
    "You notice that the pharmaceutical kickbacks press release we analyzed in question 1 was for an indictment, and that in the original data, there's not a clear label for whether a press release outlines an indictment (charging someone with a crime), a conviction (convicting them after that charge either via a settlement or trial), or a sentencing (how many years of prison or supervised release a defendant is sentenced to after their conviction).\n",
    "\n",
    "You want to see if you can identify pairs of press releases where one press release is from one stage (e.g., indictment) and another is from a different stage (e.g., a sentencing).\n",
    "\n",
    "You decide that one way to approach is to find the pairwise string similarity between each of the processed press releases in `doj_subset`. There are many ways to do this, so Google for some approaches, focusing on ones that work well for entire documents rather than small strings.\n",
    "\n",
    "Find the top two pairs (so four press releases total)-- do they seem like different stages of the same crime or just press releases covering similar crimes?"
   ]
  },
  {
   "cell_type": "code",
   "execution_count": 408,
   "metadata": {},
   "outputs": [],
   "source": [
    "# your code here \n",
    "from sklearn.feature_extraction.text import TfidfVectorizer\n",
    "from sklearn.metrics.pairwise import cosine_similarity\n",
    "\n",
    "doj_subset_wscore_small = doj_subset_wscore.sample(100)\n",
    "\n",
    "vectorizer = TfidfVectorizer()\n",
    "\n",
    "def get_most_similar_article(processed_contents):\n",
    "    id_list = []\n",
    "    for row in doj_subset_wscore_small.iterrows():\n",
    "        if (row[1][\"processed_contents\"] != processed_contents):\n",
    "            corpus = (processed_contents, row[1][\"processed_contents\"])\n",
    "            trsfm = vectorizer.fit_transform(corpus)\n",
    "            similarity = cosine_similarity(trsfm[0:1], trsfm)\n",
    "            id_list.append((row[1][\"id\"], similarity[0][1]))\n",
    "            \n",
    "    most_similar = sorted(id_list, key=lambda x: x[1], reverse=True)\n",
    "    return most_similar[0]\n",
    "            "
   ]
  },
  {
   "cell_type": "code",
   "execution_count": 409,
   "metadata": {},
   "outputs": [],
   "source": [
    "# apply the function to the dataframe\n",
    "most_similar_articles = doj_subset_wscore_small[\"processed_contents\"].apply(get_most_similar_article)\n",
    "doj_subset_wscore_small[\"most_similar_article_id\"] = [item[0] for item in most_similar_articles]\n",
    "doj_subset_wscore_small[\"most_similar_article_score\"] = [item[1] for item in most_similar_articles]"
   ]
  },
  {
   "cell_type": "code",
   "execution_count": 413,
   "metadata": {},
   "outputs": [
    {
     "data": {
      "text/html": [
       "<div>\n",
       "<style scoped>\n",
       "    .dataframe tbody tr th:only-of-type {\n",
       "        vertical-align: middle;\n",
       "    }\n",
       "\n",
       "    .dataframe tbody tr th {\n",
       "        vertical-align: top;\n",
       "    }\n",
       "\n",
       "    .dataframe thead th {\n",
       "        text-align: right;\n",
       "    }\n",
       "</style>\n",
       "<table border=\"1\" class=\"dataframe\">\n",
       "  <thead>\n",
       "    <tr style=\"text-align: right;\">\n",
       "      <th></th>\n",
       "      <th>id</th>\n",
       "      <th>contents</th>\n",
       "      <th>most_similar_article_id</th>\n",
       "      <th>most_similar_article_score</th>\n",
       "    </tr>\n",
       "  </thead>\n",
       "  <tbody>\n",
       "    <tr>\n",
       "      <th>4689</th>\n",
       "      <td>15-1332</td>\n",
       "      <td>Former Tate County, Mississippi, Lieutenant Randy T. Doss pleaded guilty in federal court today to unlawfully tasing an inmate at the Tate County Jail.  The tasing, which occurred in 2012, caused J.W., a pre-trial detainee, to fall to the concrete floor and fracture his skull. On Jan. 27, 2012, a jail-wide search was ordered after an inmate was reportedly assaulted with a razor.  When corrections officers entered J.W.’s pod to conduct their search, he and his fellow inmates were ordered to stand facing the wall.  At the time of the incident, the victim was standing against a wall with his hands over his head, not posing a physical threat to anyone.  Doss tased the victim from 11 feet away.  The victim fell backward and hit his head on the concrete floor, necessitating brain surgery.  The incident was captured on video. “The defendant was an experienced law-enforcement officer who abused the authority entrusted to him,” said Principal Deputy Assistant Attorney General Vanita Gupta, head of the Civil Rights Division.  “The right to be free from excessive force is a Constitutional guarantee for all citizens, including those in custody.  The U.S. Department of Justice and the Civil Rights Division will vigorously enforce this right.” “The actions of the defendant are reprehensible and inexcusable,” said U.S. Attorney Felicia C. Adams of the Northern District of Mississippi.  “He abused his authority, violated the law and the public trust.  While the majority of law enforcement officers are hardworking professionals who risk their lives daily for our safety, the U. S. Attorney's Office is committed to aggressively prosecuting those officers who break the law and violate the public trust.” “Officers who abuse their power further undermine the public's trust in law enforcement,” said Special Agent in Charge Donald Alway of the FBI’s Jackson Division.  “These types of cases are some of the FBI's most important work and help ensure and maintain a healthy democracy.\"  Doss, 63, had more than 20 years of experience in law enforcement.  He had been certified to train other officers on the proper use of force, including how to use a taser.  The defendant was indicted on March 30, 2015, by a grand jury sitting in Oxford, Mississippi.  He was charged with a single count of violating the victim’s right not to be deprived of liberty without due process of law.  Doss was charged with both using a dangerous weapon – a taser electronic control device – and causing bodily injury to the victim. The defendant will be sentenced by U.S. District Court Judge Michael P. Mills of the Northern District of Mississippi on Feb. 18, 2016. This case was investigated by the FBI’s Jackson Division, with the cooperation of the Tate County Sheriff’s Office.  The case is being prosecuted by Assistant U.S. Attorney Robert Coleman of the Northern District of Mississippi and Trial Attorneys Dana Mulhauser and Andres Palacio of the Civil Rights Division.  Doss Plea Agreement</td>\n",
       "      <td>16-353</td>\n",
       "      <td>0.782375</td>\n",
       "    </tr>\n",
       "    <tr>\n",
       "      <th>4690</th>\n",
       "      <td>16-353</td>\n",
       "      <td>Former Tate County, Mississippi, Lieutenant Randy T. Doss, 63, was sentenced to two years in prison today for unlawfully tasing a pretrial detainee, J.W., at the Tate County Jail.  The tasing, which occurred in 2012, caused the victim to fall to the concrete floor and fracture his skull. At the time of the incident, which was captured on video, the victim was standing against a wall with his hands over his head, not posing a physical threat to anyone.  Doss tased the victim from 11 feet away.  The victim fell backward and hit his head on the concrete floor, necessitating brain surgery.  “The defendant is a veteran law enforcement officer who had been certified to train other officers on appropriate use of force,” said Principal Deputy Assistant Attorney General Gupta.  “The Department of Justice will protect the rights of all citizens from excessive force at the hands of law enforcement.” “The defendant abused his authority, violated the law and the public trust,” said U.S. Attorney Felicia C. Adams of the Northern District of Mississippi.  “While the majority of law enforcement officers are hardworking professionals who risk their lives daily for our safety, the U. S. Attorney’s Office is committed to aggressively prosecuting those officers who break the law and violate an individual’s constitutional rights.” “In making arrests, maintaining order and defending life, the law allows law enforcement officers to use whatever force is ‘reasonably’ necessary,” said Special Agent in Charge Donald Alway of the FBI’s Jackson Division.  “Violations of federal law occur when it can be shown, as in this case, that the force used was willfully ‘unreasonable’ or ‘excessive.’” Doss had more than 20 years of experience in law enforcement, and had been certified to train other officers on the proper use of force, including how to use a taser. Doss was indicted on March 30, 2015, by a grand jury in Oxford, Mississippi.  He was charged with a single count of violating the rights of J.W. not to be deprived of liberty without due process of law.  Doss was charged with both using a dangerous weapon – a taser – and causing bodily injury to the victim.  He pleaded guilty to the single count in October 2015. The case was investigated by the FBI’s Jackson Division, with the cooperation of the Tate County Sheriff’s Office.  It was prosecuted by Assistant U.S. Attorney Robert Coleman of the Northern District of Mississippi and Trial Attorneys Dana Mulhauser and Andres Palacio of the Civil Rights Division’s Criminal Section.</td>\n",
       "      <td>15-1332</td>\n",
       "      <td>0.782375</td>\n",
       "    </tr>\n",
       "    <tr>\n",
       "      <th>9661</th>\n",
       "      <td>10-579</td>\n",
       "      <td>WASHINGTON- Daniel Lee Jones, a Portland, Ore., white supremacist, pleaded guilty to using the Postal Service to send a threatening communication to the president of the Lima, Ohio, chapter of the National Association for the Advancement of Colored People, the Justice Department announced today. In the plea agreement, Jones admits to mailing F.M. Jason Upthegrove a hangman’s noose, which arrived at Mr. Upthegrove’s home on or about Feb. 14, 2008. Jones further states in the plea agreement that he mailed the communication containing the hangman’s noose in order to convey a threat to injure Mr. Upthegrove because he was an African-American who publicly advocated for better police services for African-Americans in Lima, Ohio. The indictment indicates that Mr. Upthegrove also spoke out in the media against Jones’s white supremacist group’s mailing of hate flyers related to the shooting of an African-American woman by a member of the Lima Police Department. Jones faces a maximum prison sentence of five years and a potential fine of up to $250,000 for his conviction. \"A noose is an unmistakable symbol of hate in our nation, and it was used in this case to intimidate an individual for exercising his right to speak out and advocate on behalf of others,\" said Thomas E. Perez, Assistant Attorney General of the Civil Rights Division. \"The Department of Justice will vigorously prosecute those who resort to violent threats to silence such advocates, especially when that threat is motivated by hate.\" \"Sending a noose is a threat that harkens back to some of the darkest days of our history. We simply will not tolerate such actions any longer,\" said U.S. Attorney Steven M. Dettelbach. The case was investigated by FBI Special Agent Brian Russ, and the prosecution was handled by Assistant U.S. Attorney David Bauer from the U.S. Attorney’s Office, and Special Legal Counsel Barry Kowalski and Trial Attorney Shan Patel from the Civil Rights Division of the Department of Justice.</td>\n",
       "      <td>10-1265</td>\n",
       "      <td>0.768189</td>\n",
       "    </tr>\n",
       "    <tr>\n",
       "      <th>9648</th>\n",
       "      <td>10-1265</td>\n",
       "      <td>WASHINGTON - Daniel Lee Jones, a Portland, Ore., white supremacist, was sentenced today to 18 months in prison and three years supervised release for threatening the president of the Lima, Ohio, chapter of the NAACP by mailing him a noose. Jones entered a guilty plea on May 17, 2010, to using the U.S. Postal Service to send a threatening communication. In the plea agreement, Jones admitted to mailing F.M. Jason Upthegrove a hangman’s noose, which arrived at Mr. Upthegrove’s home on or about Feb. 14, 2008. Jones stated in the plea agreement that he mailed the hangman’s noose in order to convey a threat to Mr. Upthegrove because he was an African-American who publicly advocated for better police services for African-Americans in Lima, Ohio. The indictment indicated that Mr. Upthegrove also spoke out in the media against Jones’s white supremacist group’s mailing of hate flyers related to the shooting of an African American woman by a member of the Lima Police Department. \"A noose, an unmistakable symbol of hatred in this nation, was used by this defendant as a threat of violence aimed at silencing a civil rights advocate,\" said Thomas E. Perez, Assistant Attorney General of the Civil Rights Division. \"The Department of Justice will vigorously prosecute those who use threats of violence to attempt to silence proponents of racial equality.\" \"We will not tolerate those who use threats of violence, such as by mailing a noose, to intimidate individuals who are advocating for racial equality,\"said U.S. Attorney for the Northern District of Ohio Steven M. Dettelbach. The case was investigated by Special Agent Brian Russ of the FBI, and the prosecution was handled by Assistant U.S. Attorney David Bauer from the U.S. Attorney’s Office, and Special Legal Counsel Barry Kowalski and Trial Attorney Shan Patel from the Civil Rights Division of the U.S. Department of Justice.</td>\n",
       "      <td>10-579</td>\n",
       "      <td>0.768189</td>\n",
       "    </tr>\n",
       "  </tbody>\n",
       "</table>\n",
       "</div>"
      ],
      "text/plain": [
       "           id  \\\n",
       "4689  15-1332   \n",
       "4690   16-353   \n",
       "9661   10-579   \n",
       "9648  10-1265   \n",
       "\n",
       "                                                                                                                                                                                                                                                                                                                                                                                                                                                                                                                                                                                                                                                                                                                                                                                                                                                                                                                                                                                                                                                                                                                                                                                                                                                                                                                                                                                                                                                                                                                                                                                                                                                                                                                                                                                                                                                                                                                                                                                                                                                                                                                                                                                                                                                                                                                                                                                                                                                                                                                                                                                                                                                                                                                                                                                                                                                                                                                                                                                                                                                                                                        contents  \\\n",
       "4689  Former Tate County, Mississippi, Lieutenant Randy T. Doss pleaded guilty in federal court today to unlawfully tasing an inmate at the Tate County Jail.  The tasing, which occurred in 2012, caused J.W., a pre-trial detainee, to fall to the concrete floor and fracture his skull. On Jan. 27, 2012, a jail-wide search was ordered after an inmate was reportedly assaulted with a razor.  When corrections officers entered J.W.’s pod to conduct their search, he and his fellow inmates were ordered to stand facing the wall.  At the time of the incident, the victim was standing against a wall with his hands over his head, not posing a physical threat to anyone.  Doss tased the victim from 11 feet away.  The victim fell backward and hit his head on the concrete floor, necessitating brain surgery.  The incident was captured on video. “The defendant was an experienced law-enforcement officer who abused the authority entrusted to him,” said Principal Deputy Assistant Attorney General Vanita Gupta, head of the Civil Rights Division.  “The right to be free from excessive force is a Constitutional guarantee for all citizens, including those in custody.  The U.S. Department of Justice and the Civil Rights Division will vigorously enforce this right.” “The actions of the defendant are reprehensible and inexcusable,” said U.S. Attorney Felicia C. Adams of the Northern District of Mississippi.  “He abused his authority, violated the law and the public trust.  While the majority of law enforcement officers are hardworking professionals who risk their lives daily for our safety, the U. S. Attorney's Office is committed to aggressively prosecuting those officers who break the law and violate the public trust.” “Officers who abuse their power further undermine the public's trust in law enforcement,” said Special Agent in Charge Donald Alway of the FBI’s Jackson Division.  “These types of cases are some of the FBI's most important work and help ensure and maintain a healthy democracy.\"  Doss, 63, had more than 20 years of experience in law enforcement.  He had been certified to train other officers on the proper use of force, including how to use a taser.  The defendant was indicted on March 30, 2015, by a grand jury sitting in Oxford, Mississippi.  He was charged with a single count of violating the victim’s right not to be deprived of liberty without due process of law.  Doss was charged with both using a dangerous weapon – a taser electronic control device – and causing bodily injury to the victim. The defendant will be sentenced by U.S. District Court Judge Michael P. Mills of the Northern District of Mississippi on Feb. 18, 2016. This case was investigated by the FBI’s Jackson Division, with the cooperation of the Tate County Sheriff’s Office.  The case is being prosecuted by Assistant U.S. Attorney Robert Coleman of the Northern District of Mississippi and Trial Attorneys Dana Mulhauser and Andres Palacio of the Civil Rights Division.  Doss Plea Agreement   \n",
       "4690                                                                                                                                                                                                                                                                                                                                                                                                                                                           Former Tate County, Mississippi, Lieutenant Randy T. Doss, 63, was sentenced to two years in prison today for unlawfully tasing a pretrial detainee, J.W., at the Tate County Jail.  The tasing, which occurred in 2012, caused the victim to fall to the concrete floor and fracture his skull. At the time of the incident, which was captured on video, the victim was standing against a wall with his hands over his head, not posing a physical threat to anyone.  Doss tased the victim from 11 feet away.  The victim fell backward and hit his head on the concrete floor, necessitating brain surgery.  “The defendant is a veteran law enforcement officer who had been certified to train other officers on appropriate use of force,” said Principal Deputy Assistant Attorney General Gupta.  “The Department of Justice will protect the rights of all citizens from excessive force at the hands of law enforcement.” “The defendant abused his authority, violated the law and the public trust,” said U.S. Attorney Felicia C. Adams of the Northern District of Mississippi.  “While the majority of law enforcement officers are hardworking professionals who risk their lives daily for our safety, the U. S. Attorney’s Office is committed to aggressively prosecuting those officers who break the law and violate an individual’s constitutional rights.” “In making arrests, maintaining order and defending life, the law allows law enforcement officers to use whatever force is ‘reasonably’ necessary,” said Special Agent in Charge Donald Alway of the FBI’s Jackson Division.  “Violations of federal law occur when it can be shown, as in this case, that the force used was willfully ‘unreasonable’ or ‘excessive.’” Doss had more than 20 years of experience in law enforcement, and had been certified to train other officers on the proper use of force, including how to use a taser. Doss was indicted on March 30, 2015, by a grand jury in Oxford, Mississippi.  He was charged with a single count of violating the rights of J.W. not to be deprived of liberty without due process of law.  Doss was charged with both using a dangerous weapon – a taser – and causing bodily injury to the victim.  He pleaded guilty to the single count in October 2015. The case was investigated by the FBI’s Jackson Division, with the cooperation of the Tate County Sheriff’s Office.  It was prosecuted by Assistant U.S. Attorney Robert Coleman of the Northern District of Mississippi and Trial Attorneys Dana Mulhauser and Andres Palacio of the Civil Rights Division’s Criminal Section.      \n",
       "9661                                                                                                                                                                                                                                                                                                                                                                                                                                                                                                                                                                                                                                                                                                                                                                                                                                                                                                                                                                                                                                    WASHINGTON- Daniel Lee Jones, a Portland, Ore., white supremacist, pleaded guilty to using the Postal Service to send a threatening communication to the president of the Lima, Ohio, chapter of the National Association for the Advancement of Colored People, the Justice Department announced today. In the plea agreement, Jones admits to mailing F.M. Jason Upthegrove a hangman’s noose, which arrived at Mr. Upthegrove’s home on or about Feb. 14, 2008. Jones further states in the plea agreement that he mailed the communication containing the hangman’s noose in order to convey a threat to injure Mr. Upthegrove because he was an African-American who publicly advocated for better police services for African-Americans in Lima, Ohio. The indictment indicates that Mr. Upthegrove also spoke out in the media against Jones’s white supremacist group’s mailing of hate flyers related to the shooting of an African-American woman by a member of the Lima Police Department. Jones faces a maximum prison sentence of five years and a potential fine of up to $250,000 for his conviction. \"A noose is an unmistakable symbol of hate in our nation, and it was used in this case to intimidate an individual for exercising his right to speak out and advocate on behalf of others,\" said Thomas E. Perez, Assistant Attorney General of the Civil Rights Division. \"The Department of Justice will vigorously prosecute those who resort to violent threats to silence such advocates, especially when that threat is motivated by hate.\" \"Sending a noose is a threat that harkens back to some of the darkest days of our history. We simply will not tolerate such actions any longer,\" said U.S. Attorney Steven M. Dettelbach. The case was investigated by FBI Special Agent Brian Russ, and the prosecution was handled by Assistant U.S. Attorney David Bauer from the U.S. Attorney’s Office, and Special Legal Counsel Barry Kowalski and Trial Attorney Shan Patel from the Civil Rights Division of the Department of Justice.   \n",
       "9648                                                                                                                                                                                                                                                                                                                                                                                                                                                                                                                                                                                                                                                                                                                                                                                                                                                                                                                                                                                                                                                                                                                                          WASHINGTON - Daniel Lee Jones, a Portland, Ore., white supremacist, was sentenced today to 18 months in prison and three years supervised release for threatening the president of the Lima, Ohio, chapter of the NAACP by mailing him a noose. Jones entered a guilty plea on May 17, 2010, to using the U.S. Postal Service to send a threatening communication. In the plea agreement, Jones admitted to mailing F.M. Jason Upthegrove a hangman’s noose, which arrived at Mr. Upthegrove’s home on or about Feb. 14, 2008. Jones stated in the plea agreement that he mailed the hangman’s noose in order to convey a threat to Mr. Upthegrove because he was an African-American who publicly advocated for better police services for African-Americans in Lima, Ohio. The indictment indicated that Mr. Upthegrove also spoke out in the media against Jones’s white supremacist group’s mailing of hate flyers related to the shooting of an African American woman by a member of the Lima Police Department. \"A noose, an unmistakable symbol of hatred in this nation, was used by this defendant as a threat of violence aimed at silencing a civil rights advocate,\" said Thomas E. Perez, Assistant Attorney General of the Civil Rights Division. \"The Department of Justice will vigorously prosecute those who use threats of violence to attempt to silence proponents of racial equality.\" \"We will not tolerate those who use threats of violence, such as by mailing a noose, to intimidate individuals who are advocating for racial equality,\"said U.S. Attorney for the Northern District of Ohio Steven M. Dettelbach. The case was investigated by Special Agent Brian Russ of the FBI, and the prosecution was handled by Assistant U.S. Attorney David Bauer from the U.S. Attorney’s Office, and Special Legal Counsel Barry Kowalski and Trial Attorney Shan Patel from the Civil Rights Division of the U.S. Department of Justice.   \n",
       "\n",
       "     most_similar_article_id  most_similar_article_score  \n",
       "4689                  16-353                    0.782375  \n",
       "4690                 15-1332                    0.782375  \n",
       "9661                 10-1265                    0.768189  \n",
       "9648                  10-579                    0.768189  "
      ]
     },
     "execution_count": 413,
     "metadata": {},
     "output_type": "execute_result"
    },
    {
     "data": {
      "text/plain": [
       "'Both pairs seems to be referencing different stages of the same case.'"
      ]
     },
     "execution_count": 413,
     "metadata": {},
     "output_type": "execute_result"
    }
   ],
   "source": [
    "# print the top 2 pairs of most similar articles\n",
    "doj_subset_wscore_small_sorted_by_similarity = doj_subset_wscore_small.sort_values(by=\"most_similar_article_score\", ascending=False)\n",
    "\n",
    "doj_subset_wscore_small_sorted_by_similarity[[\"id\", \"contents\", \"most_similar_article_id\", \"most_similar_article_score\"]].head(4)\n",
    "\n",
    "\"Both pairs seems to be referencing different stages of the same case.\""
   ]
  }
 ],
 "metadata": {
  "kernelspec": {
   "display_name": "Python 3",
   "language": "python",
   "name": "python3"
  },
  "language_info": {
   "codemirror_mode": {
    "name": "ipython",
    "version": 3
   },
   "file_extension": ".py",
   "mimetype": "text/x-python",
   "name": "python",
   "nbconvert_exporter": "python",
   "pygments_lexer": "ipython3",
   "version": "3.10.9"
  },
  "vscode": {
   "interpreter": {
    "hash": "b0fa6594d8f4cbf19f97940f81e996739fb7646882a419484c72d19e05852a7e"
   }
  }
 },
 "nbformat": 4,
 "nbformat_minor": 4
}
