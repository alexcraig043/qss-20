{
 "cells": [
  {
   "cell_type": "markdown",
   "id": "698a2cf8",
   "metadata": {},
   "source": [
    "# 0. Problem set 1: Python basics\n",
    "\n",
    "**Total points**: 24\n",
    "\n",
    "This problem set will:\n",
    "\n",
    "- Make sure your jupyter notebook installation is working\n",
    "- Give you practice with the following basic Python concepts covered in lecture (and optionally on DataCamp):\n",
    "  - Python lists\n",
    "  - Basic list comprehension\n",
    "  - `numpy` arrays"
   ]
  },
  {
   "cell_type": "markdown",
   "id": "d94e9e34",
   "metadata": {},
   "source": [
    "# 1 Practice with lists (9 points)\n",
    "\n",
    "## 1.1 List addition (2 points)\n",
    "We provide you with a list of our names below.\n",
    "\n",
    "- Use list addition to add your name to the list\n",
    "- Store this as a new list called `instructor_my_name`\n",
    "- Print that list"
   ]
  },
  {
   "cell_type": "code",
   "execution_count": null,
   "id": "835fec08",
   "metadata": {},
   "outputs": [],
   "source": [
    "## list of instructor names\n",
    "instructor_names = ['Eunice', 'Jaren', 'Ramsey']"
   ]
  },
  {
   "cell_type": "code",
   "execution_count": null,
   "id": "7a96a3f7",
   "metadata": {},
   "outputs": [],
   "source": [
    "## your code here to store and print list"
   ]
  },
  {
   "cell_type": "markdown",
   "id": "96d705da",
   "metadata": {},
   "source": [
    "## 1.2 List indexing (2 points)\n",
    "\n",
    "- Use the `.index()` method to get the index of the professor's name (Jaren)\n",
    "- Use that index to extract that name\n",
    "- Store it in a list called `prof` and print"
   ]
  },
  {
   "cell_type": "code",
   "execution_count": null,
   "id": "7899dc07",
   "metadata": {},
   "outputs": [],
   "source": [
    "## your code here to get index of prof's name"
   ]
  },
  {
   "cell_type": "code",
   "execution_count": null,
   "id": "8277e139",
   "metadata": {},
   "outputs": [],
   "source": [
    "## your code here to extract the name and print"
   ]
  },
  {
   "cell_type": "markdown",
   "id": "c90e7e9e",
   "metadata": {},
   "source": [
    "## 1.3 Indexing lists of lists (2 points)\n",
    "\n",
    "We provide you with the below list of lists (`roles_listoflists`).\n",
    "\n",
    "- Use subsetting to pull out the role of Jaren (can just hard code the relevant indices)\n",
    "- Pull out and print the type of the element at index 1 (Eunice's name and role)"
   ]
  },
  {
   "cell_type": "code",
   "execution_count": null,
   "id": "9bf70574",
   "metadata": {},
   "outputs": [],
   "source": [
    "## list of names and roles\n",
    "roles_listoflists = [['Jaren', 'Prof'], ['Eunice', 'TA'], ['Ramsey', 'Tutor']]"
   ]
  },
  {
   "cell_type": "code",
   "execution_count": null,
   "id": "9f0b6471",
   "metadata": {},
   "outputs": [],
   "source": [
    "## your code here to pull out role of jaren"
   ]
  },
  {
   "cell_type": "code",
   "execution_count": null,
   "id": "2f8e9c58",
   "metadata": {},
   "outputs": [],
   "source": [
    "## your code here to pull out and print the type at index 1"
   ]
  },
  {
   "cell_type": "markdown",
   "id": "8e5d2820",
   "metadata": {},
   "source": [
    "## 1.4 Editing list elements (3 points)\n",
    "\n",
    "- In `roles_listoflists`, replace the role 'TA' with the role 'Teaching Assistant' (fine to do in two lines of code)\n",
    "- Print the updated list"
   ]
  },
  {
   "cell_type": "code",
   "execution_count": null,
   "id": "36536f54",
   "metadata": {},
   "outputs": [],
   "source": [
    "## your code here to replace role text and print updated list"
   ]
  },
  {
   "cell_type": "markdown",
   "id": "88f462b5",
   "metadata": {},
   "source": [
    "# 2. Practice with list comprehension (9 points)\n",
    "\n",
    "Here, we provide you with a list containing the course codes for a few Dartmouth College Fall 2022 courses."
   ]
  },
  {
   "cell_type": "code",
   "execution_count": null,
   "id": "f0878c6d",
   "metadata": {},
   "outputs": [],
   "source": [
    "## course code list \n",
    "course_codes = [\"QSS 20\", \"QSS 17\", \"COSC 1\", \"GOV 10\"]"
   ]
  },
  {
   "cell_type": "markdown",
   "id": "f4fc7230",
   "metadata": {},
   "source": [
    "## 2.1 Using list comprehension to keep all elements / transform them (3 points)\n",
    "\n",
    "- Create a new list, `course_codes_ns`, that removes the spaces in each course code: e.g., 'QSS 20' should become 'QSS20'\n",
    "- Print `course_codes_ns`\n",
    "\n",
    "*Hint*: If you're new to regular expressions, then use a built-in string method: `str.replace()`. "
   ]
  },
  {
   "cell_type": "code",
   "execution_count": null,
   "id": "f1413620",
   "metadata": {},
   "outputs": [],
   "source": [
    "## your code here to create list without spaces and print"
   ]
  },
  {
   "cell_type": "markdown",
   "id": "2ac9a87e",
   "metadata": {},
   "source": [
    "## 2.2 Using list comprehension to subset a list (3 points)\n",
    "\n",
    "- Using `course_codes_ns`, create a new list just with courses with 'QSS' in the name; store it as `course_codes_qss`\n",
    "\n",
    "*Hint*: Use an 'if' statement in the list comprehension to implement the condition."
   ]
  },
  {
   "cell_type": "code",
   "execution_count": null,
   "id": "c75dfa0f",
   "metadata": {},
   "outputs": [],
   "source": [
    "## your code here to create and store new QSS-specific list"
   ]
  },
  {
   "cell_type": "markdown",
   "id": "1a960516",
   "metadata": {},
   "source": [
    "## 2.3 Using list comprehension to conditionally change a list's elements (3 points)\n",
    "\n",
    "- using `course_codes_ns`, add the string prefix \"coding_\" to COSC 1 and QSS 20; \"stats_\" to GOV 10 and QSS 17\n",
    "- Store as `course_codes_detail` and print\n",
    "\n",
    "*Hint*: You can implement an if-else statement in a list comprehension (\"conditional transformation\") with this syntax:\n",
    "```python\n",
    "[elem_transform1 if condition else elem_transform2 for elem in lst]\n",
    "```"
   ]
  },
  {
   "cell_type": "code",
   "execution_count": null,
   "id": "8cec5904",
   "metadata": {},
   "outputs": [],
   "source": [
    "## your code here to add prefixes, store, and print"
   ]
  },
  {
   "cell_type": "markdown",
   "id": "5d19921a",
   "metadata": {},
   "source": [
    "# 3. Practice with `numpy` arrays (6 points)"
   ]
  },
  {
   "cell_type": "markdown",
   "id": "09ce8b62",
   "metadata": {},
   "source": [
    "## 3.1 Converting a list to an array (2 points)\n",
    "\n",
    "- A. Transform the roles_listoflists from the previous part (so with TA replaced with teaching assistant)into a 2D numpy array; call it roles_array\n",
    "- B. Print the shape/dimensions of `roles_array`"
   ]
  },
  {
   "cell_type": "code",
   "execution_count": null,
   "id": "7fdc5735",
   "metadata": {},
   "outputs": [],
   "source": [
    "## your code here"
   ]
  },
  {
   "cell_type": "markdown",
   "id": "3c5feb80",
   "metadata": {},
   "source": [
    "## 3.2 Subsetting arrays using True/False (boolean) indicators (2 points)\n",
    "\n",
    "- A. Create a boolean indicator for rows where the role (second column) == 'Teaching Assistant' and print that indicator\n",
    "- B. Use that boolean indicator to subset roles_array store the array as roles_TA \n",
    "- C. Print the `roles_TA` array and its dimensions (should be 1x2)"
   ]
  },
  {
   "cell_type": "code",
   "execution_count": null,
   "id": "ac8b2f0f",
   "metadata": {},
   "outputs": [],
   "source": [
    "## your code here"
   ]
  },
  {
   "cell_type": "code",
   "execution_count": null,
   "id": "60184502",
   "metadata": {},
   "outputs": [],
   "source": [
    "## your code here"
   ]
  },
  {
   "cell_type": "code",
   "execution_count": null,
   "id": "95f4eadc",
   "metadata": {},
   "outputs": [],
   "source": [
    "## your code here"
   ]
  },
  {
   "cell_type": "markdown",
   "id": "d2d8c9b6",
   "metadata": {},
   "source": [
    "## 3.3 Adding to an array (2 points)\n",
    "\n",
    "- A. Use <code>np.append</code> (google the documentation) to add the following column with the netid of the one TA listed to the roles_TA array as the last column\n",
    "- B. Store as role_TA_net\n",
    "- C. Print the dimensions (should be 1x3)"
   ]
  },
  {
   "cell_type": "code",
   "execution_count": null,
   "id": "b2fca68e",
   "metadata": {},
   "outputs": [],
   "source": [
    "## column to add \n",
    "netid = np.array([['yl1374']])\n",
    "print(netid)"
   ]
  },
  {
   "cell_type": "code",
   "execution_count": null,
   "id": "4cefee08",
   "metadata": {},
   "outputs": [],
   "source": [
    "## your code here"
   ]
  },
  {
   "cell_type": "code",
   "execution_count": null,
   "id": "fd07479f",
   "metadata": {},
   "outputs": [],
   "source": [
    "## your code here"
   ]
  }
 ],
 "metadata": {
  "kernelspec": {
   "display_name": "Python 3 (ipykernel)",
   "language": "python",
   "name": "python3"
  },
  "language_info": {
   "codemirror_mode": {
    "name": "ipython",
    "version": 3
   },
   "file_extension": ".py",
   "mimetype": "text/x-python",
   "name": "python",
   "nbconvert_exporter": "python",
   "pygments_lexer": "ipython3",
   "version": "3.10.5"
  }
 },
 "nbformat": 4,
 "nbformat_minor": 5
}
