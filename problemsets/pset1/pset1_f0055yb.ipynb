{
 "cells": [
  {
   "attachments": {},
   "cell_type": "markdown",
   "id": "698a2cf8",
   "metadata": {},
   "source": [
    "# 0. Problem set 1: Python basics\n",
    "\n",
    "**Total points**: 24\n",
    "\n",
    "This problem set will:\n",
    "\n",
    "- Make sure your jupyter notebook installation is working\n",
    "- Give you practice with the following basic Python concepts covered in lecture (and optionally on DataCamp):\n",
    "  - Python lists\n",
    "  - Basic list comprehension\n",
    "  - `numpy` arrays"
   ]
  },
  {
   "cell_type": "markdown",
   "id": "d94e9e34",
   "metadata": {},
   "source": [
    "# 1 Practice with lists (9 points)\n",
    "\n",
    "## 1.1 List addition (2 points)\n",
    "We provide you with a list of our names below.\n",
    "\n",
    "- Use list addition to add your name to the list\n",
    "- Store this as a new list called `instructor_my_name`\n",
    "- Print that list"
   ]
  },
  {
   "cell_type": "code",
   "execution_count": 20,
   "id": "835fec08",
   "metadata": {},
   "outputs": [],
   "source": [
    "## list of instructor names\n",
    "instructor_names = ['Eunice', 'Jaren', 'Ramsey']"
   ]
  },
  {
   "cell_type": "code",
   "execution_count": 21,
   "id": "7a96a3f7",
   "metadata": {},
   "outputs": [
    {
     "name": "stdout",
     "output_type": "stream",
     "text": [
      "['Eunice', 'Jaren', 'Ramsey', 'Alex']\n"
     ]
    }
   ],
   "source": [
    "## your code here to store and print list\n",
    "instructor_my_name = instructor_names + [\"Alex\"]\n",
    "print(instructor_my_name)"
   ]
  },
  {
   "cell_type": "markdown",
   "id": "96d705da",
   "metadata": {},
   "source": [
    "## 1.2 List indexing (2 points)\n",
    "\n",
    "- Use the `.index()` method to get the index of the professor's name (Jaren)\n",
    "- Use that index to extract that name\n",
    "- Store it in a list called `prof` and print"
   ]
  },
  {
   "cell_type": "code",
   "execution_count": 22,
   "id": "7899dc07",
   "metadata": {},
   "outputs": [],
   "source": [
    "## your code here to get index of prof's name\n",
    "prof_index = instructor_my_name.index(\"Jaren\")"
   ]
  },
  {
   "cell_type": "code",
   "execution_count": 23,
   "id": "8277e139",
   "metadata": {},
   "outputs": [
    {
     "name": "stdout",
     "output_type": "stream",
     "text": [
      "Jaren\n"
     ]
    }
   ],
   "source": [
    "## your code here to extract the name and print\n",
    "prof = instructor_my_name[prof_index]\n",
    "print(prof)"
   ]
  },
  {
   "cell_type": "markdown",
   "id": "c90e7e9e",
   "metadata": {},
   "source": [
    "## 1.3 Indexing lists of lists (2 points)\n",
    "\n",
    "We provide you with the below list of lists (`roles_listoflists`).\n",
    "\n",
    "- Use subsetting to pull out the role of Jaren (can just hard code the relevant indices)\n",
    "- Pull out and print the type of the element at index 1 (Eunice's name and role)"
   ]
  },
  {
   "cell_type": "code",
   "execution_count": 24,
   "id": "9bf70574",
   "metadata": {},
   "outputs": [],
   "source": [
    "## list of names and roles\n",
    "roles_listoflists = [['Jaren', 'Prof'], ['Eunice', 'TA'], ['Ramsey', 'Tutor']]"
   ]
  },
  {
   "cell_type": "code",
   "execution_count": 25,
   "id": "9f0b6471",
   "metadata": {},
   "outputs": [],
   "source": [
    "## your code here to pull out role of jaren\n",
    "jaren_role = roles_listoflists[0][1]"
   ]
  },
  {
   "cell_type": "code",
   "execution_count": 26,
   "id": "2f8e9c58",
   "metadata": {},
   "outputs": [
    {
     "name": "stdout",
     "output_type": "stream",
     "text": [
      "<class 'list'>\n"
     ]
    }
   ],
   "source": [
    "## your code here to pull out and print the type at index 1\n",
    "print(type(roles_listoflists[1]))"
   ]
  },
  {
   "cell_type": "markdown",
   "id": "8e5d2820",
   "metadata": {},
   "source": [
    "## 1.4 Editing list elements (3 points)\n",
    "\n",
    "- In `roles_listoflists`, replace the role 'TA' with the role 'Teaching Assistant' (fine to do in two lines of code)\n",
    "- Print the updated list"
   ]
  },
  {
   "cell_type": "code",
   "execution_count": 27,
   "id": "36536f54",
   "metadata": {},
   "outputs": [
    {
     "name": "stdout",
     "output_type": "stream",
     "text": [
      "[['Jaren', 'Prof'], ['Eunice', 'Teaching Assistant'], ['Ramsey', 'Tutor']]\n"
     ]
    }
   ],
   "source": [
    "## your code here to replace role text and print updated list\n",
    "roles_listoflists[1][1] = \"Teaching Assistant\"\n",
    "print(roles_listoflists)"
   ]
  },
  {
   "cell_type": "markdown",
   "id": "88f462b5",
   "metadata": {},
   "source": [
    "# 2. Practice with list comprehension (9 points)\n",
    "\n",
    "Here, we provide you with a list containing the course codes for a few Dartmouth College Fall 2022 courses."
   ]
  },
  {
   "cell_type": "code",
   "execution_count": 28,
   "id": "f0878c6d",
   "metadata": {},
   "outputs": [],
   "source": [
    "## course code list \n",
    "course_codes = [\"QSS 20\", \"QSS 17\", \"COSC 1\", \"GOV 10\"]"
   ]
  },
  {
   "attachments": {},
   "cell_type": "markdown",
   "id": "f4fc7230",
   "metadata": {},
   "source": [
    "## 2.1 Using list comprehension to keep all elements / transform them (3 points)\n",
    "\n",
    "- Create a new list, `course_codes_ns`, that removes the spaces in each course code: e.g., 'QSS 20' should become 'QSS20'\n",
    "- Print `course_codes_ns`\n",
    "\n",
    "*Hint*: If you're new to regular expressions, then use a built-in string method: `str.replace()`. "
   ]
  },
  {
   "cell_type": "code",
   "execution_count": 29,
   "id": "f1413620",
   "metadata": {},
   "outputs": [
    {
     "name": "stdout",
     "output_type": "stream",
     "text": [
      "['QSS20', 'QSS17', 'COSC1', 'GOV10']\n"
     ]
    }
   ],
   "source": [
    "## your code here to create list without spaces and print\n",
    "course_codes_ns = [course.replace(\" \", \"\") for course in course_codes]\n",
    "print(course_codes_ns)"
   ]
  },
  {
   "cell_type": "markdown",
   "id": "2ac9a87e",
   "metadata": {},
   "source": [
    "## 2.2 Using list comprehension to subset a list (3 points)\n",
    "\n",
    "- Using `course_codes_ns`, create a new list just with courses with 'QSS' in the name; store it as `course_codes_qss`\n",
    "\n",
    "*Hint*: Use an 'if' statement in the list comprehension to implement the condition."
   ]
  },
  {
   "cell_type": "code",
   "execution_count": 30,
   "id": "c75dfa0f",
   "metadata": {},
   "outputs": [
    {
     "name": "stdout",
     "output_type": "stream",
     "text": [
      "['QSS20', 'QSS17']\n"
     ]
    }
   ],
   "source": [
    "## your code here to create and store new QSS-specific list\n",
    "course_codes_qss = [course for course in course_codes_ns if \"QSS\" in course]\n",
    "print(course_codes_qss)"
   ]
  },
  {
   "cell_type": "markdown",
   "id": "1a960516",
   "metadata": {},
   "source": [
    "## 2.3 Using list comprehension to conditionally change a list's elements (3 points)\n",
    "\n",
    "- using `course_codes_ns`, add the string prefix \"coding_\" to COSC 1 and QSS 20; \"stats_\" to GOV 10 and QSS 17\n",
    "- Store as `course_codes_detail` and print\n",
    "\n",
    "*Hint*: You can implement an if-else statement in a list comprehension (\"conditional transformation\") with this syntax:\n",
    "```python\n",
    "[elem_transform1 if condition else elem_transform2 for elem in lst]\n",
    "```"
   ]
  },
  {
   "cell_type": "code",
   "execution_count": 31,
   "id": "8cec5904",
   "metadata": {},
   "outputs": [
    {
     "name": "stdout",
     "output_type": "stream",
     "text": [
      "['coding_QSS20', 'stats_QSS17', 'coding_COSC1', 'stats_GOV10']\n"
     ]
    }
   ],
   "source": [
    "## your code here to add prefixes, store, and print\n",
    "course_codes_detail = [\"coding_\" + course if course == \"COSC1\" or course == \"QSS20\" else \"stats_\" + course for course in course_codes_ns]\n",
    "print(course_codes_detail)"
   ]
  },
  {
   "cell_type": "markdown",
   "id": "5d19921a",
   "metadata": {},
   "source": [
    "# 3. Practice with `numpy` arrays (6 points)"
   ]
  },
  {
   "cell_type": "markdown",
   "id": "09ce8b62",
   "metadata": {},
   "source": [
    "## 3.1 Converting a list to an array (2 points)\n",
    "\n",
    "- A. Transform the roles_listoflists from the previous part (so with TA replaced with teaching assistant)into a 2D numpy array; call it roles_array\n",
    "- B. Print the shape/dimensions of `roles_array`"
   ]
  },
  {
   "cell_type": "code",
   "execution_count": 32,
   "id": "7fdc5735",
   "metadata": {},
   "outputs": [
    {
     "name": "stdout",
     "output_type": "stream",
     "text": [
      "(3, 2)\n"
     ]
    }
   ],
   "source": [
    "## your code here\n",
    "import numpy as np\n",
    "roles_array = np.array(roles_listoflists)\n",
    "print(roles_array.shape)"
   ]
  },
  {
   "attachments": {},
   "cell_type": "markdown",
   "id": "3c5feb80",
   "metadata": {},
   "source": [
    "## 3.2 Subsetting arrays using True/False (boolean) indicators (2 points)\n",
    "\n",
    "- A. Create a boolean indicator for rows where the role (second column) == 'Teaching Assistant' and print that indicator\n",
    "- B. Use that boolean indicator to subset roles_array store the array as roles_TA \n",
    "- C. Print the `roles_TA` array and its dimensions (should be 1x2)"
   ]
  },
  {
   "cell_type": "code",
   "execution_count": 33,
   "id": "ac8b2f0f",
   "metadata": {},
   "outputs": [
    {
     "name": "stdout",
     "output_type": "stream",
     "text": [
      "[False  True False]\n"
     ]
    }
   ],
   "source": [
    "## your code here\n",
    "indicator_TA = roles_array[:,1] == \"Teaching Assistant\"\n",
    "print(indicator_TA)"
   ]
  },
  {
   "cell_type": "code",
   "execution_count": 34,
   "id": "60184502",
   "metadata": {},
   "outputs": [],
   "source": [
    "## your code here\n",
    "roles_TA = roles_array[indicator_TA]"
   ]
  },
  {
   "cell_type": "code",
   "execution_count": 35,
   "id": "95f4eadc",
   "metadata": {},
   "outputs": [
    {
     "name": "stdout",
     "output_type": "stream",
     "text": [
      "[['Eunice' 'Teaching Assistant']] (1, 2)\n"
     ]
    }
   ],
   "source": [
    "## your code here\n",
    "print(roles_TA, roles_TA.shape)"
   ]
  },
  {
   "attachments": {},
   "cell_type": "markdown",
   "id": "d2d8c9b6",
   "metadata": {},
   "source": [
    "## 3.3 Adding to an array (2 points)\n",
    "\n",
<<<<<<< HEAD:problemsets/pset1/pset1_f0055yb.ipynb
    "- A. Use `np.append` (google the documentation) to add the following column with the netid of the one TA listed to the roles_TA array as the last column\n",
=======
    "- A. Use <code>np.append</code> (google the documentation) to add the following column with the netid of the one TA listed to the roles_TA array as the last column\n",
>>>>>>> f200d09d8dc145d61e7abf928ab085f1c73b6183:problemsets/pset1/pset1_blank.ipynb
    "- B. Store as role_TA_net\n",
    "- C. Print the dimensions (should be 1x3)"
   ]
  },
  {
   "cell_type": "code",
   "execution_count": 36,
   "id": "b2fca68e",
   "metadata": {},
   "outputs": [
    {
     "name": "stdout",
     "output_type": "stream",
     "text": [
      "[['yl1374']]\n"
     ]
    }
   ],
   "source": [
    "## column to add \n",
<<<<<<< HEAD:problemsets/pset1/pset1_f0055yb.ipynb
    "netids = np.array([['yl1374']])\n",
    "print(netids)"
=======
    "netid = np.array([['yl1374']])\n",
    "print(netid)"
>>>>>>> f200d09d8dc145d61e7abf928ab085f1c73b6183:problemsets/pset1/pset1_blank.ipynb
   ]
  },
  {
   "cell_type": "code",
   "execution_count": 37,
   "id": "4cefee08",
   "metadata": {},
   "outputs": [],
   "source": [
    "## your code here\n",
    "roles_TA_net = np.append(roles_TA, netids, axis=1)"
   ]
  },
  {
   "cell_type": "code",
   "execution_count": 38,
   "id": "fd07479f",
   "metadata": {},
   "outputs": [
    {
     "name": "stdout",
     "output_type": "stream",
     "text": [
      "(1, 3)\n"
     ]
    }
   ],
   "source": [
    "## your code here\n",
    "print(roles_TA_net.shape)"
   ]
  }
 ],
 "metadata": {
  "kernelspec": {
   "display_name": "Python 3 (ipykernel)",
   "language": "python",
   "name": "python3"
  },
  "language_info": {
   "codemirror_mode": {
    "name": "ipython",
    "version": 3
   },
   "file_extension": ".py",
   "mimetype": "text/x-python",
   "name": "python",
   "nbconvert_exporter": "python",
   "pygments_lexer": "ipython3",
   "version": "3.10.9 (main, Dec 15 2022, 10:44:50) [Clang 14.0.0 (clang-1400.0.29.202)]"
  },
  "vscode": {
   "interpreter": {
    "hash": "b0fa6594d8f4cbf19f97940f81e996739fb7646882a419484c72d19e05852a7e"
   }
  }
 },
 "nbformat": 4,
 "nbformat_minor": 5
}
