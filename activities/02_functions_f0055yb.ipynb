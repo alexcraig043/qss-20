{
 "cells": [
  {
   "cell_type": "code",
   "execution_count": 1,
   "metadata": {},
   "outputs": [],
   "source": [
    "## imports\n",
    "import pandas as pd\n",
    "import numpy as np\n",
    "import random\n",
    "\n",
    "## print multiple things from same cell\n",
    "from IPython.core.interactiveshell import InteractiveShell\n",
    "InteractiveShell.ast_node_interactivity = \"all\"\n",
    "\n",
    "from datetime import datetime, timedelta"
   ]
  },
  {
   "cell_type": "markdown",
   "metadata": {},
   "source": [
    "# Load data"
   ]
  },
  {
   "cell_type": "code",
   "execution_count": 2,
   "metadata": {
    "scrolled": true
   },
   "outputs": [],
   "source": [
    "## load data on 2020 crimes in DC\n",
    "dc_crim_2020 = pd.read_csv(\"https://opendata.arcgis.com/datasets/f516e0dd7b614b088ad781b0c4002331_2.csv\")\n",
    "\n",
    "## create date of crime\n",
    "dc_crim_2020['report_day'] = pd.to_datetime(dc_crim_2020.REPORT_DAT).dt.date"
   ]
  },
  {
   "cell_type": "markdown",
   "metadata": {},
   "source": [
    "# 1. Example task and function\n",
    "\n",
    "**Task**: write a function that takes in two arguments--a dataframe and an integer of a Ward number\n",
    "    \n",
    "- The function should subset to:\n",
    "    - That ward\n",
    "    - The ward immediately \"below\" that ward (if focal ward is Ward 2, Ward 1)\n",
    "    - The ward immediately \"above\" that ward (if focal ward is Ward 2, Ward 3)\n",
    "- Find the number of unique crime reports (unique CCN) in each of those 3 wards\n",
    "- Should print the name + # of crimes in the ward with the most unique crime reports of that comparison set \n",
    "\n",
    "For now, don't worry about cases where you input a number outside of 2-7 (so all wards inputted will have a ward above and below)"
   ]
  },
  {
   "cell_type": "markdown",
   "metadata": {},
   "source": [
    "## 1.1 Step one: before writing the function, write the code that goes inside the \"meat\" of the function \n",
    "\n",
    "To do so, focus on making the code work for ward 3"
   ]
  },
  {
   "cell_type": "code",
   "execution_count": 3,
   "metadata": {},
   "outputs": [
    {
     "data": {
      "text/plain": [
       "[3, 2, 4]"
      ]
     },
     "execution_count": 3,
     "metadata": {},
     "output_type": "execute_result"
    },
    {
     "data": {
      "text/plain": [
       "2    4685\n",
       "4    2702\n",
       "3    1708\n",
       "Name: WARD, dtype: int64"
      ]
     },
     "execution_count": 3,
     "metadata": {},
     "output_type": "execute_result"
    },
    {
     "data": {
      "text/html": [
       "<div>\n",
       "<style scoped>\n",
       "    .dataframe tbody tr th:only-of-type {\n",
       "        vertical-align: middle;\n",
       "    }\n",
       "\n",
       "    .dataframe tbody tr th {\n",
       "        vertical-align: top;\n",
       "    }\n",
       "\n",
       "    .dataframe thead th {\n",
       "        text-align: right;\n",
       "    }\n",
       "</style>\n",
       "<table border=\"1\" class=\"dataframe\">\n",
       "  <thead>\n",
       "    <tr style=\"text-align: right;\">\n",
       "      <th></th>\n",
       "      <th>WARD</th>\n",
       "      <th>CCN</th>\n",
       "    </tr>\n",
       "  </thead>\n",
       "  <tbody>\n",
       "    <tr>\n",
       "      <th>0</th>\n",
       "      <td>2</td>\n",
       "      <td>4685</td>\n",
       "    </tr>\n",
       "    <tr>\n",
       "      <th>1</th>\n",
       "      <td>3</td>\n",
       "      <td>1708</td>\n",
       "    </tr>\n",
       "    <tr>\n",
       "      <th>2</th>\n",
       "      <td>4</td>\n",
       "      <td>2700</td>\n",
       "    </tr>\n",
       "  </tbody>\n",
       "</table>\n",
       "</div>"
      ],
      "text/plain": [
       "   WARD   CCN\n",
       "0     2  4685\n",
       "1     3  1708\n",
       "2     4  2700"
      ]
     },
     "execution_count": 3,
     "metadata": {},
     "output_type": "execute_result"
    },
    {
     "name": "stdout",
     "output_type": "stream",
     "text": [
      "Ward with most reports of neighbors is WARD 2 with N reports: 4685\n"
     ]
    }
   ],
   "source": [
    "## first, get neighboring wards\n",
    "## for ward 3\n",
    "neighbor_wards = [3 - 1, 3 + 1]\n",
    "wards_touse = [3] + neighbor_wards \n",
    "wards_touse\n",
    "\n",
    "## then, use isin command to subset the data\n",
    "## to those words\n",
    "df_focal = dc_crim_2020[dc_crim_2020.WARD.isin(wards_touse)].copy()\n",
    "df_focal.WARD.value_counts()\n",
    "\n",
    "## then, use groupby to find unique\n",
    "ward_ccn = df_focal.groupby('WARD')['CCN'].nunique().reset_index()\n",
    "ward_ccn\n",
    "\n",
    "## finally, get the top one (multiple ways)\n",
    "top_ward = ward_ccn.sort_values(by = 'CCN', ascending = False).head(1)\n",
    "print(\"Ward with most reports of neighbors is WARD \" + str(top_ward['WARD'].values[0]) +\n",
    "     \" with N reports: \" + str(top_ward.CCN.values[0]))"
   ]
  },
  {
   "cell_type": "markdown",
   "metadata": {},
   "source": [
    "## 1.2 Step two: generalize OUTSIDE the function by creating objects that contain what you'll eventually pass in as parameters"
   ]
  },
  {
   "cell_type": "code",
   "execution_count": 4,
   "metadata": {},
   "outputs": [
    {
     "name": "stdout",
     "output_type": "stream",
     "text": [
      "Ward with most reports of neighbors is WARD 2 with N reports: 4685\n"
     ]
    }
   ],
   "source": [
    "## creating one object with focal ward\n",
    "## and using it in first part of code\n",
    "focal_ward = 3\n",
    "neighbor_wards = [focal_ward - 1, focal_ward + 1]\n",
    "wards_touse = [focal_ward] + neighbor_wards \n",
    "\n",
    "## creating another object with the dataframe\n",
    "## and then replacing the specific dataframe name (dc_crim_2020)\n",
    "df = dc_crim_2020.copy()\n",
    "df_focal = df[df.WARD.isin(wards_touse)].copy()\n",
    "\n",
    "## then, use groupby to find unique\n",
    "ward_ccn = df_focal.groupby('WARD')['CCN'].nunique().reset_index()\n",
    "\n",
    "## finally, get the top one (multiple ways)\n",
    "top_ward = ward_ccn.sort_values(by = 'CCN', ascending = False).head(1)\n",
    "print(\"Ward with most reports of neighbors is WARD \" + str(top_ward['WARD'].values[0]) +\n",
    "     \" with N reports: \" + str(top_ward.CCN.values[0]))"
   ]
  },
  {
   "cell_type": "markdown",
   "metadata": {},
   "source": [
    "## 1.3 Step three: copy and paste that code into a function, add parameters, and add documentation \n"
   ]
  },
  {
   "cell_type": "code",
   "execution_count": 5,
   "metadata": {},
   "outputs": [],
   "source": [
    "def compare_wards(focal_ward: int, df: pd.DataFrame):\n",
    "    \"\"\"\n",
    "    Prints the ward with the most crime reports of its two neighbors\n",
    "    and the number of reports in that ward\n",
    "        Parameters:\n",
    "            focal_ward (int): An integer between 2 and 7 for wards\n",
    "            df (pd.DataFrame): Dataframe to find the wards in\n",
    "\n",
    "        Returns:\n",
    "            Nothing\n",
    "    \"\"\"\n",
    "    ## get list of wards to use\n",
    "    neighbor_wards = [focal_ward - 1, focal_ward + 1]\n",
    "    wards_touse = [focal_ward] + neighbor_wards \n",
    "    ## subset to those\n",
    "    df_focal = df[df.WARD.isin(wards_touse)].copy()\n",
    "    ## find crimes per ward\n",
    "    ward_ccn = df_focal.groupby('WARD')['CCN'].nunique().reset_index()\n",
    "    ## finally, get the top one \n",
    "    top_ward = ward_ccn.sort_values(by = 'CCN', ascending = False).head(1)\n",
    "    ## print\n",
    "    print(\"Ward with most reports of neighbors is WARD \" + \\\n",
    "          str(top_ward['WARD'].values[0]) +\n",
    "     \" with N reports: \" + str(top_ward.CCN.values[0]) + \\\n",
    "    \" out of following wards \" + \"; \".join([str(x) for x in sorted(wards_touse)]))"
   ]
  },
  {
   "cell_type": "markdown",
   "metadata": {},
   "source": [
    "## 1.4 Step four: execute the function\n",
    "\n",
    "Execute the function two times: once with ward 3 and another time with ward 6"
   ]
  },
  {
   "cell_type": "code",
   "execution_count": 6,
   "metadata": {},
   "outputs": [
    {
     "name": "stdout",
     "output_type": "stream",
     "text": [
      "Ward with most reports of neighbors is WARD 2 with N reports: 4685 out of following wards 2; 3; 4\n",
      "Ward with most reports of neighbors is WARD 5 with N reports: 4391 out of following wards 5; 6; 7\n"
     ]
    }
   ],
   "source": [
    "compare_wards(focal_ward = 3, df = dc_crim_2020)\n",
    "compare_wards(focal_ward = 6, df = dc_crim_2020)\n"
   ]
  },
  {
   "cell_type": "markdown",
   "metadata": {},
   "source": [
    "Repeat the execution but instead of copy/pasting two separate lines of code, use list comprehension to execute repeatedly"
   ]
  },
  {
   "cell_type": "code",
   "execution_count": 7,
   "metadata": {},
   "outputs": [
    {
     "name": "stdout",
     "output_type": "stream",
     "text": [
      "Ward with most reports of neighbors is WARD 2 with N reports: 4685 out of following wards 2; 3; 4\n",
      "Ward with most reports of neighbors is WARD 5 with N reports: 4391 out of following wards 5; 6; 7\n"
     ]
    },
    {
     "data": {
      "text/plain": [
       "[None, None]"
      ]
     },
     "execution_count": 7,
     "metadata": {},
     "output_type": "execute_result"
    }
   ],
   "source": [
    "[compare_wards(focal_ward = i, df = dc_crim_2020)\n",
    "for i in [3, 6]]"
   ]
  },
  {
   "cell_type": "markdown",
   "metadata": {},
   "source": [
    "## 1.5 Step five: modify as needed to handle more cases\n",
    "\n",
    "**Example**: if `focal_ward` is outside 2-7 range (either integer outside that range or wrong type), skip the calculation and print statements that tell user correct format for parameter to pass in\n",
    "\n",
    "Test these statements by executing the function three times and only last one should print the crime counts:\n",
    "- One with ward as a string\n",
    "- Another with ward equal to 20\n",
    "- A third time with ward equal to 5 "
   ]
  },
  {
   "cell_type": "code",
   "execution_count": 8,
   "metadata": {},
   "outputs": [],
   "source": [
    "def compare_wards(focal_ward: int, df: pd.DataFrame):\n",
    "    \"\"\"\n",
    "    Prints the ward with the most crime reports of its two neighbors\n",
    "    and the number of reports in that ward\n",
    "        Parameters:\n",
    "            focal_ward (int): An integer between 2 and 7 for wards\n",
    "            df (pd.DataFrame): Dataframe to find the wards in\n",
    "\n",
    "        Returns:\n",
    "            Nothing\n",
    "    \"\"\"\n",
    "    ## print statement if input not correct\n",
    "    if not isinstance(focal_ward, int):\n",
    "        print(\"Try again; focal ward needs to be integer\")\n",
    "    elif focal_ward < 2 or focal_ward > 7:\n",
    "        print(\"Try again; focal ward integer needs to be 2 through 7\")\n",
    "    else:\n",
    "        ## get list of wards to use\n",
    "        neighbor_wards = [focal_ward - 1, focal_ward + 1]\n",
    "        wards_touse = [focal_ward] + neighbor_wards \n",
    "        ## subset to those\n",
    "        df_focal = df[df.WARD.isin(wards_touse)].copy()\n",
    "        ## find crimes per ward\n",
    "        ward_ccn = df_focal.groupby('WARD')['CCN'].nunique().reset_index()\n",
    "        ## finally, get the top one \n",
    "        top_ward = ward_ccn.sort_values(by = 'CCN', ascending = False).head(1)\n",
    "        ## print\n",
    "        print(\"Ward with most reports of neighbors is WARD \" + \\\n",
    "          str(top_ward['WARD'].values[0]) +\n",
    "         \" with N reports: \" + str(top_ward.CCN.values[0]) + \\\n",
    "        \" out of following wards \" + \"; \".join([str(x) for x in sorted(wards_touse)]))"
   ]
  },
  {
   "cell_type": "code",
   "execution_count": 9,
   "metadata": {},
   "outputs": [
    {
     "name": "stdout",
     "output_type": "stream",
     "text": [
      "Try again; focal ward needs to be integer\n",
      "Try again; focal ward integer needs to be 2 through 7\n",
      "Ward with most reports of neighbors is WARD 5 with N reports: 4391 out of following wards 4; 5; 6\n"
     ]
    }
   ],
   "source": [
    "compare_wards(focal_ward = '5', df = dc_crim_2020)\n",
    "compare_wards(focal_ward = 20, df = dc_crim_2020)\n",
    "compare_wards(focal_ward = 5, df = dc_crim_2020)"
   ]
  },
  {
   "cell_type": "markdown",
   "metadata": {},
   "source": [
    "# 2. Group activity: writing your own function"
   ]
  },
  {
   "cell_type": "markdown",
   "metadata": {},
   "source": [
    "**Task**: we want to start to explore clustering in the timing/location of crimes. \n",
    "\n",
    "For each crime in CCN_examples, we want to want to look in the remaining crime reports for crime reports that are:\n",
    "\n",
    "- Located in the same ward as the focal crime\n",
    "- Reported within 2 days (plus or minus; inclusive) of the focal crime's date (`report_day`)\n",
    "\n",
    "We want the function to return the percentage of those same-ward, near-time crimes that have the same `OFFENSE` as the focal crime "
   ]
  },
  {
   "cell_type": "code",
   "execution_count": 10,
   "metadata": {},
   "outputs": [],
   "source": [
    "## CCN examples\n",
    "CCN_examples = ['20165648', '20123250']"
   ]
  },
  {
   "cell_type": "markdown",
   "metadata": {},
   "source": [
    "## 2.1 Here's code that finds matches for the first crime in CCN examples\n",
    "\n",
    "You can adapt this code for your function"
   ]
  },
  {
   "cell_type": "code",
   "execution_count": 11,
   "metadata": {},
   "outputs": [
    {
     "data": {
      "text/html": [
       "<div>\n",
       "<style scoped>\n",
       "    .dataframe tbody tr th:only-of-type {\n",
       "        vertical-align: middle;\n",
       "    }\n",
       "\n",
       "    .dataframe tbody tr th {\n",
       "        vertical-align: top;\n",
       "    }\n",
       "\n",
       "    .dataframe thead th {\n",
       "        text-align: right;\n",
       "    }\n",
       "</style>\n",
       "<table border=\"1\" class=\"dataframe\">\n",
       "  <thead>\n",
       "    <tr style=\"text-align: right;\">\n",
       "      <th></th>\n",
       "      <th>X</th>\n",
       "      <th>Y</th>\n",
       "      <th>CCN</th>\n",
       "      <th>REPORT_DAT</th>\n",
       "      <th>SHIFT</th>\n",
       "      <th>METHOD</th>\n",
       "      <th>OFFENSE</th>\n",
       "      <th>BLOCK</th>\n",
       "      <th>XBLOCK</th>\n",
       "      <th>YBLOCK</th>\n",
       "      <th>...</th>\n",
       "      <th>CENSUS_TRACT</th>\n",
       "      <th>VOTING_PRECINCT</th>\n",
       "      <th>LATITUDE</th>\n",
       "      <th>LONGITUDE</th>\n",
       "      <th>BID</th>\n",
       "      <th>START_DATE</th>\n",
       "      <th>END_DATE</th>\n",
       "      <th>OBJECTID</th>\n",
       "      <th>OCTO_RECORD_ID</th>\n",
       "      <th>report_day</th>\n",
       "    </tr>\n",
       "  </thead>\n",
       "  <tbody>\n",
       "    <tr>\n",
       "      <th>26219</th>\n",
       "      <td>-77.00748</td>\n",
       "      <td>38.904698</td>\n",
       "      <td>20165648</td>\n",
       "      <td>2020/11/20 02:25:50+00</td>\n",
       "      <td>EVENING</td>\n",
       "      <td>OTHERS</td>\n",
       "      <td>MOTOR VEHICLE THEFT</td>\n",
       "      <td>1 - 99 BLOCK OF PIERCE STREET NE</td>\n",
       "      <td>399351.44</td>\n",
       "      <td>137425.96</td>\n",
       "      <td>...</td>\n",
       "      <td>10603.0</td>\n",
       "      <td>Precinct 144</td>\n",
       "      <td>38.90469</td>\n",
       "      <td>-77.007477</td>\n",
       "      <td>NOMA</td>\n",
       "      <td>2020/11/20 00:45:25+00</td>\n",
       "      <td>2020/11/20 00:50:03+00</td>\n",
       "      <td>276322035</td>\n",
       "      <td>NaN</td>\n",
       "      <td>2020-11-20</td>\n",
       "    </tr>\n",
       "  </tbody>\n",
       "</table>\n",
       "<p>1 rows × 26 columns</p>\n",
       "</div>"
      ],
      "text/plain": [
       "              X          Y       CCN              REPORT_DAT    SHIFT  METHOD  \\\n",
       "26219 -77.00748  38.904698  20165648  2020/11/20 02:25:50+00  EVENING  OTHERS   \n",
       "\n",
       "                   OFFENSE                             BLOCK     XBLOCK  \\\n",
       "26219  MOTOR VEHICLE THEFT  1 - 99 BLOCK OF PIERCE STREET NE  399351.44   \n",
       "\n",
       "          YBLOCK  ...  CENSUS_TRACT VOTING_PRECINCT  LATITUDE  LONGITUDE  \\\n",
       "26219  137425.96  ...       10603.0    Precinct 144  38.90469 -77.007477   \n",
       "\n",
       "        BID              START_DATE                END_DATE   OBJECTID  \\\n",
       "26219  NOMA  2020/11/20 00:45:25+00  2020/11/20 00:50:03+00  276322035   \n",
       "\n",
       "       OCTO_RECORD_ID  report_day  \n",
       "26219             NaN  2020-11-20  \n",
       "\n",
       "[1 rows x 26 columns]"
      ]
     },
     "execution_count": 11,
     "metadata": {},
     "output_type": "execute_result"
    },
    {
     "data": {
      "text/html": [
       "<div>\n",
       "<style scoped>\n",
       "    .dataframe tbody tr th:only-of-type {\n",
       "        vertical-align: middle;\n",
       "    }\n",
       "\n",
       "    .dataframe tbody tr th {\n",
       "        vertical-align: top;\n",
       "    }\n",
       "\n",
       "    .dataframe thead th {\n",
       "        text-align: right;\n",
       "    }\n",
       "</style>\n",
       "<table border=\"1\" class=\"dataframe\">\n",
       "  <thead>\n",
       "    <tr style=\"text-align: right;\">\n",
       "      <th></th>\n",
       "      <th>CCN</th>\n",
       "      <th>WARD</th>\n",
       "    </tr>\n",
       "  </thead>\n",
       "  <tbody>\n",
       "    <tr>\n",
       "      <th>9</th>\n",
       "      <td>20011239</td>\n",
       "      <td>6</td>\n",
       "    </tr>\n",
       "    <tr>\n",
       "      <th>12</th>\n",
       "      <td>20011260</td>\n",
       "      <td>6</td>\n",
       "    </tr>\n",
       "    <tr>\n",
       "      <th>15</th>\n",
       "      <td>20011280</td>\n",
       "      <td>6</td>\n",
       "    </tr>\n",
       "    <tr>\n",
       "      <th>36</th>\n",
       "      <td>20015147</td>\n",
       "      <td>6</td>\n",
       "    </tr>\n",
       "    <tr>\n",
       "      <th>42</th>\n",
       "      <td>20015199</td>\n",
       "      <td>6</td>\n",
       "    </tr>\n",
       "  </tbody>\n",
       "</table>\n",
       "</div>"
      ],
      "text/plain": [
       "         CCN  WARD\n",
       "9   20011239     6\n",
       "12  20011260     6\n",
       "15  20011280     6\n",
       "36  20015147     6\n",
       "42  20015199     6"
      ]
     },
     "execution_count": 11,
     "metadata": {},
     "output_type": "execute_result"
    },
    {
     "data": {
      "text/plain": [
       "26219    2020-11-18\n",
       "Name: report_day, dtype: object"
      ]
     },
     "execution_count": 11,
     "metadata": {},
     "output_type": "execute_result"
    },
    {
     "data": {
      "text/plain": [
       "26219    2020-11-22\n",
       "Name: report_day, dtype: object"
      ]
     },
     "execution_count": 11,
     "metadata": {},
     "output_type": "execute_result"
    }
   ],
   "source": [
    "## information for focal crime\n",
    "crime_num = CCN_examples[0]\n",
    "focal_crime_df = dc_crim_2020[dc_crim_2020.CCN.astype(str) == crime_num].copy()\n",
    "focal_crime_df\n",
    "\n",
    "## crimes in same ward that are not the focal crime\n",
    "crimes_lookin = dc_crim_2020[~dc_crim_2020.CCN.isin([crime_num])].copy()\n",
    "same_ward = crimes_lookin[crimes_lookin.WARD.isin(focal_crime_df.WARD)].copy()\n",
    "same_ward[['CCN', 'WARD']].head()\n",
    "\n",
    "## get the dates 2 days before and after\n",
    "lower_bound = focal_crime_df.report_day - timedelta(days = 2)\n",
    "upper_bound = focal_crime_df.report_day + timedelta(days = 2)\n",
    "\n",
    "lower_bound\n",
    "upper_bound"
   ]
  },
  {
   "cell_type": "code",
   "execution_count": 12,
   "metadata": {},
   "outputs": [
    {
     "data": {
      "text/plain": [
       "0.16129032258064516"
      ]
     },
     "execution_count": 12,
     "metadata": {},
     "output_type": "execute_result"
    }
   ],
   "source": [
    "\n",
    "## filter to same ward within that buffer\n",
    "sw_timebuff = same_ward[(same_ward.report_day >= lower_bound.values[0]) &\n",
    "         (same_ward.report_day <= upper_bound.values[0])]\n",
    "\n",
    "## % of reports that are same offense as focal report\n",
    "sw_timebuff[sw_timebuff.OFFENSE == focal_crime_df.OFFENSE.values[0]].shape[0]/sw_timebuff.shape[0]"
   ]
  },
  {
   "cell_type": "markdown",
   "metadata": {},
   "source": [
    "## 2.2 Generalize into a function that:\n",
    "\n",
    "- Takes in an arbitrary CCN identifier string\n",
    "- Takes in an arbitrary number of days to look for crimes in range of (doesn't need to be flexible enough to handle other time buffers like minutes)\n",
    "\n",
    "Execute the function with the first crime we focus on: `20165648'"
   ]
  },
  {
   "cell_type": "code",
   "execution_count": 13,
   "metadata": {},
   "outputs": [
    {
     "data": {
      "text/plain": [
       "0.16129032258064516"
      ]
     },
     "execution_count": 13,
     "metadata": {},
     "output_type": "execute_result"
    }
   ],
   "source": [
    "## your code here\n",
    "def get_similar_crime_prop(crime_num: str, num_days: int):\n",
    "    \"\"\"\n",
    "    Returns the proportion of crimes in the same ward and +/- num_days days of the focal crime that have the same OFFENSE as the focal crime\n",
    "    Parameters:\n",
    "        crime_num (string): Focal crime CCN number\n",
    "        num_days (int): Number of days to look before and after focal crime\n",
    "\n",
    "    Returns:\n",
    "        float: Float representing the proportion\n",
    "    \"\"\"\n",
    "    ## information for focal crime\n",
    "    focal_crime_df = dc_crim_2020[dc_crim_2020.CCN.astype(str) == crime_num].copy()\n",
    "\n",
    "    ## crimes in same ward that are not the focal crime\n",
    "    crimes_lookin = dc_crim_2020[~dc_crim_2020.CCN.isin([crime_num])].copy()\n",
    "    same_ward = crimes_lookin[crimes_lookin.WARD.isin(focal_crime_df.WARD)].copy()\n",
    "\n",
    "    ## get the dates 2 days before and after\n",
    "    lower_bound = focal_crime_df.report_day - timedelta(days = num_days)\n",
    "    upper_bound = focal_crime_df.report_day + timedelta(days = num_days)\n",
    "\n",
    "    ## filter to same ward within that buffer\n",
    "    sw_timebuff = same_ward[(same_ward.report_day >= lower_bound.values[0]) &\n",
    "            (same_ward.report_day <= upper_bound.values[0])]\n",
    "\n",
    "    ## % of reports that are same offense as focal report\n",
    "    return sw_timebuff[sw_timebuff.OFFENSE == focal_crime_df.OFFENSE.values[0]].shape[0]/sw_timebuff.shape[0]\n",
    "    \n",
    "get_similar_crime_prop(\"20165648\", 2)"
   ]
  },
  {
   "cell_type": "markdown",
   "metadata": {},
   "source": [
    "## 2.3 Use list comprehension to iterate over the two focal crimes in CCN_examples and execute the function repeatedly\n",
    "\n",
    "Since the function returns a specific value (the percentage), eventually store the two results in a pandas dataframe that also contains the crime ID (CCN) that corresponds to that percentage"
   ]
  },
  {
   "cell_type": "code",
   "execution_count": 14,
   "metadata": {},
   "outputs": [
    {
     "data": {
      "text/html": [
       "<div>\n",
       "<style scoped>\n",
       "    .dataframe tbody tr th:only-of-type {\n",
       "        vertical-align: middle;\n",
       "    }\n",
       "\n",
       "    .dataframe tbody tr th {\n",
       "        vertical-align: top;\n",
       "    }\n",
       "\n",
       "    .dataframe thead th {\n",
       "        text-align: right;\n",
       "    }\n",
       "</style>\n",
       "<table border=\"1\" class=\"dataframe\">\n",
       "  <thead>\n",
       "    <tr style=\"text-align: right;\">\n",
       "      <th></th>\n",
       "      <th>CCN</th>\n",
       "      <th>similar_crime_rate</th>\n",
       "    </tr>\n",
       "  </thead>\n",
       "  <tbody>\n",
       "    <tr>\n",
       "      <th>0</th>\n",
       "      <td>20165648</td>\n",
       "      <td>0.161290</td>\n",
       "    </tr>\n",
       "    <tr>\n",
       "      <th>1</th>\n",
       "      <td>20123250</td>\n",
       "      <td>0.136364</td>\n",
       "    </tr>\n",
       "  </tbody>\n",
       "</table>\n",
       "</div>"
      ],
      "text/plain": [
       "        CCN  similar_crime_rate\n",
       "0  20165648            0.161290\n",
       "1  20123250            0.136364"
      ]
     },
     "execution_count": 14,
     "metadata": {},
     "output_type": "execute_result"
    }
   ],
   "source": [
    "## your code here\n",
    "rates = [get_similar_crime_prop(ccn, 2) for ccn in CCN_examples]\n",
    "\n",
    "similar_crime_rate = pd.DataFrame()\n",
    "similar_crime_rate[\"CCN\"] = CCN_examples\n",
    "similar_crime_rate[\"similar_crime_rate\"] = rates\n",
    "\n",
    "similar_crime_rate"
   ]
  }
 ],
 "metadata": {
  "celltoolbar": "Slideshow",
  "kernelspec": {
   "display_name": "Python 3",
   "language": "python",
   "name": "python3"
  },
  "language_info": {
   "codemirror_mode": {
    "name": "ipython",
    "version": 3
   },
   "file_extension": ".py",
   "mimetype": "text/x-python",
   "name": "python",
   "nbconvert_exporter": "python",
   "pygments_lexer": "ipython3",
   "version": "3.10.9 (main, Dec 15 2022, 10:44:50) [Clang 14.0.0 (clang-1400.0.29.202)]"
  },
  "vscode": {
   "interpreter": {
    "hash": "b0fa6594d8f4cbf19f97940f81e996739fb7646882a419484c72d19e05852a7e"
   }
  }
 },
 "nbformat": 4,
 "nbformat_minor": 4
}
