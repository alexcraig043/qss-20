{
 "cells": [
  {
   "cell_type": "markdown",
   "metadata": {
    "id": "kV8UuBu54qhs"
   },
   "source": [
    "# Variables and types\n"
   ]
  },
  {
   "cell_type": "code",
   "execution_count": null,
   "metadata": {
    "id": "QFvj2_NDy3pi"
   },
   "outputs": [],
   "source": [
    "\n",
    "## creating variables\n",
    "my_name = \"Rebecca\"\n",
    "my_birth_month = 9\n",
    "my_birth_day = 19\n",
    "my_birth_year = 1988\n",
    "frac_of_month = 19/30\n",
    "female = True\n"
   ]
  },
  {
   "cell_type": "code",
   "execution_count": null,
   "metadata": {
    "colab": {
     "base_uri": "https://localhost:8080/"
    },
    "id": "3GFHH93g1Vtp",
    "outputId": "68d22432-e196-42cb-8e13-8f81f552746f"
   },
   "outputs": [
    {
     "name": "stdout",
     "output_type": "stream",
     "text": [
      "<class 'str'>\n",
      "<class 'int'>\n",
      "<class 'float'>\n",
      "<class 'bool'>\n"
     ]
    }
   ],
   "source": [
    "## check types\n",
    "print(type(my_name))\n",
    "print(type(my_birth_day))\n",
    "print(type(frac_of_month))\n",
    "print(type(female))"
   ]
  },
  {
   "cell_type": "code",
   "execution_count": null,
   "metadata": {
    "colab": {
     "base_uri": "https://localhost:8080/"
    },
    "id": "dw6aRDrZ2ngb",
    "outputId": "fc08d331-11b0-44e3-e22d-32ab623ee0df"
   },
   "outputs": [
    {
     "name": "stdout",
     "output_type": "stream",
     "text": [
      "<class 'int'>\n",
      "1\n"
     ]
    }
   ],
   "source": [
    "\n",
    "## convert between types\n",
    "### change female from boolean (True or False)\n",
    "### to integer (1 = True; 0 = False)\n",
    "female_int = int(female)\n",
    "print(type(female_int))\n",
    "print(female_int)\n"
   ]
  },
  {
   "cell_type": "code",
   "execution_count": null,
   "metadata": {
    "colab": {
     "base_uri": "https://localhost:8080/"
    },
    "id": "13Fc_cDp23s1",
    "outputId": "4191eaf6-041e-4fc9-c194-8c6eb9a09b78"
   },
   "outputs": [
    {
     "name": "stdout",
     "output_type": "stream",
     "text": [
      "9.0\n"
     ]
    }
   ],
   "source": [
    "### change birth month from integer\n",
    "### to float\n",
    "bmonth_float = float(my_birth_month)\n",
    "print(bmonth_float)"
   ]
  },
  {
   "cell_type": "markdown",
   "metadata": {
    "id": "Q5nWGIR_4yoS"
   },
   "source": [
    "# Lists"
   ]
  },
  {
   "cell_type": "code",
   "execution_count": null,
   "metadata": {
    "colab": {
     "base_uri": "https://localhost:8080/"
    },
    "id": "UDAhRlWJ41lc",
    "outputId": "a7f7f322-2df2-4275-d7c9-42b08b050b45"
   },
   "outputs": [
    {
     "name": "stdout",
     "output_type": "stream",
     "text": [
      "[9, 19, 1988]\n",
      "[9, 19, 1988]\n",
      "<class 'list'>\n",
      "3\n"
     ]
    },
    {
     "data": {
      "text/plain": [
       "7"
      ]
     },
     "execution_count": 5,
     "metadata": {},
     "output_type": "execute_result"
    }
   ],
   "source": [
    "## create a list\n",
    "list_new = [9, 19, 1988]\n",
    "list_existing = [my_birth_month, my_birth_day, \n",
    "                 my_birth_year]\n",
    "\n",
    "print(list_new)\n",
    "print(list_existing)\n",
    "print(type(list_existing))\n",
    "print(len(list_existing))\n",
    "\n",
    "len('9191988')"
   ]
  },
  {
   "cell_type": "markdown",
   "metadata": {
    "id": "3RrWPR_p8rFB"
   },
   "source": [
    "# List comprehension"
   ]
  },
  {
   "cell_type": "code",
   "execution_count": null,
   "metadata": {
    "colab": {
     "base_uri": "https://localhost:8080/"
    },
    "id": "ykhoH4vQ8syn",
    "outputId": "a741d7cc-d3d5-48aa-b915-e255028c9f7a"
   },
   "outputs": [
    {
     "name": "stdout",
     "output_type": "stream",
     "text": [
      "[9, 19, 1988]\n",
      "['9', '19', '1988']\n"
     ]
    }
   ],
   "source": [
    "## copy over list to give more informative name\n",
    "bday_info = list(list_existing)\n",
    "print(bday_info)\n",
    "\n",
    "## convert each element to a string- general transformation\n",
    "bday_info_string = [str(num) for num in bday_info]\n",
    "print(bday_info_string)"
   ]
  },
  {
   "cell_type": "code",
   "execution_count": null,
   "metadata": {
    "colab": {
     "base_uri": "https://localhost:8080/"
    },
    "id": "EvwOjGw8AI0T",
    "outputId": "c832b323-75e3-4e3d-b46c-8f54903c529f"
   },
   "outputs": [
    {
     "name": "stdout",
     "output_type": "stream",
     "text": [
      "['09', '19', '1988']\n"
     ]
    }
   ],
   "source": [
    "## conditional transformation - add a 0 if only 1-char long\n",
    "bday_info_string_pad = ['0' + num if len(num) == 1   \n",
    "                        else num\n",
    "                        for num in bday_info_string]\n",
    "print(bday_info_string_pad)\n"
   ]
  },
  {
   "cell_type": "code",
   "execution_count": null,
   "metadata": {
    "colab": {
     "base_uri": "https://localhost:8080/",
     "height": 294
    },
    "id": "-lC0tcvaLKFG",
    "outputId": "1e7ad583-85cb-40bc-c30f-7ef2ec7207a9"
   },
   "outputs": [
    {
     "ename": "TypeError",
     "evalue": "ignored",
     "output_type": "error",
     "traceback": [
      "\u001b[0;31m---------------------------------------------------------------------------\u001b[0m",
      "\u001b[0;31mTypeError\u001b[0m                                 Traceback (most recent call last)",
      "\u001b[0;32m<ipython-input-11-f047c5dbc707>\u001b[0m in \u001b[0;36m<module>\u001b[0;34m\u001b[0m\n\u001b[1;32m      1\u001b[0m [0 + num if len(num) == 1   \n\u001b[1;32m      2\u001b[0m                   \u001b[0;32melse\u001b[0m \u001b[0mnum\u001b[0m\u001b[0;34m\u001b[0m\u001b[0;34m\u001b[0m\u001b[0m\n\u001b[0;32m----> 3\u001b[0;31m                   for num in bday_info_string]\n\u001b[0m",
      "\u001b[0;32m<ipython-input-11-f047c5dbc707>\u001b[0m in \u001b[0;36m<listcomp>\u001b[0;34m(.0)\u001b[0m\n\u001b[1;32m      1\u001b[0m [0 + num if len(num) == 1   \n\u001b[1;32m      2\u001b[0m                   \u001b[0;32melse\u001b[0m \u001b[0mnum\u001b[0m\u001b[0;34m\u001b[0m\u001b[0;34m\u001b[0m\u001b[0m\n\u001b[0;32m----> 3\u001b[0;31m                   for num in bday_info_string]\n\u001b[0m",
      "\u001b[0;31mTypeError\u001b[0m: unsupported operand type(s) for +: 'int' and 'str'"
     ]
    }
   ],
   "source": [
    "[0 + num if len(num) == 1   \n",
    "                  else num\n",
    "                  for num in bday_info_string]"
   ]
  },
  {
   "cell_type": "code",
   "execution_count": null,
   "metadata": {
    "colab": {
     "base_uri": "https://localhost:8080/"
    },
    "id": "3v2-4U6NCzZP",
    "outputId": "bde4963a-5563-4b6d-9d8e-2fa51a4f15a5"
   },
   "outputs": [
    {
     "name": "stdout",
     "output_type": "stream",
     "text": [
      "['09', '19']\n",
      "['09', '19']\n"
     ]
    }
   ],
   "source": [
    "## filtering\n",
    "month_day_subset = bday_info_string_pad[0:2]\n",
    "print(month_day_subset)\n",
    "month_day_subset_lc = [el for el in bday_info_string_pad \n",
    "                      if el != '1988']\n",
    "print(month_day_subset_lc)\n"
   ]
  },
  {
   "cell_type": "code",
   "execution_count": null,
   "metadata": {
    "colab": {
     "base_uri": "https://localhost:8080/"
    },
    "id": "GUXGlum5Ei0F",
    "outputId": "2f3da6fe-4d65-4d7e-b6fa-1f77c0b885a5"
   },
   "outputs": [
    {
     "name": "stdout",
     "output_type": "stream",
     "text": [
      "['1988', '09']\n",
      "['09', '19']\n"
     ]
    }
   ],
   "source": [
    "### list comprehension more robust to \n",
    "### reordering\n",
    "new_list = ['1988', '09', '19']\n",
    "### indexing gives us wrong answer\n",
    "print(new_list[0:2])\n",
    "### list comp. gives us right answer\n",
    "print([el for el in new_list \n",
    "      if el != '1988'])"
   ]
  },
  {
   "cell_type": "code",
   "execution_count": null,
   "metadata": {
    "colab": {
     "base_uri": "https://localhost:8080/"
    },
    "id": "N1AOXcYBE0_9",
    "outputId": "518ca3ba-4bf5-4879-8a65-3b4f0ef97a3e"
   },
   "outputs": [
    {
     "data": {
      "text/plain": [
       "['09', '01', '12', '11']"
      ]
     },
     "execution_count": 11,
     "metadata": {},
     "output_type": "execute_result"
    }
   ],
   "source": [
    "## example of regex to separate days versus months\n",
    "### import module\n",
    "import re\n",
    "### month pattern is 01...09 or 11 or 12\n",
    "month_pattern = r'0[1-9]|1[1-2]'\n",
    "example_date_str = ['09', '30', '01', '12', '11', '19']\n",
    "### keep element in list if element matches pattern\n",
    "keep_months = [el for el in example_date_str\n",
    "               if re.search(month_pattern, el)]\n",
    "keep_months"
   ]
  },
  {
   "cell_type": "markdown",
   "metadata": {
    "id": "OrR2HRIvzzDc"
   },
   "source": [
    "# Numpy arrays"
   ]
  },
  {
   "cell_type": "code",
   "execution_count": null,
   "metadata": {
    "colab": {
     "base_uri": "https://localhost:8080/"
    },
    "id": "VkECmchE0NKX",
    "outputId": "3b5a91c1-7f03-415f-ca17-c8956cf65081"
   },
   "outputs": [
    {
     "name": "stdout",
     "output_type": "stream",
     "text": [
      "<class 'numpy.ndarray'>\n",
      "['09' '01' '12' '11']\n",
      "(4,)\n"
     ]
    }
   ],
   "source": [
    "## import the module\n",
    "import numpy as np\n",
    "## convert keep_months to a 1d array\n",
    "keep_months_arr = np.array(keep_months)\n",
    "print(type(keep_months_arr))\n",
    "print(keep_months_arr)\n",
    "print(keep_months_arr.shape)"
   ]
  },
  {
   "cell_type": "code",
   "execution_count": null,
   "metadata": {
    "colab": {
     "base_uri": "https://localhost:8080/"
    },
    "id": "evhN1W1W_leP",
    "outputId": "80944a02-aa37-4f66-c782-e2f112e14a09"
   },
   "outputs": [
    {
     "data": {
      "text/plain": [
       "array([['09', '10'],\n",
       "       ['September', 'October']], dtype='<U9')"
      ]
     },
     "execution_count": 19,
     "metadata": {},
     "output_type": "execute_result"
    }
   ],
   "source": [
    "## create a 2-d array\n",
    "months_2d = np.array([['09', '10'], \n",
    "                      ['September', 'October']])\n",
    "months_2d"
   ]
  },
  {
   "cell_type": "code",
   "execution_count": null,
   "metadata": {
    "colab": {
     "base_uri": "https://localhost:8080/"
    },
    "id": "wHBhGIRxZnx7",
    "outputId": "9cb964c8-c537-40ca-a1dc-1df7eae005aa"
   },
   "outputs": [
    {
     "data": {
      "text/plain": [
       "array(['September', 'October'], dtype='<U9')"
      ]
     },
     "execution_count": 25,
     "metadata": {},
     "output_type": "execute_result"
    }
   ],
   "source": [
    "## pull out months (second row)\n",
    "## and all columns\n",
    "months_2d[1, :]"
   ]
  }
 ],
 "metadata": {
  "colab": {
   "collapsed_sections": [],
   "name": "00_introclass.ipynb",
   "provenance": []
  },
  "kernelspec": {
   "display_name": "Python 3",
   "language": "python",
   "name": "python3"
  },
  "language_info": {
   "codemirror_mode": {
    "name": "ipython",
    "version": 3
   },
   "file_extension": ".py",
   "mimetype": "text/x-python",
   "name": "python",
   "nbconvert_exporter": "python",
   "pygments_lexer": "ipython3",
   "version": "3.11.1 (main, Dec 23 2022, 09:25:23) [Clang 14.0.0 (clang-1400.0.29.202)]"
  },
  "vscode": {
   "interpreter": {
    "hash": "5c7b89af1651d0b8571dde13640ecdccf7d5a6204171d6ab33e7c296e100e08a"
   }
  }
 },
 "nbformat": 4,
 "nbformat_minor": 1
}
