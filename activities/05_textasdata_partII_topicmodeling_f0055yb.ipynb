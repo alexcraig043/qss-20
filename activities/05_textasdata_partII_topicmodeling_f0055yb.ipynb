{
 "cells": [
  {
   "cell_type": "markdown",
   "metadata": {},
   "source": [
    "# Notebook for topic modeling "
   ]
  },
  {
   "cell_type": "markdown",
   "metadata": {},
   "source": [
    "# 0. Imports"
   ]
  },
  {
   "cell_type": "code",
   "execution_count": 117,
   "metadata": {},
   "outputs": [],
   "source": [
    "## load packages \n",
    "import pandas as pd\n",
    "import re\n",
    "import numpy as np\n",
    "\n",
    "## nltk imports\n",
    "#!pip install nltk # can install on terminal or by uncommenting this line\n",
    "# import nltk; nltk.download('punkt'); nltk.download('stopwords')\n",
    "from nltk.tokenize import word_tokenize, wordpunct_tokenize\n",
    "from nltk.corpus import stopwords\n",
    "from nltk.stem.porter import PorterStemmer\n",
    "\n",
    "## sklearn imports\n",
    "from sklearn.feature_extraction.text import CountVectorizer\n",
    "\n",
    "## lda\n",
    "#!pip install gensim # can install by uncommenting this line\n",
    "from gensim import corpora\n",
    "import gensim\n",
    "\n",
    "## visualizing LDA--likely need to install\n",
    "#!pip install pyLDAvis # can install by uncommenting this line\n",
    "import pyLDAvis.gensim_models as gensimvis\n",
    "import pyLDAvis\n",
    "pyLDAvis.enable_notebook()\n",
    "\n",
    "## print mult things\n",
    "from IPython.core.interactiveshell import InteractiveShell\n",
    "InteractiveShell.ast_node_interactivity = \"all\"\n",
    "\n",
    "## random\n",
    "import random\n",
    "import string; punctlist = [char for char in string.punctuation] # list of english punctuation marks"
   ]
  },
  {
   "cell_type": "markdown",
   "metadata": {},
   "source": [
    "# 0. Load data"
   ]
  },
  {
   "cell_type": "code",
   "execution_count": 118,
   "metadata": {},
   "outputs": [
    {
     "data": {
      "text/html": [
       "<div>\n",
       "<style scoped>\n",
       "    .dataframe tbody tr th:only-of-type {\n",
       "        vertical-align: middle;\n",
       "    }\n",
       "\n",
       "    .dataframe tbody tr th {\n",
       "        vertical-align: top;\n",
       "    }\n",
       "\n",
       "    .dataframe thead th {\n",
       "        text-align: right;\n",
       "    }\n",
       "</style>\n",
       "<table border=\"1\" class=\"dataframe\">\n",
       "  <thead>\n",
       "    <tr style=\"text-align: right;\">\n",
       "      <th></th>\n",
       "      <th>id</th>\n",
       "      <th>name</th>\n",
       "      <th>name_upper</th>\n",
       "      <th>neighbourhood_group</th>\n",
       "      <th>price</th>\n",
       "    </tr>\n",
       "  </thead>\n",
       "  <tbody>\n",
       "    <tr>\n",
       "      <th>0</th>\n",
       "      <td>2539</td>\n",
       "      <td>Clean &amp; quiet apt home by the park</td>\n",
       "      <td>CLEAN &amp; QUIET APT HOME BY THE PARK</td>\n",
       "      <td>Brooklyn</td>\n",
       "      <td>149</td>\n",
       "    </tr>\n",
       "    <tr>\n",
       "      <th>1</th>\n",
       "      <td>2595</td>\n",
       "      <td>Skylit Midtown Castle</td>\n",
       "      <td>SKYLIT MIDTOWN CASTLE</td>\n",
       "      <td>Manhattan</td>\n",
       "      <td>225</td>\n",
       "    </tr>\n",
       "    <tr>\n",
       "      <th>2</th>\n",
       "      <td>3647</td>\n",
       "      <td>THE VILLAGE OF HARLEM....NEW YORK !</td>\n",
       "      <td>THE VILLAGE OF HARLEM....NEW YORK !</td>\n",
       "      <td>Manhattan</td>\n",
       "      <td>150</td>\n",
       "    </tr>\n",
       "    <tr>\n",
       "      <th>3</th>\n",
       "      <td>3831</td>\n",
       "      <td>Cozy Entire Floor of Brownstone</td>\n",
       "      <td>COZY ENTIRE FLOOR OF BROWNSTONE</td>\n",
       "      <td>Brooklyn</td>\n",
       "      <td>89</td>\n",
       "    </tr>\n",
       "    <tr>\n",
       "      <th>4</th>\n",
       "      <td>5022</td>\n",
       "      <td>Entire Apt: Spacious Studio/Loft by central park</td>\n",
       "      <td>ENTIRE APT: SPACIOUS STUDIO/LOFT BY CENTRAL PARK</td>\n",
       "      <td>Manhattan</td>\n",
       "      <td>80</td>\n",
       "    </tr>\n",
       "  </tbody>\n",
       "</table>\n",
       "</div>"
      ],
      "text/plain": [
       "     id                                              name  \\\n",
       "0  2539                Clean & quiet apt home by the park   \n",
       "1  2595                             Skylit Midtown Castle   \n",
       "2  3647               THE VILLAGE OF HARLEM....NEW YORK !   \n",
       "3  3831                   Cozy Entire Floor of Brownstone   \n",
       "4  5022  Entire Apt: Spacious Studio/Loft by central park   \n",
       "\n",
       "                                         name_upper neighbourhood_group  price  \n",
       "0                CLEAN & QUIET APT HOME BY THE PARK            Brooklyn    149  \n",
       "1                             SKYLIT MIDTOWN CASTLE           Manhattan    225  \n",
       "2               THE VILLAGE OF HARLEM....NEW YORK !           Manhattan    150  \n",
       "3                   COZY ENTIRE FLOOR OF BROWNSTONE            Brooklyn     89  \n",
       "4  ENTIRE APT: SPACIOUS STUDIO/LOFT BY CENTRAL PARK           Manhattan     80  "
      ]
     },
     "execution_count": 118,
     "metadata": {},
     "output_type": "execute_result"
    }
   ],
   "source": [
    "ab = pd.read_csv(\"../public_data/airbnb_text.zip\")\n",
    "ab.head()"
   ]
  },
  {
   "cell_type": "markdown",
   "metadata": {},
   "source": [
    "# 1. Preprocess documents\n",
    "\n",
    "In this case, each name/name_upper, or listing title, we're treating as a document"
   ]
  },
  {
   "cell_type": "markdown",
   "metadata": {},
   "source": [
    "## 1.1 Load stopwords list and augment with our own custom ones"
   ]
  },
  {
   "cell_type": "code",
   "execution_count": 119,
   "metadata": {},
   "outputs": [],
   "source": [
    "list_stopwords = stopwords.words(\"english\")\n",
    "\n",
    "custom_words_toadd = ['apartment', 'new york', 'nyc',\n",
    "                      'bronx', 'brooklyn',\n",
    "                     'manhattan', 'queens', \n",
    "                      'staten island']\n",
    "\n",
    "list_stopwords_new = list_stopwords + custom_words_toadd\n"
   ]
  },
  {
   "cell_type": "markdown",
   "metadata": {},
   "source": [
    "## 1.2 Remove stopwords from lowercase version of corpus\n"
   ]
  },
  {
   "cell_type": "code",
   "execution_count": 120,
   "metadata": {},
   "outputs": [
    {
     "data": {
      "text/plain": [
       "['clean & quiet apt home by the park',\n",
       " 'skylit midtown castle',\n",
       " 'the village of harlem....new york !',\n",
       " 'cozy entire floor of brownstone',\n",
       " 'entire apt: spacious studio/loft by central park']"
      ]
     },
     "execution_count": 120,
     "metadata": {},
     "output_type": "execute_result"
    },
    {
     "data": {
      "text/plain": [
       "['cozy', 'entire', 'floor', 'brownstone']"
      ]
     },
     "execution_count": 120,
     "metadata": {},
     "output_type": "execute_result"
    }
   ],
   "source": [
    "## convert to lowercase and a list\n",
    "corpus_lower = ab.name.str.lower().to_list()\n",
    "corpus_lower[0:5]\n",
    "\n",
    "## use wordpunct tokenize and filter out with one\n",
    "example_listing = corpus_lower[3]\n",
    "nostop_listing = [word for word in wordpunct_tokenize(example_listing) \n",
    "                          if word not in list_stopwords_new]\n",
    "nostop_listing"
   ]
  },
  {
   "cell_type": "markdown",
   "metadata": {},
   "source": [
    "## 1.3 stem and remove non-alpha\n",
    "\n",
    "Other contexts we may want to leave digits in"
   ]
  },
  {
   "cell_type": "code",
   "execution_count": 121,
   "metadata": {},
   "outputs": [
    {
     "data": {
      "text/plain": [
       "['cozi', 'entir', 'floor', 'brownston']"
      ]
     },
     "execution_count": 121,
     "metadata": {},
     "output_type": "execute_result"
    }
   ],
   "source": [
    "## initialize stemmer\n",
    "porter = PorterStemmer()\n",
    "\n",
    "## apply to one by iterating\n",
    "## over the tokens in the list\n",
    "example_listing_preprocess = [porter.stem(token) \n",
    "                            for token in nostop_listing \n",
    "                            if token.isalpha() and \n",
    "                            len(token) > 2]\n",
    "\n",
    "example_listing_preprocess"
   ]
  },
  {
   "cell_type": "code",
   "execution_count": 122,
   "metadata": {},
   "outputs": [
    {
     "data": {
      "text/plain": [
       "'cozy entire floor of brownstone'"
      ]
     },
     "execution_count": 122,
     "metadata": {},
     "output_type": "execute_result"
    },
    {
     "data": {
      "text/plain": [
       "['cozi', 'entir', 'floor', 'brownston']"
      ]
     },
     "execution_count": 122,
     "metadata": {},
     "output_type": "execute_result"
    }
   ],
   "source": [
    "example_listing\n",
    "example_listing_preprocess"
   ]
  },
  {
   "cell_type": "markdown",
   "metadata": {},
   "source": [
    "## 1.4 Activity 1\n",
    "\n",
    "The above example performed preprocessing on a single Airbnb listing. We want to generalize this preprocessing across all listings.\n",
    "\n",
    "- Embed step two (remove stopwords) and step three (stem) into one or two functions that take in a raw string (eg the raw text of an Airbnb review) and return a preprocessed string \n",
    "- Apply the function iteratively to preprocess all the texts in `corpus_lower`. Output could either be a list where each list element is a string of a list (e.g., `cozy brownstone apt`), or a list of lists where each element is a tokenized string (e.g., `['cozy', 'brownstone', 'apt'])`\n",
    "\n",
    "Output is flexible: it could be a list of lists containing tokenized/stemmed text or a list of strings."
   ]
  },
  {
   "cell_type": "code",
   "execution_count": 123,
   "metadata": {},
   "outputs": [
    {
     "data": {
      "text/plain": [
       "'Original corpus:'"
      ]
     },
     "execution_count": 123,
     "metadata": {},
     "output_type": "execute_result"
    },
    {
     "data": {
      "text/plain": [
       "['clean & quiet apt home by the park',\n",
       " 'skylit midtown castle',\n",
       " 'the village of harlem....new york !',\n",
       " 'cozy entire floor of brownstone',\n",
       " 'entire apt: spacious studio/loft by central park']"
      ]
     },
     "execution_count": 123,
     "metadata": {},
     "output_type": "execute_result"
    },
    {
     "data": {
      "text/plain": [
       "'Nostop corpus:'"
      ]
     },
     "execution_count": 123,
     "metadata": {},
     "output_type": "execute_result"
    },
    {
     "data": {
      "text/plain": [
       "['clean & quiet apt home park',\n",
       " 'skylit midtown castle',\n",
       " 'village harlem .... new york !',\n",
       " 'cozy entire floor brownstone',\n",
       " 'entire apt : spacious studio / loft central park']"
      ]
     },
     "execution_count": 123,
     "metadata": {},
     "output_type": "execute_result"
    },
    {
     "data": {
      "text/plain": [
       "'Preprocessed corpus:'"
      ]
     },
     "execution_count": 123,
     "metadata": {},
     "output_type": "execute_result"
    },
    {
     "data": {
      "text/plain": [
       "['clean quiet apt home park',\n",
       " 'skylit midtown castl',\n",
       " 'villag harlem new york',\n",
       " 'cozi entir floor brownston',\n",
       " 'entir apt spaciou studio loft central park']"
      ]
     },
     "execution_count": 123,
     "metadata": {},
     "output_type": "execute_result"
    }
   ],
   "source": [
    "# your code here to define the function(s)\n",
    "def remove_stopwords(corpus, stopwords):\n",
    "    retList = []\n",
    "    for text in corpus:\n",
    "        retList.append(\" \".join([word for word in wordpunct_tokenize(str(text)) \n",
    "                          if word not in stopwords]))\n",
    "    return retList\n",
    "    \n",
    "def stem_tokens(corpus, stemmer):\n",
    "    retList = []\n",
    "    for text in corpus:\n",
    "        retList.append(\" \".join([stemmer.stem(token) for token in text.split(\" \") \n",
    "                            if token.isalpha() \n",
    "                            and len(token) > 2]))\n",
    "    return retList\n",
    "\n",
    "# your code here to apply the function\n",
    "\"Original corpus:\"\n",
    "corpus_lower[0:5]\n",
    "\n",
    "\"Nostop corpus:\"\n",
    "corpus_lower_nostop = remove_stopwords(corpus_lower, list_stopwords_new)\n",
    "corpus_lower_nostop[0:5]\n",
    "\n",
    "\"Preprocessed corpus:\"\n",
    "corpus_lower_preprocess = stem_tokens(corpus_lower_nostop, porter)\n",
    "corpus_lower_preprocess[0:5]"
   ]
  },
  {
   "cell_type": "markdown",
   "metadata": {},
   "source": [
    "# 2. Create a document-term matrix and do some basic diagnostics (more manual approach)\n",
    "\n",
    "Here we'll create a DTM first using the raw documents; in the activity, you'll create one using the preprocessed docs\n",
    "that you created in activity 1"
   ]
  },
  {
   "cell_type": "markdown",
   "metadata": {},
   "source": [
    "## 2.1 Define the dtm function and select data to transform into a document-term matrix"
   ]
  },
  {
   "cell_type": "code",
   "execution_count": 124,
   "metadata": {},
   "outputs": [],
   "source": [
    "## function provided\n",
    "def create_dtm(list_of_strings, metadata):\n",
    "    \"\"\" \n",
    "    Function to create dense document-term matrix (DTM) from a list of strings and provided metadata. \n",
    "    A sparse DTM is a list of term_index/doc_index tuples: if a given term occurs in a given doc at least once, \n",
    "        then this count is listed as a tuple; if not, that term/doc pair is omitted. \n",
    "    In a dense DTM, each row is one text (e.g., an Airbnb listing), each column is a term, and \n",
    "        each cell indicates the frequency of that word in that text. \n",
    "    \n",
    "    Parameters:\n",
    "        list_of_strings (Series): each row contains a preprocessed string (need not be tokenized)\n",
    "        metadata (DataFrame): contains document-level covariates\n",
    "    \n",
    "    Returns:\n",
    "        Dense DTM with metadata on left and then one column per word in lexicon\n",
    "    \"\"\"\n",
    "    \n",
    "    # initialize a sklearn tokenizer; this helps us tokenize the preprocessed string input\n",
    "    vectorizer = CountVectorizer(lowercase = True) \n",
    "    dtm_sparse = vectorizer.fit_transform(list_of_strings)\n",
    "    print('Sparse matrix form:\\n', dtm_sparse[:3]) # take a look at sparse representation\n",
    "    print()\n",
    "    \n",
    "    # switch the dataframe from the sparse representation to the normal dense representation (so we can treat it as regular dataframe)\n",
    "    dtm_dense_named = pd.DataFrame(dtm_sparse.todense(), columns=vectorizer.get_feature_names_out ())\n",
    "    print('Dense matrix form:\\n', dtm_dense_named.head()) # take a look at dense representation\n",
    "    dtm_dense_named_withid = pd.concat([metadata.reset_index(), dtm_dense_named], axis = 1) # add back document-level covariates\n",
    "\n",
    "    return(dtm_dense_named_withid)"
   ]
  },
  {
   "cell_type": "code",
   "execution_count": 125,
   "metadata": {},
   "outputs": [
    {
     "data": {
      "text/html": [
       "<div>\n",
       "<style scoped>\n",
       "    .dataframe tbody tr th:only-of-type {\n",
       "        vertical-align: middle;\n",
       "    }\n",
       "\n",
       "    .dataframe tbody tr th {\n",
       "        vertical-align: top;\n",
       "    }\n",
       "\n",
       "    .dataframe thead th {\n",
       "        text-align: right;\n",
       "    }\n",
       "</style>\n",
       "<table border=\"1\" class=\"dataframe\">\n",
       "  <thead>\n",
       "    <tr style=\"text-align: right;\">\n",
       "      <th></th>\n",
       "      <th>id</th>\n",
       "      <th>neighbourhood_group</th>\n",
       "      <th>price_rawdata</th>\n",
       "      <th>name</th>\n",
       "      <th>name_lower</th>\n",
       "    </tr>\n",
       "  </thead>\n",
       "  <tbody>\n",
       "    <tr>\n",
       "      <th>23821</th>\n",
       "      <td>19227560</td>\n",
       "      <td>Queens</td>\n",
       "      <td>100</td>\n",
       "      <td>Super Cozy!</td>\n",
       "      <td>super cozy!</td>\n",
       "    </tr>\n",
       "    <tr>\n",
       "      <th>22905</th>\n",
       "      <td>18560625</td>\n",
       "      <td>Brooklyn</td>\n",
       "      <td>30</td>\n",
       "      <td>Beautiful Private Bedroom by Prospect Park</td>\n",
       "      <td>beautiful private bedroom by prospect park</td>\n",
       "    </tr>\n",
       "    <tr>\n",
       "      <th>20426</th>\n",
       "      <td>16289576</td>\n",
       "      <td>Manhattan</td>\n",
       "      <td>80</td>\n",
       "      <td>Best Location on the Upper West Side! - Part II</td>\n",
       "      <td>best location on the upper west side! - part ii</td>\n",
       "    </tr>\n",
       "    <tr>\n",
       "      <th>2018</th>\n",
       "      <td>893413</td>\n",
       "      <td>Manhattan</td>\n",
       "      <td>2500</td>\n",
       "      <td>Architecturally Stunning Former Synagogue!</td>\n",
       "      <td>architecturally stunning former synagogue!</td>\n",
       "    </tr>\n",
       "    <tr>\n",
       "      <th>18790</th>\n",
       "      <td>14882137</td>\n",
       "      <td>Queens</td>\n",
       "      <td>50</td>\n",
       "      <td>Large, beautiful room near Bushwick</td>\n",
       "      <td>large, beautiful room near bushwick</td>\n",
       "    </tr>\n",
       "  </tbody>\n",
       "</table>\n",
       "</div>"
      ],
      "text/plain": [
       "             id neighbourhood_group  price_rawdata  \\\n",
       "23821  19227560              Queens            100   \n",
       "22905  18560625            Brooklyn             30   \n",
       "20426  16289576           Manhattan             80   \n",
       "2018     893413           Manhattan           2500   \n",
       "18790  14882137              Queens             50   \n",
       "\n",
       "                                                  name  \\\n",
       "23821                                      Super Cozy!   \n",
       "22905       Beautiful Private Bedroom by Prospect Park   \n",
       "20426  Best Location on the Upper West Side! - Part II   \n",
       "2018        Architecturally Stunning Former Synagogue!   \n",
       "18790              Large, beautiful room near Bushwick   \n",
       "\n",
       "                                            name_lower  \n",
       "23821                                      super cozy!  \n",
       "22905       beautiful private bedroom by prospect park  \n",
       "20426  best location on the upper west side! - part ii  \n",
       "2018        architecturally stunning former synagogue!  \n",
       "18790              large, beautiful room near bushwick  "
      ]
     },
     "execution_count": 125,
     "metadata": {},
     "output_type": "execute_result"
    }
   ],
   "source": [
    "\n",
    "## filter out na's\n",
    "## for shorter runtime, random sampling of 1000\n",
    "## get metadata for those\n",
    "## and also renaming price col since it's likely to be corpus word\n",
    "ab_small = ab.loc[~ab.name.isnull(),\n",
    "           ['id', 'neighbourhood_group', 'price', 'name']].copy().rename(columns = {'price':\n",
    "            'price_rawdata'}).sample(n = 1000, random_state = 422)\n",
    "\n",
    "ab_small['name_lower'] = ab_small['name'].str.lower()\n",
    "ab_small.head()"
   ]
  },
  {
   "cell_type": "markdown",
   "metadata": {},
   "source": [
    "## 2.2 Execute the dtm function to create the document-term matrix"
   ]
  },
  {
   "cell_type": "code",
   "execution_count": 126,
   "metadata": {},
   "outputs": [
    {
     "name": "stdout",
     "output_type": "stream",
     "text": [
      "Sparse matrix form:\n",
      "   (0, 841)\t1\n",
      "  (0, 281)\t1\n",
      "  (1, 152)\t1\n",
      "  (1, 693)\t1\n",
      "  (1, 157)\t1\n",
      "  (1, 205)\t1\n",
      "  (1, 698)\t1\n",
      "  (1, 653)\t1\n",
      "  (2, 165)\t1\n",
      "  (2, 537)\t1\n",
      "  (2, 637)\t1\n",
      "  (2, 856)\t1\n",
      "  (2, 902)\t1\n",
      "  (2, 939)\t1\n",
      "  (2, 774)\t1\n",
      "  (2, 657)\t1\n",
      "  (2, 471)\t1\n",
      "\n",
      "Dense matrix form:\n",
      "    001  10  10m  10min  10mins  1100  12mins  14  15  15min  ...  yoga  york  \\\n",
      "0    0   0    0      0       0     0       0   0   0      0  ...     0     0   \n",
      "1    0   0    0      0       0     0       0   0   0      0  ...     0     0   \n",
      "2    0   0    0      0       0     0       0   0   0      0  ...     0     0   \n",
      "3    0   0    0      0       0     0       0   0   0      0  ...     0     0   \n",
      "4    0   0    0      0       0     0       0   0   0      0  ...     0     0   \n",
      "\n",
      "   you  your  yu  zen  ღღღsteps  法拉盛中心私人房間獨立衛浴  溫馨大套房  獨一無二的紐約閣樓  \n",
      "0    0     0   0    0         0              0      0          0  \n",
      "1    0     0   0    0         0              0      0          0  \n",
      "2    0     0   0    0         0              0      0          0  \n",
      "3    0     0   0    0         0              0      0          0  \n",
      "4    0     0   0    0         0              0      0          0  \n",
      "\n",
      "[5 rows x 970 columns]\n"
     ]
    }
   ],
   "source": [
    "## example application on raw lowercase texts; \n",
    "dtm_nopre = create_dtm(list_of_strings= ab_small.name_lower,\n",
    "                      metadata = ab_small[['id', 'neighbourhood_group', 'price_rawdata']])"
   ]
  },
  {
   "cell_type": "code",
   "execution_count": 127,
   "metadata": {},
   "outputs": [
    {
     "data": {
      "text/html": [
       "<div>\n",
       "<style scoped>\n",
       "    .dataframe tbody tr th:only-of-type {\n",
       "        vertical-align: middle;\n",
       "    }\n",
       "\n",
       "    .dataframe tbody tr th {\n",
       "        vertical-align: top;\n",
       "    }\n",
       "\n",
       "    .dataframe thead th {\n",
       "        text-align: right;\n",
       "    }\n",
       "</style>\n",
       "<table border=\"1\" class=\"dataframe\">\n",
       "  <thead>\n",
       "    <tr style=\"text-align: right;\">\n",
       "      <th></th>\n",
       "      <th>index</th>\n",
       "      <th>id</th>\n",
       "      <th>neighbourhood_group</th>\n",
       "      <th>price_rawdata</th>\n",
       "      <th>001</th>\n",
       "      <th>10</th>\n",
       "      <th>10m</th>\n",
       "      <th>10min</th>\n",
       "      <th>10mins</th>\n",
       "      <th>1100</th>\n",
       "      <th>...</th>\n",
       "      <th>yoga</th>\n",
       "      <th>york</th>\n",
       "      <th>you</th>\n",
       "      <th>your</th>\n",
       "      <th>yu</th>\n",
       "      <th>zen</th>\n",
       "      <th>ღღღsteps</th>\n",
       "      <th>法拉盛中心私人房間獨立衛浴</th>\n",
       "      <th>溫馨大套房</th>\n",
       "      <th>獨一無二的紐約閣樓</th>\n",
       "    </tr>\n",
       "  </thead>\n",
       "  <tbody>\n",
       "    <tr>\n",
       "      <th>0</th>\n",
       "      <td>23821</td>\n",
       "      <td>19227560</td>\n",
       "      <td>Queens</td>\n",
       "      <td>100</td>\n",
       "      <td>0</td>\n",
       "      <td>0</td>\n",
       "      <td>0</td>\n",
       "      <td>0</td>\n",
       "      <td>0</td>\n",
       "      <td>0</td>\n",
       "      <td>...</td>\n",
       "      <td>0</td>\n",
       "      <td>0</td>\n",
       "      <td>0</td>\n",
       "      <td>0</td>\n",
       "      <td>0</td>\n",
       "      <td>0</td>\n",
       "      <td>0</td>\n",
       "      <td>0</td>\n",
       "      <td>0</td>\n",
       "      <td>0</td>\n",
       "    </tr>\n",
       "    <tr>\n",
       "      <th>1</th>\n",
       "      <td>22905</td>\n",
       "      <td>18560625</td>\n",
       "      <td>Brooklyn</td>\n",
       "      <td>30</td>\n",
       "      <td>0</td>\n",
       "      <td>0</td>\n",
       "      <td>0</td>\n",
       "      <td>0</td>\n",
       "      <td>0</td>\n",
       "      <td>0</td>\n",
       "      <td>...</td>\n",
       "      <td>0</td>\n",
       "      <td>0</td>\n",
       "      <td>0</td>\n",
       "      <td>0</td>\n",
       "      <td>0</td>\n",
       "      <td>0</td>\n",
       "      <td>0</td>\n",
       "      <td>0</td>\n",
       "      <td>0</td>\n",
       "      <td>0</td>\n",
       "    </tr>\n",
       "    <tr>\n",
       "      <th>2</th>\n",
       "      <td>20426</td>\n",
       "      <td>16289576</td>\n",
       "      <td>Manhattan</td>\n",
       "      <td>80</td>\n",
       "      <td>0</td>\n",
       "      <td>0</td>\n",
       "      <td>0</td>\n",
       "      <td>0</td>\n",
       "      <td>0</td>\n",
       "      <td>0</td>\n",
       "      <td>...</td>\n",
       "      <td>0</td>\n",
       "      <td>0</td>\n",
       "      <td>0</td>\n",
       "      <td>0</td>\n",
       "      <td>0</td>\n",
       "      <td>0</td>\n",
       "      <td>0</td>\n",
       "      <td>0</td>\n",
       "      <td>0</td>\n",
       "      <td>0</td>\n",
       "    </tr>\n",
       "    <tr>\n",
       "      <th>3</th>\n",
       "      <td>2018</td>\n",
       "      <td>893413</td>\n",
       "      <td>Manhattan</td>\n",
       "      <td>2500</td>\n",
       "      <td>0</td>\n",
       "      <td>0</td>\n",
       "      <td>0</td>\n",
       "      <td>0</td>\n",
       "      <td>0</td>\n",
       "      <td>0</td>\n",
       "      <td>...</td>\n",
       "      <td>0</td>\n",
       "      <td>0</td>\n",
       "      <td>0</td>\n",
       "      <td>0</td>\n",
       "      <td>0</td>\n",
       "      <td>0</td>\n",
       "      <td>0</td>\n",
       "      <td>0</td>\n",
       "      <td>0</td>\n",
       "      <td>0</td>\n",
       "    </tr>\n",
       "    <tr>\n",
       "      <th>4</th>\n",
       "      <td>18790</td>\n",
       "      <td>14882137</td>\n",
       "      <td>Queens</td>\n",
       "      <td>50</td>\n",
       "      <td>0</td>\n",
       "      <td>0</td>\n",
       "      <td>0</td>\n",
       "      <td>0</td>\n",
       "      <td>0</td>\n",
       "      <td>0</td>\n",
       "      <td>...</td>\n",
       "      <td>0</td>\n",
       "      <td>0</td>\n",
       "      <td>0</td>\n",
       "      <td>0</td>\n",
       "      <td>0</td>\n",
       "      <td>0</td>\n",
       "      <td>0</td>\n",
       "      <td>0</td>\n",
       "      <td>0</td>\n",
       "      <td>0</td>\n",
       "    </tr>\n",
       "  </tbody>\n",
       "</table>\n",
       "<p>5 rows × 974 columns</p>\n",
       "</div>"
      ],
      "text/plain": [
       "   index        id neighbourhood_group  price_rawdata  001  10  10m  10min  \\\n",
       "0  23821  19227560              Queens            100    0   0    0      0   \n",
       "1  22905  18560625            Brooklyn             30    0   0    0      0   \n",
       "2  20426  16289576           Manhattan             80    0   0    0      0   \n",
       "3   2018    893413           Manhattan           2500    0   0    0      0   \n",
       "4  18790  14882137              Queens             50    0   0    0      0   \n",
       "\n",
       "   10mins  1100  ...  yoga  york  you  your  yu  zen  ღღღsteps  法拉盛中心私人房間獨立衛浴  \\\n",
       "0       0     0  ...     0     0    0     0   0    0         0              0   \n",
       "1       0     0  ...     0     0    0     0   0    0         0              0   \n",
       "2       0     0  ...     0     0    0     0   0    0         0              0   \n",
       "3       0     0  ...     0     0    0     0   0    0         0              0   \n",
       "4       0     0  ...     0     0    0     0   0    0         0              0   \n",
       "\n",
       "   溫馨大套房  獨一無二的紐約閣樓  \n",
       "0      0          0  \n",
       "1      0          0  \n",
       "2      0          0  \n",
       "3      0          0  \n",
       "4      0          0  \n",
       "\n",
       "[5 rows x 974 columns]"
      ]
     },
     "execution_count": 127,
     "metadata": {},
     "output_type": "execute_result"
    },
    {
     "data": {
      "text/plain": [
       "(1000, 974)"
      ]
     },
     "execution_count": 127,
     "metadata": {},
     "output_type": "execute_result"
    },
    {
     "data": {
      "text/html": [
       "<div>\n",
       "<style scoped>\n",
       "    .dataframe tbody tr th:only-of-type {\n",
       "        vertical-align: middle;\n",
       "    }\n",
       "\n",
       "    .dataframe tbody tr th {\n",
       "        vertical-align: top;\n",
       "    }\n",
       "\n",
       "    .dataframe thead th {\n",
       "        text-align: right;\n",
       "    }\n",
       "</style>\n",
       "<table border=\"1\" class=\"dataframe\">\n",
       "  <thead>\n",
       "    <tr style=\"text-align: right;\">\n",
       "      <th></th>\n",
       "      <th>hudson</th>\n",
       "      <th>huge</th>\n",
       "      <th>humble</th>\n",
       "      <th>hunter</th>\n",
       "      <th>iconic</th>\n",
       "      <th>ii</th>\n",
       "      <th>iii</th>\n",
       "      <th>immaculate</th>\n",
       "      <th>in</th>\n",
       "      <th>including</th>\n",
       "      <th>inclusive</th>\n",
       "      <th>incredible</th>\n",
       "      <th>incredibly</th>\n",
       "      <th>indoor</th>\n",
       "      <th>inn</th>\n",
       "      <th>inq</th>\n",
       "      <th>insane</th>\n",
       "      <th>int</th>\n",
       "      <th>interior</th>\n",
       "      <th>international</th>\n",
       "    </tr>\n",
       "  </thead>\n",
       "  <tbody>\n",
       "    <tr>\n",
       "      <th>0</th>\n",
       "      <td>0</td>\n",
       "      <td>0</td>\n",
       "      <td>0</td>\n",
       "      <td>0</td>\n",
       "      <td>0</td>\n",
       "      <td>0</td>\n",
       "      <td>0</td>\n",
       "      <td>0</td>\n",
       "      <td>0</td>\n",
       "      <td>0</td>\n",
       "      <td>0</td>\n",
       "      <td>0</td>\n",
       "      <td>0</td>\n",
       "      <td>0</td>\n",
       "      <td>0</td>\n",
       "      <td>0</td>\n",
       "      <td>0</td>\n",
       "      <td>0</td>\n",
       "      <td>0</td>\n",
       "      <td>0</td>\n",
       "    </tr>\n",
       "    <tr>\n",
       "      <th>1</th>\n",
       "      <td>0</td>\n",
       "      <td>0</td>\n",
       "      <td>0</td>\n",
       "      <td>0</td>\n",
       "      <td>0</td>\n",
       "      <td>0</td>\n",
       "      <td>0</td>\n",
       "      <td>0</td>\n",
       "      <td>0</td>\n",
       "      <td>0</td>\n",
       "      <td>0</td>\n",
       "      <td>0</td>\n",
       "      <td>0</td>\n",
       "      <td>0</td>\n",
       "      <td>0</td>\n",
       "      <td>0</td>\n",
       "      <td>0</td>\n",
       "      <td>0</td>\n",
       "      <td>0</td>\n",
       "      <td>0</td>\n",
       "    </tr>\n",
       "    <tr>\n",
       "      <th>2</th>\n",
       "      <td>0</td>\n",
       "      <td>0</td>\n",
       "      <td>0</td>\n",
       "      <td>0</td>\n",
       "      <td>0</td>\n",
       "      <td>1</td>\n",
       "      <td>0</td>\n",
       "      <td>0</td>\n",
       "      <td>0</td>\n",
       "      <td>0</td>\n",
       "      <td>0</td>\n",
       "      <td>0</td>\n",
       "      <td>0</td>\n",
       "      <td>0</td>\n",
       "      <td>0</td>\n",
       "      <td>0</td>\n",
       "      <td>0</td>\n",
       "      <td>0</td>\n",
       "      <td>0</td>\n",
       "      <td>0</td>\n",
       "    </tr>\n",
       "    <tr>\n",
       "      <th>3</th>\n",
       "      <td>0</td>\n",
       "      <td>0</td>\n",
       "      <td>0</td>\n",
       "      <td>0</td>\n",
       "      <td>0</td>\n",
       "      <td>0</td>\n",
       "      <td>0</td>\n",
       "      <td>0</td>\n",
       "      <td>0</td>\n",
       "      <td>0</td>\n",
       "      <td>0</td>\n",
       "      <td>0</td>\n",
       "      <td>0</td>\n",
       "      <td>0</td>\n",
       "      <td>0</td>\n",
       "      <td>0</td>\n",
       "      <td>0</td>\n",
       "      <td>0</td>\n",
       "      <td>0</td>\n",
       "      <td>0</td>\n",
       "    </tr>\n",
       "    <tr>\n",
       "      <th>4</th>\n",
       "      <td>0</td>\n",
       "      <td>0</td>\n",
       "      <td>0</td>\n",
       "      <td>0</td>\n",
       "      <td>0</td>\n",
       "      <td>0</td>\n",
       "      <td>0</td>\n",
       "      <td>0</td>\n",
       "      <td>0</td>\n",
       "      <td>0</td>\n",
       "      <td>0</td>\n",
       "      <td>0</td>\n",
       "      <td>0</td>\n",
       "      <td>0</td>\n",
       "      <td>0</td>\n",
       "      <td>0</td>\n",
       "      <td>0</td>\n",
       "      <td>0</td>\n",
       "      <td>0</td>\n",
       "      <td>0</td>\n",
       "    </tr>\n",
       "  </tbody>\n",
       "</table>\n",
       "</div>"
      ],
      "text/plain": [
       "   hudson  huge  humble  hunter  iconic  ii  iii  immaculate  in  including  \\\n",
       "0       0     0       0       0       0   0    0           0   0          0   \n",
       "1       0     0       0       0       0   0    0           0   0          0   \n",
       "2       0     0       0       0       0   1    0           0   0          0   \n",
       "3       0     0       0       0       0   0    0           0   0          0   \n",
       "4       0     0       0       0       0   0    0           0   0          0   \n",
       "\n",
       "   inclusive  incredible  incredibly  indoor  inn  inq  insane  int  interior  \\\n",
       "0          0           0           0       0    0    0       0    0         0   \n",
       "1          0           0           0       0    0    0       0    0         0   \n",
       "2          0           0           0       0    0    0       0    0         0   \n",
       "3          0           0           0       0    0    0       0    0         0   \n",
       "4          0           0           0       0    0    0       0    0         0   \n",
       "\n",
       "   international  \n",
       "0              0  \n",
       "1              0  \n",
       "2              0  \n",
       "3              0  \n",
       "4              0  "
      ]
     },
     "execution_count": 127,
     "metadata": {},
     "output_type": "execute_result"
    }
   ],
   "source": [
    "## show first set of rows/cols\n",
    "dtm_nopre.head()\n",
    "\n",
    "## show arbitrary later cols in resulting data\n",
    "dtm_nopre.shape\n",
    "dtm_nopre.iloc[0:5, 470:490]"
   ]
  },
  {
   "cell_type": "markdown",
   "metadata": {},
   "source": [
    "## 2.3 Use that matrix/column sums to get basic summary stats of top words"
   ]
  },
  {
   "cell_type": "code",
   "execution_count": 128,
   "metadata": {},
   "outputs": [
    {
     "data": {
      "text/plain": [
       "in           367\n",
       "room         244\n",
       "private      163\n",
       "bedroom      152\n",
       "apartment    130\n",
       "            ... \n",
       "gay            1\n",
       "gente          1\n",
       "geodesic       1\n",
       "george         1\n",
       "獨一無二的紐約閣樓      1\n",
       "Length: 970, dtype: int64"
      ]
     },
     "execution_count": 128,
     "metadata": {},
     "output_type": "execute_result"
    }
   ],
   "source": [
    "## summing each col\n",
    "top_terms = dtm_nopre[dtm_nopre.columns[4:]].sum(axis = 0)\n",
    "\n",
    "## sorting from most frequent to least frequent\n",
    "top_terms.sort_values(ascending = False)"
   ]
  },
  {
   "cell_type": "markdown",
   "metadata": {},
   "source": [
    "## 2.4 Activity 2: repeat the above but using the preprocessed text data\n",
    "\n",
    "- Stick with the same random sample of 1000 `ab_small`\n",
    "- Apply the preprocessing steps from activity 1 to create a new column in `ab_small` with the preprocessed text (if you got stuck on that, try just removing stopwords)\n",
    "- Use the `create_dtm` function to create a document-term matrix from the preprocessed data\n",
    "- Use colsums to summarize"
   ]
  },
  {
   "cell_type": "code",
   "execution_count": 129,
   "metadata": {},
   "outputs": [
    {
     "name": "stdout",
     "output_type": "stream",
     "text": [
      "Sparse matrix form:\n",
      "   (0, 646)\t1\n",
      "  (0, 170)\t1\n",
      "  (1, 60)\t1\n",
      "  (1, 516)\t1\n",
      "  (1, 65)\t1\n",
      "  (1, 519)\t1\n",
      "  (1, 480)\t1\n",
      "  (2, 70)\t1\n",
      "  (2, 388)\t1\n",
      "  (2, 697)\t1\n",
      "  (2, 729)\t1\n",
      "  (2, 584)\t1\n",
      "  (2, 482)\t1\n",
      "\n",
      "Dense matrix form:\n",
      "    abcd  abod  access  acidot  acogedor  across  address  ador  aesthet  \\\n",
      "0     0     0       0       0         0       0        0     0        0   \n",
      "1     0     0       0       0         0       0        0     0        0   \n",
      "2     0     0       0       0         0       0        0     0        0   \n",
      "3     0     0       0       0         0       0        0     0        0   \n",
      "4     0     0       0       0         0       0        0     0        0   \n",
      "\n",
      "   afford  ...  yard  year  yellow  yoga  york  zen  ღღღstep  法拉盛中心私人房間獨立衛浴  \\\n",
      "0       0  ...     0     0       0     0     0    0        0              0   \n",
      "1       0  ...     0     0       0     0     0    0        0              0   \n",
      "2       0  ...     0     0       0     0     0    0        0              0   \n",
      "3       0  ...     0     0       0     0     0    0        0              0   \n",
      "4       0  ...     0     0       0     0     0    0        0              0   \n",
      "\n",
      "   溫馨大套房  獨一無二的紐約閣樓  \n",
      "0      0          0  \n",
      "1      0          0  \n",
      "2      0          0  \n",
      "3      0          0  \n",
      "4      0          0  \n",
      "\n",
      "[5 rows x 753 columns]\n"
     ]
    },
    {
     "data": {
      "text/plain": [
       "room         246\n",
       "privat       165\n",
       "bedroom      159\n",
       "cozi          97\n",
       "apt           91\n",
       "            ... \n",
       "homey          1\n",
       "hipstest       1\n",
       "hillsid        1\n",
       "highclass      1\n",
       "獨一無二的紐約閣樓      1\n",
       "Length: 753, dtype: int64"
      ]
     },
     "execution_count": 129,
     "metadata": {},
     "output_type": "execute_result"
    }
   ],
   "source": [
    "## your code here \n",
    "ab_small['name_preprocessed'] = stem_tokens(remove_stopwords(ab_small.name_lower, list_stopwords_new), porter)\n",
    "\n",
    "dtm_pre = create_dtm(list_of_strings = ab_small['name_preprocessed'],\n",
    "                      metadata = ab_small[['id', 'neighbourhood_group', 'price_rawdata']])\n",
    "\n",
    "## summing each col\n",
    "top_terms_pre = dtm_pre[dtm_pre.columns[4:]].sum(axis = 0)\n",
    "\n",
    "## sorting from most frequent to least frequent\n",
    "top_terms_pre.sort_values(ascending = False)"
   ]
  },
  {
   "cell_type": "markdown",
   "metadata": {},
   "source": [
    "# 3. Use gensim to more automatically preprocess/estimate a topic model"
   ]
  },
  {
   "cell_type": "markdown",
   "metadata": {},
   "source": [
    "## 3.1 Creating the objects to feed the LDA modeling function\n",
    "\n",
    "Different outputs described below: \n",
    "- Tokenized and preprocessed text \n",
    "- Dictionary \n",
    "- Corpus "
   ]
  },
  {
   "cell_type": "code",
   "execution_count": 130,
   "metadata": {},
   "outputs": [
    {
     "data": {
      "text/plain": [
       "{0: '!', 1: 'cozy', 2: 'super', 3: 'beautiful', 4: 'bedroom'}"
      ]
     },
     "execution_count": 130,
     "metadata": {},
     "output_type": "execute_result"
    },
    {
     "name": "stdout",
     "output_type": "stream",
     "text": [
      "Filtering out very rare and very common words reduced the length of dictionary from 1047 to 31.\n"
     ]
    },
    {
     "data": {
      "text/plain": [
       "{0: '!', 1: 'cozy', 2: 'beautiful', 3: 'bedroom', 4: 'park'}"
      ]
     },
     "execution_count": 130,
     "metadata": {},
     "output_type": "execute_result"
    },
    {
     "name": "stdout",
     "output_type": "stream",
     "text": [
      "Sample of documents represented in dictionary format (with omitted words noted):\n"
     ]
    },
    {
     "data": {
      "text/plain": [
       "[([(0, 1), (1, 1)], {'super': 1}),\n",
       " ([(2, 1), (3, 1), (4, 1), (5, 1)], {'by': 1, 'prospect': 1}),\n",
       " ([(0, 1), (6, 1), (7, 1)],\n",
       "  {'best': 1,\n",
       "   'ii': 1,\n",
       "   'location': 1,\n",
       "   'on': 1,\n",
       "   'part': 1,\n",
       "   'side': 1,\n",
       "   'upper': 1,\n",
       "   'west': 1}),\n",
       " ([(0, 1)],\n",
       "  {'architecturally': 1, 'former': 1, 'stunning': 1, 'synagogue': 1}),\n",
       " ([(2, 1), (8, 1), (9, 1), (10, 1), (11, 1)], {'bushwick': 1}),\n",
       " ([(4, 1), (8, 1), (9, 1), (12, 1), (13, 2)],\n",
       "  {'bath': 1, 'bed': 1, 'by': 1, 'central': 1, 'college': 1, 'hunter': 1}),\n",
       " ([(9, 1), (11, 1), (14, 1), (15, 1)], {'bohemian': 1, 'brownstone': 1}),\n",
       " ([(16, 1)],\n",
       "  {'fidi': 1, 'huge': 1, 'loft': 1, 'views': 1, 'w': 1, 'water': 1}),\n",
       " ([], {'hillside': 1, 'hotel': 1}),\n",
       " ([(5, 1), (9, 1), (11, 1), (14, 1), (15, 1)], {'airy': 1})]"
      ]
     },
     "execution_count": 130,
     "metadata": {},
     "output_type": "execute_result"
    }
   ],
   "source": [
    "\n",
    "## Step 1: re-tokenize and store in list\n",
    "## here, i'm doing with the raw random sample of text\n",
    "## in activity, you should do with the preprocessed texts\n",
    "text_raw_tokens = [wordpunct_tokenize(one_text) for one_text in \n",
    "                  ab_small.name_lower]\n",
    "\n",
    "\n",
    "## Step 2: use gensim create dictionary - gets all unique words across documents\n",
    "text_raw_dict = corpora.Dictionary(text_raw_tokens)\n",
    "raw_len = len(text_raw_dict) # get length for comparison below\n",
    "\n",
    "### explore first few keys and values\n",
    "### see that key is just an arbitrary counter; value is the word itself\n",
    "{k: text_raw_dict[k] for k in list(text_raw_dict)[:5]}\n",
    "\n",
    "\n",
    "## Step 3: filter out very rare and very common words\n",
    "## here, i'm using the threshold that a word needs to appear in at least\n",
    "## 5% of docs but not more than 95%\n",
    "## this is an integer count of docs so i round\n",
    "lower_bound = round(ab_small.shape[0]*0.05)\n",
    "upper_bound = round(ab_small.shape[0]*0.95)\n",
    "\n",
    "### apply filtering to dictionary\n",
    "text_raw_dict.filter_extremes(no_below = lower_bound,\n",
    "                             no_above = upper_bound)\n",
    "print(f'Filtering out very rare and very common words reduced the \\\n",
    "length of dictionary from {str(raw_len)} to {str(len(text_raw_dict))}.')\n",
    "{k: text_raw_dict[k] for k in list(text_raw_dict)[:5]} # show first five entries after filtering\n",
    "\n",
    "\n",
    "## Step 4: apply dictionary to TOKENIZED texts\n",
    "## this creates a mapping between each word \n",
    "## in a specific listing and the key in the dictionary.\n",
    "## for words that remain in the filtered dictionary,\n",
    "## output is a list where len(list) == n documents\n",
    "## and each element in the list is a list of tuples\n",
    "## containing the mappings\n",
    "corpus_fromdict = [text_raw_dict.doc2bow(one_text) \n",
    "                   for one_text in text_raw_tokens]\n",
    "\n",
    "### can apply doc2bow(one_text, return_missing = True) to print words\n",
    "### eliminated from the listing bc they're not in filtered dictionary.\n",
    "### but feeding that one with missing values to\n",
    "### the lda function can cause errors\n",
    "corpus_fromdict_showmiss = [text_raw_dict.doc2bow(one_text, return_missing = True)\n",
    "                            for one_text in text_raw_tokens]\n",
    "print('Sample of documents represented in dictionary format (with omitted words noted):')\n",
    "corpus_fromdict_showmiss[:10]"
   ]
  },
  {
   "cell_type": "markdown",
   "metadata": {},
   "source": [
    "##  3.2 Estimating the model"
   ]
  },
  {
   "cell_type": "code",
   "execution_count": 131,
   "metadata": {},
   "outputs": [
    {
     "name": "stdout",
     "output_type": "stream",
     "text": [
      "<class 'gensim.models.ldamodel.LdaModel'>\n"
     ]
    }
   ],
   "source": [
    "## Step 5: we're finally ready to estimate the model!\n",
    "## full documentation here - https://radimrehurek.com/gensim/models/ldamodel.html\n",
    "## here, we're feeding the lda function:\n",
    "## (1) the corpus we created from the dictionary,\n",
    "## (2) a parameter we decide on for the number of topics (k),\n",
    "## (3) the dictionary itself,\n",
    "## (4) parameter for number of passes through training data (more means slower), and\n",
    "## (5) parameter that returns, for each word remaining in dict, the topic probabilities.\n",
    "## see documentation for many other arguments you can vary\n",
    "ldamod = gensim.models.ldamodel.LdaModel(corpus_fromdict, \n",
    "                                         num_topics = 5, \n",
    "                                         id2word=text_raw_dict, \n",
    "                                         passes=6, \n",
    "                                         alpha = 'auto',\n",
    "                                         per_word_topics = True)\n",
    "\n",
    "print(type(ldamod))\n",
    "\n"
   ]
  },
  {
   "cell_type": "markdown",
   "metadata": {},
   "source": [
    "## 3.3  Seeing what topics the estimated model discovers"
   ]
  },
  {
   "cell_type": "code",
   "execution_count": 132,
   "metadata": {},
   "outputs": [
    {
     "name": "stdout",
     "output_type": "stream",
     "text": [
      "(0, '0.293*\",\" + 0.104*\".\" + 0.090*\"studio\" + 0.050*\"apt\" + 0.045*\"with\" + 0.042*\"private\" + 0.040*\"park\" + 0.039*\"room\" + 0.034*\"/\" + 0.032*\"cozy\"')\n",
      "(1, '0.238*\"in\" + 0.181*\"room\" + 0.105*\"private\" + 0.065*\"cozy\" + 0.060*\"and\" + 0.045*\"williamsburg\" + 0.031*\"brooklyn\" + 0.031*\"bedroom\" + 0.029*\"manhattan\" + 0.028*\"spacious\"')\n",
      "(2, '0.125*\"in\" + 0.097*\"the\" + 0.094*\"1\" + 0.087*\"of\" + 0.083*\"bedroom\" + 0.069*\"brooklyn\" + 0.062*\"/\" + 0.055*\"!\" + 0.055*\"spacious\" + 0.050*\"east\"')\n",
      "(3, '0.121*\"bedroom\" + 0.105*\"to\" + 0.097*\"2\" + 0.071*\"&\" + 0.066*\"apartment\" + 0.065*\"manhattan\" + 0.058*\"/\" + 0.051*\"beautiful\" + 0.048*\"near\" + 0.039*\"private\"')\n",
      "(4, '0.200*\"-\" + 0.146*\"apartment\" + 0.132*\"in\" + 0.092*\"!\" + 0.066*\"room\" + 0.046*\"sunny\" + 0.035*\"brooklyn\" + 0.032*\"studio\" + 0.029*\"spacious\" + 0.027*\"private\"')\n"
     ]
    }
   ],
   "source": [
    "## Post-model 1: explore corpus-wide summary of topics\n",
    "### getting the topics and top words; can retrieve diff top words\n",
    "topics = ldamod.print_topics(num_words = 10)\n",
    "for topic in topics:\n",
    "    print(topic)\n"
   ]
  },
  {
   "cell_type": "code",
   "execution_count": 133,
   "metadata": {},
   "outputs": [
    {
     "data": {
      "text/plain": [
       "[['super', 'cozy', '!'],\n",
       " ['beautiful', 'private', 'bedroom', 'by', 'prospect', 'park'],\n",
       " ['best',\n",
       "  'location',\n",
       "  'on',\n",
       "  'the',\n",
       "  'upper',\n",
       "  'west',\n",
       "  'side',\n",
       "  '!',\n",
       "  '-',\n",
       "  'part',\n",
       "  'ii'],\n",
       " ['architecturally', 'stunning', 'former', 'synagogue', '!'],\n",
       " ['large', ',', 'beautiful', 'room', 'near', 'bushwick']]"
      ]
     },
     "execution_count": 133,
     "metadata": {},
     "output_type": "execute_result"
    },
    {
     "data": {
      "text/plain": [
       "[[(0, 0.05590105),\n",
       "  (1, 0.07303166),\n",
       "  (2, 0.048597854),\n",
       "  (3, 0.053407814),\n",
       "  (4, 0.76906157)],\n",
       " [(0, 0.032439552),\n",
       "  (1, 0.04162708),\n",
       "  (2, 0.028247794),\n",
       "  (3, 0.86687917),\n",
       "  (4, 0.030806474)],\n",
       " [(0, 0.040935017),\n",
       "  (1, 0.05150617),\n",
       "  (2, 0.32553068),\n",
       "  (3, 0.039261866),\n",
       "  (4, 0.5427663)],\n",
       " [(0, 0.087014765),\n",
       "  (1, 0.1096873),\n",
       "  (2, 0.07604076),\n",
       "  (3, 0.08352213),\n",
       "  (4, 0.64373505)],\n",
       " [(0, 0.2991569),\n",
       "  (1, 0.03581999),\n",
       "  (2, 0.02338145),\n",
       "  (3, 0.6161077),\n",
       "  (4, 0.025533935)]]"
      ]
     },
     "execution_count": 133,
     "metadata": {},
     "output_type": "execute_result"
    }
   ],
   "source": [
    "    \n",
    "## Post-model 2: explore topics associated with each document\n",
    "### for each item in our original dictionary, get list of topic probabilities\n",
    "l=[ldamod.get_document_topics(item) for item in corpus_fromdict]\n",
    "### print result\n",
    "text_raw_tokens[0:5]\n",
    "l[0:5]"
   ]
  },
  {
   "cell_type": "markdown",
   "metadata": {},
   "source": [
    "### Visualizing "
   ]
  },
  {
   "cell_type": "code",
   "execution_count": 134,
   "metadata": {},
   "outputs": [
    {
     "name": "stderr",
     "output_type": "stream",
     "text": [
      "/opt/homebrew/lib/python3.10/site-packages/pyLDAvis/_prepare.py:247: FutureWarning: In a future version of pandas all arguments of DataFrame.drop except for the argument 'labels' will be keyword-only.\n",
      "  by='saliency', ascending=False).head(R).drop('saliency', 1)\n"
     ]
    },
    {
     "data": {
      "text/html": [
       "\n",
       "<link rel=\"stylesheet\" type=\"text/css\" href=\"https://cdn.jsdelivr.net/gh/bmabey/pyLDAvis@3.3.1/pyLDAvis/js/ldavis.v1.0.0.css\">\n",
       "\n",
       "\n",
       "<div id=\"ldavis_el38179114673566722211963059\"></div>\n",
       "<script type=\"text/javascript\">\n",
       "\n",
       "var ldavis_el38179114673566722211963059_data = {\"mdsDat\": {\"x\": [0.06624266383035779, -0.08532372371726428, -0.20365145411484273, 0.17406813758484577, 0.048664376416903785], \"y\": [-0.13041818624276866, 0.18193373725483414, -0.07034950315395302, 0.07112379061000274, -0.05228983846811514], \"topics\": [1, 2, 3, 4, 5], \"cluster\": [1, 1, 1, 1, 1], \"Freq\": [27.99494375921949, 18.832193706830395, 18.630328773963406, 17.652620001312695, 16.889913758674023]}, \"tinfo\": {\"Term\": [\",\", \"-\", \"in\", \"apartment\", \".\", \"bedroom\", \"2\", \"to\", \"of\", \"room\", \"the\", \"studio\", \"1\", \"and\", \"&\", \"/\", \"manhattan\", \"!\", \"east\", \"brooklyn\", \"williamsburg\", \"near\", \"with\", \"cozy\", \"private\", \"sunny\", \"large\", \"beautiful\", \"spacious\", \"park\", \"and\", \"room\", \"cozy\", \"williamsburg\", \"in\", \"private\", \"manhattan\", \"brooklyn\", \"spacious\", \"apt\", \"beautiful\", \"with\", \"near\", \"bedroom\", \"&\", \"park\", \"!\", \"large\", \",\", \"the\", \"of\", \"sunny\", \"/\", \"studio\", \".\", \"to\", \"east\", \"-\", \"1\", \"2\", \"apartment\", \"to\", \"&\", \"2\", \"beautiful\", \"near\", \"manhattan\", \"bedroom\", \"/\", \"large\", \"apartment\", \"with\", \"park\", \"sunny\", \"1\", \"private\", \"studio\", \"!\", \"apt\", \".\", \"-\", \"williamsburg\", \"room\", \",\", \"cozy\", \"brooklyn\", \"east\", \"spacious\", \"the\", \"of\", \"in\", \".\", \",\", \"studio\", \"with\", \"park\", \"apt\", \"sunny\", \"near\", \"east\", \"/\", \"cozy\", \"spacious\", \"to\", \"private\", \"!\", \"the\", \"room\", \"brooklyn\", \"1\", \"-\", \"of\", \"manhattan\", \"beautiful\", \"&\", \"bedroom\", \"williamsburg\", \"and\", \"large\", \"apartment\", \"in\", \"of\", \"the\", \"1\", \"east\", \"brooklyn\", \"large\", \"/\", \"spacious\", \"williamsburg\", \"bedroom\", \"2\", \"!\", \"in\", \"apt\", \"beautiful\", \"&\", \"apartment\", \"room\", \"park\", \"sunny\", \"and\", \"private\", \"cozy\", \"-\", \"to\", \"manhattan\", \"studio\", \"near\", \".\", \"with\", \",\", \"-\", \"apartment\", \"!\", \"sunny\", \"studio\", \"brooklyn\", \"in\", \"east\", \"park\", \"spacious\", \"room\", \"cozy\", \"1\", \"large\", \"manhattan\", \"apt\", \"private\", \"to\", \"the\", \"/\", \"beautiful\", \"of\", \"2\", \"and\", \"with\", \",\", \"&\", \"bedroom\", \".\", \"near\"], \"Freq\": [209.0, 128.0, 363.0, 127.0, 70.0, 153.0, 84.0, 88.0, 59.0, 241.0, 76.0, 85.0, 85.0, 57.0, 61.0, 99.0, 78.0, 128.0, 51.0, 95.0, 67.0, 55.0, 65.0, 96.0, 162.0, 67.0, 65.0, 60.0, 88.0, 70.0, 54.02935483072735, 164.54774826722678, 59.318311855809306, 40.48948581091124, 216.20547520689124, 95.19201821379941, 26.489676128562195, 28.405974231790434, 25.118341190545387, 24.967443982424527, 16.450229483869908, 16.988215534290624, 12.795361384969139, 28.051083819984477, 10.771869734313492, 10.186626440647961, 16.40827559101068, 8.277612843856993, 23.54632848731702, 6.95794250348984, 4.635239286457809, 4.652806212368794, 4.245363229516614, 1.5391094464899537, 0.9866645881668785, 1.2065356471116901, 0.5753968910860805, 1.4190116779660895, 0.7570551148481192, 0.6927923154644227, 0.848895177896391, 64.12941933715426, 43.056661713545765, 59.153296304725075, 31.264414424689004, 29.001457035908928, 39.4508645731361, 73.60891105877151, 35.565699992418935, 21.32226888017068, 40.2613921326803, 19.885515876542453, 21.004139982954165, 17.376561394238635, 12.915971646765268, 23.777638341012427, 11.544111929947201, 14.950309608905867, 9.719679595737308, 6.668463511154872, 7.934148466918078, 3.7971253096136963, 10.854623598005542, 6.639288459236764, 1.8735898567743097, 1.1443126183398307, 0.31025402056852047, 0.5175278252771869, 0.4106028392687776, 0.25053998433331875, 1.3801116942342406, 62.55170084072169, 176.8611330701961, 54.02919831104219, 27.249402452567022, 24.234846971353214, 30.308445370459648, 18.575878675615186, 13.340862837965476, 12.351900826263797, 20.485419281950854, 19.2646966081474, 15.749484370177452, 14.879983152627732, 25.398223788174526, 15.460344131459873, 9.058877370386611, 23.272767375595123, 7.507764106018368, 5.4077396031411675, 8.010726723723131, 3.492651555074112, 2.5661034612940585, 1.7482909296872158, 1.4730353121240927, 3.6891712660412437, 1.5448686692108828, 0.7878426617060257, 0.7948225556249405, 0.8195133358789354, 2.2777096909666836, 49.85768195575626, 55.610530735324424, 53.86457994790257, 28.850998925414142, 39.23737557858829, 26.129048752784506, 35.488273995531785, 31.24812575039082, 21.920162563614415, 47.40221860499568, 22.54195520796093, 31.692484873821222, 71.45859325991148, 15.21229386468879, 8.93192584690322, 5.314017014265744, 5.532538828102225, 6.5671260794635025, 1.8752751257183868, 1.7085890681064222, 1.345074080432378, 2.8463798968536334, 1.5712495280235323, 1.7127435060905263, 1.1618134034474241, 0.5680022108726492, 0.5017361160845604, 0.29851561240491725, 0.29208999201853797, 0.2530451874937506, 0.7739353733850091, 109.64463763550552, 80.03064301710947, 50.383058521876826, 25.248918590614352, 17.69255359263244, 19.170809793499632, 72.37622704507328, 9.819679104783647, 12.724505445275978, 15.727472430650216, 36.101650464978704, 14.380509606216895, 12.520361654308694, 8.604268479400279, 9.366722203868179, 10.862146292277634, 14.826540454685501, 7.35608418550897, 4.647442840539431, 3.557215747471736, 1.6609063784729603, 1.5943782667800002, 2.0162837140458127, 1.0266195245657406, 1.0427434602569199, 1.9251427433982176, 0.5435855760109592, 1.1664648740637378, 0.46018132539883394, 0.3400763908404103], \"Total\": [209.0, 128.0, 363.0, 127.0, 70.0, 153.0, 84.0, 88.0, 59.0, 241.0, 76.0, 85.0, 85.0, 57.0, 61.0, 99.0, 78.0, 128.0, 51.0, 95.0, 67.0, 55.0, 65.0, 96.0, 162.0, 67.0, 65.0, 60.0, 88.0, 70.0, 57.394754280398345, 241.34391578526964, 96.40835745497144, 67.99816107149906, 363.69811689707694, 162.0408006945255, 78.44136857773319, 95.46623632823655, 88.36095156704107, 91.0700091055879, 60.055767063622305, 65.41892251115077, 55.77627326208887, 153.91784962385665, 61.15916935026005, 70.0253939659497, 128.89447272707446, 65.12802151183739, 209.7458281335331, 76.68539628900908, 59.8304910484015, 67.5627539409434, 99.34197224688992, 85.30670939619634, 70.9591002574608, 88.73383572585008, 51.908229768116186, 128.72126801020335, 85.46570796696582, 84.64723517756988, 127.49298249166732, 88.73383572585008, 61.15916935026005, 84.64723517756988, 60.055767063622305, 55.77627326208887, 78.44136857773319, 153.91784962385665, 99.34197224688992, 65.12802151183739, 127.49298249166732, 65.41892251115077, 70.0253939659497, 67.5627539409434, 85.46570796696582, 162.0408006945255, 85.30670939619634, 128.89447272707446, 91.0700091055879, 70.9591002574608, 128.72126801020335, 67.99816107149906, 241.34391578526964, 209.7458281335331, 96.40835745497144, 95.46623632823655, 51.908229768116186, 88.36095156704107, 76.68539628900908, 59.8304910484015, 363.69811689707694, 70.9591002574608, 209.7458281335331, 85.30670939619634, 65.41892251115077, 70.0253939659497, 91.0700091055879, 67.5627539409434, 55.77627326208887, 51.908229768116186, 99.34197224688992, 96.40835745497144, 88.36095156704107, 88.73383572585008, 162.0408006945255, 128.89447272707446, 76.68539628900908, 241.34391578526964, 95.46623632823655, 85.46570796696582, 128.72126801020335, 59.8304910484015, 78.44136857773319, 60.055767063622305, 61.15916935026005, 153.91784962385665, 67.99816107149906, 57.394754280398345, 65.12802151183739, 127.49298249166732, 363.69811689707694, 59.8304910484015, 76.68539628900908, 85.46570796696582, 51.908229768116186, 95.46623632823655, 65.12802151183739, 99.34197224688992, 88.36095156704107, 67.99816107149906, 153.91784962385665, 84.64723517756988, 128.89447272707446, 363.69811689707694, 91.0700091055879, 60.055767063622305, 61.15916935026005, 127.49298249166732, 241.34391578526964, 70.0253939659497, 67.5627539409434, 57.394754280398345, 162.0408006945255, 96.40835745497144, 128.72126801020335, 88.73383572585008, 78.44136857773319, 85.30670939619634, 55.77627326208887, 70.9591002574608, 65.41892251115077, 209.7458281335331, 128.72126801020335, 127.49298249166732, 128.89447272707446, 67.5627539409434, 85.30670939619634, 95.46623632823655, 363.69811689707694, 51.908229768116186, 70.0253939659497, 88.36095156704107, 241.34391578526964, 96.40835745497144, 85.46570796696582, 65.12802151183739, 78.44136857773319, 91.0700091055879, 162.0408006945255, 88.73383572585008, 76.68539628900908, 99.34197224688992, 60.055767063622305, 59.8304910484015, 84.64723517756988, 57.394754280398345, 65.41892251115077, 209.7458281335331, 61.15916935026005, 153.91784962385665, 70.9591002574608, 55.77627326208887], \"Category\": [\"Default\", \"Default\", \"Default\", \"Default\", \"Default\", \"Default\", \"Default\", \"Default\", \"Default\", \"Default\", \"Default\", \"Default\", \"Default\", \"Default\", \"Default\", \"Default\", \"Default\", \"Default\", \"Default\", \"Default\", \"Default\", \"Default\", \"Default\", \"Default\", \"Default\", \"Default\", \"Default\", \"Default\", \"Default\", \"Default\", \"Topic1\", \"Topic1\", \"Topic1\", \"Topic1\", \"Topic1\", \"Topic1\", \"Topic1\", \"Topic1\", \"Topic1\", \"Topic1\", \"Topic1\", \"Topic1\", \"Topic1\", \"Topic1\", \"Topic1\", \"Topic1\", \"Topic1\", \"Topic1\", \"Topic1\", \"Topic1\", \"Topic1\", \"Topic1\", \"Topic1\", \"Topic1\", \"Topic1\", \"Topic1\", \"Topic1\", \"Topic1\", \"Topic1\", \"Topic1\", \"Topic1\", \"Topic2\", \"Topic2\", \"Topic2\", \"Topic2\", \"Topic2\", \"Topic2\", \"Topic2\", \"Topic2\", \"Topic2\", \"Topic2\", \"Topic2\", \"Topic2\", \"Topic2\", \"Topic2\", \"Topic2\", \"Topic2\", \"Topic2\", \"Topic2\", \"Topic2\", \"Topic2\", \"Topic2\", \"Topic2\", \"Topic2\", \"Topic2\", \"Topic2\", \"Topic2\", \"Topic2\", \"Topic2\", \"Topic2\", \"Topic2\", \"Topic3\", \"Topic3\", \"Topic3\", \"Topic3\", \"Topic3\", \"Topic3\", \"Topic3\", \"Topic3\", \"Topic3\", \"Topic3\", \"Topic3\", \"Topic3\", \"Topic3\", \"Topic3\", \"Topic3\", \"Topic3\", \"Topic3\", \"Topic3\", \"Topic3\", \"Topic3\", \"Topic3\", \"Topic3\", \"Topic3\", \"Topic3\", \"Topic3\", \"Topic3\", \"Topic3\", \"Topic3\", \"Topic3\", \"Topic3\", \"Topic4\", \"Topic4\", \"Topic4\", \"Topic4\", \"Topic4\", \"Topic4\", \"Topic4\", \"Topic4\", \"Topic4\", \"Topic4\", \"Topic4\", \"Topic4\", \"Topic4\", \"Topic4\", \"Topic4\", \"Topic4\", \"Topic4\", \"Topic4\", \"Topic4\", \"Topic4\", \"Topic4\", \"Topic4\", \"Topic4\", \"Topic4\", \"Topic4\", \"Topic4\", \"Topic4\", \"Topic4\", \"Topic4\", \"Topic4\", \"Topic4\", \"Topic5\", \"Topic5\", \"Topic5\", \"Topic5\", \"Topic5\", \"Topic5\", \"Topic5\", \"Topic5\", \"Topic5\", \"Topic5\", \"Topic5\", \"Topic5\", \"Topic5\", \"Topic5\", \"Topic5\", \"Topic5\", \"Topic5\", \"Topic5\", \"Topic5\", \"Topic5\", \"Topic5\", \"Topic5\", \"Topic5\", \"Topic5\", \"Topic5\", \"Topic5\", \"Topic5\", \"Topic5\", \"Topic5\", \"Topic5\"], \"logprob\": [30.0, 29.0, 28.0, 27.0, 26.0, 25.0, 24.0, 23.0, 22.0, 21.0, 20.0, 19.0, 18.0, 17.0, 16.0, 15.0, 14.0, 13.0, 12.0, 11.0, 10.0, 9.0, 8.0, 7.0, 6.0, 5.0, 4.0, 3.0, 2.0, 1.0, -2.8203, -1.7067, -2.727, -3.1088, -1.4336, -2.254, -3.5331, -3.4633, -3.5863, -3.5923, -4.0095, -3.9774, -4.2608, -3.4758, -4.4329, -4.4888, -4.0121, -4.6963, -3.6509, -4.87, -5.2762, -5.2724, -5.364, -6.3787, -6.8233, -6.6221, -7.3626, -6.4599, -7.0882, -7.1769, -6.9737, -2.2525, -2.6509, -2.3333, -2.9709, -3.0461, -2.7384, -2.1147, -2.842, -3.3537, -2.718, -3.4234, -3.3687, -3.5583, -3.855, -3.2447, -3.9672, -3.7087, -4.1393, -4.516, -4.3422, -5.0792, -4.0288, -4.5204, -5.7856, -6.2786, -7.5838, -7.0721, -7.3035, -7.7976, -6.0913, -2.2666, -1.2273, -2.4131, -3.0976, -3.2148, -2.9912, -3.4808, -3.8118, -3.8888, -3.3829, -3.4444, -3.6458, -3.7026, -3.168, -3.6644, -4.1989, -3.2554, -4.3867, -4.7148, -4.3219, -5.152, -5.4603, -5.844, -6.0153, -5.0972, -5.9677, -6.6411, -6.6323, -6.6017, -5.5795, -2.4396, -2.3304, -2.3623, -2.9866, -2.6791, -3.0857, -2.7795, -2.9068, -3.2613, -2.4901, -3.2334, -2.8927, -2.0796, -3.6266, -4.1591, -4.6784, -4.6381, -4.4667, -5.72, -5.8131, -6.0523, -5.3027, -5.8969, -5.8106, -6.1988, -6.9144, -7.0384, -7.5577, -7.5794, -7.7229, -6.605, -1.6073, -1.9222, -2.3849, -3.0758, -3.4314, -3.3512, -2.0227, -4.0202, -3.761, -3.5492, -2.7182, -3.6387, -3.7772, -4.1523, -4.0674, -3.9193, -3.6081, -4.309, -4.7682, -5.0356, -5.7972, -5.8381, -5.6033, -6.2783, -6.2627, -5.6496, -6.9141, -6.1506, -7.0807, -7.3832], \"loglift\": [30.0, 29.0, 28.0, 27.0, 26.0, 25.0, 24.0, 23.0, 22.0, 21.0, 20.0, 19.0, 18.0, 17.0, 16.0, 15.0, 14.0, 13.0, 12.0, 11.0, 10.0, 9.0, 8.0, 7.0, 6.0, 5.0, 4.0, 3.0, 2.0, 1.0, 1.2127, 0.8901, 0.7875, 0.7547, 0.7531, 0.7412, 0.1875, 0.061, 0.0153, -0.0209, -0.0218, -0.0751, -0.1991, -0.4292, -0.4634, -0.6546, -0.7881, -0.7897, -0.9138, -1.1267, -1.2847, -1.4024, -1.8796, -2.7419, -3.0024, -3.0247, -3.229, -3.2345, -3.4533, -3.5324, -3.7387, 1.3449, 1.3186, 1.3112, 1.0168, 1.0156, 0.9823, 0.9319, 0.6424, 0.553, 0.5169, 0.4788, 0.4655, 0.3117, -0.22, -0.2495, -0.3305, -0.4847, -0.5679, -0.6951, -1.1169, -1.2156, -1.432, -1.7833, -2.2711, -2.7544, -3.4502, -3.4705, -3.5602, -3.806, -3.9046, 1.5543, 1.5098, 1.2237, 0.8046, 0.6193, 0.5802, 0.3892, 0.2499, 0.2447, 0.1015, 0.0701, -0.0442, -0.1052, -0.1728, -0.4403, -0.4556, -0.6586, -0.8625, -1.0799, -1.0965, -1.1605, -1.7396, -1.8563, -2.0458, -2.0506, -2.1042, -2.608, -2.7256, -3.3667, -3.3928, 1.5519, 1.4129, 1.2726, 1.147, 0.8451, 0.821, 0.7049, 0.6948, 0.6022, 0.5565, 0.4112, 0.3314, 0.1071, -0.0552, -0.1714, -0.7088, -1.4031, -1.8699, -1.8858, -1.9431, -2.0192, -2.3075, -2.3824, -2.5853, -2.6014, -3.1937, -3.4016, -3.496, -3.7585, -3.8207, -3.8679, 1.618, 1.3128, 0.8391, 0.7942, 0.2053, 0.1731, 0.164, 0.1134, 0.0731, 0.0524, -0.1214, -0.1243, -0.1423, -0.2456, -0.3467, -0.3479, -0.613, -0.7117, -1.0249, -1.5511, -1.8095, -1.8466, -1.9588, -2.2452, -2.3605, -2.9124, -2.9446, -3.104, -3.2598, -3.3215]}, \"token.table\": {\"Topic\": [1, 2, 3, 4, 5, 1, 2, 3, 4, 5, 1, 2, 3, 4, 5, 1, 2, 3, 4, 5, 1, 2, 3, 1, 2, 3, 4, 5, 1, 2, 3, 4, 5, 1, 2, 4, 5, 1, 3, 4, 5, 1, 2, 3, 4, 5, 1, 2, 3, 4, 5, 1, 2, 3, 4, 5, 1, 2, 3, 4, 5, 1, 2, 3, 4, 5, 1, 2, 3, 4, 5, 1, 3, 4, 5, 1, 2, 3, 4, 5, 1, 2, 3, 4, 5, 1, 2, 3, 4, 5, 1, 2, 3, 1, 3, 4, 5, 1, 2, 3, 4, 5, 1, 2, 3, 4, 5, 1, 2, 3, 4, 5, 1, 2, 3, 4, 5, 1, 2, 3, 4, 5, 1, 2, 3, 4, 5, 1, 3, 4, 5, 1, 2, 3, 4, 5, 1, 2, 3, 4, 1, 2, 3, 5], \"Freq\": [0.12413255325446688, 0.11637426867606271, 0.11637426867606271, 0.24826510650893377, 0.38791422892020905, 0.17985855787220936, 0.7030834535004548, 0.016350777988382668, 0.08175388994191335, 0.016350777988382668, 0.1144242067342602, 0.033373726964159224, 0.8438785246651689, 0.0047676752805941745, 0.009535350561188349, 0.00776872396813814, 0.06214979174510512, 0.06214979174510512, 0.01553744793627628, 0.8545596364951954, 0.014092625137180452, 0.09864837596026316, 0.8878353836423685, 0.0402649545758865, 0.3623845911829785, 0.20132477287943248, 0.35231835253900684, 0.0402649545758865, 0.011700599267094583, 0.15210779047222958, 0.058502996335472915, 0.6318323604231075, 0.15210779047222958, 0.01181373494246134, 0.697010361605219, 0.2717159036766108, 0.02362746988492268, 0.9408525339473797, 0.017423195073099623, 0.017423195073099623, 0.017423195073099623, 0.007843568959298273, 0.31374275837193094, 0.007843568959298273, 0.047061413755789636, 0.6274855167438619, 0.27451408257810356, 0.10980563303124143, 0.3294168990937243, 0.16470844954686215, 0.12078619633436556, 0.26641904320445703, 0.5161868962086356, 0.03330238040055713, 0.1498607118025071, 0.03330238040055713, 0.18191522340278402, 0.48077594756450065, 0.025987889057540573, 0.3053576964261018, 0.006496972264385143, 0.2932974114924681, 0.010474907553302432, 0.08379926042641946, 0.4085213945787948, 0.1990232435127462, 0.6119801390409186, 0.02074508945901419, 0.1970783498606348, 0.02074508945901419, 0.14521562621309933, 0.01926476792730532, 0.23117721512766384, 0.5586782698918543, 0.1926476792730532, 0.5938991431762786, 0.002749533070260549, 0.005499066140521098, 0.19521684798849898, 0.19796638105875952, 0.12283499197877452, 0.3224418539442831, 0.015354373997346816, 0.3992137239310172, 0.13818936597612133, 0.3314577559191198, 0.4971866338786797, 0.03824512568297536, 0.012748375227658454, 0.11473537704892608, 0.23307401587972532, 0.5199343431163103, 0.23307401587972532, 0.08356942943949958, 0.05014165766369975, 0.8356942943949958, 0.03342777177579983, 0.14280533723041336, 0.29989120818386805, 0.34273280935299205, 0.02856106744608267, 0.18564693839953736, 0.5862720968596741, 0.148110845522444, 0.15428213075254582, 0.0185138556903055, 0.09256927845152749, 0.683671678497191, 0.04557811189981273, 0.09529968851779026, 0.029004253027153558, 0.1491647298539326, 0.28293040711577266, 0.011317216284630907, 0.18107546055409451, 0.3508337048235581, 0.18107546055409451, 0.023444814764935432, 0.14066888858961257, 0.6330099986532567, 0.011722407382467716, 0.2110033328844189, 0.07400527225948339, 0.2516179256822435, 0.28122003458603684, 0.029602108903793355, 0.37002636129741695, 0.09128204767461408, 0.11736263272450381, 0.7302563813969126, 0.06520146262472434, 0.011269658206702298, 0.7212581252289471, 0.16904487310053448, 0.011269658206702298, 0.07888760744691609, 0.5882512022338456, 0.05882512022338456, 0.02941256011169228, 0.3235381612286151, 0.2598636502626946, 0.305721941485523, 0.4127246210054561, 0.015286097074276151], \"Term\": [\"!\", \"!\", \"!\", \"!\", \"!\", \"&\", \"&\", \"&\", \"&\", \"&\", \",\", \",\", \",\", \",\", \",\", \"-\", \"-\", \"-\", \"-\", \"-\", \".\", \".\", \".\", \"/\", \"/\", \"/\", \"/\", \"/\", \"1\", \"1\", \"1\", \"1\", \"1\", \"2\", \"2\", \"2\", \"2\", \"and\", \"and\", \"and\", \"and\", \"apartment\", \"apartment\", \"apartment\", \"apartment\", \"apartment\", \"apt\", \"apt\", \"apt\", \"apt\", \"apt\", \"beautiful\", \"beautiful\", \"beautiful\", \"beautiful\", \"beautiful\", \"bedroom\", \"bedroom\", \"bedroom\", \"bedroom\", \"bedroom\", \"brooklyn\", \"brooklyn\", \"brooklyn\", \"brooklyn\", \"brooklyn\", \"cozy\", \"cozy\", \"cozy\", \"cozy\", \"cozy\", \"east\", \"east\", \"east\", \"east\", \"in\", \"in\", \"in\", \"in\", \"in\", \"large\", \"large\", \"large\", \"large\", \"large\", \"manhattan\", \"manhattan\", \"manhattan\", \"manhattan\", \"manhattan\", \"near\", \"near\", \"near\", \"of\", \"of\", \"of\", \"of\", \"park\", \"park\", \"park\", \"park\", \"park\", \"private\", \"private\", \"private\", \"private\", \"private\", \"room\", \"room\", \"room\", \"room\", \"room\", \"spacious\", \"spacious\", \"spacious\", \"spacious\", \"spacious\", \"studio\", \"studio\", \"studio\", \"studio\", \"studio\", \"sunny\", \"sunny\", \"sunny\", \"sunny\", \"sunny\", \"the\", \"the\", \"the\", \"the\", \"to\", \"to\", \"to\", \"to\", \"to\", \"williamsburg\", \"williamsburg\", \"williamsburg\", \"williamsburg\", \"with\", \"with\", \"with\", \"with\"]}, \"R\": 30, \"lambda.step\": 0.01, \"plot.opts\": {\"xlab\": \"PC1\", \"ylab\": \"PC2\"}, \"topic.order\": [2, 4, 1, 3, 5]};\n",
       "\n",
       "function LDAvis_load_lib(url, callback){\n",
       "  var s = document.createElement('script');\n",
       "  s.src = url;\n",
       "  s.async = true;\n",
       "  s.onreadystatechange = s.onload = callback;\n",
       "  s.onerror = function(){console.warn(\"failed to load library \" + url);};\n",
       "  document.getElementsByTagName(\"head\")[0].appendChild(s);\n",
       "}\n",
       "\n",
       "if(typeof(LDAvis) !== \"undefined\"){\n",
       "   // already loaded: just create the visualization\n",
       "   !function(LDAvis){\n",
       "       new LDAvis(\"#\" + \"ldavis_el38179114673566722211963059\", ldavis_el38179114673566722211963059_data);\n",
       "   }(LDAvis);\n",
       "}else if(typeof define === \"function\" && define.amd){\n",
       "   // require.js is available: use it to load d3/LDAvis\n",
       "   require.config({paths: {d3: \"https://d3js.org/d3.v5\"}});\n",
       "   require([\"d3\"], function(d3){\n",
       "      window.d3 = d3;\n",
       "      LDAvis_load_lib(\"https://cdn.jsdelivr.net/gh/bmabey/pyLDAvis@3.3.1/pyLDAvis/js/ldavis.v3.0.0.js\", function(){\n",
       "        new LDAvis(\"#\" + \"ldavis_el38179114673566722211963059\", ldavis_el38179114673566722211963059_data);\n",
       "      });\n",
       "    });\n",
       "}else{\n",
       "    // require.js not available: dynamically load d3 & LDAvis\n",
       "    LDAvis_load_lib(\"https://d3js.org/d3.v5.js\", function(){\n",
       "         LDAvis_load_lib(\"https://cdn.jsdelivr.net/gh/bmabey/pyLDAvis@3.3.1/pyLDAvis/js/ldavis.v3.0.0.js\", function(){\n",
       "                 new LDAvis(\"#\" + \"ldavis_el38179114673566722211963059\", ldavis_el38179114673566722211963059_data);\n",
       "            })\n",
       "         });\n",
       "}\n",
       "</script>"
      ],
      "text/plain": [
       "<IPython.core.display.HTML object>"
      ]
     },
     "execution_count": 134,
     "metadata": {},
     "output_type": "execute_result"
    }
   ],
   "source": [
    "lda_display = gensimvis.prepare(ldamod, corpus_fromdict, text_raw_dict)\n",
    "pyLDAvis.display(lda_display)"
   ]
  },
  {
   "cell_type": "markdown",
   "metadata": {},
   "source": [
    "## 3.4 Activity 3\n",
    "\n",
    "- Preprocess the texts if you haven't already\n",
    "- Run the topic model with preprocessed texts\n",
    "- Play around with other parameters like `n_topics` to find a configuration that produces useful topics\n",
    "\n",
    "If you get stuck on the preprocessing part, you can use below function and example code for applying it. Then continue as above (start with tokenizing)."
   ]
  },
  {
   "cell_type": "code",
   "execution_count": 135,
   "metadata": {},
   "outputs": [
    {
     "name": "stderr",
     "output_type": "stream",
     "text": [
      "/var/folders/1y/tx5xv7mx325cz5z1q7xc35sm0000gn/T/ipykernel_38179/4182138162.py:7: FutureWarning: The behavior of `series[i:j]` with an integer-dtype index is deprecated. In a future version, this will be treated as *label-based* indexing, consistent with e.g. `series[i]` lookups. To retain the old behavior, use `series.iloc[i:j]`. To get the future behavior, use `series.loc[i:j]`.\n",
      "  ab_small[\"name_lower\"][0:5]\n"
     ]
    },
    {
     "data": {
      "text/plain": [
       "23821                                        super cozy!\n",
       "22905         beautiful private bedroom by prospect park\n",
       "20426    best location on the upper west side! - part ii\n",
       "2018          architecturally stunning former synagogue!\n",
       "18790                large, beautiful room near bushwick\n",
       "Name: name_lower, dtype: object"
      ]
     },
     "execution_count": 135,
     "metadata": {},
     "output_type": "execute_result"
    },
    {
     "data": {
      "text/plain": [
       "['clean quiet apt home park',\n",
       " 'skylit midtown castl',\n",
       " 'villag harlem new york',\n",
       " 'cozi entir floor brownston',\n",
       " 'entir apt spaciou studio loft central park']"
      ]
     },
     "execution_count": 135,
     "metadata": {},
     "output_type": "execute_result"
    },
    {
     "name": "stdout",
     "output_type": "stream",
     "text": [
      "Filtering out very rare and very common words reduced the length of dictionary from 5424 to 398.\n",
      "<class 'gensim.models.ldamodel.LdaModel'>\n"
     ]
    }
   ],
   "source": [
    "# your code here\n",
    "text_lower = ab[\"name\"].str.lower().tolist()\n",
    "# Small model:\n",
    "# text_pre = stem_tokens(remove_stopwords(ab_small[\"name_lower\"].tolist(), list_stopwords_new), porter)\n",
    "# Large model:\n",
    "text_pre = stem_tokens(remove_stopwords(text_lower, list_stopwords_new), porter)\n",
    "ab_small[\"name_lower\"][0:5]\n",
    "text_pre[0:5]\n",
    "\n",
    "text_pre_tokens = [wordpunct_tokenize(one_text) for one_text in \n",
    "                            text_pre]\n",
    "\n",
    "text_pre_dict = corpora.Dictionary(text_pre_tokens)\n",
    "pre_len = len(text_pre_dict) # get length for comparison below\n",
    "\n",
    "## Filter out very rare and very common words\n",
    "lower_bound = round(ab_small.shape[0]*0.05)\n",
    "upper_bound = round(ab_small.shape[0]*0.95)\n",
    "\n",
    "### Apply filtering to dictionary\n",
    "text_pre_dict.filter_extremes(no_below = lower_bound,\n",
    "                                        no_above = upper_bound)\n",
    "print(f'Filtering out very rare and very common words reduced the \\\n",
    "length of dictionary from {str(pre_len)} to {str(len(text_pre_dict))}.')\n",
    "\n",
    "## Step 4: apply dictionary to TOKENIZED texts\n",
    "## this creates a mapping between each word \n",
    "## in a specific listing and the key in the dictionary.\n",
    "## for words that remain in the filtered dictionary,\n",
    "## output is a list where len(list) == n documents\n",
    "## and each element in the list is a list of tuples\n",
    "## containing the mappings\n",
    "corpus_fromdict_pre = [text_pre_dict.doc2bow(one_text) \n",
    "                   for one_text in text_pre_tokens]\n",
    "\n",
    "ldamod_pre = gensim.models.ldamodel.LdaModel(corpus_fromdict_pre, \n",
    "                                         num_topics = 10, \n",
    "                                         id2word=text_pre_dict, \n",
    "                                         passes=6, \n",
    "                                         alpha = 'auto',\n",
    "                                         per_word_topics = True)\n",
    "\n",
    "print(type(ldamod_pre))\n"
   ]
  },
  {
   "cell_type": "code",
   "execution_count": 136,
   "metadata": {},
   "outputs": [
    {
     "name": "stdout",
     "output_type": "stream",
     "text": [
      "(0, '0.086*\"charm\" + 0.069*\"harlem\" + 0.065*\"garden\" + 0.063*\"gym\" + 0.061*\"west\" + 0.059*\"duplex\" + 0.057*\"chelsea\" + 0.055*\"best\" + 0.045*\"villag\" + 0.041*\"doorman\"')\n",
      "(1, '0.182*\"home\" + 0.137*\"east\" + 0.131*\"bright\" + 0.098*\"villag\" + 0.058*\"away\" + 0.057*\"floor\" + 0.037*\"penthous\" + 0.036*\"stylish\" + 0.032*\"terrac\" + 0.022*\"le\"')\n",
      "(2, '0.233*\"room\" + 0.167*\"privat\" + 0.113*\"cozi\" + 0.051*\"williamsburg\" + 0.044*\"new\" + 0.041*\"modern\" + 0.039*\"sunni\" + 0.039*\"heart\" + 0.022*\"bath\" + 0.018*\"citi\"')\n",
      "(3, '0.209*\"park\" + 0.139*\"central\" + 0.132*\"near\" + 0.060*\"subway\" + 0.054*\"brownston\" + 0.044*\"view\" + 0.034*\"step\" + 0.029*\"stay\" + 0.025*\"beach\" + 0.024*\"slope\"')\n",
      "(4, '0.280*\"bedroom\" + 0.118*\"apt\" + 0.095*\"spaciou\" + 0.080*\"beauti\" + 0.046*\"one\" + 0.041*\"larg\" + 0.027*\"renov\" + 0.022*\"soho\" + 0.020*\"two\" + 0.018*\"perfect\"')\n",
      "(5, '0.127*\"luxuri\" + 0.093*\"loft\" + 0.092*\"time\" + 0.087*\"squar\" + 0.050*\"jfk\" + 0.044*\"near\" + 0.038*\"love\" + 0.036*\"minut\" + 0.035*\"entir\" + 0.033*\"artist\"')\n",
      "(6, '0.181*\"bed\" + 0.114*\"min\" + 0.086*\"side\" + 0.078*\"upper\" + 0.073*\"east\" + 0.040*\"queen\" + 0.038*\"walk\" + 0.033*\"backyard\" + 0.031*\"oasi\" + 0.029*\"king\"')\n",
      "(7, '0.159*\"locat\" + 0.099*\"quiet\" + 0.089*\"great\" + 0.076*\"prime\" + 0.062*\"place\" + 0.060*\"kitchen\" + 0.038*\"full\" + 0.032*\"hell\" + 0.031*\"gem\" + 0.029*\"neighborhood\"')\n",
      "(8, '0.105*\"bushwick\" + 0.091*\"close\" + 0.085*\"clean\" + 0.072*\"train\" + 0.054*\"height\" + 0.040*\"comfi\" + 0.039*\"big\" + 0.036*\"rooftop\" + 0.033*\"balconi\" + 0.032*\"nice\"')\n",
      "(9, '0.234*\"studio\" + 0.087*\"midtown\" + 0.056*\"comfort\" + 0.052*\"hous\" + 0.042*\"sonder\" + 0.041*\"gorgeou\" + 0.030*\"brand\" + 0.027*\"light\" + 0.023*\"stun\" + 0.022*\"uw\"')\n"
     ]
    },
    {
     "name": "stderr",
     "output_type": "stream",
     "text": [
      "/opt/homebrew/lib/python3.10/site-packages/pyLDAvis/_prepare.py:247: FutureWarning: In a future version of pandas all arguments of DataFrame.drop except for the argument 'labels' will be keyword-only.\n",
      "  by='saliency', ascending=False).head(R).drop('saliency', 1)\n"
     ]
    },
    {
     "data": {
      "text/html": [
       "\n",
       "<link rel=\"stylesheet\" type=\"text/css\" href=\"https://cdn.jsdelivr.net/gh/bmabey/pyLDAvis@3.3.1/pyLDAvis/js/ldavis.v1.0.0.css\">\n",
       "\n",
       "\n",
       "<div id=\"ldavis_el38179114078771523209334817\"></div>\n",
       "<script type=\"text/javascript\">\n",
       "\n",
       "var ldavis_el38179114078771523209334817_data = {\"mdsDat\": {\"x\": [0.017094148671387834, 0.03080351600636479, 0.20695475764798174, 0.07494651004550466, 0.11311979688197023, 0.24272540960456174, -0.18740278032166874, -0.25991797611628037, -0.2683221010697958, 0.029998718649974308], \"y\": [-0.3063332213220798, -0.31699478178468743, 0.09643162193407538, 0.12932802020153825, 0.013216669861160574, 0.1673171463411256, 0.12330349840906074, 0.07563645994774772, 0.04871238133489944, -0.030617794922841023], \"topics\": [1, 2, 3, 4, 5, 6, 7, 8, 9, 10], \"cluster\": [1, 1, 1, 1, 1, 1, 1, 1, 1, 1], \"Freq\": [24.199028210501382, 17.264732368378667, 8.524538268606447, 8.121366524084353, 7.882116277991705, 7.545370220796471, 7.306129116968268, 7.082236144186408, 6.284792971745046, 5.789689896741256]}, \"tinfo\": {\"Term\": [\"bedroom\", \"room\", \"privat\", \"studio\", \"park\", \"cozi\", \"bed\", \"apt\", \"home\", \"east\", \"near\", \"central\", \"luxuri\", \"locat\", \"spaciou\", \"beauti\", \"bright\", \"min\", \"bushwick\", \"villag\", \"loft\", \"time\", \"squar\", \"close\", \"midtown\", \"williamsburg\", \"clean\", \"charm\", \"quiet\", \"side\", \"privat\", \"williamsburg\", \"share\", \"bathroom\", \"york\", \"space\", \"astoria\", \"room\", \"live\", \"chic\", \"style\", \"trendi\", \"entranc\", \"huge\", \"dream\", \"welcom\", \"sanctuari\", \"cozi\", \"travel\", \"lic\", \"dryer\", \"delux\", \"suit\", \"washer\", \"massiv\", \"flatbush\", \"stop\", \"mid\", \"across\", \"contemporari\", \"modern\", \"new\", \"bath\", \"peac\", \"sunni\", \"heart\", \"citi\", \"larg\", \"spaciou\", \"bedroom\", \"one\", \"renov\", \"soho\", \"two\", \"perfect\", \"newli\", \"townhous\", \"guest\", \"conveni\", \"famili\", \"master\", \"friendli\", \"avail\", \"littl\", \"free\", \"state\", \"empir\", \"island\", \"doubl\", \"wall\", \"nolita\", \"simpl\", \"pad\", \"itali\", \"basement\", \"rockaway\", \"escap\", \"tranquil\", \"uptown\", \"apt\", \"beauti\", \"spaciou\", \"larg\", \"chinatown\", \"amaz\", \"heart\", \"sunni\", \"luxuri\", \"time\", \"squar\", \"jfk\", \"loft\", \"love\", \"minut\", \"entir\", \"artist\", \"lga\", \"build\", \"hill\", \"downtown\", \"center\", \"airport\", \"hotel\", \"clinton\", \"tribeca\", \"everyth\", \"district\", \"madison\", \"zen\", \"peopl\", \"financi\", \"fantast\", \"plant\", \"quit\", \"three\", \"lot\", \"lincoln\", \"amaz\", \"near\", \"view\", \"citi\", \"condo\", \"midtown\", \"comfort\", \"hous\", \"gorgeou\", \"brand\", \"light\", \"stun\", \"uw\", \"stock\", \"exchang\", \"furnish\", \"columbia\", \"ave\", \"small\", \"art\", \"gramerci\", \"eleg\", \"unit\", \"fidi\", \"spot\", \"univers\", \"flush\", \"fulli\", \"easi\", \"town\", \"skylin\", \"spectacular\", \"rental\", \"studio\", \"budget\", \"sonder\", \"fill\", \"histor\", \"condo\", \"view\", \"new\", \"bushwick\", \"clean\", \"train\", \"height\", \"close\", \"comfi\", \"big\", \"rooftop\", \"balconi\", \"nice\", \"next\", \"greenpoint\", \"cute\", \"prospect\", \"area\", \"bedstuy\", \"crown\", \"cosi\", \"femal\", \"safe\", \"super\", \"afford\", \"hudson\", \"right\", \"hamilton\", \"good\", \"fee\", \"sunnysid\", \"bridg\", \"window\", \"subway\", \"block\", \"park\", \"central\", \"brownston\", \"step\", \"stay\", \"beach\", \"slope\", \"sun\", \"singl\", \"river\", \"classic\", \"retreat\", \"wifi\", \"drench\", \"broadway\", \"vibrant\", \"corner\", \"term\", \"avenu\", \"rise\", \"columbu\", \"waterfront\", \"ador\", \"north\", \"circl\", \"ridg\", \"couch\", \"red\", \"triplex\", \"cat\", \"near\", \"subway\", \"block\", \"view\", \"high\", \"metro\", \"fill\", \"long\", \"charm\", \"harlem\", \"garden\", \"gym\", \"duplex\", \"chelsea\", \"best\", \"doorman\", \"blueground\", \"street\", \"flat\", \"ue\", \"patio\", \"bdrm\", \"roof\", \"pool\", \"warm\", \"deck\", \"john\", \"greenwich\", \"water\", \"cool\", \"line\", \"outdoor\", \"servic\", \"quaint\", \"pvt\", \"experi\", \"paradis\", \"amen\", \"west\", \"villag\", \"sonder\", \"histor\", \"bed\", \"min\", \"side\", \"upper\", \"queen\", \"walk\", \"backyard\", \"oasi\", \"king\", \"stuy\", \"lower\", \"sleep\", \"size\", \"access\", \"union\", \"sofa\", \"artsi\", \"south\", \"grand\", \"relax\", \"bdr\", \"bohemian\", \"station\", \"breakfast\", \"seren\", \"twin\", \"urban\", \"casa\", \"delight\", \"well\", \"east\", \"west\", \"home\", \"bright\", \"away\", \"floor\", \"penthous\", \"stylish\", \"terrac\", \"le\", \"getaway\", \"sweet\", \"top\", \"summer\", \"airi\", \"awesom\", \"sublet\", \"uniqu\", \"washington\", \"wonder\", \"homey\", \"feel\", \"middl\", \"vacat\", \"eclect\", \"lit\", \"noho\", \"medic\", \"villag\", \"east\", \"like\", \"chinatown\", \"spaciou\", \"locat\", \"quiet\", \"great\", \"prime\", \"place\", \"kitchen\", \"full\", \"hell\", \"gem\", \"neighborhood\", \"design\", \"green\", \"lux\", \"laundri\", \"yard\", \"fort\", \"elev\", \"hip\", \"ridgewood\", \"rent\", \"sunlit\", \"open\", \"ideal\", \"ferri\", \"hideaway\", \"sunset\", \"loung\", \"enjoy\", \"stuyves\", \"bldg\", \"amaz\"], \"Freq\": [9041.0, 10581.0, 7588.0, 3602.0, 2951.0, 5143.0, 2401.0, 3854.0, 2138.0, 2583.0, 2564.0, 1960.0, 2024.0, 1730.0, 3626.0, 2631.0, 1547.0, 1518.0, 1546.0, 1776.0, 1494.0, 1471.0, 1384.0, 1341.0, 1330.0, 2323.0, 1257.0, 1182.0, 1075.0, 1135.0, 7587.872115675714, 2322.5987793549325, 820.718266614497, 782.6264346969922, 768.6466871315306, 695.7029126156273, 621.3545191048671, 10562.139139347944, 465.9074561192427, 373.78927097230024, 294.21470280829425, 266.79537918654256, 210.70243145278596, 807.4351087606245, 175.55228961368363, 172.81472834983808, 163.62134400839864, 5116.731806659534, 152.5248117365873, 131.1314196869863, 124.3697147043141, 123.86953948357602, 831.1411938491805, 119.05820760033643, 117.55091739435281, 108.02809660541189, 262.05160831611346, 87.02987105146764, 73.97960979111502, 70.94628177851396, 1864.968465425578, 1993.6502232536675, 1015.0930522865565, 251.8757505022233, 1786.7251721391167, 1782.815962345707, 834.3481574638241, 438.5957109049559, 497.19776616851857, 9040.729104628741, 1481.4539454763583, 876.2183425624461, 708.6484174964223, 630.7171105148421, 589.6516544536059, 448.8317378313788, 445.4629525563973, 397.4677233720932, 395.3451227214464, 372.2629248344172, 313.25257883434466, 302.14994389299756, 254.40389742412268, 252.70030561076945, 246.95767399944276, 196.55682572501325, 195.55000588460786, 193.85275356383352, 189.43950300557898, 181.8133193058148, 168.8388174214963, 156.48778430377385, 147.8925165555347, 131.07592077214892, 129.67185116042745, 126.3563868907236, 123.16924840666681, 116.02975252138351, 111.03298254050402, 3816.0504805279525, 2592.5521444866804, 3075.316099166617, 1338.493057227365, 174.80753250450863, 356.7637539114488, 470.8066176037233, 433.02095299052957, 2023.307806976776, 1471.0756067128223, 1383.882075594817, 804.1123242823277, 1492.3975222716797, 609.8036920059195, 566.8433660275786, 554.7040245306409, 521.1571157929626, 477.24165460095213, 471.26147201595114, 431.02121148092294, 381.954277466301, 298.2851940971298, 277.69075277110255, 196.07411269914684, 181.39363747558116, 175.99783430834702, 163.94644935626027, 142.08070509777772, 103.78131762226162, 99.48412367089365, 84.96733832826074, 83.28617127987611, 82.62006588231216, 82.03243735126553, 77.39745457946977, 68.83679946151726, 66.87805256144547, 64.53308497846425, 504.58928494097836, 703.66520655855, 354.6070337484499, 206.34373448688694, 98.40286040761725, 1329.9683234886857, 851.8954925302068, 786.8160623689545, 616.845216940238, 452.24865913116366, 404.2886126343591, 351.0995731837083, 340.16099286859935, 333.86767682076686, 329.5357537604012, 317.20024230103684, 303.48182482603823, 284.21840983252434, 209.3830860356337, 193.1746273917286, 185.04613034722254, 167.77453862024436, 158.7600501171888, 149.5968244167666, 147.41267271976608, 139.3700264625771, 124.5855858780017, 115.29747278226698, 112.90283082157718, 108.23664927914012, 102.1520668122201, 91.00777044387168, 87.90326572319997, 3566.271172088284, 86.15475718804556, 635.8094008562417, 249.7834607044925, 270.8628890188977, 163.5458631734046, 304.2495235330865, 125.91590474470513, 1545.594141815052, 1256.3351537000049, 1058.3939750188363, 800.4019553838948, 1340.0698654491566, 593.4917892692512, 575.2640859529023, 525.0509228005351, 490.6461094168584, 477.9145569855216, 444.07932839421414, 436.3686357963126, 429.956083945448, 414.7125616587862, 357.03941341356403, 329.849102409399, 297.0370255281134, 267.9558624065293, 208.6317487303281, 199.35697348769247, 194.48456648588976, 179.18534516978062, 137.11170626908796, 128.65564213690533, 123.28690742219419, 122.4878442784359, 98.93691005827594, 94.90902876277602, 92.45741212634996, 90.07924506171064, 404.38182851401285, 135.18370313276816, 2950.4758774647485, 1960.118529715164, 764.6029348520692, 480.3236306003946, 411.4517462254679, 356.68753835111517, 341.0909722472353, 291.0971340200232, 249.4490011174799, 174.46270570713835, 157.54943576542692, 152.582333154172, 147.8177548032253, 117.67634830835239, 106.89033554997673, 106.41429100283771, 98.49390373546402, 95.88117361962045, 91.08222919057766, 88.22933138916551, 87.47795019411672, 76.39363961462611, 76.03082807011475, 73.32496996286217, 66.56086762874887, 62.73540718480953, 59.414664785187455, 56.64392441750792, 46.20957166796115, 41.97906270340537, 1859.8528710434323, 853.6026270933554, 279.5292831134335, 625.7859862693379, 172.9841088166135, 149.78001706019887, 111.11507296139382, 77.35469863698629, 1181.2514190521604, 939.613692269314, 886.1170156907568, 865.1381047625404, 807.9965436491451, 780.7954623523153, 746.814349327607, 560.2146441107416, 514.7850618331565, 393.407342995243, 281.2946190541173, 262.4322217860751, 252.73219902587797, 203.01074711103578, 201.1550666451117, 196.45469088182597, 190.17212334192595, 178.17185921079965, 174.95031564212053, 147.17486858914526, 144.0384086911792, 143.81412731951818, 143.80623834525645, 127.59844905452114, 125.98287888761365, 125.5903418807288, 119.38911106738526, 104.82385337336476, 101.29510499032017, 96.64371351229293, 835.4080145858987, 617.7189196142648, 213.06815697341034, 142.66932117729615, 2400.291213281296, 1517.4103184176975, 1134.8789165960222, 1033.7076008360998, 535.8914502626163, 507.2163756337896, 436.67357306267513, 415.79658760867113, 378.42248489517345, 321.2917700904822, 320.7909574649793, 308.4241298154477, 290.5630400183034, 209.24007828447458, 193.62699945449734, 179.39023496030765, 177.9306042214812, 158.1405494400406, 149.8764616408661, 140.04098744125628, 139.51400872120462, 125.18715774852149, 118.76924975915283, 112.42366297728563, 107.5041654107795, 101.46223133803059, 84.747489508885, 81.29076681296296, 55.512895322876645, 48.26367333742408, 969.9511812005342, 377.0531259471247, 2137.805577907238, 1546.654326518267, 686.7811773464193, 669.9313692920392, 432.78461352496896, 421.6185608200881, 381.3951963541387, 257.80672474372244, 240.45765694553927, 221.65832400750708, 207.75831442098143, 197.23296742421067, 194.69047018608316, 160.4165080360822, 151.425239107166, 134.23188027124093, 122.8921939295056, 110.352913814677, 92.74218961980198, 92.52792672052912, 80.84044687610591, 69.05630534610715, 57.822944665884194, 50.316858362192754, 42.020828360108936, 33.71403807171544, 1157.7019996494762, 1612.9055025133227, 74.13188799781115, 8.686211660144563, 35.80999987264701, 1729.2202538854192, 1074.5863180302347, 959.9016165193934, 828.0526927374323, 674.0780086343791, 647.2079696950934, 413.9030118493372, 352.1004598881937, 335.4105887230507, 309.3481626380606, 309.083981147894, 298.90649982823516, 247.32618996220808, 235.24793100135733, 216.6704114838525, 202.15531611833163, 197.5356445505883, 184.96247199756212, 179.5803927269104, 178.3966762448985, 168.05019067963795, 129.85878618110135, 107.78787598896007, 101.64480293881243, 98.00365726757313, 97.72540723945247, 97.66534579278144, 91.60132116084368, 69.4642040049136, 44.26428635070816, 116.2938069509469], \"Total\": [9041.0, 10581.0, 7588.0, 3602.0, 2951.0, 5143.0, 2401.0, 3854.0, 2138.0, 2583.0, 2564.0, 1960.0, 2024.0, 1730.0, 3626.0, 2631.0, 1547.0, 1518.0, 1546.0, 1776.0, 1494.0, 1471.0, 1384.0, 1341.0, 1330.0, 2323.0, 1257.0, 1182.0, 1075.0, 1135.0, 7588.7328629795065, 2323.456470033215, 821.5759808206021, 783.4841197384687, 769.504358510315, 696.5618995662602, 622.2122122609377, 10581.101229328582, 466.7651413658192, 374.64699709197515, 295.0724328736044, 267.6531198099103, 211.56008890897454, 811.2881391688328, 176.4100197841316, 173.67245299949906, 164.47905412113604, 5143.922952611825, 153.38249215096909, 131.9891990617423, 125.22740110013613, 124.72727636938552, 837.0564469341948, 119.91589450320406, 118.40869624961618, 108.88584030227338, 264.5586382331711, 87.88756117344167, 74.8373833938571, 71.80400412938994, 1911.2044128432465, 2120.3311889534284, 1081.3592775446857, 268.2093793778411, 2272.935249007222, 2287.7061768181416, 1041.4639831721577, 1781.4395054357851, 3626.491216699182, 9041.581349586555, 1482.3061761213376, 877.0705739074923, 709.5060847215279, 631.5693602466221, 590.5039150015155, 449.68395495676174, 446.31519099395314, 398.3199929370345, 396.19738148149344, 373.115169927846, 314.1047984412524, 303.00219010451775, 255.2561334498078, 253.55254875560448, 247.8099785129544, 197.40907835428015, 196.40224124982737, 194.70498982290815, 190.29175173767885, 182.6656585420074, 169.69102784755034, 157.34007951380798, 148.74476882489307, 131.9281281616129, 130.52409412766966, 127.20881082524592, 124.02149247400666, 116.88203439056026, 111.88521287327555, 3854.4150010383983, 2631.086569869958, 3626.491216699182, 1781.4395054357851, 184.24656686897296, 979.6239298350813, 2287.7061768181416, 2272.935249007222, 2024.1802105249865, 1471.947982572401, 1384.7544503064214, 804.9847090391526, 1494.2825423702704, 610.7151008665845, 567.7157535194289, 555.5764307233211, 522.0295234497771, 478.1140286400435, 472.1338702819402, 431.89356587766144, 382.8266688966676, 299.15757109975925, 278.5631200313394, 196.9465110273163, 182.26598316591614, 176.87025688090023, 164.81884935964186, 142.953077467443, 104.65374911275377, 100.35653811343363, 85.83974332284701, 84.15851882011084, 83.49247743700843, 82.90488678028636, 78.26986354747008, 69.7092293544656, 67.75045798301352, 65.40543305222221, 979.6239298350813, 2564.4247585361672, 1285.3281871062081, 1041.4639831721577, 262.72848376115456, 1330.8337156729056, 852.7608790252707, 787.6865576556618, 617.7106184502493, 453.114066677648, 405.15398248888533, 351.9649772629149, 341.02638609402953, 334.733306088316, 330.40166981344754, 318.06561192593205, 304.347199254246, 285.08379960042356, 210.24847689847553, 194.04000231832066, 185.91151488193333, 168.63993091277962, 159.62546046203266, 150.46222996753042, 148.2780913264058, 140.23538139009574, 125.45096207440875, 116.16283301100391, 113.76823636690014, 109.1020444569354, 103.0174180814314, 91.8731664032856, 88.76868237636691, 3602.070161101987, 87.0201337056939, 849.6427861010592, 361.66977015842156, 414.2974343567852, 262.72848376115456, 1285.3281871062081, 2120.3311889534284, 1546.4520194684885, 1257.1930376911441, 1059.2518565933221, 801.2598059998209, 1341.64528477264, 594.3496613840872, 576.1219679274582, 525.908827872824, 491.504003691015, 478.7724369238895, 444.9372235768347, 437.2265103912137, 430.81397038844887, 415.5704371642134, 357.8973110213753, 330.7069793273864, 297.8948634392925, 268.81374947755086, 209.4896516746466, 200.21484351388293, 195.3424455213628, 180.04321700410753, 137.96964593139046, 129.5135195664231, 124.14474446084034, 123.3457260740442, 99.79489435253089, 95.76689366608906, 93.3153207979853, 90.9371347928402, 1258.7482071996208, 415.476726856549, 2951.3397372593245, 1960.9823948938842, 765.4668054343324, 481.18752740287925, 412.3156303594281, 357.55143907580253, 341.954815348254, 291.9609967162091, 250.31292214463195, 175.32658075838913, 158.41332250082107, 153.4462106970086, 148.6816607487122, 118.54019676881913, 107.75422052487916, 107.27823541549655, 99.35779288961254, 96.74503873249162, 91.94609651098054, 89.09319617470896, 88.34179139396115, 77.25751055883434, 76.8947359105528, 74.18881951433092, 67.42470054807838, 63.599265484603876, 60.27853580838013, 57.50779833569806, 47.07350154616534, 42.842941069638414, 2564.4247585361672, 1258.7482071996208, 415.476726856549, 1285.3281871062081, 254.45301535839124, 235.6765292882947, 361.66977015842156, 169.98398268285234, 1182.109255631893, 940.4715566031078, 886.9748439457949, 865.9959388903792, 808.854388314219, 781.6532951214502, 747.6722055605984, 561.0724733767433, 515.644216989387, 394.26517700963, 282.152521341554, 263.29005634396185, 253.59004250609473, 203.86856732965393, 202.01288514504142, 197.3125184001724, 191.02996932432788, 179.0296703606241, 175.8081911754877, 148.03266453541562, 144.89627178909677, 144.6719712827487, 144.6640937456411, 128.45629611933575, 126.84075341992933, 126.44818079945894, 120.24698594954799, 105.68167131885207, 102.15294034675466, 97.50156982984024, 1213.232793573584, 1776.179333320077, 849.6427861010592, 414.2974343567852, 2401.1630694399983, 1518.2821905748963, 1135.7507236277966, 1034.5794092526826, 536.7633018167321, 508.08828016489895, 437.5454483916617, 416.66844879396166, 379.2943590607411, 322.16358256445665, 321.6627702706206, 309.2959970030884, 291.4348710868843, 210.1119471656825, 194.4989129639337, 180.26209268400677, 178.80246330173296, 159.0124105791453, 150.74834818121084, 140.912847073905, 140.38589499054945, 126.05904169347794, 119.64113771731635, 113.29555430220415, 108.37602742200237, 102.33408986035661, 85.61932857837591, 82.16258169261661, 56.384736967470545, 49.135525868715284, 2583.629128565443, 1213.232793573584, 2138.664185551061, 1547.5129512107453, 687.6398032232338, 670.7900052792005, 433.64323646938226, 422.50500000930043, 382.25382169987984, 258.66533596589943, 241.31627464653124, 222.51693543439438, 208.6169301637123, 198.09160756895406, 195.54909745155072, 161.27513568082307, 152.28387426591223, 135.09051141836653, 123.75081082623268, 111.21155534329537, 93.60084091089857, 93.3865412058701, 81.69908037304516, 69.91490520741392, 58.6815695374284, 51.17548707086065, 42.879439533439694, 34.57263364130288, 1776.179333320077, 2583.629128565443, 217.7775337496347, 184.24656686897296, 3626.491216699182, 1730.0848021761988, 1075.450884136096, 960.7661632152358, 828.9172479018115, 674.9425592078009, 648.0725257590359, 414.76758769259186, 352.9649863694639, 336.2751586230173, 310.2127202178618, 309.94854817436646, 299.7710402120811, 248.19855758953514, 236.1125639085763, 217.53500006114677, 203.01984313849405, 198.40022204099995, 185.827055401945, 180.4449550739644, 179.2612431874233, 168.91475319530815, 130.72336982061898, 108.65242720279845, 102.50938143077464, 98.8682096921562, 98.5899971826225, 98.53004512285584, 92.46589028967483, 70.32877250956666, 45.12884087957166, 979.6239298350813], \"Category\": [\"Default\", \"Default\", \"Default\", \"Default\", \"Default\", \"Default\", \"Default\", \"Default\", \"Default\", \"Default\", \"Default\", \"Default\", \"Default\", \"Default\", \"Default\", \"Default\", \"Default\", \"Default\", \"Default\", \"Default\", \"Default\", \"Default\", \"Default\", \"Default\", \"Default\", \"Default\", \"Default\", \"Default\", \"Default\", \"Default\", \"Topic1\", \"Topic1\", \"Topic1\", \"Topic1\", \"Topic1\", \"Topic1\", \"Topic1\", \"Topic1\", \"Topic1\", \"Topic1\", \"Topic1\", \"Topic1\", \"Topic1\", \"Topic1\", \"Topic1\", \"Topic1\", \"Topic1\", \"Topic1\", \"Topic1\", \"Topic1\", \"Topic1\", \"Topic1\", \"Topic1\", \"Topic1\", \"Topic1\", \"Topic1\", \"Topic1\", \"Topic1\", \"Topic1\", \"Topic1\", \"Topic1\", \"Topic1\", \"Topic1\", \"Topic1\", \"Topic1\", \"Topic1\", \"Topic1\", \"Topic1\", \"Topic1\", \"Topic2\", \"Topic2\", \"Topic2\", \"Topic2\", \"Topic2\", \"Topic2\", \"Topic2\", \"Topic2\", \"Topic2\", \"Topic2\", \"Topic2\", \"Topic2\", \"Topic2\", \"Topic2\", \"Topic2\", \"Topic2\", \"Topic2\", \"Topic2\", \"Topic2\", \"Topic2\", \"Topic2\", \"Topic2\", \"Topic2\", \"Topic2\", \"Topic2\", \"Topic2\", \"Topic2\", \"Topic2\", \"Topic2\", \"Topic2\", \"Topic2\", \"Topic2\", \"Topic2\", \"Topic2\", \"Topic2\", \"Topic2\", \"Topic2\", \"Topic2\", \"Topic3\", \"Topic3\", \"Topic3\", \"Topic3\", \"Topic3\", \"Topic3\", \"Topic3\", \"Topic3\", \"Topic3\", \"Topic3\", \"Topic3\", \"Topic3\", \"Topic3\", \"Topic3\", \"Topic3\", \"Topic3\", \"Topic3\", \"Topic3\", \"Topic3\", \"Topic3\", \"Topic3\", \"Topic3\", \"Topic3\", \"Topic3\", \"Topic3\", \"Topic3\", \"Topic3\", \"Topic3\", \"Topic3\", \"Topic3\", \"Topic3\", \"Topic3\", \"Topic3\", \"Topic3\", \"Topic3\", \"Topic4\", \"Topic4\", \"Topic4\", \"Topic4\", \"Topic4\", \"Topic4\", \"Topic4\", \"Topic4\", \"Topic4\", \"Topic4\", \"Topic4\", \"Topic4\", \"Topic4\", \"Topic4\", \"Topic4\", \"Topic4\", \"Topic4\", \"Topic4\", \"Topic4\", \"Topic4\", \"Topic4\", \"Topic4\", \"Topic4\", \"Topic4\", \"Topic4\", \"Topic4\", \"Topic4\", \"Topic4\", \"Topic4\", \"Topic4\", \"Topic4\", \"Topic4\", \"Topic4\", \"Topic4\", \"Topic4\", \"Topic4\", \"Topic5\", \"Topic5\", \"Topic5\", \"Topic5\", \"Topic5\", \"Topic5\", \"Topic5\", \"Topic5\", \"Topic5\", \"Topic5\", \"Topic5\", \"Topic5\", \"Topic5\", \"Topic5\", \"Topic5\", \"Topic5\", \"Topic5\", \"Topic5\", \"Topic5\", \"Topic5\", \"Topic5\", \"Topic5\", \"Topic5\", \"Topic5\", \"Topic5\", \"Topic5\", \"Topic5\", \"Topic5\", \"Topic5\", \"Topic5\", \"Topic5\", \"Topic5\", \"Topic6\", \"Topic6\", \"Topic6\", \"Topic6\", \"Topic6\", \"Topic6\", \"Topic6\", \"Topic6\", \"Topic6\", \"Topic6\", \"Topic6\", \"Topic6\", \"Topic6\", \"Topic6\", \"Topic6\", \"Topic6\", \"Topic6\", \"Topic6\", \"Topic6\", \"Topic6\", \"Topic6\", \"Topic6\", \"Topic6\", \"Topic6\", \"Topic6\", \"Topic6\", \"Topic6\", \"Topic6\", \"Topic6\", \"Topic6\", \"Topic6\", \"Topic6\", \"Topic6\", \"Topic6\", \"Topic6\", \"Topic6\", \"Topic6\", \"Topic6\", \"Topic7\", \"Topic7\", \"Topic7\", \"Topic7\", \"Topic7\", \"Topic7\", \"Topic7\", \"Topic7\", \"Topic7\", \"Topic7\", \"Topic7\", \"Topic7\", \"Topic7\", \"Topic7\", \"Topic7\", \"Topic7\", \"Topic7\", \"Topic7\", \"Topic7\", \"Topic7\", \"Topic7\", \"Topic7\", \"Topic7\", \"Topic7\", \"Topic7\", \"Topic7\", \"Topic7\", \"Topic7\", \"Topic7\", \"Topic7\", \"Topic7\", \"Topic7\", \"Topic7\", \"Topic7\", \"Topic8\", \"Topic8\", \"Topic8\", \"Topic8\", \"Topic8\", \"Topic8\", \"Topic8\", \"Topic8\", \"Topic8\", \"Topic8\", \"Topic8\", \"Topic8\", \"Topic8\", \"Topic8\", \"Topic8\", \"Topic8\", \"Topic8\", \"Topic8\", \"Topic8\", \"Topic8\", \"Topic8\", \"Topic8\", \"Topic8\", \"Topic8\", \"Topic8\", \"Topic8\", \"Topic8\", \"Topic8\", \"Topic8\", \"Topic8\", \"Topic8\", \"Topic8\", \"Topic9\", \"Topic9\", \"Topic9\", \"Topic9\", \"Topic9\", \"Topic9\", \"Topic9\", \"Topic9\", \"Topic9\", \"Topic9\", \"Topic9\", \"Topic9\", \"Topic9\", \"Topic9\", \"Topic9\", \"Topic9\", \"Topic9\", \"Topic9\", \"Topic9\", \"Topic9\", \"Topic9\", \"Topic9\", \"Topic9\", \"Topic9\", \"Topic9\", \"Topic9\", \"Topic9\", \"Topic9\", \"Topic9\", \"Topic9\", \"Topic9\", \"Topic10\", \"Topic10\", \"Topic10\", \"Topic10\", \"Topic10\", \"Topic10\", \"Topic10\", \"Topic10\", \"Topic10\", \"Topic10\", \"Topic10\", \"Topic10\", \"Topic10\", \"Topic10\", \"Topic10\", \"Topic10\", \"Topic10\", \"Topic10\", \"Topic10\", \"Topic10\", \"Topic10\", \"Topic10\", \"Topic10\", \"Topic10\", \"Topic10\", \"Topic10\", \"Topic10\", \"Topic10\", \"Topic10\", \"Topic10\", \"Topic10\"], \"logprob\": [30.0, 29.0, 28.0, 27.0, 26.0, 25.0, 24.0, 23.0, 22.0, 21.0, 20.0, 19.0, 18.0, 17.0, 16.0, 15.0, 14.0, 13.0, 12.0, 11.0, 10.0, 9.0, 8.0, 7.0, 6.0, 5.0, 4.0, 3.0, 2.0, 1.0, -1.7873, -2.9712, -4.0114, -4.059, -4.077, -4.1767, -4.2897, -1.4566, -4.5776, -4.7979, -5.0373, -5.1351, -5.3712, -4.0278, -5.5537, -5.5694, -5.6241, -2.1813, -5.6943, -5.8454, -5.8984, -5.9024, -3.9988, -5.942, -5.9547, -6.0392, -5.1531, -6.2554, -6.4178, -6.4597, -3.1906, -3.1239, -3.7989, -5.1927, -3.2335, -3.2357, -3.995, -4.638, -4.5126, -1.2745, -3.0832, -3.6084, -3.8206, -3.9371, -4.0044, -4.2773, -4.2849, -4.3989, -4.4042, -4.4644, -4.637, -4.673, -4.8451, -4.8518, -4.8748, -5.103, -5.1082, -5.1169, -5.1399, -5.181, -5.255, -5.331, -5.3875, -5.5082, -5.519, -5.5449, -5.5704, -5.6301, -5.6741, -2.137, -2.5236, -2.3528, -3.1847, -5.2203, -4.5069, -4.2295, -4.3132, -2.0658, -2.3845, -2.4456, -2.9885, -2.3701, -3.2651, -3.3382, -3.3598, -3.4222, -3.5102, -3.5228, -3.6121, -3.733, -3.9802, -4.0517, -4.3998, -4.4776, -4.5078, -4.5787, -4.7219, -5.036, -5.0783, -5.236, -5.256, -5.264, -5.2711, -5.3293, -5.4465, -5.4754, -5.5111, -3.4545, -3.122, -3.8072, -4.3487, -5.0892, -2.4369, -2.8823, -2.9618, -3.2052, -3.5156, -3.6277, -3.7687, -3.8004, -3.8191, -3.8321, -3.8703, -3.9145, -3.9801, -4.2856, -4.3662, -4.4092, -4.5072, -4.5624, -4.6219, -4.6366, -4.6927, -4.8048, -4.8823, -4.9033, -4.9455, -5.0033, -5.1189, -5.1536, -1.4505, -5.1737, -3.1749, -4.1092, -4.0282, -4.5327, -3.912, -4.7942, -2.2567, -2.4639, -2.6354, -2.9148, -2.3994, -3.2139, -3.2451, -3.3364, -3.4042, -3.4305, -3.5039, -3.5214, -3.5362, -3.5723, -3.7221, -3.8013, -3.906, -4.0091, -4.2593, -4.3048, -4.3296, -4.4115, -4.6791, -4.7428, -4.7854, -4.7919, -5.0054, -5.047, -5.0732, -5.0992, -3.5975, -4.6933, -1.5665, -1.9755, -2.9169, -3.3818, -3.5365, -3.6794, -3.7241, -3.8826, -4.037, -4.3945, -4.4965, -4.5285, -4.5603, -4.7883, -4.8844, -4.8889, -4.9662, -4.9931, -5.0445, -5.0763, -5.0849, -5.2203, -5.2251, -5.2613, -5.3581, -5.4173, -5.4717, -5.5195, -5.7231, -5.8191, -2.028, -2.8068, -3.9231, -3.1172, -4.403, -4.5471, -4.8457, -5.2078, -2.4497, -2.6786, -2.7372, -2.7611, -2.8295, -2.8637, -2.9082, -3.1957, -3.2803, -3.5492, -3.8846, -3.954, -3.9917, -4.2108, -4.2199, -4.2436, -4.2761, -4.3413, -4.3595, -4.5324, -4.5539, -4.5555, -4.5556, -4.6751, -4.6879, -4.691, -4.7416, -4.8717, -4.906, -4.953, -2.7961, -3.098, -4.1624, -4.5635, -1.7096, -2.1681, -2.4586, -2.552, -3.209, -3.264, -3.4137, -3.4627, -3.5569, -3.7205, -3.7221, -3.7614, -3.8211, -4.1494, -4.227, -4.3033, -4.3115, -4.4294, -4.4831, -4.551, -4.5547, -4.6631, -4.7157, -4.7706, -4.8154, -4.8732, -5.0532, -5.0949, -5.4763, -5.6162, -2.6157, -3.5605, -1.7059, -2.0296, -2.8414, -2.8663, -3.3032, -3.3293, -3.4296, -3.8212, -3.8909, -3.9723, -4.0371, -4.0891, -4.102, -4.2957, -4.3533, -4.4739, -4.5621, -4.6698, -4.8436, -4.8459, -4.981, -5.1385, -5.3161, -5.4551, -5.6353, -5.8555, -2.3192, -1.9876, -5.0676, -7.2117, -5.7952, -1.836, -2.3117, -2.4246, -2.5723, -2.778, -2.8187, -3.2658, -3.4275, -3.476, -3.5569, -3.5578, -3.5913, -3.7807, -3.8307, -3.913, -3.9823, -4.0055, -4.0712, -4.1008, -4.1074, -4.1671, -4.4249, -4.6112, -4.6699, -4.7064, -4.7092, -4.7098, -4.7739, -5.0506, -5.5012, -4.5353], \"loglift\": [30.0, 29.0, 28.0, 27.0, 26.0, 25.0, 24.0, 23.0, 22.0, 21.0, 20.0, 19.0, 18.0, 17.0, 16.0, 15.0, 14.0, 13.0, 12.0, 11.0, 10.0, 9.0, 8.0, 7.0, 6.0, 5.0, 4.0, 3.0, 2.0, 1.0, 1.4187, 1.4185, 1.4178, 1.4178, 1.4177, 1.4176, 1.4175, 1.4171, 1.417, 1.4166, 1.4159, 1.4156, 1.4148, 1.4141, 1.414, 1.4139, 1.4136, 1.4136, 1.4133, 1.4123, 1.412, 1.412, 1.4118, 1.4117, 1.4116, 1.4109, 1.4093, 1.4091, 1.4073, 1.4068, 1.3944, 1.3573, 1.3556, 1.356, 1.1782, 1.1695, 1.1971, 0.0173, -0.5682, 1.7564, 1.7559, 1.7555, 1.7553, 1.7552, 1.7551, 1.7546, 1.7546, 1.7544, 1.7544, 1.7542, 1.7538, 1.7537, 1.7532, 1.7531, 1.7531, 1.7522, 1.7522, 1.7521, 1.752, 1.7518, 1.7515, 1.7511, 1.7508, 1.75, 1.75, 1.7498, 1.7496, 1.7492, 1.7489, 1.7465, 1.7418, 1.5916, 1.4706, 1.7039, 0.7464, 0.1756, 0.0985, 2.4618, 2.4616, 2.4616, 2.4611, 2.461, 2.4607, 2.4607, 2.4606, 2.4605, 2.4604, 2.4604, 2.4602, 2.4599, 2.4593, 2.4591, 2.4578, 2.4574, 2.4573, 2.4569, 2.4561, 2.4539, 2.4535, 2.452, 2.4518, 2.4517, 2.4516, 2.451, 2.4496, 2.4493, 2.4488, 1.7988, 1.169, 1.1745, 0.8434, 1.4802, 2.51, 2.5097, 2.5096, 2.5093, 2.5088, 2.5085, 2.5082, 2.5081, 2.5081, 2.508, 2.5079, 2.5078, 2.5076, 2.5065, 2.5062, 2.506, 2.5055, 2.5052, 2.5049, 2.5048, 2.5045, 2.5037, 2.5032, 2.503, 2.5027, 2.5022, 2.5012, 2.5009, 2.5007, 2.5007, 2.2208, 2.1405, 2.0857, 2.0366, 1.0698, -0.313, 2.54, 2.5399, 2.5398, 2.5395, 2.5394, 2.5391, 2.5391, 2.5389, 2.5388, 2.5388, 2.5386, 2.5386, 2.5386, 2.5385, 2.5382, 2.538, 2.5377, 2.5374, 2.5365, 2.5363, 2.5362, 2.5358, 2.5343, 2.5339, 2.5336, 2.5336, 2.5319, 2.5316, 2.5313, 2.5311, 1.4051, 1.4178, 2.5839, 2.5838, 2.5831, 2.5824, 2.5821, 2.5818, 2.5817, 2.5813, 2.5808, 2.5793, 2.5788, 2.5786, 2.5784, 2.5769, 2.5762, 2.5762, 2.5755, 2.5753, 2.5748, 2.5745, 2.5744, 2.573, 2.5729, 2.5725, 2.5713, 2.5706, 2.5698, 2.5691, 2.5657, 2.5639, 2.263, 2.1958, 2.1879, 1.8645, 2.1983, 2.1309, 1.4041, 1.7969, 2.6157, 2.6155, 2.6155, 2.6155, 2.6154, 2.6154, 2.6153, 2.6149, 2.6148, 2.6143, 2.6134, 2.6132, 2.6131, 2.6122, 2.6122, 2.6121, 2.612, 2.6117, 2.6116, 2.6106, 2.6105, 2.6105, 2.6105, 2.6098, 2.6097, 2.6096, 2.6093, 2.6083, 2.608, 2.6076, 2.2433, 1.5603, 1.2333, 1.5504, 2.6472, 2.647, 2.6468, 2.6467, 2.646, 2.6459, 2.6456, 2.6455, 2.6453, 2.6449, 2.6449, 2.6448, 2.6446, 2.6434, 2.6431, 2.6427, 2.6427, 2.6421, 2.6418, 2.6414, 2.6414, 2.6406, 2.6403, 2.6399, 2.6395, 2.639, 2.6373, 2.6369, 2.632, 2.6297, 1.6679, 1.4789, 2.7666, 2.7665, 2.7658, 2.7658, 2.7651, 2.7649, 2.7648, 2.7637, 2.7635, 2.7632, 2.7629, 2.7627, 2.7626, 2.7617, 2.7614, 2.7607, 2.7601, 2.7593, 2.7578, 2.7578, 2.7565, 2.7547, 2.7523, 2.7501, 2.7468, 2.7419, 2.339, 2.2959, 1.6894, -0.2875, -1.8508, 2.8486, 2.8483, 2.8482, 2.848, 2.8478, 2.8478, 2.847, 2.8466, 2.8465, 2.8463, 2.8463, 2.8462, 2.8456, 2.8454, 2.8451, 2.8448, 2.8447, 2.8444, 2.8443, 2.8443, 2.844, 2.8425, 2.8411, 2.8406, 2.8403, 2.8403, 2.8403, 2.8397, 2.8367, 2.8297, 0.718]}, \"token.table\": {\"Topic\": [8, 1, 6, 5, 9, 3, 1, 2, 3, 7, 10, 7, 2, 3, 4, 5, 6, 7, 8, 9, 10, 5, 4, 3, 8, 1, 2, 4, 6, 9, 9, 8, 5, 2, 1, 8, 1, 8, 7, 6, 1, 2, 6, 8, 2, 5, 7, 5, 10, 5, 6, 7, 8, 4, 8, 5, 9, 6, 6, 4, 3, 5, 8, 6, 3, 6, 7, 7, 1, 2, 9, 6, 1, 3, 6, 5, 3, 3, 5, 4, 6, 5, 4, 3, 4, 1, 2, 7, 6, 5, 6, 1, 2, 5, 8, 9, 5, 5, 7, 8, 1, 10, 3, 7, 2, 3, 1, 6, 1, 7, 4, 8, 9, 9, 4, 10, 2, 10, 3, 1, 2, 3, 4, 7, 2, 3, 5, 9, 5, 10, 4, 4, 6, 3, 7, 1, 9, 4, 10, 2, 2, 10, 4, 4, 7, 10, 9, 5, 4, 4, 8, 10, 10, 5, 7, 2, 7, 5, 7, 1, 2, 7, 9, 5, 10, 10, 4, 6, 3, 10, 4, 7, 9, 9, 3, 4, 5, 1, 3, 5, 10, 2, 2, 3, 7, 8, 10, 1, 2, 4, 10, 9, 3, 1, 4, 1, 3, 9, 3, 7, 9, 2, 1, 10, 1, 3, 2, 6, 3, 10, 3, 8, 10, 3, 3, 1, 2, 9, 5, 6, 1, 9, 4, 8, 3, 1, 4, 5, 6, 9, 3, 6, 10, 1, 4, 2, 5, 5, 9, 2, 6, 8, 2, 10, 7, 2, 7, 6, 7, 1, 2, 9, 3, 2, 10, 3, 7, 10, 1, 5, 7, 7, 8, 10, 3, 6, 8, 2, 10, 4, 6, 6, 10, 5, 6, 6, 2, 7, 5, 1, 5, 5, 1, 8, 7, 1, 8, 2, 6, 8, 4, 8, 6, 4, 8, 2, 4, 7, 8, 1, 1, 2, 4, 5, 6, 7, 8, 9, 4, 4, 3, 2, 8, 6, 6, 4, 1, 9, 7, 4, 7, 4, 8, 10, 1, 9, 9, 5, 6, 1, 3, 9, 6, 10, 1, 2, 5, 6, 9, 5, 10, 5, 9, 6, 9, 3, 3, 9, 4, 2, 5, 2, 1, 1, 3, 6, 8, 2, 7, 8, 9, 4, 4, 8, 2, 8, 4, 9, 6, 3, 4, 6, 7, 9, 8, 2, 7, 1, 9, 7, 6, 1, 8, 7, 8, 6, 1, 5, 9, 10, 1, 3], \"Freq\": [0.9947078346534685, 0.9888106270438387, 0.9883641461283696, 0.9942057411466729, 0.9971920225728131, 0.9979784831844357, 0.0010207998901867873, 0.36442556079668303, 0.5155039445443276, 0.0010207998901867873, 0.11841278726166732, 0.9948557768791254, 0.9900335067635299, 0.0028538701714881628, 0.00025944274286256023, 0.0018160992000379216, 0.002075541942900482, 0.0018160992000379216, 0.0005188854857251205, 0.0005188854857251205, 0.00025944274286256023, 0.9974928254732774, 0.9946402684709592, 0.9980278443966663, 0.9955120120443823, 0.9980517703814702, 0.995078929415599, 0.9961983122087519, 0.9897103134675483, 0.9990695663336607, 0.9920934143044426, 0.9987533903194133, 0.9989745684933793, 0.9959846943878651, 0.9386334598290405, 0.06010953191023412, 0.9993820937447585, 0.9972511840268894, 0.9957395721124117, 0.9984577349842924, 0.012542346716334397, 0.9855243950137906, 0.0019003555630809693, 0.9995156224686275, 0.999935702664824, 0.9978622183032716, 0.9991009354693152, 0.9980525513868281, 0.9749862647129798, 0.3249279472797311, 0.6739246313949978, 0.998750656037319, 0.9915988438492728, 0.997541310765705, 0.988564826659055, 0.9859045568644319, 0.9996685318786224, 0.9930005477167828, 0.9993901689387203, 0.9882770381720621, 0.9975984135998057, 0.999707705468519, 0.9858502292811828, 0.980324855189837, 0.9961305639181927, 0.9994990292128872, 0.9990616301948334, 0.9991642136922755, 0.9982730487712509, 0.9498141700759686, 0.048847585889621244, 0.9937011133215855, 0.8007958157705554, 0.1977984868689861, 0.9973908602237737, 0.99905103062507, 0.9930541994511191, 0.000745353493467883, 0.9987736812469632, 0.9955734790477879, 0.984811363084348, 0.997729179518763, 0.9991077463284428, 0.3730086612500357, 0.6242185759694474, 0.988802795343542, 0.9969778157618909, 0.9953552075305908, 0.9863343090650065, 0.996972813038275, 0.9787895344298927, 0.9947660661211586, 0.003110466495590881, 0.0015552332477954405, 0.0003888083119488601, 0.00019440415597443006, 0.9969960427348057, 0.9981106221144246, 0.9942486049460405, 0.993176575999769, 0.9941690671795665, 0.9969396592435954, 0.9933329349439151, 0.9980885296862119, 0.9932117302726838, 0.9978406183167695, 0.9976757568270026, 0.9954429232990676, 0.9901986219521184, 0.9989437056575786, 0.9932473562794575, 0.3754408824685265, 0.6243156117749827, 0.9883852878714554, 0.9962053417045659, 0.9979827540670935, 0.997951951834828, 0.9949614902509963, 0.9989624636837624, 0.9973525776441912, 0.9917635850558664, 0.995031822131854, 0.9987842984762325, 0.9935497678041503, 0.9970111911341968, 0.994101535226572, 0.9920347192340033, 0.9958608467464495, 0.9976626450484195, 0.995030879870067, 0.99692793355761, 0.6912383080579086, 0.3069098087777114, 0.9862340873347928, 0.9959152541466789, 0.9918645041465977, 0.9988222763115385, 0.9964052720923633, 0.994976633206251, 0.9967314531972649, 0.9966924658063625, 0.9981493546859289, 0.9899896293774639, 0.9966497103554213, 0.9989009339414203, 0.9962079904199916, 0.9945454377312128, 0.9890898037826106, 0.9988495932738988, 0.9950970498921909, 0.9950357785658037, 0.9992025497518857, 0.9974279029370695, 0.9971947940894154, 0.9930240765532626, 0.9966860992156044, 0.9988499496987765, 0.9907789535045405, 0.9994985955717671, 0.7793833045814857, 0.2058830827021199, 0.006119667001761526, 0.008742381431087895, 0.9984277184623671, 0.997266056388795, 0.9912185150832656, 0.3183298884704249, 0.6798897617948582, 0.9979310507304141, 0.9955493273024423, 0.6541194261092621, 0.34516264920156636, 0.9996894390640904, 0.9935808171694683, 0.9951940706013065, 0.9991283872385671, 0.9929720343569437, 0.9947144066801888, 0.0024652153821070355, 0.0024652153821070355, 0.9939952818395792, 0.9963791897498396, 0.9929648955492195, 0.998776735721691, 0.9954029947633044, 0.9965874550205641, 0.9983450528815742, 0.24642992291372223, 0.7510779882882924, 0.00224537515183346, 0.9952879936155914, 0.9974278116415756, 0.997669951991971, 0.9925054544707133, 0.9971517434388862, 0.3948984016820985, 0.2617349871613909, 0.33979629912180564, 0.9938012328135112, 0.9954094085930627, 0.9770302709726436, 0.9978207722292034, 0.9983607572673908, 0.999372977454727, 0.0006692174817312485, 0.9984724827430227, 0.5412274647761902, 0.4529838563887679, 0.9889232042800113, 0.9946204721392857, 0.9988290761673163, 0.9979395493296814, 0.9951709727841477, 0.9994169439465667, 0.9937532184150477, 0.9965484270787458, 0.9964827075334889, 0.9834367943372769, 0.3606638312974413, 0.6364655846425434, 0.9899011741639968, 0.9914432283710771, 0.9993735388102307, 0.9991554991668506, 0.9987392396371041, 0.9758244526159766, 0.008894914581486115, 0.002616151347495916, 0.0005232302694991831, 0.01151106592898203, 0.2745255042701504, 0.7253088607137497, 0.9960906818488614, 0.9404191243275613, 0.059424678869244095, 0.9984790318862333, 0.9978935824490017, 0.9983866303397656, 0.9794904144501735, 0.9959277290242406, 0.9839757591222856, 0.9983957297561251, 0.9991188216426681, 0.9944664077921828, 0.9964478493221395, 0.994992974672139, 0.9887135862869826, 0.9995460579334833, 0.9976732426073845, 0.9395644573823569, 0.05965488618300679, 0.9985166689682068, 0.9902173132124976, 0.9991466356298176, 0.9986034971495839, 0.9890852419510024, 0.993348022665696, 0.998893438513756, 0.9999034274901042, 0.998627339403385, 0.989629794545776, 0.9964556168651431, 0.9985779545394615, 0.9995807487419957, 0.9837758303143084, 0.991169922160229, 0.9935219031276387, 0.9987793754124907, 0.9929642171113103, 0.9913406129753306, 0.9970920709284266, 0.9905774778995058, 0.997534122947455, 0.9960350118802869, 0.9877297456860202, 0.9924336586463336, 0.9904974284610951, 0.9949860369336629, 0.9982718908208863, 0.9981947786988714, 0.0017011461860045147, 0.9939323004600371, 0.9970874460356318, 0.9965303450315801, 0.9933715828922439, 0.9992989317676658, 0.9993390066920683, 0.9914829106611048, 0.9947548766824218, 0.9985078275456108, 0.9901238246853831, 0.9958098487673752, 0.9972077733507523, 0.9940618980128051, 0.9929985685552914, 0.9992867084124775, 0.7485498734339305, 0.25069358968777866, 0.9936331348260306, 0.9991933242880352, 0.13704707120519857, 0.8479270502132507, 0.0008272459026470738, 0.001930240439509839, 0.001930240439509839, 0.0002757486342156913, 0.0002757486342156913, 0.009926950831764886, 0.9904959583143923, 0.9913804439012348, 0.999455173943471, 0.997927763212865, 0.9946411599760008, 0.996809166903808, 0.997532090224182, 0.997809282569203, 0.9903286536011119, 0.007559760714512305, 0.9967910505837062, 0.9899862691483632, 0.009716634722432057, 0.9972583145333973, 0.9963882244070096, 0.9811062746845765, 0.996365526717761, 0.99880474785082, 0.9915692040795444, 0.3209537838379864, 0.678451810390199, 0.9927645895848755, 0.005973312813386735, 0.994489380028005, 0.9967084756970357, 0.9945845275323555, 0.786208054444371, 0.19050256719329192, 0.020678107755391962, 0.0008799194789528496, 0.001759838957905699, 0.9919920795513845, 0.9940156486511545, 0.9931277325940102, 0.9976768715002063, 0.992298946361976, 0.9967199237033024, 0.989825890186517, 0.9993559673414923, 0.9970427607997674, 0.989898956867207, 0.997053223774382, 0.9988181690827068, 0.9924536358803189, 0.9975062854592778, 0.9975598273975876, 0.9950796878104483, 0.9771952051386585, 0.986963387643579, 0.9990984992584192, 0.9951002466182144, 0.9974348804508424, 0.9919275498558942, 0.9960816998728005, 0.9911906583213885, 0.9994399567133265, 0.9920882049509244, 0.9927664863920419, 0.9969903029915506, 0.9869140177663159, 0.9880848579346421, 0.27619405188588303, 0.23651546978396742, 0.48703514501566975, 0.3479378396126362, 0.6519611946139687, 0.9978580884319045, 0.996355863782385, 0.9946083364407644, 0.9923621926267698, 0.9939328815607766, 0.9938143902667051, 0.9837231286675138, 0.9961280388001372, 0.9768899213219111, 0.6882438427504937, 0.31074003439154024, 0.995415300412441, 0.9998035383752172, 0.9896946962868904, 0.9891058502009484, 0.9975406253660496, 0.999344567051847, 0.9864828127899318], \"Term\": [\"access\", \"across\", \"ador\", \"afford\", \"airi\", \"airport\", \"amaz\", \"amaz\", \"amaz\", \"amaz\", \"amaz\", \"amen\", \"apt\", \"apt\", \"apt\", \"apt\", \"apt\", \"apt\", \"apt\", \"apt\", \"apt\", \"area\", \"art\", \"artist\", \"artsi\", \"astoria\", \"avail\", \"ave\", \"avenu\", \"away\", \"awesom\", \"backyard\", \"balconi\", \"basement\", \"bath\", \"bath\", \"bathroom\", \"bdr\", \"bdrm\", \"beach\", \"beauti\", \"beauti\", \"beauti\", \"bed\", \"bedroom\", \"bedstuy\", \"best\", \"big\", \"bldg\", \"block\", \"block\", \"blueground\", \"bohemian\", \"brand\", \"breakfast\", \"bridg\", \"bright\", \"broadway\", \"brownston\", \"budget\", \"build\", \"bushwick\", \"casa\", \"cat\", \"center\", \"central\", \"charm\", \"chelsea\", \"chic\", \"chinatown\", \"chinatown\", \"circl\", \"citi\", \"citi\", \"classic\", \"clean\", \"clinton\", \"close\", \"close\", \"columbia\", \"columbu\", \"comfi\", \"comfort\", \"condo\", \"condo\", \"contemporari\", \"conveni\", \"cool\", \"corner\", \"cosi\", \"couch\", \"cozi\", \"cozi\", \"cozi\", \"cozi\", \"cozi\", \"crown\", \"cute\", \"deck\", \"delight\", \"delux\", \"design\", \"district\", \"doorman\", \"doubl\", \"downtown\", \"dream\", \"drench\", \"dryer\", \"duplex\", \"easi\", \"east\", \"east\", \"eclect\", \"eleg\", \"elev\", \"empir\", \"enjoy\", \"entir\", \"entranc\", \"escap\", \"everyth\", \"exchang\", \"experi\", \"famili\", \"fantast\", \"fee\", \"feel\", \"femal\", \"ferri\", \"fidi\", \"fill\", \"fill\", \"financi\", \"flat\", \"flatbush\", \"floor\", \"flush\", \"fort\", \"free\", \"friendli\", \"full\", \"fulli\", \"furnish\", \"garden\", \"gem\", \"getaway\", \"good\", \"gorgeou\", \"gramerci\", \"grand\", \"great\", \"green\", \"greenpoint\", \"greenwich\", \"guest\", \"gym\", \"hamilton\", \"harlem\", \"heart\", \"heart\", \"heart\", \"heart\", \"height\", \"hell\", \"hideaway\", \"high\", \"high\", \"hill\", \"hip\", \"histor\", \"histor\", \"home\", \"homey\", \"hotel\", \"hous\", \"hudson\", \"huge\", \"huge\", \"huge\", \"ideal\", \"island\", \"itali\", \"jfk\", \"john\", \"king\", \"kitchen\", \"larg\", \"larg\", \"larg\", \"laundri\", \"le\", \"lga\", \"lic\", \"light\", \"like\", \"like\", \"like\", \"lincoln\", \"line\", \"lit\", \"littl\", \"live\", \"locat\", \"loft\", \"loft\", \"long\", \"long\", \"lot\", \"loung\", \"love\", \"lower\", \"lux\", \"luxuri\", \"madison\", \"massiv\", \"master\", \"medic\", \"metro\", \"metro\", \"mid\", \"middl\", \"midtown\", \"min\", \"minut\", \"modern\", \"modern\", \"modern\", \"modern\", \"modern\", \"near\", \"near\", \"neighborhood\", \"new\", \"new\", \"newli\", \"next\", \"nice\", \"noho\", \"nolita\", \"north\", \"oasi\", \"one\", \"open\", \"outdoor\", \"pad\", \"paradis\", \"park\", \"patio\", \"peac\", \"peac\", \"penthous\", \"peopl\", \"perfect\", \"place\", \"plant\", \"pool\", \"prime\", \"privat\", \"prospect\", \"pvt\", \"quaint\", \"queen\", \"quiet\", \"quit\", \"red\", \"relax\", \"renov\", \"rent\", \"rental\", \"retreat\", \"ridg\", \"ridgewood\", \"right\", \"rise\", \"river\", \"rockaway\", \"roof\", \"rooftop\", \"room\", \"room\", \"safe\", \"sanctuari\", \"seren\", \"servic\", \"share\", \"side\", \"simpl\", \"singl\", \"size\", \"skylin\", \"sleep\", \"slope\", \"small\", \"sofa\", \"soho\", \"sonder\", \"sonder\", \"south\", \"space\", \"spaciou\", \"spaciou\", \"spaciou\", \"spaciou\", \"spaciou\", \"spaciou\", \"spaciou\", \"spaciou\", \"spectacular\", \"spot\", \"squar\", \"state\", \"station\", \"stay\", \"step\", \"stock\", \"stop\", \"stop\", \"street\", \"studio\", \"studio\", \"stun\", \"stuy\", \"stuyves\", \"style\", \"stylish\", \"sublet\", \"subway\", \"subway\", \"suit\", \"suit\", \"summer\", \"sun\", \"sunlit\", \"sunni\", \"sunni\", \"sunni\", \"sunni\", \"sunni\", \"sunnysid\", \"sunset\", \"super\", \"sweet\", \"term\", \"terrac\", \"three\", \"time\", \"top\", \"town\", \"townhous\", \"train\", \"tranquil\", \"travel\", \"trendi\", \"tribeca\", \"triplex\", \"twin\", \"two\", \"ue\", \"union\", \"uniqu\", \"unit\", \"univers\", \"upper\", \"uptown\", \"urban\", \"uw\", \"vacat\", \"vibrant\", \"view\", \"view\", \"view\", \"villag\", \"villag\", \"walk\", \"wall\", \"warm\", \"washer\", \"washington\", \"water\", \"waterfront\", \"welcom\", \"well\", \"west\", \"west\", \"wifi\", \"williamsburg\", \"window\", \"wonder\", \"yard\", \"york\", \"zen\"]}, \"R\": 30, \"lambda.step\": 0.01, \"plot.opts\": {\"xlab\": \"PC1\", \"ylab\": \"PC2\"}, \"topic.order\": [3, 5, 6, 10, 9, 4, 1, 7, 2, 8]};\n",
       "\n",
       "function LDAvis_load_lib(url, callback){\n",
       "  var s = document.createElement('script');\n",
       "  s.src = url;\n",
       "  s.async = true;\n",
       "  s.onreadystatechange = s.onload = callback;\n",
       "  s.onerror = function(){console.warn(\"failed to load library \" + url);};\n",
       "  document.getElementsByTagName(\"head\")[0].appendChild(s);\n",
       "}\n",
       "\n",
       "if(typeof(LDAvis) !== \"undefined\"){\n",
       "   // already loaded: just create the visualization\n",
       "   !function(LDAvis){\n",
       "       new LDAvis(\"#\" + \"ldavis_el38179114078771523209334817\", ldavis_el38179114078771523209334817_data);\n",
       "   }(LDAvis);\n",
       "}else if(typeof define === \"function\" && define.amd){\n",
       "   // require.js is available: use it to load d3/LDAvis\n",
       "   require.config({paths: {d3: \"https://d3js.org/d3.v5\"}});\n",
       "   require([\"d3\"], function(d3){\n",
       "      window.d3 = d3;\n",
       "      LDAvis_load_lib(\"https://cdn.jsdelivr.net/gh/bmabey/pyLDAvis@3.3.1/pyLDAvis/js/ldavis.v3.0.0.js\", function(){\n",
       "        new LDAvis(\"#\" + \"ldavis_el38179114078771523209334817\", ldavis_el38179114078771523209334817_data);\n",
       "      });\n",
       "    });\n",
       "}else{\n",
       "    // require.js not available: dynamically load d3 & LDAvis\n",
       "    LDAvis_load_lib(\"https://d3js.org/d3.v5.js\", function(){\n",
       "         LDAvis_load_lib(\"https://cdn.jsdelivr.net/gh/bmabey/pyLDAvis@3.3.1/pyLDAvis/js/ldavis.v3.0.0.js\", function(){\n",
       "                 new LDAvis(\"#\" + \"ldavis_el38179114078771523209334817\", ldavis_el38179114078771523209334817_data);\n",
       "            })\n",
       "         });\n",
       "}\n",
       "</script>"
      ],
      "text/plain": [
       "<IPython.core.display.HTML object>"
      ]
     },
     "execution_count": 136,
     "metadata": {},
     "output_type": "execute_result"
    }
   ],
   "source": [
    "topics_pre = ldamod_pre.print_topics(num_words = 10)\n",
    "for topic in topics_pre:\n",
    "    print(topic)\n",
    "\n",
    "lda_display_pre = gensimvis.prepare(ldamod_pre, corpus_fromdict_pre, text_pre_dict)\n",
    "pyLDAvis.display(lda_display_pre)"
   ]
  },
  {
   "cell_type": "code",
   "execution_count": 137,
   "metadata": {},
   "outputs": [],
   "source": [
    "# Hint: example code for preprocessing\n",
    "def processtext(row, colname):\n",
    "    \n",
    "    string_of_col = str(row[colname])\n",
    "    try:\n",
    "        processed_string = \" \".join([porter.stem(i.lower()) \n",
    "                        for i in wordpunct_tokenize(string_of_col) if \n",
    "                        i.lower().isalpha() and len(i) >=3]) #and i not in punctlist]) # optional: remove punctuation too \n",
    "        return(processed_string)\n",
    "    except:\n",
    "        processed_string = \"\" # to handle data errors where not actually text\n",
    "        return(processed_string)\n",
    "\n",
    "# ab_small['text_preprocess'] = ab_small.apply(processtext,\n",
    "#                             axis = 1,\n",
    "#                             args = [\"name_lower\"])\n",
    "#\n",
    "# ab_small = ab_small[ab_small.text_preprocess != \"\"].copy()\n",
    "#\n",
    "# ab_small.head()"
   ]
  }
 ],
 "metadata": {
  "kernelspec": {
   "display_name": "Python 3",
   "language": "python",
   "name": "python3"
  },
  "language_info": {
   "codemirror_mode": {
    "name": "ipython",
    "version": 3
   },
   "file_extension": ".py",
   "mimetype": "text/x-python",
   "name": "python",
   "nbconvert_exporter": "python",
   "pygments_lexer": "ipython3",
   "version": "3.10.9"
  },
  "vscode": {
   "interpreter": {
    "hash": "b0fa6594d8f4cbf19f97940f81e996739fb7646882a419484c72d19e05852a7e"
   }
  }
 },
 "nbformat": 4,
 "nbformat_minor": 2
}
