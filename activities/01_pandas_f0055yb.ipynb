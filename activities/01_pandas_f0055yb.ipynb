{
 "cells": [
  {
   "cell_type": "markdown",
   "metadata": {},
   "source": [
    "## 0. Load imports "
   ]
  },
  {
   "cell_type": "code",
   "execution_count": 34,
   "metadata": {},
   "outputs": [],
   "source": [
    "## imports\n",
    "import pandas as pd\n",
    "import numpy as np\n",
    "\n",
    "\n",
    "## print multiple things from same cell\n",
    "from IPython.core.interactiveshell import InteractiveShell\n",
    "InteractiveShell.ast_node_interactivity = \"all\"\n"
   ]
  },
  {
   "cell_type": "markdown",
   "metadata": {},
   "source": [
    "## 0. Load data"
   ]
  },
  {
   "cell_type": "code",
   "execution_count": 35,
   "metadata": {},
   "outputs": [
    {
     "data": {
      "text/html": [
       "<div>\n",
       "<style scoped>\n",
       "    .dataframe tbody tr th:only-of-type {\n",
       "        vertical-align: middle;\n",
       "    }\n",
       "\n",
       "    .dataframe tbody tr th {\n",
       "        vertical-align: top;\n",
       "    }\n",
       "\n",
       "    .dataframe thead th {\n",
       "        text-align: right;\n",
       "    }\n",
       "</style>\n",
       "<table border=\"1\" class=\"dataframe\">\n",
       "  <thead>\n",
       "    <tr style=\"text-align: right;\">\n",
       "      <th></th>\n",
       "      <th>X</th>\n",
       "      <th>Y</th>\n",
       "      <th>CCN</th>\n",
       "      <th>REPORT_DAT</th>\n",
       "      <th>SHIFT</th>\n",
       "      <th>METHOD</th>\n",
       "      <th>OFFENSE</th>\n",
       "      <th>BLOCK</th>\n",
       "      <th>XBLOCK</th>\n",
       "      <th>YBLOCK</th>\n",
       "      <th>...</th>\n",
       "      <th>BLOCK_GROUP</th>\n",
       "      <th>CENSUS_TRACT</th>\n",
       "      <th>VOTING_PRECINCT</th>\n",
       "      <th>LATITUDE</th>\n",
       "      <th>LONGITUDE</th>\n",
       "      <th>BID</th>\n",
       "      <th>START_DATE</th>\n",
       "      <th>END_DATE</th>\n",
       "      <th>OBJECTID</th>\n",
       "      <th>OCTO_RECORD_ID</th>\n",
       "    </tr>\n",
       "  </thead>\n",
       "  <tbody>\n",
       "    <tr>\n",
       "      <th>0</th>\n",
       "      <td>-76.926677</td>\n",
       "      <td>38.887565</td>\n",
       "      <td>20122029</td>\n",
       "      <td>2020/08/26 22:37:04+00</td>\n",
       "      <td>EVENING</td>\n",
       "      <td>OTHERS</td>\n",
       "      <td>THEFT/OTHER</td>\n",
       "      <td>5100 - 5299 BLOCK OF A STREET SE</td>\n",
       "      <td>406361.614052</td>\n",
       "      <td>135526.653563</td>\n",
       "      <td>...</td>\n",
       "      <td>009905 1</td>\n",
       "      <td>9905.0</td>\n",
       "      <td>Precinct 104</td>\n",
       "      <td>38.887558</td>\n",
       "      <td>-76.926675</td>\n",
       "      <td>NaN</td>\n",
       "      <td>2020/08/26 12:09:57+00</td>\n",
       "      <td>2020/08/26 21:53:20+00</td>\n",
       "      <td>273318998</td>\n",
       "      <td>NaN</td>\n",
       "    </tr>\n",
       "    <tr>\n",
       "      <th>1</th>\n",
       "      <td>-77.042739</td>\n",
       "      <td>38.909931</td>\n",
       "      <td>20122061</td>\n",
       "      <td>2020/08/27 00:16:20+00</td>\n",
       "      <td>EVENING</td>\n",
       "      <td>GUN</td>\n",
       "      <td>ASSAULT W/DANGEROUS WEAPON</td>\n",
       "      <td>11- 15 BLOCK OF DUPONT CIRCLE NW</td>\n",
       "      <td>396293.390000</td>\n",
       "      <td>138007.750000</td>\n",
       "      <td>...</td>\n",
       "      <td>005303 2</td>\n",
       "      <td>5303.0</td>\n",
       "      <td>Precinct 14</td>\n",
       "      <td>38.909923</td>\n",
       "      <td>-77.042736</td>\n",
       "      <td>DUPONT CIRCLE</td>\n",
       "      <td>2020/08/26 21:58:07+00</td>\n",
       "      <td>2020/08/26 21:59:02+00</td>\n",
       "      <td>273318999</td>\n",
       "      <td>NaN</td>\n",
       "    </tr>\n",
       "    <tr>\n",
       "      <th>2</th>\n",
       "      <td>-76.986776</td>\n",
       "      <td>38.879821</td>\n",
       "      <td>20122065</td>\n",
       "      <td>2020/08/26 23:04:19+00</td>\n",
       "      <td>EVENING</td>\n",
       "      <td>OTHERS</td>\n",
       "      <td>THEFT/OTHER</td>\n",
       "      <td>1330 - 1399 BLOCK OF POTOMAC AVENUE SE</td>\n",
       "      <td>401147.600000</td>\n",
       "      <td>134664.500000</td>\n",
       "      <td>...</td>\n",
       "      <td>007100 3</td>\n",
       "      <td>7100.0</td>\n",
       "      <td>Precinct 91</td>\n",
       "      <td>38.879813</td>\n",
       "      <td>-76.986774</td>\n",
       "      <td>CAPITOL HILL</td>\n",
       "      <td>2020/08/26 21:42:47+00</td>\n",
       "      <td>2020/08/26 21:47:01+00</td>\n",
       "      <td>273319000</td>\n",
       "      <td>NaN</td>\n",
       "    </tr>\n",
       "    <tr>\n",
       "      <th>3</th>\n",
       "      <td>-76.977491</td>\n",
       "      <td>38.866096</td>\n",
       "      <td>20122072</td>\n",
       "      <td>2020/08/27 01:27:03+00</td>\n",
       "      <td>EVENING</td>\n",
       "      <td>OTHERS</td>\n",
       "      <td>THEFT F/AUTO</td>\n",
       "      <td>1800 - 2199 BLOCK OF U PLACE SE</td>\n",
       "      <td>401953.608672</td>\n",
       "      <td>133141.097209</td>\n",
       "      <td>...</td>\n",
       "      <td>007605 1</td>\n",
       "      <td>7605.0</td>\n",
       "      <td>Precinct 112</td>\n",
       "      <td>38.866088</td>\n",
       "      <td>-76.977489</td>\n",
       "      <td>NaN</td>\n",
       "      <td>2020/08/24 18:30:27+00</td>\n",
       "      <td>2020/08/26 12:00:30+00</td>\n",
       "      <td>273319001</td>\n",
       "      <td>NaN</td>\n",
       "    </tr>\n",
       "    <tr>\n",
       "      <th>4</th>\n",
       "      <td>-77.045779</td>\n",
       "      <td>38.901019</td>\n",
       "      <td>20122081</td>\n",
       "      <td>2020/08/27 00:06:36+00</td>\n",
       "      <td>EVENING</td>\n",
       "      <td>OTHERS</td>\n",
       "      <td>THEFT/OTHER</td>\n",
       "      <td>2000 - 2099 BLOCK OF PENNSYLVANIA AVENUE NW</td>\n",
       "      <td>396029.230000</td>\n",
       "      <td>137018.530000</td>\n",
       "      <td>...</td>\n",
       "      <td>010800 1</td>\n",
       "      <td>10800.0</td>\n",
       "      <td>Precinct 2</td>\n",
       "      <td>38.901011</td>\n",
       "      <td>-77.045776</td>\n",
       "      <td>NaN</td>\n",
       "      <td>2020/08/26 22:50:53+00</td>\n",
       "      <td>2020/08/26 23:05:08+00</td>\n",
       "      <td>273319002</td>\n",
       "      <td>NaN</td>\n",
       "    </tr>\n",
       "  </tbody>\n",
       "</table>\n",
       "<p>5 rows × 25 columns</p>\n",
       "</div>"
      ],
      "text/plain": [
       "           X          Y       CCN              REPORT_DAT    SHIFT  METHOD  \\\n",
       "0 -76.926677  38.887565  20122029  2020/08/26 22:37:04+00  EVENING  OTHERS   \n",
       "1 -77.042739  38.909931  20122061  2020/08/27 00:16:20+00  EVENING     GUN   \n",
       "2 -76.986776  38.879821  20122065  2020/08/26 23:04:19+00  EVENING  OTHERS   \n",
       "3 -76.977491  38.866096  20122072  2020/08/27 01:27:03+00  EVENING  OTHERS   \n",
       "4 -77.045779  38.901019  20122081  2020/08/27 00:06:36+00  EVENING  OTHERS   \n",
       "\n",
       "                      OFFENSE                                        BLOCK  \\\n",
       "0                 THEFT/OTHER             5100 - 5299 BLOCK OF A STREET SE   \n",
       "1  ASSAULT W/DANGEROUS WEAPON             11- 15 BLOCK OF DUPONT CIRCLE NW   \n",
       "2                 THEFT/OTHER       1330 - 1399 BLOCK OF POTOMAC AVENUE SE   \n",
       "3                THEFT F/AUTO              1800 - 2199 BLOCK OF U PLACE SE   \n",
       "4                 THEFT/OTHER  2000 - 2099 BLOCK OF PENNSYLVANIA AVENUE NW   \n",
       "\n",
       "          XBLOCK         YBLOCK  ...  BLOCK_GROUP CENSUS_TRACT  \\\n",
       "0  406361.614052  135526.653563  ...     009905 1       9905.0   \n",
       "1  396293.390000  138007.750000  ...     005303 2       5303.0   \n",
       "2  401147.600000  134664.500000  ...     007100 3       7100.0   \n",
       "3  401953.608672  133141.097209  ...     007605 1       7605.0   \n",
       "4  396029.230000  137018.530000  ...     010800 1      10800.0   \n",
       "\n",
       "   VOTING_PRECINCT   LATITUDE  LONGITUDE            BID  \\\n",
       "0     Precinct 104  38.887558 -76.926675            NaN   \n",
       "1      Precinct 14  38.909923 -77.042736  DUPONT CIRCLE   \n",
       "2      Precinct 91  38.879813 -76.986774   CAPITOL HILL   \n",
       "3     Precinct 112  38.866088 -76.977489            NaN   \n",
       "4       Precinct 2  38.901011 -77.045776            NaN   \n",
       "\n",
       "               START_DATE                END_DATE   OBJECTID  OCTO_RECORD_ID  \n",
       "0  2020/08/26 12:09:57+00  2020/08/26 21:53:20+00  273318998             NaN  \n",
       "1  2020/08/26 21:58:07+00  2020/08/26 21:59:02+00  273318999             NaN  \n",
       "2  2020/08/26 21:42:47+00  2020/08/26 21:47:01+00  273319000             NaN  \n",
       "3  2020/08/24 18:30:27+00  2020/08/26 12:00:30+00  273319001             NaN  \n",
       "4  2020/08/26 22:50:53+00  2020/08/26 23:05:08+00  273319002             NaN  \n",
       "\n",
       "[5 rows x 25 columns]"
      ]
     },
     "execution_count": 35,
     "metadata": {},
     "output_type": "execute_result"
    },
    {
     "data": {
      "text/plain": [
       "(27912, 25)"
      ]
     },
     "execution_count": 35,
     "metadata": {},
     "output_type": "execute_result"
    },
    {
     "name": "stdout",
     "output_type": "stream",
     "text": [
      "<class 'pandas.core.frame.DataFrame'>\n",
      "RangeIndex: 27912 entries, 0 to 27911\n",
      "Data columns (total 25 columns):\n",
      " #   Column                Non-Null Count  Dtype  \n",
      "---  ------                --------------  -----  \n",
      " 0   X                     27912 non-null  float64\n",
      " 1   Y                     27912 non-null  float64\n",
      " 2   CCN                   27912 non-null  int64  \n",
      " 3   REPORT_DAT            27912 non-null  object \n",
      " 4   SHIFT                 27912 non-null  object \n",
      " 5   METHOD                27912 non-null  object \n",
      " 6   OFFENSE               27912 non-null  object \n",
      " 7   BLOCK                 27912 non-null  object \n",
      " 8   XBLOCK                27912 non-null  float64\n",
      " 9   YBLOCK                27912 non-null  float64\n",
      " 10  WARD                  27912 non-null  int64  \n",
      " 11  ANC                   27912 non-null  object \n",
      " 12  DISTRICT              27883 non-null  float64\n",
      " 13  PSA                   27877 non-null  float64\n",
      " 14  NEIGHBORHOOD_CLUSTER  27912 non-null  object \n",
      " 15  BLOCK_GROUP           27911 non-null  object \n",
      " 16  CENSUS_TRACT          27911 non-null  float64\n",
      " 17  VOTING_PRECINCT       27912 non-null  object \n",
      " 18  LATITUDE              27912 non-null  float64\n",
      " 19  LONGITUDE             27912 non-null  float64\n",
      " 20  BID                   4657 non-null   object \n",
      " 21  START_DATE            27911 non-null  object \n",
      " 22  END_DATE              24831 non-null  object \n",
      " 23  OBJECTID              27912 non-null  int64  \n",
      " 24  OCTO_RECORD_ID        0 non-null      float64\n",
      "dtypes: float64(10), int64(3), object(12)\n",
      "memory usage: 5.3+ MB\n"
     ]
    }
   ],
   "source": [
    "## load data on 2020 crimes in DC\n",
    "dc_crim_2020 = pd.read_csv(\"https://opendata.arcgis.com/datasets/f516e0dd7b614b088ad781b0c4002331_2.csv\")\n",
    "dc_crim_2020.head()\n",
    "dc_crim_2020.shape\n",
    "dc_crim_2020.info()\n"
   ]
  },
  {
   "cell_type": "markdown",
   "metadata": {},
   "source": [
    "## 1. Aggregation"
   ]
  },
  {
   "attachments": {},
   "cell_type": "markdown",
   "metadata": {},
   "source": [
    "### Example of grouping by one variable and doing one aggregation \n",
    "\n",
    "**Task**: find and print the number of unique offense types (`OFFENSE`) by ward (`WARD`)\n",
    "\n",
    "*Hint:* `'nunique'` is the built-in pandas aggregation function for counting unique elements in a list."
   ]
  },
  {
   "cell_type": "code",
   "execution_count": 36,
   "metadata": {},
   "outputs": [
    {
     "data": {
      "text/html": [
       "<div>\n",
       "<style scoped>\n",
       "    .dataframe tbody tr th:only-of-type {\n",
       "        vertical-align: middle;\n",
       "    }\n",
       "\n",
       "    .dataframe tbody tr th {\n",
       "        vertical-align: top;\n",
       "    }\n",
       "\n",
       "    .dataframe thead th {\n",
       "        text-align: right;\n",
       "    }\n",
       "</style>\n",
       "<table border=\"1\" class=\"dataframe\">\n",
       "  <thead>\n",
       "    <tr style=\"text-align: right;\">\n",
       "      <th></th>\n",
       "      <th>WARD</th>\n",
       "      <th>OFFENSE</th>\n",
       "    </tr>\n",
       "  </thead>\n",
       "  <tbody>\n",
       "    <tr>\n",
       "      <th>0</th>\n",
       "      <td>1</td>\n",
       "      <td>9</td>\n",
       "    </tr>\n",
       "    <tr>\n",
       "      <th>1</th>\n",
       "      <td>2</td>\n",
       "      <td>9</td>\n",
       "    </tr>\n",
       "    <tr>\n",
       "      <th>2</th>\n",
       "      <td>3</td>\n",
       "      <td>8</td>\n",
       "    </tr>\n",
       "    <tr>\n",
       "      <th>3</th>\n",
       "      <td>4</td>\n",
       "      <td>8</td>\n",
       "    </tr>\n",
       "    <tr>\n",
       "      <th>4</th>\n",
       "      <td>5</td>\n",
       "      <td>9</td>\n",
       "    </tr>\n",
       "    <tr>\n",
       "      <th>5</th>\n",
       "      <td>6</td>\n",
       "      <td>9</td>\n",
       "    </tr>\n",
       "    <tr>\n",
       "      <th>6</th>\n",
       "      <td>7</td>\n",
       "      <td>9</td>\n",
       "    </tr>\n",
       "    <tr>\n",
       "      <th>7</th>\n",
       "      <td>8</td>\n",
       "      <td>9</td>\n",
       "    </tr>\n",
       "  </tbody>\n",
       "</table>\n",
       "</div>"
      ],
      "text/plain": [
       "   WARD  OFFENSE\n",
       "0     1        9\n",
       "1     2        9\n",
       "2     3        8\n",
       "3     4        8\n",
       "4     5        9\n",
       "5     6        9\n",
       "6     7        9\n",
       "7     8        9"
      ]
     },
     "execution_count": 36,
     "metadata": {},
     "output_type": "execute_result"
    }
   ],
   "source": [
    "## your code here\n",
    "dc_crim_2020.groupby('WARD')['OFFENSE'].agg('nunique').reset_index()"
   ]
  },
  {
   "cell_type": "markdown",
   "metadata": {},
   "source": [
    "### Example of grouping by one variable and providing two summaries of the same variable\n",
    "\n",
    "**Task**: The previous task showed number of offenses by ward, but now say we want to find out the content of offenses in each ward. Create an aggregation that summarizes both the number of unique offenses by ward **and** what those offenses are -- for instance, by pasting the unique offenses in that ward separated by the \";\" (e.g., Theft; Burglary;...).\n",
    "\n",
    "*Hint 1*: You can use a lambda function with the join command to paste together a list separated by some delimiter. The syntax looks like (with a comma delimiter): `\", \".join(nameoflist)`. \n",
    "\n",
    "*Hint 2*: You can get a list of all unique elements of a list with `nameoflist.unique()`."
   ]
  },
  {
   "cell_type": "code",
   "execution_count": 37,
   "metadata": {},
   "outputs": [
    {
     "data": {
      "text/html": [
       "<div>\n",
       "<style scoped>\n",
       "    .dataframe tbody tr th:only-of-type {\n",
       "        vertical-align: middle;\n",
       "    }\n",
       "\n",
       "    .dataframe tbody tr th {\n",
       "        vertical-align: top;\n",
       "    }\n",
       "\n",
       "    .dataframe thead tr th {\n",
       "        text-align: left;\n",
       "    }\n",
       "</style>\n",
       "<table border=\"1\" class=\"dataframe\">\n",
       "  <thead>\n",
       "    <tr>\n",
       "      <th></th>\n",
       "      <th>WARD</th>\n",
       "      <th colspan=\"2\" halign=\"left\">OFFENSE</th>\n",
       "    </tr>\n",
       "    <tr>\n",
       "      <th></th>\n",
       "      <th></th>\n",
       "      <th>nunique</th>\n",
       "      <th>&lt;lambda_0&gt;</th>\n",
       "    </tr>\n",
       "  </thead>\n",
       "  <tbody>\n",
       "    <tr>\n",
       "      <th>0</th>\n",
       "      <td>1</td>\n",
       "      <td>9</td>\n",
       "      <td>THEFT/OTHER; MOTOR VEHICLE THEFT; THEFT F/AUTO...</td>\n",
       "    </tr>\n",
       "    <tr>\n",
       "      <th>1</th>\n",
       "      <td>2</td>\n",
       "      <td>9</td>\n",
       "      <td>ASSAULT W/DANGEROUS WEAPON; THEFT/OTHER; THEFT...</td>\n",
       "    </tr>\n",
       "    <tr>\n",
       "      <th>2</th>\n",
       "      <td>3</td>\n",
       "      <td>8</td>\n",
       "      <td>BURGLARY; THEFT F/AUTO; THEFT/OTHER; MOTOR VEH...</td>\n",
       "    </tr>\n",
       "    <tr>\n",
       "      <th>3</th>\n",
       "      <td>4</td>\n",
       "      <td>8</td>\n",
       "      <td>ROBBERY; THEFT F/AUTO; THEFT/OTHER; MOTOR VEHI...</td>\n",
       "    </tr>\n",
       "    <tr>\n",
       "      <th>4</th>\n",
       "      <td>5</td>\n",
       "      <td>9</td>\n",
       "      <td>THEFT F/AUTO; ASSAULT W/DANGEROUS WEAPON; THEF...</td>\n",
       "    </tr>\n",
       "    <tr>\n",
       "      <th>5</th>\n",
       "      <td>6</td>\n",
       "      <td>9</td>\n",
       "      <td>THEFT/OTHER; ASSAULT W/DANGEROUS WEAPON; BURGL...</td>\n",
       "    </tr>\n",
       "    <tr>\n",
       "      <th>6</th>\n",
       "      <td>7</td>\n",
       "      <td>9</td>\n",
       "      <td>THEFT/OTHER; THEFT F/AUTO; MOTOR VEHICLE THEFT...</td>\n",
       "    </tr>\n",
       "    <tr>\n",
       "      <th>7</th>\n",
       "      <td>8</td>\n",
       "      <td>9</td>\n",
       "      <td>THEFT F/AUTO; MOTOR VEHICLE THEFT; THEFT/OTHER...</td>\n",
       "    </tr>\n",
       "  </tbody>\n",
       "</table>\n",
       "</div>"
      ],
      "text/plain": [
       "  WARD OFFENSE                                                   \n",
       "       nunique                                         <lambda_0>\n",
       "0    1       9  THEFT/OTHER; MOTOR VEHICLE THEFT; THEFT F/AUTO...\n",
       "1    2       9  ASSAULT W/DANGEROUS WEAPON; THEFT/OTHER; THEFT...\n",
       "2    3       8  BURGLARY; THEFT F/AUTO; THEFT/OTHER; MOTOR VEH...\n",
       "3    4       8  ROBBERY; THEFT F/AUTO; THEFT/OTHER; MOTOR VEHI...\n",
       "4    5       9  THEFT F/AUTO; ASSAULT W/DANGEROUS WEAPON; THEF...\n",
       "5    6       9  THEFT/OTHER; ASSAULT W/DANGEROUS WEAPON; BURGL...\n",
       "6    7       9  THEFT/OTHER; THEFT F/AUTO; MOTOR VEHICLE THEFT...\n",
       "7    8       9  THEFT F/AUTO; MOTOR VEHICLE THEFT; THEFT/OTHER..."
      ]
     },
     "execution_count": 37,
     "metadata": {},
     "output_type": "execute_result"
    }
   ],
   "source": [
    "## your code here\n",
    "dc_crim_2020.groupby('WARD').agg({'OFFENSE': [\"nunique\", lambda offenses: \"; \".join(offenses.unique())]}).reset_index()"
   ]
  },
  {
   "cell_type": "markdown",
   "metadata": {},
   "source": [
    "### Example of grouping by two variables \n",
    "\n",
    "**Task**: group by ward (`WARD`) and police shift (`SHIFT`) and find the offense that is most common in that ward and shift.\n",
    "\n",
    "*Hint*: Use `value_counts()` to count the frequency of each type of `OFFENSE`, then slice the first element from the sorted result. "
   ]
  },
  {
   "cell_type": "code",
   "execution_count": 38,
   "metadata": {},
   "outputs": [
    {
     "data": {
      "text/html": [
       "<div>\n",
       "<style scoped>\n",
       "    .dataframe tbody tr th:only-of-type {\n",
       "        vertical-align: middle;\n",
       "    }\n",
       "\n",
       "    .dataframe tbody tr th {\n",
       "        vertical-align: top;\n",
       "    }\n",
       "\n",
       "    .dataframe thead th {\n",
       "        text-align: right;\n",
       "    }\n",
       "</style>\n",
       "<table border=\"1\" class=\"dataframe\">\n",
       "  <thead>\n",
       "    <tr style=\"text-align: right;\">\n",
       "      <th></th>\n",
       "      <th>WARD</th>\n",
       "      <th>SHIFT</th>\n",
       "      <th>OFFENSE</th>\n",
       "    </tr>\n",
       "  </thead>\n",
       "  <tbody>\n",
       "    <tr>\n",
       "      <th>0</th>\n",
       "      <td>1</td>\n",
       "      <td>DAY</td>\n",
       "      <td>[THEFT/OTHER, 568]</td>\n",
       "    </tr>\n",
       "    <tr>\n",
       "      <th>1</th>\n",
       "      <td>1</td>\n",
       "      <td>EVENING</td>\n",
       "      <td>[THEFT/OTHER, 783]</td>\n",
       "    </tr>\n",
       "    <tr>\n",
       "      <th>2</th>\n",
       "      <td>1</td>\n",
       "      <td>MIDNIGHT</td>\n",
       "      <td>[THEFT/OTHER, 236]</td>\n",
       "    </tr>\n",
       "    <tr>\n",
       "      <th>3</th>\n",
       "      <td>2</td>\n",
       "      <td>DAY</td>\n",
       "      <td>[THEFT/OTHER, 841]</td>\n",
       "    </tr>\n",
       "    <tr>\n",
       "      <th>4</th>\n",
       "      <td>2</td>\n",
       "      <td>EVENING</td>\n",
       "      <td>[THEFT/OTHER, 1330]</td>\n",
       "    </tr>\n",
       "    <tr>\n",
       "      <th>5</th>\n",
       "      <td>2</td>\n",
       "      <td>MIDNIGHT</td>\n",
       "      <td>[THEFT/OTHER, 272]</td>\n",
       "    </tr>\n",
       "    <tr>\n",
       "      <th>6</th>\n",
       "      <td>3</td>\n",
       "      <td>DAY</td>\n",
       "      <td>[THEFT/OTHER, 276]</td>\n",
       "    </tr>\n",
       "    <tr>\n",
       "      <th>7</th>\n",
       "      <td>3</td>\n",
       "      <td>EVENING</td>\n",
       "      <td>[THEFT/OTHER, 356]</td>\n",
       "    </tr>\n",
       "    <tr>\n",
       "      <th>8</th>\n",
       "      <td>3</td>\n",
       "      <td>MIDNIGHT</td>\n",
       "      <td>[THEFT/OTHER, 76]</td>\n",
       "    </tr>\n",
       "    <tr>\n",
       "      <th>9</th>\n",
       "      <td>4</td>\n",
       "      <td>DAY</td>\n",
       "      <td>[THEFT F/AUTO, 510]</td>\n",
       "    </tr>\n",
       "    <tr>\n",
       "      <th>10</th>\n",
       "      <td>4</td>\n",
       "      <td>EVENING</td>\n",
       "      <td>[THEFT/OTHER, 475]</td>\n",
       "    </tr>\n",
       "    <tr>\n",
       "      <th>11</th>\n",
       "      <td>4</td>\n",
       "      <td>MIDNIGHT</td>\n",
       "      <td>[THEFT/OTHER, 136]</td>\n",
       "    </tr>\n",
       "    <tr>\n",
       "      <th>12</th>\n",
       "      <td>5</td>\n",
       "      <td>DAY</td>\n",
       "      <td>[THEFT F/AUTO, 697]</td>\n",
       "    </tr>\n",
       "    <tr>\n",
       "      <th>13</th>\n",
       "      <td>5</td>\n",
       "      <td>EVENING</td>\n",
       "      <td>[THEFT/OTHER, 751]</td>\n",
       "    </tr>\n",
       "    <tr>\n",
       "      <th>14</th>\n",
       "      <td>5</td>\n",
       "      <td>MIDNIGHT</td>\n",
       "      <td>[THEFT/OTHER, 203]</td>\n",
       "    </tr>\n",
       "    <tr>\n",
       "      <th>15</th>\n",
       "      <td>6</td>\n",
       "      <td>DAY</td>\n",
       "      <td>[THEFT/OTHER, 669]</td>\n",
       "    </tr>\n",
       "    <tr>\n",
       "      <th>16</th>\n",
       "      <td>6</td>\n",
       "      <td>EVENING</td>\n",
       "      <td>[THEFT/OTHER, 907]</td>\n",
       "    </tr>\n",
       "    <tr>\n",
       "      <th>17</th>\n",
       "      <td>6</td>\n",
       "      <td>MIDNIGHT</td>\n",
       "      <td>[THEFT/OTHER, 212]</td>\n",
       "    </tr>\n",
       "    <tr>\n",
       "      <th>18</th>\n",
       "      <td>7</td>\n",
       "      <td>DAY</td>\n",
       "      <td>[THEFT F/AUTO, 567]</td>\n",
       "    </tr>\n",
       "    <tr>\n",
       "      <th>19</th>\n",
       "      <td>7</td>\n",
       "      <td>EVENING</td>\n",
       "      <td>[THEFT/OTHER, 545]</td>\n",
       "    </tr>\n",
       "    <tr>\n",
       "      <th>20</th>\n",
       "      <td>7</td>\n",
       "      <td>MIDNIGHT</td>\n",
       "      <td>[THEFT/OTHER, 245]</td>\n",
       "    </tr>\n",
       "    <tr>\n",
       "      <th>21</th>\n",
       "      <td>8</td>\n",
       "      <td>DAY</td>\n",
       "      <td>[THEFT F/AUTO, 298]</td>\n",
       "    </tr>\n",
       "    <tr>\n",
       "      <th>22</th>\n",
       "      <td>8</td>\n",
       "      <td>EVENING</td>\n",
       "      <td>[THEFT/OTHER, 350]</td>\n",
       "    </tr>\n",
       "    <tr>\n",
       "      <th>23</th>\n",
       "      <td>8</td>\n",
       "      <td>MIDNIGHT</td>\n",
       "      <td>[ASSAULT W/DANGEROUS WEAPON, 185]</td>\n",
       "    </tr>\n",
       "  </tbody>\n",
       "</table>\n",
       "</div>"
      ],
      "text/plain": [
       "    WARD     SHIFT                            OFFENSE\n",
       "0      1       DAY                 [THEFT/OTHER, 568]\n",
       "1      1   EVENING                 [THEFT/OTHER, 783]\n",
       "2      1  MIDNIGHT                 [THEFT/OTHER, 236]\n",
       "3      2       DAY                 [THEFT/OTHER, 841]\n",
       "4      2   EVENING                [THEFT/OTHER, 1330]\n",
       "5      2  MIDNIGHT                 [THEFT/OTHER, 272]\n",
       "6      3       DAY                 [THEFT/OTHER, 276]\n",
       "7      3   EVENING                 [THEFT/OTHER, 356]\n",
       "8      3  MIDNIGHT                  [THEFT/OTHER, 76]\n",
       "9      4       DAY                [THEFT F/AUTO, 510]\n",
       "10     4   EVENING                 [THEFT/OTHER, 475]\n",
       "11     4  MIDNIGHT                 [THEFT/OTHER, 136]\n",
       "12     5       DAY                [THEFT F/AUTO, 697]\n",
       "13     5   EVENING                 [THEFT/OTHER, 751]\n",
       "14     5  MIDNIGHT                 [THEFT/OTHER, 203]\n",
       "15     6       DAY                 [THEFT/OTHER, 669]\n",
       "16     6   EVENING                 [THEFT/OTHER, 907]\n",
       "17     6  MIDNIGHT                 [THEFT/OTHER, 212]\n",
       "18     7       DAY                [THEFT F/AUTO, 567]\n",
       "19     7   EVENING                 [THEFT/OTHER, 545]\n",
       "20     7  MIDNIGHT                 [THEFT/OTHER, 245]\n",
       "21     8       DAY                [THEFT F/AUTO, 298]\n",
       "22     8   EVENING                 [THEFT/OTHER, 350]\n",
       "23     8  MIDNIGHT  [ASSAULT W/DANGEROUS WEAPON, 185]"
      ]
     },
     "execution_count": 38,
     "metadata": {},
     "output_type": "execute_result"
    }
   ],
   "source": [
    "## your code here\n",
    "dc_crim_2020.groupby(['WARD', 'SHIFT']).agg({'OFFENSE': lambda offenses: [offenses.value_counts().index[0], offenses.value_counts()[0]]}).reset_index()"
   ]
  },
  {
   "cell_type": "code",
   "execution_count": null,
   "metadata": {},
   "outputs": [],
   "source": []
  },
  {
   "cell_type": "markdown",
   "metadata": {},
   "source": [
    "## Summarizing over all rows or all columns (without grouping)\n",
    "\n",
    "We can also use the `apply` function to summarize rows or columns efficiently"
   ]
  },
  {
   "cell_type": "markdown",
   "metadata": {},
   "source": [
    "**Task**: Find the mean latitude and longitude in one line of code."
   ]
  },
  {
   "cell_type": "code",
   "execution_count": 39,
   "metadata": {},
   "outputs": [
    {
     "data": {
      "text/plain": [
       "LONGITUDE   -77.007039\n",
       "LATITUDE     38.907616\n",
       "dtype: float64"
      ]
     },
     "execution_count": 39,
     "metadata": {},
     "output_type": "execute_result"
    }
   ],
   "source": [
    "## your code here\n",
    "dc_crim_2020[[\"LONGITUDE\", \"LATITUDE\"]].apply('mean', axis=0)"
   ]
  },
  {
   "cell_type": "markdown",
   "metadata": {},
   "source": [
    "## 2. Creating new columns/transforming their type "
   ]
  },
  {
   "cell_type": "markdown",
   "metadata": {},
   "source": [
    "### Simple np.where\n",
    "\n",
    "`np.where` is in the numpy package (aliased as `np`) and operates similar to `ifelse` in R\n",
    "\n",
    "**Task**: Create a new column `is_theft` in `dc_crim_2020` with a True/False indicator for any offense that contains the word \"THEFT\"."
   ]
  },
  {
   "cell_type": "code",
   "execution_count": 40,
   "metadata": {},
   "outputs": [],
   "source": [
    "## your code here\n",
    "dc_crim_2020[\"is_theft\"] = np.where(dc_crim_2020[\"OFFENSE\"].str.contains('THEFT'), True, False)"
   ]
  },
  {
   "cell_type": "markdown",
   "metadata": {},
   "source": [
    "**Task**: Create another indicator `is_theft_notmotor` for any offense that contains the word \"THEFT\" but does not contain the word \"MOTOR\"\n",
    "\n",
    "*Hint*: Use the tilde (`~`) to negate a condition"
   ]
  },
  {
   "cell_type": "code",
   "execution_count": 41,
   "metadata": {},
   "outputs": [],
   "source": [
    "## your code here\n",
    "dc_crim_2020[\"is_theft_notmotor\"] = np.where(dc_crim_2020[\"OFFENSE\"].str.contains('THEFT') & ~dc_crim_2020[\"OFFENSE\"].str.contains(\"MOTOR\"), True, False)"
   ]
  },
  {
   "cell_type": "markdown",
   "metadata": {},
   "source": [
    "### np.select\n",
    "\n",
    "**Task**: Create a new variable, `offense_summary`, where you:\n",
    "        \n",
    "- Recode theft offenses that use a `GUN` or `KNIFE` as the method (`METHOD`) as: `violent_theft`\n",
    "- Recode non-theft offenses that use a `GUN` or `KNIFE` as the method as: `violent_other`\n",
    "- Recode all other as `non-violent`\n",
    "\n",
    "*Hint 1*: There are multiple conditons to satisfy here. Use your `is_theft` indicator in conjunction with the one you're creating based on the `METHOD` column.\n",
    "\n",
    "*Hint 2*: When using `np.select()`, remember these steps: \n",
    "1. create a list of conditions\n",
    "2. create a list of corresponding names you want to recode into\n",
    "3. apply the above to create a new column"
   ]
  },
  {
   "cell_type": "code",
   "execution_count": 42,
   "metadata": {},
   "outputs": [
    {
     "data": {
      "text/plain": [
       "nonviolent       25240\n",
       "violent_other     2637\n",
       "violent_theft       35\n",
       "Name: offense_summary, dtype: int64"
      ]
     },
     "execution_count": 42,
     "metadata": {},
     "output_type": "execute_result"
    }
   ],
   "source": [
    "## your code here\n",
    "conditions = [dc_crim_2020['is_theft'] & dc_crim_2020['METHOD'].isin(['GUN', 'KNIFE']), ~dc_crim_2020['is_theft'] & dc_crim_2020['METHOD'].isin(['GUN', 'KNIFE'])]\n",
    "crime_categories = [\"violent_theft\", \"violent_other\"]\n",
    "dc_crim_2020[\"offense_summary\"] = np.select(conditions, crime_categories, default=\"nonviolent\")\n",
    "dc_crim_2020[\"offense_summary\"].value_counts()\n"
   ]
  },
  {
   "cell_type": "markdown",
   "metadata": {},
   "source": [
    "### Using built-in pandas methods\n",
    "\n",
    "Another way of creating variables, used either alone or in combination with np.where and np.select is to use pandas built in `str` methods\n",
    "\n",
    "Basic structure is: `df['namestringcol'].str.someoperation`"
   ]
  },
  {
   "cell_type": "markdown",
   "metadata": {},
   "source": [
    "**Task**: using a `str` method, create a new variable--`OFFENSE_NOSP`--that replaces spaces in the `OFFENSE` column with underscores\n",
    "\n",
    "*Hint*: The string method for *replacing* things is called what you would expect."
   ]
  },
  {
   "cell_type": "code",
   "execution_count": 43,
   "metadata": {},
   "outputs": [],
   "source": [
    "## your code here\n",
    "dc_crim_2020[\"OFFENSE_NOSP\"] = dc_crim_2020[\"OFFENSE\"].str.replace(\" \", \"_\")"
   ]
  },
  {
   "cell_type": "markdown",
   "metadata": {},
   "source": [
    "### Transforming column types\n",
    "\n",
    "**Task**: check the type of the `START_DATE` column"
   ]
  },
  {
   "cell_type": "code",
   "execution_count": 44,
   "metadata": {},
   "outputs": [
    {
     "data": {
      "text/plain": [
       "dtype('O')"
      ]
     },
     "execution_count": 44,
     "metadata": {},
     "output_type": "execute_result"
    }
   ],
   "source": [
    "## your code here\n",
    "dc_crim_2020[\"START_DATE\"].dtype"
   ]
  },
  {
   "cell_type": "markdown",
   "metadata": {},
   "source": [
    "**Task**: recast the `START_DATE` column to datetime, calling this `START_DATE_CLEAN`; coerce errors rather than cleaning the string; check the type of that new col"
   ]
  },
  {
   "cell_type": "code",
   "execution_count": 45,
   "metadata": {},
   "outputs": [
    {
     "data": {
      "text/plain": [
       "datetime64[ns, UTC]"
      ]
     },
     "execution_count": 45,
     "metadata": {},
     "output_type": "execute_result"
    }
   ],
   "source": [
    "## your code here\n",
    "dc_crim_2020[\"START_DATE_CLEAN\"] = pd.to_datetime(dc_crim_2020[\"START_DATE\"], errors=\"coerce\")\n",
    "dc_crim_2020[\"START_DATE_CLEAN\"].dtype"
   ]
  },
  {
   "cell_type": "markdown",
   "metadata": {},
   "source": [
    "**Task:** print the min and max of `START_DATE_CLEAN`. What happens if you try to do this with `START_DATE`?"
   ]
  },
  {
   "cell_type": "code",
   "execution_count": 46,
   "metadata": {},
   "outputs": [
    {
     "name": "stdout",
     "output_type": "stream",
     "text": [
      "1940-02-17 00:00:16+00:00 2021-01-01 02:30:21+00:00\n"
     ]
    }
   ],
   "source": [
    "## your code here\n",
    "print(dc_crim_2020[\"START_DATE_CLEAN\"].min(), dc_crim_2020[\"START_DATE_CLEAN\"].max())\n",
    "\n",
    "# returns error:\n",
    "# print(dc_crim_2020[\"START_DATE\"].min(), dc_crim_2020[\"START_DATE\"].max())"
   ]
  },
  {
   "cell_type": "markdown",
   "metadata": {},
   "source": [
    "## 3. Row and column filtering "
   ]
  },
  {
   "cell_type": "markdown",
   "metadata": {},
   "source": [
    "### Row subsetting\n",
    "\n",
    "**Task**: filter to crime reports about theft using the `is_theft` definition and that are in ward 3"
   ]
  },
  {
   "cell_type": "code",
   "execution_count": 47,
   "metadata": {},
   "outputs": [],
   "source": [
    "## your code here\n",
    "theft_ward3 = dc_crim_2020[(dc_crim_2020[\"WARD\"] == 3) & (dc_crim_2020[\"is_theft\"] == True)]"
   ]
  },
  {
   "cell_type": "markdown",
   "metadata": {},
   "source": [
    "### Column subsetting\n"
   ]
  },
  {
   "cell_type": "markdown",
   "metadata": {},
   "source": [
    "**Task**: select two columns--`START_DATE` and `END_DATE`--and print the head of the dataframe"
   ]
  },
  {
   "cell_type": "code",
   "execution_count": 48,
   "metadata": {},
   "outputs": [
    {
     "data": {
      "text/html": [
       "<div>\n",
       "<style scoped>\n",
       "    .dataframe tbody tr th:only-of-type {\n",
       "        vertical-align: middle;\n",
       "    }\n",
       "\n",
       "    .dataframe tbody tr th {\n",
       "        vertical-align: top;\n",
       "    }\n",
       "\n",
       "    .dataframe thead th {\n",
       "        text-align: right;\n",
       "    }\n",
       "</style>\n",
       "<table border=\"1\" class=\"dataframe\">\n",
       "  <thead>\n",
       "    <tr style=\"text-align: right;\">\n",
       "      <th></th>\n",
       "      <th>START_DATE</th>\n",
       "      <th>END_DATE</th>\n",
       "    </tr>\n",
       "  </thead>\n",
       "  <tbody>\n",
       "    <tr>\n",
       "      <th>0</th>\n",
       "      <td>2020/08/26 12:09:57+00</td>\n",
       "      <td>2020/08/26 21:53:20+00</td>\n",
       "    </tr>\n",
       "    <tr>\n",
       "      <th>1</th>\n",
       "      <td>2020/08/26 21:58:07+00</td>\n",
       "      <td>2020/08/26 21:59:02+00</td>\n",
       "    </tr>\n",
       "    <tr>\n",
       "      <th>2</th>\n",
       "      <td>2020/08/26 21:42:47+00</td>\n",
       "      <td>2020/08/26 21:47:01+00</td>\n",
       "    </tr>\n",
       "    <tr>\n",
       "      <th>3</th>\n",
       "      <td>2020/08/24 18:30:27+00</td>\n",
       "      <td>2020/08/26 12:00:30+00</td>\n",
       "    </tr>\n",
       "    <tr>\n",
       "      <th>4</th>\n",
       "      <td>2020/08/26 22:50:53+00</td>\n",
       "      <td>2020/08/26 23:05:08+00</td>\n",
       "    </tr>\n",
       "  </tbody>\n",
       "</table>\n",
       "</div>"
      ],
      "text/plain": [
       "               START_DATE                END_DATE\n",
       "0  2020/08/26 12:09:57+00  2020/08/26 21:53:20+00\n",
       "1  2020/08/26 21:58:07+00  2020/08/26 21:59:02+00\n",
       "2  2020/08/26 21:42:47+00  2020/08/26 21:47:01+00\n",
       "3  2020/08/24 18:30:27+00  2020/08/26 12:00:30+00\n",
       "4  2020/08/26 22:50:53+00  2020/08/26 23:05:08+00"
      ]
     },
     "execution_count": 48,
     "metadata": {},
     "output_type": "execute_result"
    }
   ],
   "source": [
    "## your code here\n",
    "dc_crim_2020[[\"START_DATE\", \"END_DATE\"]].head()"
   ]
  },
  {
   "cell_type": "markdown",
   "metadata": {},
   "source": [
    "**Task**: use list comprehension to automate this a bit and select all columns with the word \"DATE\" in the name; print the head of the dataframe"
   ]
  },
  {
   "cell_type": "code",
   "execution_count": 49,
   "metadata": {},
   "outputs": [
    {
     "data": {
      "text/html": [
       "<div>\n",
       "<style scoped>\n",
       "    .dataframe tbody tr th:only-of-type {\n",
       "        vertical-align: middle;\n",
       "    }\n",
       "\n",
       "    .dataframe tbody tr th {\n",
       "        vertical-align: top;\n",
       "    }\n",
       "\n",
       "    .dataframe thead th {\n",
       "        text-align: right;\n",
       "    }\n",
       "</style>\n",
       "<table border=\"1\" class=\"dataframe\">\n",
       "  <thead>\n",
       "    <tr style=\"text-align: right;\">\n",
       "      <th></th>\n",
       "      <th>START_DATE</th>\n",
       "      <th>END_DATE</th>\n",
       "      <th>START_DATE_CLEAN</th>\n",
       "    </tr>\n",
       "  </thead>\n",
       "  <tbody>\n",
       "    <tr>\n",
       "      <th>0</th>\n",
       "      <td>2020/08/26 12:09:57+00</td>\n",
       "      <td>2020/08/26 21:53:20+00</td>\n",
       "      <td>2020-08-26 12:09:57+00:00</td>\n",
       "    </tr>\n",
       "    <tr>\n",
       "      <th>1</th>\n",
       "      <td>2020/08/26 21:58:07+00</td>\n",
       "      <td>2020/08/26 21:59:02+00</td>\n",
       "      <td>2020-08-26 21:58:07+00:00</td>\n",
       "    </tr>\n",
       "    <tr>\n",
       "      <th>2</th>\n",
       "      <td>2020/08/26 21:42:47+00</td>\n",
       "      <td>2020/08/26 21:47:01+00</td>\n",
       "      <td>2020-08-26 21:42:47+00:00</td>\n",
       "    </tr>\n",
       "    <tr>\n",
       "      <th>3</th>\n",
       "      <td>2020/08/24 18:30:27+00</td>\n",
       "      <td>2020/08/26 12:00:30+00</td>\n",
       "      <td>2020-08-24 18:30:27+00:00</td>\n",
       "    </tr>\n",
       "    <tr>\n",
       "      <th>4</th>\n",
       "      <td>2020/08/26 22:50:53+00</td>\n",
       "      <td>2020/08/26 23:05:08+00</td>\n",
       "      <td>2020-08-26 22:50:53+00:00</td>\n",
       "    </tr>\n",
       "  </tbody>\n",
       "</table>\n",
       "</div>"
      ],
      "text/plain": [
       "               START_DATE                END_DATE          START_DATE_CLEAN\n",
       "0  2020/08/26 12:09:57+00  2020/08/26 21:53:20+00 2020-08-26 12:09:57+00:00\n",
       "1  2020/08/26 21:58:07+00  2020/08/26 21:59:02+00 2020-08-26 21:58:07+00:00\n",
       "2  2020/08/26 21:42:47+00  2020/08/26 21:47:01+00 2020-08-26 21:42:47+00:00\n",
       "3  2020/08/24 18:30:27+00  2020/08/26 12:00:30+00 2020-08-24 18:30:27+00:00\n",
       "4  2020/08/26 22:50:53+00  2020/08/26 23:05:08+00 2020-08-26 22:50:53+00:00"
      ]
     },
     "execution_count": 49,
     "metadata": {},
     "output_type": "execute_result"
    }
   ],
   "source": [
    "## your code here\n",
    "dc_crim_2020[[col for col in dc_crim_2020.columns if \"DATE\" in col]].head()"
   ]
  },
  {
   "cell_type": "markdown",
   "metadata": {},
   "source": [
    "**Task**: filter reports of crime in `START_DATE_CLEAN` before May 2020 and that are located in ward 1; select the ward and `START_DATE` column and print a random sample of rows\n",
    "\n",
    "*Hint*: Use `sample(n = 10)` to get 10 random rows."
   ]
  },
  {
   "cell_type": "code",
   "execution_count": 50,
   "metadata": {},
   "outputs": [
    {
     "data": {
      "text/html": [
       "<div>\n",
       "<style scoped>\n",
       "    .dataframe tbody tr th:only-of-type {\n",
       "        vertical-align: middle;\n",
       "    }\n",
       "\n",
       "    .dataframe tbody tr th {\n",
       "        vertical-align: top;\n",
       "    }\n",
       "\n",
       "    .dataframe thead th {\n",
       "        text-align: right;\n",
       "    }\n",
       "</style>\n",
       "<table border=\"1\" class=\"dataframe\">\n",
       "  <thead>\n",
       "    <tr style=\"text-align: right;\">\n",
       "      <th></th>\n",
       "      <th>START_DATE</th>\n",
       "      <th>WARD</th>\n",
       "    </tr>\n",
       "  </thead>\n",
       "  <tbody>\n",
       "    <tr>\n",
       "      <th>11349</th>\n",
       "      <td>2020/03/06 20:34:04+00</td>\n",
       "      <td>1</td>\n",
       "    </tr>\n",
       "    <tr>\n",
       "      <th>5739</th>\n",
       "      <td>2020/01/18 07:06:05+00</td>\n",
       "      <td>1</td>\n",
       "    </tr>\n",
       "    <tr>\n",
       "      <th>25213</th>\n",
       "      <td>2020/01/10 01:00:05+00</td>\n",
       "      <td>1</td>\n",
       "    </tr>\n",
       "    <tr>\n",
       "      <th>6281</th>\n",
       "      <td>2020/01/03 21:00:52+00</td>\n",
       "      <td>1</td>\n",
       "    </tr>\n",
       "    <tr>\n",
       "      <th>9364</th>\n",
       "      <td>2020/02/16 22:22:48+00</td>\n",
       "      <td>1</td>\n",
       "    </tr>\n",
       "    <tr>\n",
       "      <th>24452</th>\n",
       "      <td>2020/04/29 22:00:30+00</td>\n",
       "      <td>1</td>\n",
       "    </tr>\n",
       "    <tr>\n",
       "      <th>9764</th>\n",
       "      <td>2020/02/17 17:15:41+00</td>\n",
       "      <td>1</td>\n",
       "    </tr>\n",
       "    <tr>\n",
       "      <th>5430</th>\n",
       "      <td>2020/01/02 03:07:41+00</td>\n",
       "      <td>1</td>\n",
       "    </tr>\n",
       "    <tr>\n",
       "      <th>24604</th>\n",
       "      <td>2019/12/26 22:42:11+00</td>\n",
       "      <td>1</td>\n",
       "    </tr>\n",
       "    <tr>\n",
       "      <th>11790</th>\n",
       "      <td>2020/03/26 05:10:40+00</td>\n",
       "      <td>1</td>\n",
       "    </tr>\n",
       "  </tbody>\n",
       "</table>\n",
       "</div>"
      ],
      "text/plain": [
       "                   START_DATE  WARD\n",
       "11349  2020/03/06 20:34:04+00     1\n",
       "5739   2020/01/18 07:06:05+00     1\n",
       "25213  2020/01/10 01:00:05+00     1\n",
       "6281   2020/01/03 21:00:52+00     1\n",
       "9364   2020/02/16 22:22:48+00     1\n",
       "24452  2020/04/29 22:00:30+00     1\n",
       "9764   2020/02/17 17:15:41+00     1\n",
       "5430   2020/01/02 03:07:41+00     1\n",
       "24604  2019/12/26 22:42:11+00     1\n",
       "11790  2020/03/26 05:10:40+00     1"
      ]
     },
     "execution_count": 50,
     "metadata": {},
     "output_type": "execute_result"
    }
   ],
   "source": [
    "## your code here\n",
    "dc_crim_2020.loc[(dc_crim_2020[\"START_DATE_CLEAN\"] < \"2020-05-01\") & (dc_crim_2020[\"WARD\"] == 1), (\"START_DATE\", \"WARD\")].sample(10)"
   ]
  }
 ],
 "metadata": {
  "kernelspec": {
   "display_name": "Python 3",
   "language": "python",
   "name": "python3"
  },
  "language_info": {
   "codemirror_mode": {
    "name": "ipython",
    "version": 3
   },
   "file_extension": ".py",
   "mimetype": "text/x-python",
   "name": "python",
   "nbconvert_exporter": "python",
   "pygments_lexer": "ipython3",
   "version": "3.10.9 (main, Dec 15 2022, 10:44:50) [Clang 14.0.0 (clang-1400.0.29.202)]"
  },
  "vscode": {
   "interpreter": {
    "hash": "b0fa6594d8f4cbf19f97940f81e996739fb7646882a419484c72d19e05852a7e"
   }
  }
 },
 "nbformat": 4,
 "nbformat_minor": 4
}
